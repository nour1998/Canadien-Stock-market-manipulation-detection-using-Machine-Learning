{
  "cells": [
    {
      "cell_type": "code",
      "execution_count": 1,
      "metadata": {
        "id": "llQqOJTdJEZd"
      },
      "outputs": [],
      "source": [
        "import numpy as np\n",
        "import pandas as pd\n",
        "import seaborn as sns\n",
        "import plotly.express as px\n",
        "from sklearn.metrics import roc_curve, plot_roc_curve, mean_absolute_error, mean_squared_error, accuracy_score\n",
        "from sklearn.model_selection import train_test_split, cross_val_score, validation_curve, GridSearchCV\n",
        "\n",
        "from sklearn.impute import SimpleImputer\n",
        "from sklearn.linear_model import Ridge, LinearRegression\n",
        "import matplotlib.pyplot as plt"
      ]
    },
    {
      "cell_type": "code",
      "execution_count": 2,
      "metadata": {
        "id": "IxN1lL8WFb-E"
      },
      "outputs": [],
      "source": [
        "import pandas as pd\n",
        "import numpy as np\n",
        "import matplotlib.pyplot as plt\n",
        "from sklearn.preprocessing import MinMaxScaler\n",
        "from keras.models import Sequential, load_model\n",
        "from keras.layers import LSTM, Dense, Dropout"
      ]
    },
    {
      "cell_type": "code",
      "execution_count": 65,
      "metadata": {
        "colab": {
          "base_uri": "https://localhost:8080/",
          "height": 424
        },
        "id": "779MFpozJHPa",
        "outputId": "185b6794-5ea4-4633-b6aa-55a51053991f"
      },
      "outputs": [
        {
          "output_type": "execute_result",
          "data": {
            "text/plain": [
              "            Date   Open       High        Low      Close  Adj Close     Volume\n",
              "0     2010-03-31   2.25   2.250000   2.100000   2.220000   2.220000   967000.0\n",
              "1     2010-04-01   2.25   2.500000   2.250000   2.450000   2.450000  3302800.0\n",
              "2     2010-04-05   2.51   2.670000   2.500000   2.520000   2.520000  2309000.0\n",
              "3     2010-04-06   2.58   2.600000   2.540000   2.550000   2.550000   661000.0\n",
              "4     2010-04-07   2.60   2.600000   2.520000   2.530000   2.530000  1639300.0\n",
              "...          ...    ...        ...        ...        ...        ...        ...\n",
              "3025  2022-04-21  24.65  25.000000  24.430000  24.660000  24.660000  5094000.0\n",
              "3026  2022-04-22  24.67  24.850000  24.110001  24.150000  24.150000  3691400.0\n",
              "3027  2022-04-25  24.00  24.440001  23.680000  24.219999  24.219999  4138600.0\n",
              "3028  2022-04-26  24.25  24.260000  22.360001  22.459999  22.459999  7166700.0\n",
              "3029  2022-04-27  22.50  23.090000  22.480000  22.809999  22.809999  3712706.0\n",
              "\n",
              "[3030 rows x 7 columns]"
            ],
            "text/html": [
              "\n",
              "  <div id=\"df-bee7e132-64c3-456c-801b-18bfec8be6ac\">\n",
              "    <div class=\"colab-df-container\">\n",
              "      <div>\n",
              "<style scoped>\n",
              "    .dataframe tbody tr th:only-of-type {\n",
              "        vertical-align: middle;\n",
              "    }\n",
              "\n",
              "    .dataframe tbody tr th {\n",
              "        vertical-align: top;\n",
              "    }\n",
              "\n",
              "    .dataframe thead th {\n",
              "        text-align: right;\n",
              "    }\n",
              "</style>\n",
              "<table border=\"1\" class=\"dataframe\">\n",
              "  <thead>\n",
              "    <tr style=\"text-align: right;\">\n",
              "      <th></th>\n",
              "      <th>Date</th>\n",
              "      <th>Open</th>\n",
              "      <th>High</th>\n",
              "      <th>Low</th>\n",
              "      <th>Close</th>\n",
              "      <th>Adj Close</th>\n",
              "      <th>Volume</th>\n",
              "    </tr>\n",
              "  </thead>\n",
              "  <tbody>\n",
              "    <tr>\n",
              "      <th>0</th>\n",
              "      <td>2010-03-31</td>\n",
              "      <td>2.25</td>\n",
              "      <td>2.250000</td>\n",
              "      <td>2.100000</td>\n",
              "      <td>2.220000</td>\n",
              "      <td>2.220000</td>\n",
              "      <td>967000.0</td>\n",
              "    </tr>\n",
              "    <tr>\n",
              "      <th>1</th>\n",
              "      <td>2010-04-01</td>\n",
              "      <td>2.25</td>\n",
              "      <td>2.500000</td>\n",
              "      <td>2.250000</td>\n",
              "      <td>2.450000</td>\n",
              "      <td>2.450000</td>\n",
              "      <td>3302800.0</td>\n",
              "    </tr>\n",
              "    <tr>\n",
              "      <th>2</th>\n",
              "      <td>2010-04-05</td>\n",
              "      <td>2.51</td>\n",
              "      <td>2.670000</td>\n",
              "      <td>2.500000</td>\n",
              "      <td>2.520000</td>\n",
              "      <td>2.520000</td>\n",
              "      <td>2309000.0</td>\n",
              "    </tr>\n",
              "    <tr>\n",
              "      <th>3</th>\n",
              "      <td>2010-04-06</td>\n",
              "      <td>2.58</td>\n",
              "      <td>2.600000</td>\n",
              "      <td>2.540000</td>\n",
              "      <td>2.550000</td>\n",
              "      <td>2.550000</td>\n",
              "      <td>661000.0</td>\n",
              "    </tr>\n",
              "    <tr>\n",
              "      <th>4</th>\n",
              "      <td>2010-04-07</td>\n",
              "      <td>2.60</td>\n",
              "      <td>2.600000</td>\n",
              "      <td>2.520000</td>\n",
              "      <td>2.530000</td>\n",
              "      <td>2.530000</td>\n",
              "      <td>1639300.0</td>\n",
              "    </tr>\n",
              "    <tr>\n",
              "      <th>...</th>\n",
              "      <td>...</td>\n",
              "      <td>...</td>\n",
              "      <td>...</td>\n",
              "      <td>...</td>\n",
              "      <td>...</td>\n",
              "      <td>...</td>\n",
              "      <td>...</td>\n",
              "    </tr>\n",
              "    <tr>\n",
              "      <th>3025</th>\n",
              "      <td>2022-04-21</td>\n",
              "      <td>24.65</td>\n",
              "      <td>25.000000</td>\n",
              "      <td>24.430000</td>\n",
              "      <td>24.660000</td>\n",
              "      <td>24.660000</td>\n",
              "      <td>5094000.0</td>\n",
              "    </tr>\n",
              "    <tr>\n",
              "      <th>3026</th>\n",
              "      <td>2022-04-22</td>\n",
              "      <td>24.67</td>\n",
              "      <td>24.850000</td>\n",
              "      <td>24.110001</td>\n",
              "      <td>24.150000</td>\n",
              "      <td>24.150000</td>\n",
              "      <td>3691400.0</td>\n",
              "    </tr>\n",
              "    <tr>\n",
              "      <th>3027</th>\n",
              "      <td>2022-04-25</td>\n",
              "      <td>24.00</td>\n",
              "      <td>24.440001</td>\n",
              "      <td>23.680000</td>\n",
              "      <td>24.219999</td>\n",
              "      <td>24.219999</td>\n",
              "      <td>4138600.0</td>\n",
              "    </tr>\n",
              "    <tr>\n",
              "      <th>3028</th>\n",
              "      <td>2022-04-26</td>\n",
              "      <td>24.25</td>\n",
              "      <td>24.260000</td>\n",
              "      <td>22.360001</td>\n",
              "      <td>22.459999</td>\n",
              "      <td>22.459999</td>\n",
              "      <td>7166700.0</td>\n",
              "    </tr>\n",
              "    <tr>\n",
              "      <th>3029</th>\n",
              "      <td>2022-04-27</td>\n",
              "      <td>22.50</td>\n",
              "      <td>23.090000</td>\n",
              "      <td>22.480000</td>\n",
              "      <td>22.809999</td>\n",
              "      <td>22.809999</td>\n",
              "      <td>3712706.0</td>\n",
              "    </tr>\n",
              "  </tbody>\n",
              "</table>\n",
              "<p>3030 rows × 7 columns</p>\n",
              "</div>\n",
              "      <button class=\"colab-df-convert\" onclick=\"convertToInteractive('df-bee7e132-64c3-456c-801b-18bfec8be6ac')\"\n",
              "              title=\"Convert this dataframe to an interactive table.\"\n",
              "              style=\"display:none;\">\n",
              "        \n",
              "  <svg xmlns=\"http://www.w3.org/2000/svg\" height=\"24px\"viewBox=\"0 0 24 24\"\n",
              "       width=\"24px\">\n",
              "    <path d=\"M0 0h24v24H0V0z\" fill=\"none\"/>\n",
              "    <path d=\"M18.56 5.44l.94 2.06.94-2.06 2.06-.94-2.06-.94-.94-2.06-.94 2.06-2.06.94zm-11 1L8.5 8.5l.94-2.06 2.06-.94-2.06-.94L8.5 2.5l-.94 2.06-2.06.94zm10 10l.94 2.06.94-2.06 2.06-.94-2.06-.94-.94-2.06-.94 2.06-2.06.94z\"/><path d=\"M17.41 7.96l-1.37-1.37c-.4-.4-.92-.59-1.43-.59-.52 0-1.04.2-1.43.59L10.3 9.45l-7.72 7.72c-.78.78-.78 2.05 0 2.83L4 21.41c.39.39.9.59 1.41.59.51 0 1.02-.2 1.41-.59l7.78-7.78 2.81-2.81c.8-.78.8-2.07 0-2.86zM5.41 20L4 18.59l7.72-7.72 1.47 1.35L5.41 20z\"/>\n",
              "  </svg>\n",
              "      </button>\n",
              "      \n",
              "  <style>\n",
              "    .colab-df-container {\n",
              "      display:flex;\n",
              "      flex-wrap:wrap;\n",
              "      gap: 12px;\n",
              "    }\n",
              "\n",
              "    .colab-df-convert {\n",
              "      background-color: #E8F0FE;\n",
              "      border: none;\n",
              "      border-radius: 50%;\n",
              "      cursor: pointer;\n",
              "      display: none;\n",
              "      fill: #1967D2;\n",
              "      height: 32px;\n",
              "      padding: 0 0 0 0;\n",
              "      width: 32px;\n",
              "    }\n",
              "\n",
              "    .colab-df-convert:hover {\n",
              "      background-color: #E2EBFA;\n",
              "      box-shadow: 0px 1px 2px rgba(60, 64, 67, 0.3), 0px 1px 3px 1px rgba(60, 64, 67, 0.15);\n",
              "      fill: #174EA6;\n",
              "    }\n",
              "\n",
              "    [theme=dark] .colab-df-convert {\n",
              "      background-color: #3B4455;\n",
              "      fill: #D2E3FC;\n",
              "    }\n",
              "\n",
              "    [theme=dark] .colab-df-convert:hover {\n",
              "      background-color: #434B5C;\n",
              "      box-shadow: 0px 1px 3px 1px rgba(0, 0, 0, 0.15);\n",
              "      filter: drop-shadow(0px 1px 2px rgba(0, 0, 0, 0.3));\n",
              "      fill: #FFFFFF;\n",
              "    }\n",
              "  </style>\n",
              "\n",
              "      <script>\n",
              "        const buttonEl =\n",
              "          document.querySelector('#df-bee7e132-64c3-456c-801b-18bfec8be6ac button.colab-df-convert');\n",
              "        buttonEl.style.display =\n",
              "          google.colab.kernel.accessAllowed ? 'block' : 'none';\n",
              "\n",
              "        async function convertToInteractive(key) {\n",
              "          const element = document.querySelector('#df-bee7e132-64c3-456c-801b-18bfec8be6ac');\n",
              "          const dataTable =\n",
              "            await google.colab.kernel.invokeFunction('convertToInteractive',\n",
              "                                                     [key], {});\n",
              "          if (!dataTable) return;\n",
              "\n",
              "          const docLinkHtml = 'Like what you see? Visit the ' +\n",
              "            '<a target=\"_blank\" href=https://colab.research.google.com/notebooks/data_table.ipynb>data table notebook</a>'\n",
              "            + ' to learn more about interactive tables.';\n",
              "          element.innerHTML = '';\n",
              "          dataTable['output_type'] = 'display_data';\n",
              "          await google.colab.output.renderOutput(dataTable, element);\n",
              "          const docLink = document.createElement('div');\n",
              "          docLink.innerHTML = docLinkHtml;\n",
              "          element.appendChild(docLink);\n",
              "        }\n",
              "      </script>\n",
              "    </div>\n",
              "  </div>\n",
              "  "
            ]
          },
          "metadata": {},
          "execution_count": 65
        }
      ],
      "source": [
        "df = pd.read_csv('Air_Canada.csv')\n",
        "df"
      ]
    },
    {
      "cell_type": "code",
      "execution_count": 66,
      "metadata": {
        "colab": {
          "base_uri": "https://localhost:8080/",
          "height": 300
        },
        "id": "MAPGOhHIJTZr",
        "outputId": "12e92951-244c-4ddc-b870-7b7152c4355e"
      },
      "outputs": [
        {
          "output_type": "execute_result",
          "data": {
            "text/plain": [
              "              Open         High          Low        Close    Adj Close  \\\n",
              "count  3028.000000  3028.000000  3028.000000  3028.000000  3028.000000   \n",
              "mean     14.761238    15.001770    14.510647    14.753729    14.753729   \n",
              "std      12.188114    12.368373    12.024993    12.197018    12.197018   \n",
              "min       0.800000     0.830000     0.780000     0.820000     0.820000   \n",
              "25%       3.080000     3.120000     3.017500     3.080000     3.080000   \n",
              "50%      12.050000    12.215000    11.855000    12.030000    12.030000   \n",
              "75%      23.642499    23.990000    23.242500    23.602500    23.602500   \n",
              "max      52.029999    52.709999    51.560001    52.090000    52.090000   \n",
              "\n",
              "             Volume  \n",
              "count  3.028000e+03  \n",
              "mean   2.123363e+06  \n",
              "std    2.143008e+06  \n",
              "min    0.000000e+00  \n",
              "25%    8.713500e+05  \n",
              "50%    1.436150e+06  \n",
              "75%    2.657625e+06  \n",
              "max    2.715840e+07  "
            ],
            "text/html": [
              "\n",
              "  <div id=\"df-a3f62f72-f240-457b-8b30-17c4425aef49\">\n",
              "    <div class=\"colab-df-container\">\n",
              "      <div>\n",
              "<style scoped>\n",
              "    .dataframe tbody tr th:only-of-type {\n",
              "        vertical-align: middle;\n",
              "    }\n",
              "\n",
              "    .dataframe tbody tr th {\n",
              "        vertical-align: top;\n",
              "    }\n",
              "\n",
              "    .dataframe thead th {\n",
              "        text-align: right;\n",
              "    }\n",
              "</style>\n",
              "<table border=\"1\" class=\"dataframe\">\n",
              "  <thead>\n",
              "    <tr style=\"text-align: right;\">\n",
              "      <th></th>\n",
              "      <th>Open</th>\n",
              "      <th>High</th>\n",
              "      <th>Low</th>\n",
              "      <th>Close</th>\n",
              "      <th>Adj Close</th>\n",
              "      <th>Volume</th>\n",
              "    </tr>\n",
              "  </thead>\n",
              "  <tbody>\n",
              "    <tr>\n",
              "      <th>count</th>\n",
              "      <td>3028.000000</td>\n",
              "      <td>3028.000000</td>\n",
              "      <td>3028.000000</td>\n",
              "      <td>3028.000000</td>\n",
              "      <td>3028.000000</td>\n",
              "      <td>3.028000e+03</td>\n",
              "    </tr>\n",
              "    <tr>\n",
              "      <th>mean</th>\n",
              "      <td>14.761238</td>\n",
              "      <td>15.001770</td>\n",
              "      <td>14.510647</td>\n",
              "      <td>14.753729</td>\n",
              "      <td>14.753729</td>\n",
              "      <td>2.123363e+06</td>\n",
              "    </tr>\n",
              "    <tr>\n",
              "      <th>std</th>\n",
              "      <td>12.188114</td>\n",
              "      <td>12.368373</td>\n",
              "      <td>12.024993</td>\n",
              "      <td>12.197018</td>\n",
              "      <td>12.197018</td>\n",
              "      <td>2.143008e+06</td>\n",
              "    </tr>\n",
              "    <tr>\n",
              "      <th>min</th>\n",
              "      <td>0.800000</td>\n",
              "      <td>0.830000</td>\n",
              "      <td>0.780000</td>\n",
              "      <td>0.820000</td>\n",
              "      <td>0.820000</td>\n",
              "      <td>0.000000e+00</td>\n",
              "    </tr>\n",
              "    <tr>\n",
              "      <th>25%</th>\n",
              "      <td>3.080000</td>\n",
              "      <td>3.120000</td>\n",
              "      <td>3.017500</td>\n",
              "      <td>3.080000</td>\n",
              "      <td>3.080000</td>\n",
              "      <td>8.713500e+05</td>\n",
              "    </tr>\n",
              "    <tr>\n",
              "      <th>50%</th>\n",
              "      <td>12.050000</td>\n",
              "      <td>12.215000</td>\n",
              "      <td>11.855000</td>\n",
              "      <td>12.030000</td>\n",
              "      <td>12.030000</td>\n",
              "      <td>1.436150e+06</td>\n",
              "    </tr>\n",
              "    <tr>\n",
              "      <th>75%</th>\n",
              "      <td>23.642499</td>\n",
              "      <td>23.990000</td>\n",
              "      <td>23.242500</td>\n",
              "      <td>23.602500</td>\n",
              "      <td>23.602500</td>\n",
              "      <td>2.657625e+06</td>\n",
              "    </tr>\n",
              "    <tr>\n",
              "      <th>max</th>\n",
              "      <td>52.029999</td>\n",
              "      <td>52.709999</td>\n",
              "      <td>51.560001</td>\n",
              "      <td>52.090000</td>\n",
              "      <td>52.090000</td>\n",
              "      <td>2.715840e+07</td>\n",
              "    </tr>\n",
              "  </tbody>\n",
              "</table>\n",
              "</div>\n",
              "      <button class=\"colab-df-convert\" onclick=\"convertToInteractive('df-a3f62f72-f240-457b-8b30-17c4425aef49')\"\n",
              "              title=\"Convert this dataframe to an interactive table.\"\n",
              "              style=\"display:none;\">\n",
              "        \n",
              "  <svg xmlns=\"http://www.w3.org/2000/svg\" height=\"24px\"viewBox=\"0 0 24 24\"\n",
              "       width=\"24px\">\n",
              "    <path d=\"M0 0h24v24H0V0z\" fill=\"none\"/>\n",
              "    <path d=\"M18.56 5.44l.94 2.06.94-2.06 2.06-.94-2.06-.94-.94-2.06-.94 2.06-2.06.94zm-11 1L8.5 8.5l.94-2.06 2.06-.94-2.06-.94L8.5 2.5l-.94 2.06-2.06.94zm10 10l.94 2.06.94-2.06 2.06-.94-2.06-.94-.94-2.06-.94 2.06-2.06.94z\"/><path d=\"M17.41 7.96l-1.37-1.37c-.4-.4-.92-.59-1.43-.59-.52 0-1.04.2-1.43.59L10.3 9.45l-7.72 7.72c-.78.78-.78 2.05 0 2.83L4 21.41c.39.39.9.59 1.41.59.51 0 1.02-.2 1.41-.59l7.78-7.78 2.81-2.81c.8-.78.8-2.07 0-2.86zM5.41 20L4 18.59l7.72-7.72 1.47 1.35L5.41 20z\"/>\n",
              "  </svg>\n",
              "      </button>\n",
              "      \n",
              "  <style>\n",
              "    .colab-df-container {\n",
              "      display:flex;\n",
              "      flex-wrap:wrap;\n",
              "      gap: 12px;\n",
              "    }\n",
              "\n",
              "    .colab-df-convert {\n",
              "      background-color: #E8F0FE;\n",
              "      border: none;\n",
              "      border-radius: 50%;\n",
              "      cursor: pointer;\n",
              "      display: none;\n",
              "      fill: #1967D2;\n",
              "      height: 32px;\n",
              "      padding: 0 0 0 0;\n",
              "      width: 32px;\n",
              "    }\n",
              "\n",
              "    .colab-df-convert:hover {\n",
              "      background-color: #E2EBFA;\n",
              "      box-shadow: 0px 1px 2px rgba(60, 64, 67, 0.3), 0px 1px 3px 1px rgba(60, 64, 67, 0.15);\n",
              "      fill: #174EA6;\n",
              "    }\n",
              "\n",
              "    [theme=dark] .colab-df-convert {\n",
              "      background-color: #3B4455;\n",
              "      fill: #D2E3FC;\n",
              "    }\n",
              "\n",
              "    [theme=dark] .colab-df-convert:hover {\n",
              "      background-color: #434B5C;\n",
              "      box-shadow: 0px 1px 3px 1px rgba(0, 0, 0, 0.15);\n",
              "      filter: drop-shadow(0px 1px 2px rgba(0, 0, 0, 0.3));\n",
              "      fill: #FFFFFF;\n",
              "    }\n",
              "  </style>\n",
              "\n",
              "      <script>\n",
              "        const buttonEl =\n",
              "          document.querySelector('#df-a3f62f72-f240-457b-8b30-17c4425aef49 button.colab-df-convert');\n",
              "        buttonEl.style.display =\n",
              "          google.colab.kernel.accessAllowed ? 'block' : 'none';\n",
              "\n",
              "        async function convertToInteractive(key) {\n",
              "          const element = document.querySelector('#df-a3f62f72-f240-457b-8b30-17c4425aef49');\n",
              "          const dataTable =\n",
              "            await google.colab.kernel.invokeFunction('convertToInteractive',\n",
              "                                                     [key], {});\n",
              "          if (!dataTable) return;\n",
              "\n",
              "          const docLinkHtml = 'Like what you see? Visit the ' +\n",
              "            '<a target=\"_blank\" href=https://colab.research.google.com/notebooks/data_table.ipynb>data table notebook</a>'\n",
              "            + ' to learn more about interactive tables.';\n",
              "          element.innerHTML = '';\n",
              "          dataTable['output_type'] = 'display_data';\n",
              "          await google.colab.output.renderOutput(dataTable, element);\n",
              "          const docLink = document.createElement('div');\n",
              "          docLink.innerHTML = docLinkHtml;\n",
              "          element.appendChild(docLink);\n",
              "        }\n",
              "      </script>\n",
              "    </div>\n",
              "  </div>\n",
              "  "
            ]
          },
          "metadata": {},
          "execution_count": 66
        }
      ],
      "source": [
        "df.describe()"
      ]
    },
    {
      "cell_type": "code",
      "execution_count": 67,
      "metadata": {
        "colab": {
          "base_uri": "https://localhost:8080/"
        },
        "id": "iiA7pfF0JWju",
        "outputId": "227614ec-2eed-4443-d551-56b777c1f49f"
      },
      "outputs": [
        {
          "output_type": "stream",
          "name": "stdout",
          "text": [
            "<class 'pandas.core.frame.DataFrame'>\n",
            "RangeIndex: 3030 entries, 0 to 3029\n",
            "Data columns (total 7 columns):\n",
            " #   Column     Non-Null Count  Dtype  \n",
            "---  ------     --------------  -----  \n",
            " 0   Date       3030 non-null   object \n",
            " 1   Open       3028 non-null   float64\n",
            " 2   High       3028 non-null   float64\n",
            " 3   Low        3028 non-null   float64\n",
            " 4   Close      3028 non-null   float64\n",
            " 5   Adj Close  3028 non-null   float64\n",
            " 6   Volume     3028 non-null   float64\n",
            "dtypes: float64(6), object(1)\n",
            "memory usage: 165.8+ KB\n"
          ]
        }
      ],
      "source": [
        "df.info()"
      ]
    },
    {
      "cell_type": "code",
      "execution_count": 68,
      "metadata": {
        "id": "1NFtc6tsKAiF"
      },
      "outputs": [],
      "source": [
        "df.dropna(inplace=True)"
      ]
    },
    {
      "cell_type": "code",
      "execution_count": 69,
      "metadata": {
        "colab": {
          "base_uri": "https://localhost:8080/"
        },
        "id": "xMF5AAp4KFG1",
        "outputId": "c4ffe101-5579-47e5-bcb8-83b06d8c1268"
      },
      "outputs": [
        {
          "output_type": "stream",
          "name": "stdout",
          "text": [
            "<class 'pandas.core.frame.DataFrame'>\n",
            "Int64Index: 3028 entries, 0 to 3029\n",
            "Data columns (total 7 columns):\n",
            " #   Column     Non-Null Count  Dtype  \n",
            "---  ------     --------------  -----  \n",
            " 0   Date       3028 non-null   object \n",
            " 1   Open       3028 non-null   float64\n",
            " 2   High       3028 non-null   float64\n",
            " 3   Low        3028 non-null   float64\n",
            " 4   Close      3028 non-null   float64\n",
            " 5   Adj Close  3028 non-null   float64\n",
            " 6   Volume     3028 non-null   float64\n",
            "dtypes: float64(6), object(1)\n",
            "memory usage: 189.2+ KB\n"
          ]
        }
      ],
      "source": [
        "df.info()"
      ]
    },
    {
      "cell_type": "code",
      "execution_count": 9,
      "metadata": {
        "id": "RdlWdV16KSPS"
      },
      "outputs": [],
      "source": [
        "#Remove the unused columns\n",
        "#del df['Symbol']\n",
        "#del df ['LastShares']\n",
        "#del df ['LastPx']\n",
        "#del df ['lastMkt']\n",
        "#del df ['timeStamp']\n",
        "#del df ['MsgSeqNum']"
      ]
    },
    {
      "cell_type": "code",
      "execution_count": 70,
      "metadata": {
        "colab": {
          "base_uri": "https://localhost:8080/",
          "height": 424
        },
        "id": "o-ni6ytRKY_9",
        "outputId": "0f7cb258-5318-44cf-d7df-2b67b8cf0ef6"
      },
      "outputs": [
        {
          "output_type": "execute_result",
          "data": {
            "text/plain": [
              "            Date   Open       High        Low      Close  Adj Close     Volume\n",
              "0     2010-03-31   2.25   2.250000   2.100000   2.220000   2.220000   967000.0\n",
              "1     2010-04-01   2.25   2.500000   2.250000   2.450000   2.450000  3302800.0\n",
              "2     2010-04-05   2.51   2.670000   2.500000   2.520000   2.520000  2309000.0\n",
              "3     2010-04-06   2.58   2.600000   2.540000   2.550000   2.550000   661000.0\n",
              "4     2010-04-07   2.60   2.600000   2.520000   2.530000   2.530000  1639300.0\n",
              "...          ...    ...        ...        ...        ...        ...        ...\n",
              "3025  2022-04-21  24.65  25.000000  24.430000  24.660000  24.660000  5094000.0\n",
              "3026  2022-04-22  24.67  24.850000  24.110001  24.150000  24.150000  3691400.0\n",
              "3027  2022-04-25  24.00  24.440001  23.680000  24.219999  24.219999  4138600.0\n",
              "3028  2022-04-26  24.25  24.260000  22.360001  22.459999  22.459999  7166700.0\n",
              "3029  2022-04-27  22.50  23.090000  22.480000  22.809999  22.809999  3712706.0\n",
              "\n",
              "[3028 rows x 7 columns]"
            ],
            "text/html": [
              "\n",
              "  <div id=\"df-cdd074ee-0694-4be1-951c-91481483cf16\">\n",
              "    <div class=\"colab-df-container\">\n",
              "      <div>\n",
              "<style scoped>\n",
              "    .dataframe tbody tr th:only-of-type {\n",
              "        vertical-align: middle;\n",
              "    }\n",
              "\n",
              "    .dataframe tbody tr th {\n",
              "        vertical-align: top;\n",
              "    }\n",
              "\n",
              "    .dataframe thead th {\n",
              "        text-align: right;\n",
              "    }\n",
              "</style>\n",
              "<table border=\"1\" class=\"dataframe\">\n",
              "  <thead>\n",
              "    <tr style=\"text-align: right;\">\n",
              "      <th></th>\n",
              "      <th>Date</th>\n",
              "      <th>Open</th>\n",
              "      <th>High</th>\n",
              "      <th>Low</th>\n",
              "      <th>Close</th>\n",
              "      <th>Adj Close</th>\n",
              "      <th>Volume</th>\n",
              "    </tr>\n",
              "  </thead>\n",
              "  <tbody>\n",
              "    <tr>\n",
              "      <th>0</th>\n",
              "      <td>2010-03-31</td>\n",
              "      <td>2.25</td>\n",
              "      <td>2.250000</td>\n",
              "      <td>2.100000</td>\n",
              "      <td>2.220000</td>\n",
              "      <td>2.220000</td>\n",
              "      <td>967000.0</td>\n",
              "    </tr>\n",
              "    <tr>\n",
              "      <th>1</th>\n",
              "      <td>2010-04-01</td>\n",
              "      <td>2.25</td>\n",
              "      <td>2.500000</td>\n",
              "      <td>2.250000</td>\n",
              "      <td>2.450000</td>\n",
              "      <td>2.450000</td>\n",
              "      <td>3302800.0</td>\n",
              "    </tr>\n",
              "    <tr>\n",
              "      <th>2</th>\n",
              "      <td>2010-04-05</td>\n",
              "      <td>2.51</td>\n",
              "      <td>2.670000</td>\n",
              "      <td>2.500000</td>\n",
              "      <td>2.520000</td>\n",
              "      <td>2.520000</td>\n",
              "      <td>2309000.0</td>\n",
              "    </tr>\n",
              "    <tr>\n",
              "      <th>3</th>\n",
              "      <td>2010-04-06</td>\n",
              "      <td>2.58</td>\n",
              "      <td>2.600000</td>\n",
              "      <td>2.540000</td>\n",
              "      <td>2.550000</td>\n",
              "      <td>2.550000</td>\n",
              "      <td>661000.0</td>\n",
              "    </tr>\n",
              "    <tr>\n",
              "      <th>4</th>\n",
              "      <td>2010-04-07</td>\n",
              "      <td>2.60</td>\n",
              "      <td>2.600000</td>\n",
              "      <td>2.520000</td>\n",
              "      <td>2.530000</td>\n",
              "      <td>2.530000</td>\n",
              "      <td>1639300.0</td>\n",
              "    </tr>\n",
              "    <tr>\n",
              "      <th>...</th>\n",
              "      <td>...</td>\n",
              "      <td>...</td>\n",
              "      <td>...</td>\n",
              "      <td>...</td>\n",
              "      <td>...</td>\n",
              "      <td>...</td>\n",
              "      <td>...</td>\n",
              "    </tr>\n",
              "    <tr>\n",
              "      <th>3025</th>\n",
              "      <td>2022-04-21</td>\n",
              "      <td>24.65</td>\n",
              "      <td>25.000000</td>\n",
              "      <td>24.430000</td>\n",
              "      <td>24.660000</td>\n",
              "      <td>24.660000</td>\n",
              "      <td>5094000.0</td>\n",
              "    </tr>\n",
              "    <tr>\n",
              "      <th>3026</th>\n",
              "      <td>2022-04-22</td>\n",
              "      <td>24.67</td>\n",
              "      <td>24.850000</td>\n",
              "      <td>24.110001</td>\n",
              "      <td>24.150000</td>\n",
              "      <td>24.150000</td>\n",
              "      <td>3691400.0</td>\n",
              "    </tr>\n",
              "    <tr>\n",
              "      <th>3027</th>\n",
              "      <td>2022-04-25</td>\n",
              "      <td>24.00</td>\n",
              "      <td>24.440001</td>\n",
              "      <td>23.680000</td>\n",
              "      <td>24.219999</td>\n",
              "      <td>24.219999</td>\n",
              "      <td>4138600.0</td>\n",
              "    </tr>\n",
              "    <tr>\n",
              "      <th>3028</th>\n",
              "      <td>2022-04-26</td>\n",
              "      <td>24.25</td>\n",
              "      <td>24.260000</td>\n",
              "      <td>22.360001</td>\n",
              "      <td>22.459999</td>\n",
              "      <td>22.459999</td>\n",
              "      <td>7166700.0</td>\n",
              "    </tr>\n",
              "    <tr>\n",
              "      <th>3029</th>\n",
              "      <td>2022-04-27</td>\n",
              "      <td>22.50</td>\n",
              "      <td>23.090000</td>\n",
              "      <td>22.480000</td>\n",
              "      <td>22.809999</td>\n",
              "      <td>22.809999</td>\n",
              "      <td>3712706.0</td>\n",
              "    </tr>\n",
              "  </tbody>\n",
              "</table>\n",
              "<p>3028 rows × 7 columns</p>\n",
              "</div>\n",
              "      <button class=\"colab-df-convert\" onclick=\"convertToInteractive('df-cdd074ee-0694-4be1-951c-91481483cf16')\"\n",
              "              title=\"Convert this dataframe to an interactive table.\"\n",
              "              style=\"display:none;\">\n",
              "        \n",
              "  <svg xmlns=\"http://www.w3.org/2000/svg\" height=\"24px\"viewBox=\"0 0 24 24\"\n",
              "       width=\"24px\">\n",
              "    <path d=\"M0 0h24v24H0V0z\" fill=\"none\"/>\n",
              "    <path d=\"M18.56 5.44l.94 2.06.94-2.06 2.06-.94-2.06-.94-.94-2.06-.94 2.06-2.06.94zm-11 1L8.5 8.5l.94-2.06 2.06-.94-2.06-.94L8.5 2.5l-.94 2.06-2.06.94zm10 10l.94 2.06.94-2.06 2.06-.94-2.06-.94-.94-2.06-.94 2.06-2.06.94z\"/><path d=\"M17.41 7.96l-1.37-1.37c-.4-.4-.92-.59-1.43-.59-.52 0-1.04.2-1.43.59L10.3 9.45l-7.72 7.72c-.78.78-.78 2.05 0 2.83L4 21.41c.39.39.9.59 1.41.59.51 0 1.02-.2 1.41-.59l7.78-7.78 2.81-2.81c.8-.78.8-2.07 0-2.86zM5.41 20L4 18.59l7.72-7.72 1.47 1.35L5.41 20z\"/>\n",
              "  </svg>\n",
              "      </button>\n",
              "      \n",
              "  <style>\n",
              "    .colab-df-container {\n",
              "      display:flex;\n",
              "      flex-wrap:wrap;\n",
              "      gap: 12px;\n",
              "    }\n",
              "\n",
              "    .colab-df-convert {\n",
              "      background-color: #E8F0FE;\n",
              "      border: none;\n",
              "      border-radius: 50%;\n",
              "      cursor: pointer;\n",
              "      display: none;\n",
              "      fill: #1967D2;\n",
              "      height: 32px;\n",
              "      padding: 0 0 0 0;\n",
              "      width: 32px;\n",
              "    }\n",
              "\n",
              "    .colab-df-convert:hover {\n",
              "      background-color: #E2EBFA;\n",
              "      box-shadow: 0px 1px 2px rgba(60, 64, 67, 0.3), 0px 1px 3px 1px rgba(60, 64, 67, 0.15);\n",
              "      fill: #174EA6;\n",
              "    }\n",
              "\n",
              "    [theme=dark] .colab-df-convert {\n",
              "      background-color: #3B4455;\n",
              "      fill: #D2E3FC;\n",
              "    }\n",
              "\n",
              "    [theme=dark] .colab-df-convert:hover {\n",
              "      background-color: #434B5C;\n",
              "      box-shadow: 0px 1px 3px 1px rgba(0, 0, 0, 0.15);\n",
              "      filter: drop-shadow(0px 1px 2px rgba(0, 0, 0, 0.3));\n",
              "      fill: #FFFFFF;\n",
              "    }\n",
              "  </style>\n",
              "\n",
              "      <script>\n",
              "        const buttonEl =\n",
              "          document.querySelector('#df-cdd074ee-0694-4be1-951c-91481483cf16 button.colab-df-convert');\n",
              "        buttonEl.style.display =\n",
              "          google.colab.kernel.accessAllowed ? 'block' : 'none';\n",
              "\n",
              "        async function convertToInteractive(key) {\n",
              "          const element = document.querySelector('#df-cdd074ee-0694-4be1-951c-91481483cf16');\n",
              "          const dataTable =\n",
              "            await google.colab.kernel.invokeFunction('convertToInteractive',\n",
              "                                                     [key], {});\n",
              "          if (!dataTable) return;\n",
              "\n",
              "          const docLinkHtml = 'Like what you see? Visit the ' +\n",
              "            '<a target=\"_blank\" href=https://colab.research.google.com/notebooks/data_table.ipynb>data table notebook</a>'\n",
              "            + ' to learn more about interactive tables.';\n",
              "          element.innerHTML = '';\n",
              "          dataTable['output_type'] = 'display_data';\n",
              "          await google.colab.output.renderOutput(dataTable, element);\n",
              "          const docLink = document.createElement('div');\n",
              "          docLink.innerHTML = docLinkHtml;\n",
              "          element.appendChild(docLink);\n",
              "        }\n",
              "      </script>\n",
              "    </div>\n",
              "  </div>\n",
              "  "
            ]
          },
          "metadata": {},
          "execution_count": 70
        }
      ],
      "source": [
        "df"
      ]
    },
    {
      "cell_type": "code",
      "execution_count": 71,
      "metadata": {
        "colab": {
          "base_uri": "https://localhost:8080/",
          "height": 237
        },
        "id": "FdyByQtUJX9u",
        "outputId": "8d29d60b-559e-4983-d90b-840eb8fe55a1"
      },
      "outputs": [
        {
          "output_type": "execute_result",
          "data": {
            "text/plain": [
              "               Open      High       Low     Close  Adj Close    Volume\n",
              "Open       1.000000  0.999705  0.999585  0.999407   0.999407  0.078816\n",
              "High       0.999705  1.000000  0.999474  0.999731   0.999731  0.085336\n",
              "Low        0.999585  0.999474  1.000000  0.999698   0.999698  0.068376\n",
              "Close      0.999407  0.999731  0.999698  1.000000   1.000000  0.077260\n",
              "Adj Close  0.999407  0.999731  0.999698  1.000000   1.000000  0.077260\n",
              "Volume     0.078816  0.085336  0.068376  0.077260   0.077260  1.000000"
            ],
            "text/html": [
              "\n",
              "  <div id=\"df-acadbd55-fdc7-4a8b-9b09-2f48d1ebc4f0\">\n",
              "    <div class=\"colab-df-container\">\n",
              "      <div>\n",
              "<style scoped>\n",
              "    .dataframe tbody tr th:only-of-type {\n",
              "        vertical-align: middle;\n",
              "    }\n",
              "\n",
              "    .dataframe tbody tr th {\n",
              "        vertical-align: top;\n",
              "    }\n",
              "\n",
              "    .dataframe thead th {\n",
              "        text-align: right;\n",
              "    }\n",
              "</style>\n",
              "<table border=\"1\" class=\"dataframe\">\n",
              "  <thead>\n",
              "    <tr style=\"text-align: right;\">\n",
              "      <th></th>\n",
              "      <th>Open</th>\n",
              "      <th>High</th>\n",
              "      <th>Low</th>\n",
              "      <th>Close</th>\n",
              "      <th>Adj Close</th>\n",
              "      <th>Volume</th>\n",
              "    </tr>\n",
              "  </thead>\n",
              "  <tbody>\n",
              "    <tr>\n",
              "      <th>Open</th>\n",
              "      <td>1.000000</td>\n",
              "      <td>0.999705</td>\n",
              "      <td>0.999585</td>\n",
              "      <td>0.999407</td>\n",
              "      <td>0.999407</td>\n",
              "      <td>0.078816</td>\n",
              "    </tr>\n",
              "    <tr>\n",
              "      <th>High</th>\n",
              "      <td>0.999705</td>\n",
              "      <td>1.000000</td>\n",
              "      <td>0.999474</td>\n",
              "      <td>0.999731</td>\n",
              "      <td>0.999731</td>\n",
              "      <td>0.085336</td>\n",
              "    </tr>\n",
              "    <tr>\n",
              "      <th>Low</th>\n",
              "      <td>0.999585</td>\n",
              "      <td>0.999474</td>\n",
              "      <td>1.000000</td>\n",
              "      <td>0.999698</td>\n",
              "      <td>0.999698</td>\n",
              "      <td>0.068376</td>\n",
              "    </tr>\n",
              "    <tr>\n",
              "      <th>Close</th>\n",
              "      <td>0.999407</td>\n",
              "      <td>0.999731</td>\n",
              "      <td>0.999698</td>\n",
              "      <td>1.000000</td>\n",
              "      <td>1.000000</td>\n",
              "      <td>0.077260</td>\n",
              "    </tr>\n",
              "    <tr>\n",
              "      <th>Adj Close</th>\n",
              "      <td>0.999407</td>\n",
              "      <td>0.999731</td>\n",
              "      <td>0.999698</td>\n",
              "      <td>1.000000</td>\n",
              "      <td>1.000000</td>\n",
              "      <td>0.077260</td>\n",
              "    </tr>\n",
              "    <tr>\n",
              "      <th>Volume</th>\n",
              "      <td>0.078816</td>\n",
              "      <td>0.085336</td>\n",
              "      <td>0.068376</td>\n",
              "      <td>0.077260</td>\n",
              "      <td>0.077260</td>\n",
              "      <td>1.000000</td>\n",
              "    </tr>\n",
              "  </tbody>\n",
              "</table>\n",
              "</div>\n",
              "      <button class=\"colab-df-convert\" onclick=\"convertToInteractive('df-acadbd55-fdc7-4a8b-9b09-2f48d1ebc4f0')\"\n",
              "              title=\"Convert this dataframe to an interactive table.\"\n",
              "              style=\"display:none;\">\n",
              "        \n",
              "  <svg xmlns=\"http://www.w3.org/2000/svg\" height=\"24px\"viewBox=\"0 0 24 24\"\n",
              "       width=\"24px\">\n",
              "    <path d=\"M0 0h24v24H0V0z\" fill=\"none\"/>\n",
              "    <path d=\"M18.56 5.44l.94 2.06.94-2.06 2.06-.94-2.06-.94-.94-2.06-.94 2.06-2.06.94zm-11 1L8.5 8.5l.94-2.06 2.06-.94-2.06-.94L8.5 2.5l-.94 2.06-2.06.94zm10 10l.94 2.06.94-2.06 2.06-.94-2.06-.94-.94-2.06-.94 2.06-2.06.94z\"/><path d=\"M17.41 7.96l-1.37-1.37c-.4-.4-.92-.59-1.43-.59-.52 0-1.04.2-1.43.59L10.3 9.45l-7.72 7.72c-.78.78-.78 2.05 0 2.83L4 21.41c.39.39.9.59 1.41.59.51 0 1.02-.2 1.41-.59l7.78-7.78 2.81-2.81c.8-.78.8-2.07 0-2.86zM5.41 20L4 18.59l7.72-7.72 1.47 1.35L5.41 20z\"/>\n",
              "  </svg>\n",
              "      </button>\n",
              "      \n",
              "  <style>\n",
              "    .colab-df-container {\n",
              "      display:flex;\n",
              "      flex-wrap:wrap;\n",
              "      gap: 12px;\n",
              "    }\n",
              "\n",
              "    .colab-df-convert {\n",
              "      background-color: #E8F0FE;\n",
              "      border: none;\n",
              "      border-radius: 50%;\n",
              "      cursor: pointer;\n",
              "      display: none;\n",
              "      fill: #1967D2;\n",
              "      height: 32px;\n",
              "      padding: 0 0 0 0;\n",
              "      width: 32px;\n",
              "    }\n",
              "\n",
              "    .colab-df-convert:hover {\n",
              "      background-color: #E2EBFA;\n",
              "      box-shadow: 0px 1px 2px rgba(60, 64, 67, 0.3), 0px 1px 3px 1px rgba(60, 64, 67, 0.15);\n",
              "      fill: #174EA6;\n",
              "    }\n",
              "\n",
              "    [theme=dark] .colab-df-convert {\n",
              "      background-color: #3B4455;\n",
              "      fill: #D2E3FC;\n",
              "    }\n",
              "\n",
              "    [theme=dark] .colab-df-convert:hover {\n",
              "      background-color: #434B5C;\n",
              "      box-shadow: 0px 1px 3px 1px rgba(0, 0, 0, 0.15);\n",
              "      filter: drop-shadow(0px 1px 2px rgba(0, 0, 0, 0.3));\n",
              "      fill: #FFFFFF;\n",
              "    }\n",
              "  </style>\n",
              "\n",
              "      <script>\n",
              "        const buttonEl =\n",
              "          document.querySelector('#df-acadbd55-fdc7-4a8b-9b09-2f48d1ebc4f0 button.colab-df-convert');\n",
              "        buttonEl.style.display =\n",
              "          google.colab.kernel.accessAllowed ? 'block' : 'none';\n",
              "\n",
              "        async function convertToInteractive(key) {\n",
              "          const element = document.querySelector('#df-acadbd55-fdc7-4a8b-9b09-2f48d1ebc4f0');\n",
              "          const dataTable =\n",
              "            await google.colab.kernel.invokeFunction('convertToInteractive',\n",
              "                                                     [key], {});\n",
              "          if (!dataTable) return;\n",
              "\n",
              "          const docLinkHtml = 'Like what you see? Visit the ' +\n",
              "            '<a target=\"_blank\" href=https://colab.research.google.com/notebooks/data_table.ipynb>data table notebook</a>'\n",
              "            + ' to learn more about interactive tables.';\n",
              "          element.innerHTML = '';\n",
              "          dataTable['output_type'] = 'display_data';\n",
              "          await google.colab.output.renderOutput(dataTable, element);\n",
              "          const docLink = document.createElement('div');\n",
              "          docLink.innerHTML = docLinkHtml;\n",
              "          element.appendChild(docLink);\n",
              "        }\n",
              "      </script>\n",
              "    </div>\n",
              "  </div>\n",
              "  "
            ]
          },
          "metadata": {},
          "execution_count": 71
        }
      ],
      "source": [
        "df.corr()"
      ]
    },
    {
      "cell_type": "code",
      "execution_count": 72,
      "metadata": {
        "id": "85HAC7E1Jap3"
      },
      "outputs": [],
      "source": [
        "df.rename(columns = {'Adj Close':'Adj_Close'}, inplace = True)"
      ]
    },
    {
      "cell_type": "code",
      "execution_count": 73,
      "metadata": {
        "id": "DWjSTlQlJeoI",
        "colab": {
          "base_uri": "https://localhost:8080/",
          "height": 424
        },
        "outputId": "ea47b910-edd0-4386-c9ad-56cee774f421"
      },
      "outputs": [
        {
          "output_type": "execute_result",
          "data": {
            "text/plain": [
              "            Date   Open       High        Low      Close  Adj_Close     Volume\n",
              "0     2010-03-31   2.25   2.250000   2.100000   2.220000   2.220000   967000.0\n",
              "1     2010-04-01   2.25   2.500000   2.250000   2.450000   2.450000  3302800.0\n",
              "2     2010-04-05   2.51   2.670000   2.500000   2.520000   2.520000  2309000.0\n",
              "3     2010-04-06   2.58   2.600000   2.540000   2.550000   2.550000   661000.0\n",
              "4     2010-04-07   2.60   2.600000   2.520000   2.530000   2.530000  1639300.0\n",
              "...          ...    ...        ...        ...        ...        ...        ...\n",
              "3025  2022-04-21  24.65  25.000000  24.430000  24.660000  24.660000  5094000.0\n",
              "3026  2022-04-22  24.67  24.850000  24.110001  24.150000  24.150000  3691400.0\n",
              "3027  2022-04-25  24.00  24.440001  23.680000  24.219999  24.219999  4138600.0\n",
              "3028  2022-04-26  24.25  24.260000  22.360001  22.459999  22.459999  7166700.0\n",
              "3029  2022-04-27  22.50  23.090000  22.480000  22.809999  22.809999  3712706.0\n",
              "\n",
              "[3028 rows x 7 columns]"
            ],
            "text/html": [
              "\n",
              "  <div id=\"df-1917b576-b2a0-4ea4-8788-51eefb8b1412\">\n",
              "    <div class=\"colab-df-container\">\n",
              "      <div>\n",
              "<style scoped>\n",
              "    .dataframe tbody tr th:only-of-type {\n",
              "        vertical-align: middle;\n",
              "    }\n",
              "\n",
              "    .dataframe tbody tr th {\n",
              "        vertical-align: top;\n",
              "    }\n",
              "\n",
              "    .dataframe thead th {\n",
              "        text-align: right;\n",
              "    }\n",
              "</style>\n",
              "<table border=\"1\" class=\"dataframe\">\n",
              "  <thead>\n",
              "    <tr style=\"text-align: right;\">\n",
              "      <th></th>\n",
              "      <th>Date</th>\n",
              "      <th>Open</th>\n",
              "      <th>High</th>\n",
              "      <th>Low</th>\n",
              "      <th>Close</th>\n",
              "      <th>Adj_Close</th>\n",
              "      <th>Volume</th>\n",
              "    </tr>\n",
              "  </thead>\n",
              "  <tbody>\n",
              "    <tr>\n",
              "      <th>0</th>\n",
              "      <td>2010-03-31</td>\n",
              "      <td>2.25</td>\n",
              "      <td>2.250000</td>\n",
              "      <td>2.100000</td>\n",
              "      <td>2.220000</td>\n",
              "      <td>2.220000</td>\n",
              "      <td>967000.0</td>\n",
              "    </tr>\n",
              "    <tr>\n",
              "      <th>1</th>\n",
              "      <td>2010-04-01</td>\n",
              "      <td>2.25</td>\n",
              "      <td>2.500000</td>\n",
              "      <td>2.250000</td>\n",
              "      <td>2.450000</td>\n",
              "      <td>2.450000</td>\n",
              "      <td>3302800.0</td>\n",
              "    </tr>\n",
              "    <tr>\n",
              "      <th>2</th>\n",
              "      <td>2010-04-05</td>\n",
              "      <td>2.51</td>\n",
              "      <td>2.670000</td>\n",
              "      <td>2.500000</td>\n",
              "      <td>2.520000</td>\n",
              "      <td>2.520000</td>\n",
              "      <td>2309000.0</td>\n",
              "    </tr>\n",
              "    <tr>\n",
              "      <th>3</th>\n",
              "      <td>2010-04-06</td>\n",
              "      <td>2.58</td>\n",
              "      <td>2.600000</td>\n",
              "      <td>2.540000</td>\n",
              "      <td>2.550000</td>\n",
              "      <td>2.550000</td>\n",
              "      <td>661000.0</td>\n",
              "    </tr>\n",
              "    <tr>\n",
              "      <th>4</th>\n",
              "      <td>2010-04-07</td>\n",
              "      <td>2.60</td>\n",
              "      <td>2.600000</td>\n",
              "      <td>2.520000</td>\n",
              "      <td>2.530000</td>\n",
              "      <td>2.530000</td>\n",
              "      <td>1639300.0</td>\n",
              "    </tr>\n",
              "    <tr>\n",
              "      <th>...</th>\n",
              "      <td>...</td>\n",
              "      <td>...</td>\n",
              "      <td>...</td>\n",
              "      <td>...</td>\n",
              "      <td>...</td>\n",
              "      <td>...</td>\n",
              "      <td>...</td>\n",
              "    </tr>\n",
              "    <tr>\n",
              "      <th>3025</th>\n",
              "      <td>2022-04-21</td>\n",
              "      <td>24.65</td>\n",
              "      <td>25.000000</td>\n",
              "      <td>24.430000</td>\n",
              "      <td>24.660000</td>\n",
              "      <td>24.660000</td>\n",
              "      <td>5094000.0</td>\n",
              "    </tr>\n",
              "    <tr>\n",
              "      <th>3026</th>\n",
              "      <td>2022-04-22</td>\n",
              "      <td>24.67</td>\n",
              "      <td>24.850000</td>\n",
              "      <td>24.110001</td>\n",
              "      <td>24.150000</td>\n",
              "      <td>24.150000</td>\n",
              "      <td>3691400.0</td>\n",
              "    </tr>\n",
              "    <tr>\n",
              "      <th>3027</th>\n",
              "      <td>2022-04-25</td>\n",
              "      <td>24.00</td>\n",
              "      <td>24.440001</td>\n",
              "      <td>23.680000</td>\n",
              "      <td>24.219999</td>\n",
              "      <td>24.219999</td>\n",
              "      <td>4138600.0</td>\n",
              "    </tr>\n",
              "    <tr>\n",
              "      <th>3028</th>\n",
              "      <td>2022-04-26</td>\n",
              "      <td>24.25</td>\n",
              "      <td>24.260000</td>\n",
              "      <td>22.360001</td>\n",
              "      <td>22.459999</td>\n",
              "      <td>22.459999</td>\n",
              "      <td>7166700.0</td>\n",
              "    </tr>\n",
              "    <tr>\n",
              "      <th>3029</th>\n",
              "      <td>2022-04-27</td>\n",
              "      <td>22.50</td>\n",
              "      <td>23.090000</td>\n",
              "      <td>22.480000</td>\n",
              "      <td>22.809999</td>\n",
              "      <td>22.809999</td>\n",
              "      <td>3712706.0</td>\n",
              "    </tr>\n",
              "  </tbody>\n",
              "</table>\n",
              "<p>3028 rows × 7 columns</p>\n",
              "</div>\n",
              "      <button class=\"colab-df-convert\" onclick=\"convertToInteractive('df-1917b576-b2a0-4ea4-8788-51eefb8b1412')\"\n",
              "              title=\"Convert this dataframe to an interactive table.\"\n",
              "              style=\"display:none;\">\n",
              "        \n",
              "  <svg xmlns=\"http://www.w3.org/2000/svg\" height=\"24px\"viewBox=\"0 0 24 24\"\n",
              "       width=\"24px\">\n",
              "    <path d=\"M0 0h24v24H0V0z\" fill=\"none\"/>\n",
              "    <path d=\"M18.56 5.44l.94 2.06.94-2.06 2.06-.94-2.06-.94-.94-2.06-.94 2.06-2.06.94zm-11 1L8.5 8.5l.94-2.06 2.06-.94-2.06-.94L8.5 2.5l-.94 2.06-2.06.94zm10 10l.94 2.06.94-2.06 2.06-.94-2.06-.94-.94-2.06-.94 2.06-2.06.94z\"/><path d=\"M17.41 7.96l-1.37-1.37c-.4-.4-.92-.59-1.43-.59-.52 0-1.04.2-1.43.59L10.3 9.45l-7.72 7.72c-.78.78-.78 2.05 0 2.83L4 21.41c.39.39.9.59 1.41.59.51 0 1.02-.2 1.41-.59l7.78-7.78 2.81-2.81c.8-.78.8-2.07 0-2.86zM5.41 20L4 18.59l7.72-7.72 1.47 1.35L5.41 20z\"/>\n",
              "  </svg>\n",
              "      </button>\n",
              "      \n",
              "  <style>\n",
              "    .colab-df-container {\n",
              "      display:flex;\n",
              "      flex-wrap:wrap;\n",
              "      gap: 12px;\n",
              "    }\n",
              "\n",
              "    .colab-df-convert {\n",
              "      background-color: #E8F0FE;\n",
              "      border: none;\n",
              "      border-radius: 50%;\n",
              "      cursor: pointer;\n",
              "      display: none;\n",
              "      fill: #1967D2;\n",
              "      height: 32px;\n",
              "      padding: 0 0 0 0;\n",
              "      width: 32px;\n",
              "    }\n",
              "\n",
              "    .colab-df-convert:hover {\n",
              "      background-color: #E2EBFA;\n",
              "      box-shadow: 0px 1px 2px rgba(60, 64, 67, 0.3), 0px 1px 3px 1px rgba(60, 64, 67, 0.15);\n",
              "      fill: #174EA6;\n",
              "    }\n",
              "\n",
              "    [theme=dark] .colab-df-convert {\n",
              "      background-color: #3B4455;\n",
              "      fill: #D2E3FC;\n",
              "    }\n",
              "\n",
              "    [theme=dark] .colab-df-convert:hover {\n",
              "      background-color: #434B5C;\n",
              "      box-shadow: 0px 1px 3px 1px rgba(0, 0, 0, 0.15);\n",
              "      filter: drop-shadow(0px 1px 2px rgba(0, 0, 0, 0.3));\n",
              "      fill: #FFFFFF;\n",
              "    }\n",
              "  </style>\n",
              "\n",
              "      <script>\n",
              "        const buttonEl =\n",
              "          document.querySelector('#df-1917b576-b2a0-4ea4-8788-51eefb8b1412 button.colab-df-convert');\n",
              "        buttonEl.style.display =\n",
              "          google.colab.kernel.accessAllowed ? 'block' : 'none';\n",
              "\n",
              "        async function convertToInteractive(key) {\n",
              "          const element = document.querySelector('#df-1917b576-b2a0-4ea4-8788-51eefb8b1412');\n",
              "          const dataTable =\n",
              "            await google.colab.kernel.invokeFunction('convertToInteractive',\n",
              "                                                     [key], {});\n",
              "          if (!dataTable) return;\n",
              "\n",
              "          const docLinkHtml = 'Like what you see? Visit the ' +\n",
              "            '<a target=\"_blank\" href=https://colab.research.google.com/notebooks/data_table.ipynb>data table notebook</a>'\n",
              "            + ' to learn more about interactive tables.';\n",
              "          element.innerHTML = '';\n",
              "          dataTable['output_type'] = 'display_data';\n",
              "          await google.colab.output.renderOutput(dataTable, element);\n",
              "          const docLink = document.createElement('div');\n",
              "          docLink.innerHTML = docLinkHtml;\n",
              "          element.appendChild(docLink);\n",
              "        }\n",
              "      </script>\n",
              "    </div>\n",
              "  </div>\n",
              "  "
            ]
          },
          "metadata": {},
          "execution_count": 73
        }
      ],
      "source": [
        "df"
      ]
    },
    {
      "cell_type": "code",
      "source": [
        "import plotly.graph_objects as go\n",
        "\n",
        "fig = go.Figure(data=go.Scatter(x=df.Date,y=df['Adj_Close'], mode='lines'))\n",
        "fig.show()"
      ],
      "metadata": {
        "id": "koBGKNi0O7Nl",
        "outputId": "9cf40c35-99b8-4e52-c0e6-af85f94fe26d",
        "colab": {
          "base_uri": "https://localhost:8080/",
          "height": 542
        }
      },
      "execution_count": 74,
      "outputs": [
        {
          "output_type": "display_data",
          "data": {
            "text/html": [
              "<html>\n",
              "<head><meta charset=\"utf-8\" /></head>\n",
              "<body>\n",
              "    <div>            <script src=\"https://cdnjs.cloudflare.com/ajax/libs/mathjax/2.7.5/MathJax.js?config=TeX-AMS-MML_SVG\"></script><script type=\"text/javascript\">if (window.MathJax) {MathJax.Hub.Config({SVG: {font: \"STIX-Web\"}});}</script>                <script type=\"text/javascript\">window.PlotlyConfig = {MathJaxConfig: 'local'};</script>\n",
              "        <script src=\"https://cdn.plot.ly/plotly-2.8.3.min.js\"></script>                <div id=\"c6c5cb6c-34e2-43e9-9a44-691146c4d365\" class=\"plotly-graph-div\" style=\"height:525px; width:100%;\"></div>            <script type=\"text/javascript\">                                    window.PLOTLYENV=window.PLOTLYENV || {};                                    if (document.getElementById(\"c6c5cb6c-34e2-43e9-9a44-691146c4d365\")) {                    Plotly.newPlot(                        \"c6c5cb6c-34e2-43e9-9a44-691146c4d365\",                        [{\"mode\":\"lines\",\"x\":[\"2010-03-31\",\"2010-04-01\",\"2010-04-05\",\"2010-04-06\",\"2010-04-07\",\"2010-04-08\",\"2010-04-09\",\"2010-04-12\",\"2010-04-13\",\"2010-04-14\",\"2010-04-15\",\"2010-04-16\",\"2010-04-19\",\"2010-04-20\",\"2010-04-21\",\"2010-04-22\",\"2010-04-23\",\"2010-04-26\",\"2010-04-27\",\"2010-04-28\",\"2010-04-29\",\"2010-04-30\",\"2010-05-03\",\"2010-05-04\",\"2010-05-05\",\"2010-05-06\",\"2010-05-07\",\"2010-05-10\",\"2010-05-11\",\"2010-05-12\",\"2010-05-13\",\"2010-05-14\",\"2010-05-17\",\"2010-05-18\",\"2010-05-19\",\"2010-05-20\",\"2010-05-21\",\"2010-05-25\",\"2010-05-26\",\"2010-05-27\",\"2010-05-28\",\"2010-05-31\",\"2010-06-01\",\"2010-06-02\",\"2010-06-03\",\"2010-06-04\",\"2010-06-07\",\"2010-06-08\",\"2010-06-09\",\"2010-06-10\",\"2010-06-11\",\"2010-06-14\",\"2010-06-15\",\"2010-06-16\",\"2010-06-17\",\"2010-06-18\",\"2010-06-21\",\"2010-06-22\",\"2010-06-23\",\"2010-06-24\",\"2010-06-25\",\"2010-06-28\",\"2010-06-29\",\"2010-06-30\",\"2010-07-02\",\"2010-07-05\",\"2010-07-06\",\"2010-07-07\",\"2010-07-08\",\"2010-07-09\",\"2010-07-12\",\"2010-07-13\",\"2010-07-15\",\"2010-07-19\",\"2010-07-20\",\"2010-07-21\",\"2010-07-22\",\"2010-07-23\",\"2010-07-26\",\"2010-07-27\",\"2010-07-28\",\"2010-07-29\",\"2010-07-30\",\"2010-08-03\",\"2010-08-04\",\"2010-08-05\",\"2010-08-06\",\"2010-08-09\",\"2010-08-10\",\"2010-08-11\",\"2010-08-12\",\"2010-08-13\",\"2010-08-16\",\"2010-08-17\",\"2010-08-18\",\"2010-08-19\",\"2010-08-20\",\"2010-08-23\",\"2010-08-24\",\"2010-08-25\",\"2010-08-26\",\"2010-08-27\",\"2010-08-30\",\"2010-08-31\",\"2010-09-01\",\"2010-09-02\",\"2010-09-03\",\"2010-09-07\",\"2010-09-08\",\"2010-09-09\",\"2010-09-10\",\"2010-09-13\",\"2010-09-14\",\"2010-09-15\",\"2010-09-16\",\"2010-09-17\",\"2010-09-20\",\"2010-09-21\",\"2010-09-22\",\"2010-09-23\",\"2010-09-24\",\"2010-09-27\",\"2010-09-28\",\"2010-09-29\",\"2010-09-30\",\"2010-10-01\",\"2010-10-04\",\"2010-10-05\",\"2010-10-06\",\"2010-10-07\",\"2010-10-08\",\"2010-10-12\",\"2010-10-13\",\"2010-10-14\",\"2010-10-15\",\"2010-10-18\",\"2010-10-19\",\"2010-10-20\",\"2010-10-21\",\"2010-10-22\",\"2010-10-25\",\"2010-10-26\",\"2010-10-27\",\"2010-10-28\",\"2010-10-29\",\"2010-11-01\",\"2010-11-02\",\"2010-11-03\",\"2010-11-04\",\"2010-11-05\",\"2010-11-08\",\"2010-11-09\",\"2010-11-10\",\"2010-11-11\",\"2010-11-12\",\"2010-11-15\",\"2010-11-16\",\"2010-11-17\",\"2010-11-18\",\"2010-11-19\",\"2010-11-22\",\"2010-11-23\",\"2010-11-24\",\"2010-11-25\",\"2010-11-26\",\"2010-11-29\",\"2010-11-30\",\"2010-12-01\",\"2010-12-02\",\"2010-12-03\",\"2010-12-06\",\"2010-12-07\",\"2010-12-08\",\"2010-12-09\",\"2010-12-10\",\"2010-12-13\",\"2010-12-14\",\"2010-12-15\",\"2010-12-16\",\"2010-12-17\",\"2010-12-20\",\"2010-12-21\",\"2010-12-22\",\"2010-12-23\",\"2010-12-24\",\"2010-12-29\",\"2010-12-30\",\"2010-12-31\",\"2011-01-04\",\"2011-01-05\",\"2011-01-06\",\"2011-01-07\",\"2011-01-10\",\"2011-01-11\",\"2011-01-12\",\"2011-01-13\",\"2011-01-14\",\"2011-01-17\",\"2011-01-18\",\"2011-01-19\",\"2011-01-20\",\"2011-01-21\",\"2011-01-24\",\"2011-01-25\",\"2011-01-26\",\"2011-01-27\",\"2011-01-28\",\"2011-01-31\",\"2011-02-01\",\"2011-02-02\",\"2011-02-03\",\"2011-02-04\",\"2011-02-07\",\"2011-02-08\",\"2011-02-09\",\"2011-02-10\",\"2011-02-11\",\"2011-02-14\",\"2011-02-15\",\"2011-02-16\",\"2011-02-17\",\"2011-02-18\",\"2011-02-22\",\"2011-02-23\",\"2011-02-24\",\"2011-02-25\",\"2011-02-28\",\"2011-03-01\",\"2011-03-02\",\"2011-03-03\",\"2011-03-04\",\"2011-03-07\",\"2011-03-08\",\"2011-03-09\",\"2011-03-10\",\"2011-03-11\",\"2011-03-14\",\"2011-03-15\",\"2011-03-16\",\"2011-03-17\",\"2011-03-18\",\"2011-03-21\",\"2011-03-22\",\"2011-03-23\",\"2011-03-24\",\"2011-03-25\",\"2011-03-28\",\"2011-03-29\",\"2011-03-30\",\"2011-03-31\",\"2011-04-01\",\"2011-04-04\",\"2011-04-05\",\"2011-04-06\",\"2011-04-07\",\"2011-04-08\",\"2011-04-11\",\"2011-04-12\",\"2011-04-13\",\"2011-04-14\",\"2011-04-15\",\"2011-04-18\",\"2011-04-19\",\"2011-04-20\",\"2011-04-21\",\"2011-04-25\",\"2011-04-26\",\"2011-04-27\",\"2011-04-28\",\"2011-04-29\",\"2011-05-02\",\"2011-05-03\",\"2011-05-04\",\"2011-05-05\",\"2011-05-06\",\"2011-05-09\",\"2011-05-10\",\"2011-05-11\",\"2011-05-12\",\"2011-05-13\",\"2011-05-16\",\"2011-05-17\",\"2011-05-18\",\"2011-05-19\",\"2011-05-20\",\"2011-05-24\",\"2011-05-25\",\"2011-05-26\",\"2011-05-27\",\"2011-05-30\",\"2011-05-31\",\"2011-06-01\",\"2011-06-02\",\"2011-06-03\",\"2011-06-06\",\"2011-06-07\",\"2011-06-08\",\"2011-06-09\",\"2011-06-10\",\"2011-06-13\",\"2011-06-14\",\"2011-06-15\",\"2011-06-16\",\"2011-06-17\",\"2011-06-20\",\"2011-06-21\",\"2011-06-22\",\"2011-06-23\",\"2011-06-24\",\"2011-06-27\",\"2011-06-28\",\"2011-06-29\",\"2011-06-30\",\"2011-07-04\",\"2011-07-05\",\"2011-07-06\",\"2011-07-07\",\"2011-07-08\",\"2011-07-11\",\"2011-07-12\",\"2011-07-13\",\"2011-07-14\",\"2011-07-15\",\"2011-07-18\",\"2011-07-19\",\"2011-07-20\",\"2011-07-21\",\"2011-07-22\",\"2011-07-25\",\"2011-07-26\",\"2011-07-27\",\"2011-07-28\",\"2011-07-29\",\"2011-08-02\",\"2011-08-03\",\"2011-08-04\",\"2011-08-05\",\"2011-08-08\",\"2011-08-09\",\"2011-08-10\",\"2011-08-11\",\"2011-08-12\",\"2011-08-15\",\"2011-08-16\",\"2011-08-17\",\"2011-08-18\",\"2011-08-19\",\"2011-08-22\",\"2011-08-23\",\"2011-08-24\",\"2011-08-25\",\"2011-08-26\",\"2011-08-29\",\"2011-08-30\",\"2011-08-31\",\"2011-09-01\",\"2011-09-02\",\"2011-09-06\",\"2011-09-07\",\"2011-09-08\",\"2011-09-09\",\"2011-09-12\",\"2011-09-13\",\"2011-09-14\",\"2011-09-15\",\"2011-09-16\",\"2011-09-19\",\"2011-09-20\",\"2011-09-21\",\"2011-09-22\",\"2011-09-23\",\"2011-09-26\",\"2011-09-27\",\"2011-09-28\",\"2011-09-29\",\"2011-09-30\",\"2011-10-03\",\"2011-10-04\",\"2011-10-05\",\"2011-10-06\",\"2011-10-07\",\"2011-10-11\",\"2011-10-12\",\"2011-10-13\",\"2011-10-14\",\"2011-10-17\",\"2011-10-18\",\"2011-10-19\",\"2011-10-20\",\"2011-10-21\",\"2011-10-24\",\"2011-10-25\",\"2011-10-26\",\"2011-10-27\",\"2011-10-28\",\"2011-10-31\",\"2011-11-01\",\"2011-11-02\",\"2011-11-03\",\"2011-11-04\",\"2011-11-07\",\"2011-11-08\",\"2011-11-09\",\"2011-11-10\",\"2011-11-11\",\"2011-11-14\",\"2011-11-15\",\"2011-11-16\",\"2011-11-17\",\"2011-11-18\",\"2011-11-21\",\"2011-11-22\",\"2011-11-23\",\"2011-11-24\",\"2011-11-25\",\"2011-11-28\",\"2011-11-29\",\"2011-11-30\",\"2011-12-01\",\"2011-12-02\",\"2011-12-05\",\"2011-12-06\",\"2011-12-07\",\"2011-12-08\",\"2011-12-09\",\"2011-12-12\",\"2011-12-13\",\"2011-12-14\",\"2011-12-15\",\"2011-12-16\",\"2011-12-19\",\"2011-12-20\",\"2011-12-21\",\"2011-12-22\",\"2011-12-23\",\"2011-12-28\",\"2011-12-29\",\"2011-12-30\",\"2012-01-03\",\"2012-01-04\",\"2012-01-05\",\"2012-01-06\",\"2012-01-09\",\"2012-01-10\",\"2012-01-11\",\"2012-01-12\",\"2012-01-13\",\"2012-01-16\",\"2012-01-17\",\"2012-01-18\",\"2012-01-19\",\"2012-01-20\",\"2012-01-23\",\"2012-01-24\",\"2012-01-25\",\"2012-01-26\",\"2012-01-27\",\"2012-01-30\",\"2012-01-31\",\"2012-02-01\",\"2012-02-02\",\"2012-02-03\",\"2012-02-06\",\"2012-02-07\",\"2012-02-08\",\"2012-02-09\",\"2012-02-10\",\"2012-02-13\",\"2012-02-14\",\"2012-02-15\",\"2012-02-16\",\"2012-02-17\",\"2012-02-21\",\"2012-02-22\",\"2012-02-23\",\"2012-02-24\",\"2012-02-27\",\"2012-02-28\",\"2012-02-29\",\"2012-03-01\",\"2012-03-02\",\"2012-03-05\",\"2012-03-06\",\"2012-03-07\",\"2012-03-08\",\"2012-03-09\",\"2012-03-12\",\"2012-03-13\",\"2012-03-14\",\"2012-03-15\",\"2012-03-16\",\"2012-03-19\",\"2012-03-20\",\"2012-03-21\",\"2012-03-22\",\"2012-03-23\",\"2012-03-26\",\"2012-03-27\",\"2012-03-28\",\"2012-03-29\",\"2012-03-30\",\"2012-04-02\",\"2012-04-03\",\"2012-04-04\",\"2012-04-05\",\"2012-04-09\",\"2012-04-10\",\"2012-04-11\",\"2012-04-12\",\"2012-04-13\",\"2012-04-16\",\"2012-04-17\",\"2012-04-18\",\"2012-04-19\",\"2012-04-20\",\"2012-04-23\",\"2012-04-24\",\"2012-04-25\",\"2012-04-26\",\"2012-04-27\",\"2012-04-30\",\"2012-05-01\",\"2012-05-02\",\"2012-05-03\",\"2012-05-04\",\"2012-05-07\",\"2012-05-08\",\"2012-05-09\",\"2012-05-10\",\"2012-05-11\",\"2012-05-14\",\"2012-05-15\",\"2012-05-16\",\"2012-05-17\",\"2012-05-18\",\"2012-05-22\",\"2012-05-23\",\"2012-05-24\",\"2012-05-25\",\"2012-05-28\",\"2012-05-29\",\"2012-05-30\",\"2012-05-31\",\"2012-06-01\",\"2012-06-04\",\"2012-06-05\",\"2012-06-06\",\"2012-06-07\",\"2012-06-08\",\"2012-06-11\",\"2012-06-12\",\"2012-06-13\",\"2012-06-14\",\"2012-06-15\",\"2012-06-18\",\"2012-06-19\",\"2012-06-20\",\"2012-06-21\",\"2012-06-22\",\"2012-06-25\",\"2012-06-26\",\"2012-06-27\",\"2012-06-28\",\"2012-06-29\",\"2012-07-03\",\"2012-07-04\",\"2012-07-05\",\"2012-07-06\",\"2012-07-09\",\"2012-07-10\",\"2012-07-11\",\"2012-07-12\",\"2012-07-13\",\"2012-07-16\",\"2012-07-17\",\"2012-07-18\",\"2012-07-19\",\"2012-07-20\",\"2012-07-23\",\"2012-07-24\",\"2012-07-25\",\"2012-07-26\",\"2012-07-27\",\"2012-07-30\",\"2012-07-31\",\"2012-08-01\",\"2012-08-02\",\"2012-08-03\",\"2012-08-07\",\"2012-08-08\",\"2012-08-09\",\"2012-08-10\",\"2012-08-13\",\"2012-08-14\",\"2012-08-15\",\"2012-08-16\",\"2012-08-17\",\"2012-08-20\",\"2012-08-21\",\"2012-08-22\",\"2012-08-23\",\"2012-08-24\",\"2012-08-27\",\"2012-08-28\",\"2012-08-29\",\"2012-08-30\",\"2012-08-31\",\"2012-09-04\",\"2012-09-05\",\"2012-09-06\",\"2012-09-07\",\"2012-09-10\",\"2012-09-11\",\"2012-09-12\",\"2012-09-13\",\"2012-09-14\",\"2012-09-17\",\"2012-09-18\",\"2012-09-19\",\"2012-09-20\",\"2012-09-21\",\"2012-09-24\",\"2012-09-25\",\"2012-09-26\",\"2012-09-27\",\"2012-09-28\",\"2012-10-01\",\"2012-10-02\",\"2012-10-03\",\"2012-10-04\",\"2012-10-05\",\"2012-10-09\",\"2012-10-10\",\"2012-10-11\",\"2012-10-12\",\"2012-10-15\",\"2012-10-16\",\"2012-10-17\",\"2012-10-18\",\"2012-10-19\",\"2012-10-22\",\"2012-10-23\",\"2012-10-24\",\"2012-10-25\",\"2012-10-26\",\"2012-10-29\",\"2012-10-30\",\"2012-10-31\",\"2012-11-01\",\"2012-11-02\",\"2012-11-05\",\"2012-11-06\",\"2012-11-07\",\"2012-11-08\",\"2012-11-09\",\"2012-11-12\",\"2012-11-13\",\"2012-11-14\",\"2012-11-15\",\"2012-11-16\",\"2012-11-19\",\"2012-11-20\",\"2012-11-21\",\"2012-11-22\",\"2012-11-23\",\"2012-11-26\",\"2012-11-27\",\"2012-11-28\",\"2012-11-29\",\"2012-11-30\",\"2012-12-03\",\"2012-12-04\",\"2012-12-05\",\"2012-12-06\",\"2012-12-07\",\"2012-12-10\",\"2012-12-11\",\"2012-12-12\",\"2012-12-13\",\"2012-12-14\",\"2012-12-17\",\"2012-12-18\",\"2012-12-19\",\"2012-12-20\",\"2012-12-21\",\"2012-12-24\",\"2012-12-27\",\"2012-12-28\",\"2012-12-31\",\"2013-01-02\",\"2013-01-03\",\"2013-01-04\",\"2013-01-07\",\"2013-01-08\",\"2013-01-09\",\"2013-01-10\",\"2013-01-11\",\"2013-01-14\",\"2013-01-15\",\"2013-01-16\",\"2013-01-17\",\"2013-01-18\",\"2013-01-21\",\"2013-01-22\",\"2013-01-23\",\"2013-01-24\",\"2013-01-25\",\"2013-01-28\",\"2013-01-29\",\"2013-01-30\",\"2013-01-31\",\"2013-02-01\",\"2013-02-04\",\"2013-02-05\",\"2013-02-06\",\"2013-02-07\",\"2013-02-08\",\"2013-02-11\",\"2013-02-12\",\"2013-02-13\",\"2013-02-14\",\"2013-02-15\",\"2013-02-19\",\"2013-02-20\",\"2013-02-21\",\"2013-02-22\",\"2013-02-25\",\"2013-02-26\",\"2013-02-27\",\"2013-02-28\",\"2013-03-01\",\"2013-03-04\",\"2013-03-05\",\"2013-03-06\",\"2013-03-07\",\"2013-03-08\",\"2013-03-11\",\"2013-03-12\",\"2013-03-13\",\"2013-03-14\",\"2013-03-15\",\"2013-03-18\",\"2013-03-19\",\"2013-03-20\",\"2013-03-21\",\"2013-03-22\",\"2013-03-25\",\"2013-03-26\",\"2013-03-27\",\"2013-03-28\",\"2013-04-01\",\"2013-04-02\",\"2013-04-03\",\"2013-04-04\",\"2013-04-05\",\"2013-04-08\",\"2013-04-09\",\"2013-04-10\",\"2013-04-11\",\"2013-04-12\",\"2013-04-15\",\"2013-04-16\",\"2013-04-17\",\"2013-04-18\",\"2013-04-19\",\"2013-04-22\",\"2013-04-23\",\"2013-04-24\",\"2013-04-25\",\"2013-04-26\",\"2013-04-29\",\"2013-04-30\",\"2013-05-01\",\"2013-05-02\",\"2013-05-03\",\"2013-05-06\",\"2013-05-07\",\"2013-05-08\",\"2013-05-09\",\"2013-05-10\",\"2013-05-13\",\"2013-05-14\",\"2013-05-15\",\"2013-05-16\",\"2013-05-17\",\"2013-05-21\",\"2013-05-22\",\"2013-05-23\",\"2013-05-24\",\"2013-05-27\",\"2013-05-28\",\"2013-05-29\",\"2013-05-30\",\"2013-05-31\",\"2013-06-03\",\"2013-06-04\",\"2013-06-05\",\"2013-06-06\",\"2013-06-07\",\"2013-06-10\",\"2013-06-11\",\"2013-06-12\",\"2013-06-13\",\"2013-06-14\",\"2013-06-17\",\"2013-06-18\",\"2013-06-19\",\"2013-06-20\",\"2013-06-21\",\"2013-06-24\",\"2013-06-25\",\"2013-06-26\",\"2013-06-27\",\"2013-06-28\",\"2013-07-02\",\"2013-07-03\",\"2013-07-04\",\"2013-07-05\",\"2013-07-08\",\"2013-07-09\",\"2013-07-10\",\"2013-07-11\",\"2013-07-12\",\"2013-07-15\",\"2013-07-16\",\"2013-07-17\",\"2013-07-18\",\"2013-07-19\",\"2013-07-22\",\"2013-07-23\",\"2013-07-24\",\"2013-07-25\",\"2013-07-26\",\"2013-07-29\",\"2013-07-30\",\"2013-07-31\",\"2013-08-01\",\"2013-08-02\",\"2013-08-06\",\"2013-08-07\",\"2013-08-08\",\"2013-08-09\",\"2013-08-12\",\"2013-08-13\",\"2013-08-14\",\"2013-08-15\",\"2013-08-16\",\"2013-08-19\",\"2013-08-20\",\"2013-08-21\",\"2013-08-22\",\"2013-08-23\",\"2013-08-26\",\"2013-08-27\",\"2013-08-28\",\"2013-08-29\",\"2013-08-30\",\"2013-09-03\",\"2013-09-04\",\"2013-09-05\",\"2013-09-06\",\"2013-09-09\",\"2013-09-10\",\"2013-09-11\",\"2013-09-12\",\"2013-09-13\",\"2013-09-16\",\"2013-09-17\",\"2013-09-18\",\"2013-09-19\",\"2013-09-20\",\"2013-09-23\",\"2013-09-24\",\"2013-09-25\",\"2013-09-26\",\"2013-09-27\",\"2013-09-30\",\"2013-10-01\",\"2013-10-02\",\"2013-10-03\",\"2013-10-04\",\"2013-10-07\",\"2013-10-08\",\"2013-10-09\",\"2013-10-10\",\"2013-10-11\",\"2013-10-15\",\"2013-10-16\",\"2013-10-17\",\"2013-10-18\",\"2013-10-21\",\"2013-10-22\",\"2013-10-23\",\"2013-10-24\",\"2013-10-25\",\"2013-10-28\",\"2013-10-29\",\"2013-10-30\",\"2013-10-31\",\"2013-11-01\",\"2013-11-04\",\"2013-11-05\",\"2013-11-06\",\"2013-11-07\",\"2013-11-08\",\"2013-11-11\",\"2013-11-12\",\"2013-11-13\",\"2013-11-14\",\"2013-11-15\",\"2013-11-18\",\"2013-11-19\",\"2013-11-20\",\"2013-11-21\",\"2013-11-22\",\"2013-11-25\",\"2013-11-26\",\"2013-11-27\",\"2013-11-28\",\"2013-11-29\",\"2013-12-02\",\"2013-12-03\",\"2013-12-04\",\"2013-12-05\",\"2013-12-06\",\"2013-12-09\",\"2013-12-10\",\"2013-12-11\",\"2013-12-12\",\"2013-12-13\",\"2013-12-16\",\"2013-12-17\",\"2013-12-18\",\"2013-12-19\",\"2013-12-20\",\"2013-12-23\",\"2013-12-24\",\"2013-12-27\",\"2013-12-30\",\"2013-12-31\",\"2014-01-02\",\"2014-01-03\",\"2014-01-06\",\"2014-01-07\",\"2014-01-08\",\"2014-01-09\",\"2014-01-10\",\"2014-01-13\",\"2014-01-14\",\"2014-01-15\",\"2014-01-16\",\"2014-01-17\",\"2014-01-20\",\"2014-01-21\",\"2014-01-22\",\"2014-01-23\",\"2014-01-24\",\"2014-01-27\",\"2014-01-28\",\"2014-01-29\",\"2014-01-30\",\"2014-01-31\",\"2014-02-03\",\"2014-02-04\",\"2014-02-05\",\"2014-02-06\",\"2014-02-07\",\"2014-02-10\",\"2014-02-11\",\"2014-02-12\",\"2014-02-13\",\"2014-02-14\",\"2014-02-18\",\"2014-02-19\",\"2014-02-20\",\"2014-02-21\",\"2014-02-24\",\"2014-02-25\",\"2014-02-26\",\"2014-02-27\",\"2014-02-28\",\"2014-03-03\",\"2014-03-04\",\"2014-03-05\",\"2014-03-06\",\"2014-03-07\",\"2014-03-10\",\"2014-03-11\",\"2014-03-12\",\"2014-03-13\",\"2014-03-14\",\"2014-03-17\",\"2014-03-18\",\"2014-03-19\",\"2014-03-20\",\"2014-03-21\",\"2014-03-24\",\"2014-03-25\",\"2014-03-26\",\"2014-03-27\",\"2014-03-28\",\"2014-03-31\",\"2014-04-01\",\"2014-04-02\",\"2014-04-03\",\"2014-04-04\",\"2014-04-07\",\"2014-04-08\",\"2014-04-09\",\"2014-04-10\",\"2014-04-11\",\"2014-04-14\",\"2014-04-15\",\"2014-04-16\",\"2014-04-17\",\"2014-04-21\",\"2014-04-22\",\"2014-04-23\",\"2014-04-24\",\"2014-04-25\",\"2014-04-28\",\"2014-04-29\",\"2014-04-30\",\"2014-05-01\",\"2014-05-02\",\"2014-05-05\",\"2014-05-06\",\"2014-05-07\",\"2014-05-08\",\"2014-05-09\",\"2014-05-12\",\"2014-05-13\",\"2014-05-14\",\"2014-05-15\",\"2014-05-16\",\"2014-05-20\",\"2014-05-21\",\"2014-05-22\",\"2014-05-23\",\"2014-05-26\",\"2014-05-27\",\"2014-05-28\",\"2014-05-29\",\"2014-05-30\",\"2014-06-02\",\"2014-06-03\",\"2014-06-04\",\"2014-06-05\",\"2014-06-06\",\"2014-06-09\",\"2014-06-10\",\"2014-06-11\",\"2014-06-12\",\"2014-06-13\",\"2014-06-16\",\"2014-06-17\",\"2014-06-18\",\"2014-06-19\",\"2014-06-20\",\"2014-06-23\",\"2014-06-24\",\"2014-06-25\",\"2014-06-26\",\"2014-06-27\",\"2014-06-30\",\"2014-07-02\",\"2014-07-03\",\"2014-07-04\",\"2014-07-07\",\"2014-07-08\",\"2014-07-09\",\"2014-07-10\",\"2014-07-11\",\"2014-07-14\",\"2014-07-15\",\"2014-07-16\",\"2014-07-17\",\"2014-07-18\",\"2014-07-21\",\"2014-07-22\",\"2014-07-23\",\"2014-07-24\",\"2014-07-25\",\"2014-07-28\",\"2014-07-29\",\"2014-07-30\",\"2014-07-31\",\"2014-08-01\",\"2014-08-05\",\"2014-08-06\",\"2014-08-07\",\"2014-08-08\",\"2014-08-11\",\"2014-08-12\",\"2014-08-13\",\"2014-08-14\",\"2014-08-15\",\"2014-08-18\",\"2014-08-19\",\"2014-08-20\",\"2014-08-21\",\"2014-08-22\",\"2014-08-25\",\"2014-08-26\",\"2014-08-27\",\"2014-08-28\",\"2014-08-29\",\"2014-09-02\",\"2014-09-03\",\"2014-09-04\",\"2014-09-05\",\"2014-09-08\",\"2014-09-09\",\"2014-09-10\",\"2014-09-11\",\"2014-09-12\",\"2014-09-15\",\"2014-09-16\",\"2014-09-17\",\"2014-09-18\",\"2014-09-19\",\"2014-09-22\",\"2014-09-23\",\"2014-09-24\",\"2014-09-25\",\"2014-09-26\",\"2014-09-29\",\"2014-09-30\",\"2014-10-01\",\"2014-10-02\",\"2014-10-03\",\"2014-10-06\",\"2014-10-07\",\"2014-10-08\",\"2014-10-09\",\"2014-10-10\",\"2014-10-14\",\"2014-10-15\",\"2014-10-16\",\"2014-10-17\",\"2014-10-20\",\"2014-10-21\",\"2014-10-22\",\"2014-10-23\",\"2014-10-24\",\"2014-10-27\",\"2014-10-28\",\"2014-10-29\",\"2014-10-30\",\"2014-10-31\",\"2014-11-03\",\"2014-11-04\",\"2014-11-05\",\"2014-11-06\",\"2014-11-07\",\"2014-11-10\",\"2014-11-11\",\"2014-11-12\",\"2014-11-13\",\"2014-11-14\",\"2014-11-17\",\"2014-11-18\",\"2014-11-19\",\"2014-11-20\",\"2014-11-21\",\"2014-11-24\",\"2014-11-25\",\"2014-11-26\",\"2014-11-27\",\"2014-11-28\",\"2014-12-01\",\"2014-12-02\",\"2014-12-03\",\"2014-12-04\",\"2014-12-05\",\"2014-12-08\",\"2014-12-09\",\"2014-12-10\",\"2014-12-11\",\"2014-12-12\",\"2014-12-15\",\"2014-12-16\",\"2014-12-17\",\"2014-12-18\",\"2014-12-19\",\"2014-12-22\",\"2014-12-23\",\"2014-12-24\",\"2014-12-29\",\"2014-12-30\",\"2014-12-31\",\"2015-01-02\",\"2015-01-05\",\"2015-01-06\",\"2015-01-07\",\"2015-01-08\",\"2015-01-09\",\"2015-01-12\",\"2015-01-13\",\"2015-01-14\",\"2015-01-15\",\"2015-01-16\",\"2015-01-19\",\"2015-01-20\",\"2015-01-21\",\"2015-01-22\",\"2015-01-23\",\"2015-01-26\",\"2015-01-27\",\"2015-01-28\",\"2015-01-29\",\"2015-01-30\",\"2015-02-02\",\"2015-02-03\",\"2015-02-04\",\"2015-02-05\",\"2015-02-06\",\"2015-02-09\",\"2015-02-10\",\"2015-02-11\",\"2015-02-12\",\"2015-02-13\",\"2015-02-17\",\"2015-02-18\",\"2015-02-19\",\"2015-02-20\",\"2015-02-23\",\"2015-02-24\",\"2015-02-25\",\"2015-02-26\",\"2015-02-27\",\"2015-03-02\",\"2015-03-03\",\"2015-03-04\",\"2015-03-05\",\"2015-03-06\",\"2015-03-09\",\"2015-03-10\",\"2015-03-11\",\"2015-03-12\",\"2015-03-13\",\"2015-03-16\",\"2015-03-17\",\"2015-03-18\",\"2015-03-19\",\"2015-03-20\",\"2015-03-23\",\"2015-03-24\",\"2015-03-25\",\"2015-03-26\",\"2015-03-27\",\"2015-03-30\",\"2015-03-31\",\"2015-04-01\",\"2015-04-02\",\"2015-04-06\",\"2015-04-07\",\"2015-04-08\",\"2015-04-09\",\"2015-04-10\",\"2015-04-13\",\"2015-04-14\",\"2015-04-15\",\"2015-04-16\",\"2015-04-17\",\"2015-04-20\",\"2015-04-21\",\"2015-04-22\",\"2015-04-23\",\"2015-04-24\",\"2015-04-27\",\"2015-04-28\",\"2015-04-29\",\"2015-04-30\",\"2015-05-01\",\"2015-05-04\",\"2015-05-05\",\"2015-05-06\",\"2015-05-07\",\"2015-05-08\",\"2015-05-11\",\"2015-05-12\",\"2015-05-13\",\"2015-05-14\",\"2015-05-15\",\"2015-05-19\",\"2015-05-20\",\"2015-05-21\",\"2015-05-22\",\"2015-05-25\",\"2015-05-26\",\"2015-05-27\",\"2015-05-28\",\"2015-05-29\",\"2015-06-01\",\"2015-06-02\",\"2015-06-03\",\"2015-06-04\",\"2015-06-05\",\"2015-06-08\",\"2015-06-09\",\"2015-06-10\",\"2015-06-11\",\"2015-06-12\",\"2015-06-15\",\"2015-06-16\",\"2015-06-17\",\"2015-06-18\",\"2015-06-19\",\"2015-06-22\",\"2015-06-23\",\"2015-06-24\",\"2015-06-25\",\"2015-06-26\",\"2015-06-29\",\"2015-06-30\",\"2015-07-02\",\"2015-07-03\",\"2015-07-06\",\"2015-07-07\",\"2015-07-08\",\"2015-07-09\",\"2015-07-10\",\"2015-07-13\",\"2015-07-14\",\"2015-07-15\",\"2015-07-16\",\"2015-07-17\",\"2015-07-20\",\"2015-07-21\",\"2015-07-22\",\"2015-07-23\",\"2015-07-24\",\"2015-07-27\",\"2015-07-28\",\"2015-07-29\",\"2015-07-30\",\"2015-07-31\",\"2015-08-04\",\"2015-08-05\",\"2015-08-06\",\"2015-08-07\",\"2015-08-10\",\"2015-08-11\",\"2015-08-12\",\"2015-08-13\",\"2015-08-14\",\"2015-08-17\",\"2015-08-18\",\"2015-08-19\",\"2015-08-20\",\"2015-08-21\",\"2015-08-24\",\"2015-08-25\",\"2015-08-26\",\"2015-08-27\",\"2015-08-28\",\"2015-08-31\",\"2015-09-01\",\"2015-09-02\",\"2015-09-03\",\"2015-09-04\",\"2015-09-08\",\"2015-09-09\",\"2015-09-10\",\"2015-09-11\",\"2015-09-14\",\"2015-09-15\",\"2015-09-16\",\"2015-09-17\",\"2015-09-18\",\"2015-09-21\",\"2015-09-22\",\"2015-09-23\",\"2015-09-24\",\"2015-09-25\",\"2015-09-28\",\"2015-09-29\",\"2015-09-30\",\"2015-10-01\",\"2015-10-02\",\"2015-10-05\",\"2015-10-06\",\"2015-10-07\",\"2015-10-08\",\"2015-10-09\",\"2015-10-13\",\"2015-10-14\",\"2015-10-15\",\"2015-10-16\",\"2015-10-19\",\"2015-10-20\",\"2015-10-21\",\"2015-10-22\",\"2015-10-23\",\"2015-10-26\",\"2015-10-27\",\"2015-10-28\",\"2015-10-29\",\"2015-10-30\",\"2015-11-02\",\"2015-11-03\",\"2015-11-04\",\"2015-11-05\",\"2015-11-06\",\"2015-11-09\",\"2015-11-10\",\"2015-11-11\",\"2015-11-12\",\"2015-11-13\",\"2015-11-16\",\"2015-11-17\",\"2015-11-18\",\"2015-11-19\",\"2015-11-20\",\"2015-11-23\",\"2015-11-24\",\"2015-11-25\",\"2015-11-26\",\"2015-11-27\",\"2015-11-30\",\"2015-12-01\",\"2015-12-02\",\"2015-12-03\",\"2015-12-04\",\"2015-12-07\",\"2015-12-08\",\"2015-12-09\",\"2015-12-10\",\"2015-12-11\",\"2015-12-14\",\"2015-12-15\",\"2015-12-16\",\"2015-12-17\",\"2015-12-18\",\"2015-12-21\",\"2015-12-22\",\"2015-12-23\",\"2015-12-24\",\"2015-12-29\",\"2015-12-30\",\"2015-12-31\",\"2016-01-04\",\"2016-01-05\",\"2016-01-06\",\"2016-01-07\",\"2016-01-08\",\"2016-01-11\",\"2016-01-12\",\"2016-01-13\",\"2016-01-14\",\"2016-01-15\",\"2016-01-18\",\"2016-01-19\",\"2016-01-20\",\"2016-01-21\",\"2016-01-22\",\"2016-01-25\",\"2016-01-26\",\"2016-01-27\",\"2016-01-28\",\"2016-01-29\",\"2016-02-01\",\"2016-02-02\",\"2016-02-03\",\"2016-02-04\",\"2016-02-05\",\"2016-02-08\",\"2016-02-09\",\"2016-02-10\",\"2016-02-11\",\"2016-02-12\",\"2016-02-16\",\"2016-02-17\",\"2016-02-18\",\"2016-02-19\",\"2016-02-22\",\"2016-02-23\",\"2016-02-24\",\"2016-02-25\",\"2016-02-26\",\"2016-02-29\",\"2016-03-01\",\"2016-03-02\",\"2016-03-03\",\"2016-03-04\",\"2016-03-07\",\"2016-03-08\",\"2016-03-09\",\"2016-03-10\",\"2016-03-11\",\"2016-03-14\",\"2016-03-15\",\"2016-03-16\",\"2016-03-17\",\"2016-03-18\",\"2016-03-21\",\"2016-03-22\",\"2016-03-23\",\"2016-03-24\",\"2016-03-28\",\"2016-03-29\",\"2016-03-30\",\"2016-03-31\",\"2016-04-01\",\"2016-04-04\",\"2016-04-05\",\"2016-04-06\",\"2016-04-07\",\"2016-04-08\",\"2016-04-11\",\"2016-04-12\",\"2016-04-13\",\"2016-04-14\",\"2016-04-15\",\"2016-04-18\",\"2016-04-19\",\"2016-04-20\",\"2016-04-21\",\"2016-04-22\",\"2016-04-25\",\"2016-04-26\",\"2016-04-27\",\"2016-04-28\",\"2016-04-29\",\"2016-05-02\",\"2016-05-03\",\"2016-05-04\",\"2016-05-05\",\"2016-05-06\",\"2016-05-09\",\"2016-05-10\",\"2016-05-11\",\"2016-05-12\",\"2016-05-13\",\"2016-05-16\",\"2016-05-17\",\"2016-05-18\",\"2016-05-19\",\"2016-05-20\",\"2016-05-24\",\"2016-05-25\",\"2016-05-26\",\"2016-05-27\",\"2016-05-30\",\"2016-05-31\",\"2016-06-01\",\"2016-06-02\",\"2016-06-03\",\"2016-06-06\",\"2016-06-07\",\"2016-06-08\",\"2016-06-09\",\"2016-06-10\",\"2016-06-13\",\"2016-06-14\",\"2016-06-15\",\"2016-06-16\",\"2016-06-17\",\"2016-06-20\",\"2016-06-21\",\"2016-06-22\",\"2016-06-23\",\"2016-06-24\",\"2016-06-27\",\"2016-06-28\",\"2016-06-29\",\"2016-06-30\",\"2016-07-04\",\"2016-07-05\",\"2016-07-06\",\"2016-07-07\",\"2016-07-08\",\"2016-07-11\",\"2016-07-12\",\"2016-07-13\",\"2016-07-14\",\"2016-07-15\",\"2016-07-18\",\"2016-07-19\",\"2016-07-20\",\"2016-07-21\",\"2016-07-22\",\"2016-07-25\",\"2016-07-26\",\"2016-07-27\",\"2016-07-28\",\"2016-07-29\",\"2016-08-02\",\"2016-08-03\",\"2016-08-04\",\"2016-08-05\",\"2016-08-08\",\"2016-08-09\",\"2016-08-10\",\"2016-08-11\",\"2016-08-12\",\"2016-08-15\",\"2016-08-16\",\"2016-08-17\",\"2016-08-18\",\"2016-08-19\",\"2016-08-22\",\"2016-08-23\",\"2016-08-24\",\"2016-08-25\",\"2016-08-26\",\"2016-08-29\",\"2016-08-30\",\"2016-08-31\",\"2016-09-01\",\"2016-09-02\",\"2016-09-06\",\"2016-09-07\",\"2016-09-08\",\"2016-09-09\",\"2016-09-12\",\"2016-09-13\",\"2016-09-14\",\"2016-09-15\",\"2016-09-16\",\"2016-09-19\",\"2016-09-20\",\"2016-09-21\",\"2016-09-22\",\"2016-09-23\",\"2016-09-26\",\"2016-09-27\",\"2016-09-28\",\"2016-09-29\",\"2016-09-30\",\"2016-10-03\",\"2016-10-04\",\"2016-10-05\",\"2016-10-06\",\"2016-10-07\",\"2016-10-11\",\"2016-10-12\",\"2016-10-13\",\"2016-10-14\",\"2016-10-17\",\"2016-10-18\",\"2016-10-19\",\"2016-10-20\",\"2016-10-21\",\"2016-10-24\",\"2016-10-25\",\"2016-10-26\",\"2016-10-27\",\"2016-10-28\",\"2016-10-31\",\"2016-11-01\",\"2016-11-02\",\"2016-11-03\",\"2016-11-04\",\"2016-11-07\",\"2016-11-08\",\"2016-11-09\",\"2016-11-10\",\"2016-11-11\",\"2016-11-14\",\"2016-11-15\",\"2016-11-16\",\"2016-11-17\",\"2016-11-18\",\"2016-11-21\",\"2016-11-22\",\"2016-11-23\",\"2016-11-24\",\"2016-11-25\",\"2016-11-28\",\"2016-11-29\",\"2016-11-30\",\"2016-12-01\",\"2016-12-02\",\"2016-12-05\",\"2016-12-06\",\"2016-12-07\",\"2016-12-08\",\"2016-12-09\",\"2016-12-12\",\"2016-12-13\",\"2016-12-14\",\"2016-12-15\",\"2016-12-16\",\"2016-12-19\",\"2016-12-20\",\"2016-12-21\",\"2016-12-22\",\"2016-12-23\",\"2016-12-28\",\"2016-12-29\",\"2016-12-30\",\"2017-01-03\",\"2017-01-04\",\"2017-01-05\",\"2017-01-06\",\"2017-01-09\",\"2017-01-10\",\"2017-01-11\",\"2017-01-12\",\"2017-01-13\",\"2017-01-16\",\"2017-01-17\",\"2017-01-18\",\"2017-01-19\",\"2017-01-20\",\"2017-01-23\",\"2017-01-24\",\"2017-01-25\",\"2017-01-26\",\"2017-01-27\",\"2017-01-30\",\"2017-01-31\",\"2017-02-01\",\"2017-02-02\",\"2017-02-03\",\"2017-02-06\",\"2017-02-07\",\"2017-02-08\",\"2017-02-09\",\"2017-02-10\",\"2017-02-13\",\"2017-02-14\",\"2017-02-15\",\"2017-02-16\",\"2017-02-17\",\"2017-02-21\",\"2017-02-22\",\"2017-02-23\",\"2017-02-24\",\"2017-02-27\",\"2017-02-28\",\"2017-03-01\",\"2017-03-02\",\"2017-03-03\",\"2017-03-06\",\"2017-03-07\",\"2017-03-08\",\"2017-03-09\",\"2017-03-10\",\"2017-03-13\",\"2017-03-14\",\"2017-03-15\",\"2017-03-16\",\"2017-03-17\",\"2017-03-20\",\"2017-03-21\",\"2017-03-22\",\"2017-03-23\",\"2017-03-24\",\"2017-03-27\",\"2017-03-28\",\"2017-03-29\",\"2017-03-30\",\"2017-03-31\",\"2017-04-03\",\"2017-04-04\",\"2017-04-05\",\"2017-04-06\",\"2017-04-07\",\"2017-04-10\",\"2017-04-11\",\"2017-04-12\",\"2017-04-13\",\"2017-04-17\",\"2017-04-18\",\"2017-04-19\",\"2017-04-20\",\"2017-04-21\",\"2017-04-24\",\"2017-04-25\",\"2017-04-26\",\"2017-04-27\",\"2017-04-28\",\"2017-05-01\",\"2017-05-02\",\"2017-05-03\",\"2017-05-04\",\"2017-05-05\",\"2017-05-08\",\"2017-05-09\",\"2017-05-10\",\"2017-05-11\",\"2017-05-12\",\"2017-05-15\",\"2017-05-16\",\"2017-05-17\",\"2017-05-18\",\"2017-05-19\",\"2017-05-23\",\"2017-05-24\",\"2017-05-25\",\"2017-05-26\",\"2017-05-29\",\"2017-05-30\",\"2017-05-31\",\"2017-06-01\",\"2017-06-02\",\"2017-06-05\",\"2017-06-06\",\"2017-06-07\",\"2017-06-08\",\"2017-06-09\",\"2017-06-12\",\"2017-06-13\",\"2017-06-14\",\"2017-06-15\",\"2017-06-16\",\"2017-06-19\",\"2017-06-20\",\"2017-06-21\",\"2017-06-22\",\"2017-06-23\",\"2017-06-26\",\"2017-06-27\",\"2017-06-28\",\"2017-06-29\",\"2017-06-30\",\"2017-07-04\",\"2017-07-05\",\"2017-07-06\",\"2017-07-07\",\"2017-07-10\",\"2017-07-11\",\"2017-07-12\",\"2017-07-13\",\"2017-07-14\",\"2017-07-17\",\"2017-07-18\",\"2017-07-19\",\"2017-07-20\",\"2017-07-21\",\"2017-07-24\",\"2017-07-25\",\"2017-07-26\",\"2017-07-27\",\"2017-07-28\",\"2017-07-31\",\"2017-08-01\",\"2017-08-02\",\"2017-08-03\",\"2017-08-04\",\"2017-08-08\",\"2017-08-09\",\"2017-08-10\",\"2017-08-11\",\"2017-08-14\",\"2017-08-15\",\"2017-08-16\",\"2017-08-17\",\"2017-08-18\",\"2017-08-21\",\"2017-08-22\",\"2017-08-23\",\"2017-08-24\",\"2017-08-25\",\"2017-08-28\",\"2017-08-29\",\"2017-08-30\",\"2017-08-31\",\"2017-09-01\",\"2017-09-05\",\"2017-09-06\",\"2017-09-07\",\"2017-09-08\",\"2017-09-11\",\"2017-09-12\",\"2017-09-13\",\"2017-09-14\",\"2017-09-15\",\"2017-09-18\",\"2017-09-19\",\"2017-09-20\",\"2017-09-21\",\"2017-09-22\",\"2017-09-25\",\"2017-09-26\",\"2017-09-27\",\"2017-09-28\",\"2017-09-29\",\"2017-10-02\",\"2017-10-03\",\"2017-10-04\",\"2017-10-05\",\"2017-10-06\",\"2017-10-10\",\"2017-10-11\",\"2017-10-12\",\"2017-10-13\",\"2017-10-16\",\"2017-10-17\",\"2017-10-18\",\"2017-10-19\",\"2017-10-20\",\"2017-10-23\",\"2017-10-24\",\"2017-10-25\",\"2017-10-26\",\"2017-10-27\",\"2017-10-30\",\"2017-10-31\",\"2017-11-01\",\"2017-11-02\",\"2017-11-03\",\"2017-11-06\",\"2017-11-07\",\"2017-11-08\",\"2017-11-09\",\"2017-11-10\",\"2017-11-13\",\"2017-11-14\",\"2017-11-15\",\"2017-11-16\",\"2017-11-17\",\"2017-11-20\",\"2017-11-21\",\"2017-11-22\",\"2017-11-23\",\"2017-11-24\",\"2017-11-27\",\"2017-11-28\",\"2017-11-29\",\"2017-11-30\",\"2017-12-01\",\"2017-12-04\",\"2017-12-05\",\"2017-12-06\",\"2017-12-07\",\"2017-12-08\",\"2017-12-11\",\"2017-12-12\",\"2017-12-13\",\"2017-12-14\",\"2017-12-15\",\"2017-12-18\",\"2017-12-19\",\"2017-12-20\",\"2017-12-21\",\"2017-12-22\",\"2017-12-27\",\"2017-12-28\",\"2017-12-29\",\"2018-01-02\",\"2018-01-03\",\"2018-01-04\",\"2018-01-05\",\"2018-01-08\",\"2018-01-09\",\"2018-01-10\",\"2018-01-11\",\"2018-01-12\",\"2018-01-15\",\"2018-01-16\",\"2018-01-17\",\"2018-01-18\",\"2018-01-19\",\"2018-01-22\",\"2018-01-23\",\"2018-01-24\",\"2018-01-25\",\"2018-01-26\",\"2018-01-29\",\"2018-01-30\",\"2018-01-31\",\"2018-02-01\",\"2018-02-02\",\"2018-02-05\",\"2018-02-06\",\"2018-02-07\",\"2018-02-08\",\"2018-02-09\",\"2018-02-12\",\"2018-02-13\",\"2018-02-14\",\"2018-02-15\",\"2018-02-16\",\"2018-02-20\",\"2018-02-21\",\"2018-02-22\",\"2018-02-23\",\"2018-02-26\",\"2018-02-27\",\"2018-02-28\",\"2018-03-01\",\"2018-03-02\",\"2018-03-05\",\"2018-03-06\",\"2018-03-07\",\"2018-03-08\",\"2018-03-09\",\"2018-03-12\",\"2018-03-13\",\"2018-03-14\",\"2018-03-15\",\"2018-03-16\",\"2018-03-19\",\"2018-03-20\",\"2018-03-21\",\"2018-03-22\",\"2018-03-23\",\"2018-03-26\",\"2018-03-27\",\"2018-03-28\",\"2018-03-29\",\"2018-04-02\",\"2018-04-03\",\"2018-04-04\",\"2018-04-05\",\"2018-04-06\",\"2018-04-09\",\"2018-04-10\",\"2018-04-11\",\"2018-04-12\",\"2018-04-13\",\"2018-04-16\",\"2018-04-17\",\"2018-04-18\",\"2018-04-19\",\"2018-04-20\",\"2018-04-23\",\"2018-04-24\",\"2018-04-25\",\"2018-04-26\",\"2018-04-27\",\"2018-04-30\",\"2018-05-01\",\"2018-05-02\",\"2018-05-03\",\"2018-05-04\",\"2018-05-07\",\"2018-05-08\",\"2018-05-09\",\"2018-05-10\",\"2018-05-11\",\"2018-05-14\",\"2018-05-15\",\"2018-05-16\",\"2018-05-17\",\"2018-05-18\",\"2018-05-22\",\"2018-05-23\",\"2018-05-24\",\"2018-05-25\",\"2018-05-28\",\"2018-05-29\",\"2018-05-30\",\"2018-05-31\",\"2018-06-01\",\"2018-06-04\",\"2018-06-05\",\"2018-06-06\",\"2018-06-07\",\"2018-06-08\",\"2018-06-11\",\"2018-06-12\",\"2018-06-13\",\"2018-06-14\",\"2018-06-15\",\"2018-06-18\",\"2018-06-19\",\"2018-06-20\",\"2018-06-21\",\"2018-06-22\",\"2018-06-25\",\"2018-06-26\",\"2018-06-27\",\"2018-06-28\",\"2018-06-29\",\"2018-07-03\",\"2018-07-04\",\"2018-07-05\",\"2018-07-06\",\"2018-07-09\",\"2018-07-10\",\"2018-07-11\",\"2018-07-12\",\"2018-07-13\",\"2018-07-16\",\"2018-07-17\",\"2018-07-18\",\"2018-07-19\",\"2018-07-20\",\"2018-07-23\",\"2018-07-24\",\"2018-07-25\",\"2018-07-26\",\"2018-07-27\",\"2018-07-30\",\"2018-07-31\",\"2018-08-01\",\"2018-08-02\",\"2018-08-03\",\"2018-08-07\",\"2018-08-08\",\"2018-08-09\",\"2018-08-10\",\"2018-08-13\",\"2018-08-14\",\"2018-08-15\",\"2018-08-16\",\"2018-08-17\",\"2018-08-20\",\"2018-08-21\",\"2018-08-22\",\"2018-08-23\",\"2018-08-24\",\"2018-08-27\",\"2018-08-28\",\"2018-08-29\",\"2018-08-30\",\"2018-08-31\",\"2018-09-04\",\"2018-09-05\",\"2018-09-06\",\"2018-09-07\",\"2018-09-10\",\"2018-09-11\",\"2018-09-12\",\"2018-09-13\",\"2018-09-14\",\"2018-09-17\",\"2018-09-18\",\"2018-09-19\",\"2018-09-20\",\"2018-09-21\",\"2018-09-24\",\"2018-09-25\",\"2018-09-26\",\"2018-09-27\",\"2018-09-28\",\"2018-10-01\",\"2018-10-02\",\"2018-10-03\",\"2018-10-04\",\"2018-10-05\",\"2018-10-09\",\"2018-10-10\",\"2018-10-11\",\"2018-10-12\",\"2018-10-15\",\"2018-10-16\",\"2018-10-17\",\"2018-10-18\",\"2018-10-19\",\"2018-10-22\",\"2018-10-23\",\"2018-10-24\",\"2018-10-25\",\"2018-10-26\",\"2018-10-29\",\"2018-10-30\",\"2018-10-31\",\"2018-11-01\",\"2018-11-02\",\"2018-11-05\",\"2018-11-06\",\"2018-11-07\",\"2018-11-08\",\"2018-11-09\",\"2018-11-12\",\"2018-11-13\",\"2018-11-14\",\"2018-11-15\",\"2018-11-16\",\"2018-11-19\",\"2018-11-20\",\"2018-11-21\",\"2018-11-22\",\"2018-11-23\",\"2018-11-26\",\"2018-11-27\",\"2018-11-28\",\"2018-11-29\",\"2018-11-30\",\"2018-12-03\",\"2018-12-04\",\"2018-12-05\",\"2018-12-06\",\"2018-12-07\",\"2018-12-10\",\"2018-12-11\",\"2018-12-12\",\"2018-12-13\",\"2018-12-14\",\"2018-12-17\",\"2018-12-18\",\"2018-12-19\",\"2018-12-20\",\"2018-12-21\",\"2018-12-24\",\"2018-12-27\",\"2018-12-28\",\"2018-12-31\",\"2019-01-02\",\"2019-01-03\",\"2019-01-04\",\"2019-01-07\",\"2019-01-08\",\"2019-01-09\",\"2019-01-10\",\"2019-01-11\",\"2019-01-14\",\"2019-01-15\",\"2019-01-16\",\"2019-01-17\",\"2019-01-18\",\"2019-01-21\",\"2019-01-22\",\"2019-01-23\",\"2019-01-24\",\"2019-01-25\",\"2019-01-28\",\"2019-01-29\",\"2019-01-30\",\"2019-01-31\",\"2019-02-01\",\"2019-02-04\",\"2019-02-05\",\"2019-02-06\",\"2019-02-07\",\"2019-02-08\",\"2019-02-11\",\"2019-02-12\",\"2019-02-13\",\"2019-02-14\",\"2019-02-15\",\"2019-02-19\",\"2019-02-20\",\"2019-02-21\",\"2019-02-22\",\"2019-02-25\",\"2019-02-26\",\"2019-02-27\",\"2019-02-28\",\"2019-03-01\",\"2019-03-04\",\"2019-03-05\",\"2019-03-06\",\"2019-03-07\",\"2019-03-08\",\"2019-03-11\",\"2019-03-12\",\"2019-03-13\",\"2019-03-14\",\"2019-03-15\",\"2019-03-18\",\"2019-03-19\",\"2019-03-20\",\"2019-03-21\",\"2019-03-22\",\"2019-03-25\",\"2019-03-26\",\"2019-03-27\",\"2019-03-28\",\"2019-03-29\",\"2019-04-01\",\"2019-04-02\",\"2019-04-03\",\"2019-04-04\",\"2019-04-05\",\"2019-04-08\",\"2019-04-09\",\"2019-04-10\",\"2019-04-11\",\"2019-04-12\",\"2019-04-15\",\"2019-04-16\",\"2019-04-17\",\"2019-04-18\",\"2019-04-22\",\"2019-04-23\",\"2019-04-24\",\"2019-04-25\",\"2019-04-26\",\"2019-04-29\",\"2019-04-30\",\"2019-05-01\",\"2019-05-02\",\"2019-05-03\",\"2019-05-06\",\"2019-05-07\",\"2019-05-08\",\"2019-05-09\",\"2019-05-10\",\"2019-05-13\",\"2019-05-14\",\"2019-05-15\",\"2019-05-16\",\"2019-05-17\",\"2019-05-21\",\"2019-05-22\",\"2019-05-23\",\"2019-05-24\",\"2019-05-27\",\"2019-05-28\",\"2019-05-29\",\"2019-05-30\",\"2019-05-31\",\"2019-06-03\",\"2019-06-04\",\"2019-06-05\",\"2019-06-06\",\"2019-06-07\",\"2019-06-10\",\"2019-06-11\",\"2019-06-12\",\"2019-06-13\",\"2019-06-14\",\"2019-06-17\",\"2019-06-18\",\"2019-06-19\",\"2019-06-20\",\"2019-06-21\",\"2019-06-24\",\"2019-06-25\",\"2019-06-26\",\"2019-06-27\",\"2019-06-28\",\"2019-07-02\",\"2019-07-03\",\"2019-07-04\",\"2019-07-05\",\"2019-07-08\",\"2019-07-09\",\"2019-07-10\",\"2019-07-11\",\"2019-07-12\",\"2019-07-15\",\"2019-07-16\",\"2019-07-17\",\"2019-07-18\",\"2019-07-19\",\"2019-07-22\",\"2019-07-23\",\"2019-07-24\",\"2019-07-25\",\"2019-07-26\",\"2019-07-29\",\"2019-07-30\",\"2019-07-31\",\"2019-08-01\",\"2019-08-02\",\"2019-08-06\",\"2019-08-07\",\"2019-08-08\",\"2019-08-09\",\"2019-08-12\",\"2019-08-13\",\"2019-08-14\",\"2019-08-15\",\"2019-08-16\",\"2019-08-19\",\"2019-08-20\",\"2019-08-21\",\"2019-08-22\",\"2019-08-23\",\"2019-08-26\",\"2019-08-27\",\"2019-08-28\",\"2019-08-29\",\"2019-08-30\",\"2019-09-03\",\"2019-09-04\",\"2019-09-05\",\"2019-09-06\",\"2019-09-09\",\"2019-09-10\",\"2019-09-11\",\"2019-09-12\",\"2019-09-13\",\"2019-09-16\",\"2019-09-17\",\"2019-09-18\",\"2019-09-19\",\"2019-09-20\",\"2019-09-23\",\"2019-09-24\",\"2019-09-25\",\"2019-09-26\",\"2019-09-27\",\"2019-09-30\",\"2019-10-01\",\"2019-10-02\",\"2019-10-03\",\"2019-10-04\",\"2019-10-07\",\"2019-10-08\",\"2019-10-09\",\"2019-10-10\",\"2019-10-11\",\"2019-10-15\",\"2019-10-16\",\"2019-10-17\",\"2019-10-18\",\"2019-10-21\",\"2019-10-22\",\"2019-10-23\",\"2019-10-24\",\"2019-10-25\",\"2019-10-28\",\"2019-10-29\",\"2019-10-30\",\"2019-10-31\",\"2019-11-01\",\"2019-11-04\",\"2019-11-05\",\"2019-11-06\",\"2019-11-07\",\"2019-11-08\",\"2019-11-11\",\"2019-11-12\",\"2019-11-13\",\"2019-11-14\",\"2019-11-15\",\"2019-11-18\",\"2019-11-19\",\"2019-11-20\",\"2019-11-21\",\"2019-11-22\",\"2019-11-25\",\"2019-11-26\",\"2019-11-27\",\"2019-11-28\",\"2019-11-29\",\"2019-12-02\",\"2019-12-03\",\"2019-12-04\",\"2019-12-05\",\"2019-12-06\",\"2019-12-09\",\"2019-12-10\",\"2019-12-11\",\"2019-12-12\",\"2019-12-13\",\"2019-12-16\",\"2019-12-17\",\"2019-12-18\",\"2019-12-19\",\"2019-12-20\",\"2019-12-23\",\"2019-12-24\",\"2019-12-27\",\"2019-12-30\",\"2019-12-31\",\"2020-01-02\",\"2020-01-03\",\"2020-01-06\",\"2020-01-07\",\"2020-01-08\",\"2020-01-09\",\"2020-01-10\",\"2020-01-13\",\"2020-01-14\",\"2020-01-15\",\"2020-01-16\",\"2020-01-17\",\"2020-01-20\",\"2020-01-21\",\"2020-01-22\",\"2020-01-23\",\"2020-01-24\",\"2020-01-27\",\"2020-01-28\",\"2020-01-29\",\"2020-01-30\",\"2020-01-31\",\"2020-02-03\",\"2020-02-04\",\"2020-02-05\",\"2020-02-06\",\"2020-02-07\",\"2020-02-10\",\"2020-02-11\",\"2020-02-12\",\"2020-02-13\",\"2020-02-14\",\"2020-02-18\",\"2020-02-19\",\"2020-02-20\",\"2020-02-21\",\"2020-02-24\",\"2020-02-25\",\"2020-02-26\",\"2020-02-27\",\"2020-02-28\",\"2020-03-02\",\"2020-03-03\",\"2020-03-04\",\"2020-03-05\",\"2020-03-06\",\"2020-03-09\",\"2020-03-10\",\"2020-03-11\",\"2020-03-12\",\"2020-03-13\",\"2020-03-16\",\"2020-03-17\",\"2020-03-18\",\"2020-03-19\",\"2020-03-20\",\"2020-03-23\",\"2020-03-24\",\"2020-03-25\",\"2020-03-26\",\"2020-03-27\",\"2020-03-30\",\"2020-03-31\",\"2020-04-01\",\"2020-04-02\",\"2020-04-03\",\"2020-04-06\",\"2020-04-07\",\"2020-04-08\",\"2020-04-09\",\"2020-04-13\",\"2020-04-14\",\"2020-04-15\",\"2020-04-16\",\"2020-04-17\",\"2020-04-20\",\"2020-04-21\",\"2020-04-22\",\"2020-04-23\",\"2020-04-24\",\"2020-04-27\",\"2020-04-28\",\"2020-04-29\",\"2020-04-30\",\"2020-05-01\",\"2020-05-04\",\"2020-05-05\",\"2020-05-06\",\"2020-05-07\",\"2020-05-08\",\"2020-05-11\",\"2020-05-12\",\"2020-05-13\",\"2020-05-14\",\"2020-05-15\",\"2020-05-19\",\"2020-05-20\",\"2020-05-21\",\"2020-05-22\",\"2020-05-25\",\"2020-05-26\",\"2020-05-27\",\"2020-05-28\",\"2020-05-29\",\"2020-06-01\",\"2020-06-02\",\"2020-06-03\",\"2020-06-04\",\"2020-06-05\",\"2020-06-08\",\"2020-06-09\",\"2020-06-10\",\"2020-06-11\",\"2020-06-12\",\"2020-06-15\",\"2020-06-16\",\"2020-06-17\",\"2020-06-18\",\"2020-06-19\",\"2020-06-22\",\"2020-06-23\",\"2020-06-24\",\"2020-06-25\",\"2020-06-26\",\"2020-06-29\",\"2020-06-30\",\"2020-07-02\",\"2020-07-03\",\"2020-07-06\",\"2020-07-07\",\"2020-07-08\",\"2020-07-09\",\"2020-07-10\",\"2020-07-13\",\"2020-07-14\",\"2020-07-15\",\"2020-07-16\",\"2020-07-17\",\"2020-07-20\",\"2020-07-21\",\"2020-07-22\",\"2020-07-23\",\"2020-07-24\",\"2020-07-27\",\"2020-07-28\",\"2020-07-29\",\"2020-07-30\",\"2020-07-31\",\"2020-08-04\",\"2020-08-05\",\"2020-08-06\",\"2020-08-07\",\"2020-08-10\",\"2020-08-11\",\"2020-08-12\",\"2020-08-13\",\"2020-08-14\",\"2020-08-17\",\"2020-08-18\",\"2020-08-19\",\"2020-08-20\",\"2020-08-21\",\"2020-08-24\",\"2020-08-25\",\"2020-08-26\",\"2020-08-27\",\"2020-08-28\",\"2020-08-31\",\"2020-09-01\",\"2020-09-02\",\"2020-09-03\",\"2020-09-04\",\"2020-09-08\",\"2020-09-09\",\"2020-09-10\",\"2020-09-11\",\"2020-09-14\",\"2020-09-15\",\"2020-09-16\",\"2020-09-17\",\"2020-09-18\",\"2020-09-21\",\"2020-09-22\",\"2020-09-23\",\"2020-09-24\",\"2020-09-25\",\"2020-09-28\",\"2020-09-29\",\"2020-09-30\",\"2020-10-01\",\"2020-10-02\",\"2020-10-05\",\"2020-10-06\",\"2020-10-07\",\"2020-10-08\",\"2020-10-09\",\"2020-10-13\",\"2020-10-14\",\"2020-10-15\",\"2020-10-16\",\"2020-10-19\",\"2020-10-20\",\"2020-10-21\",\"2020-10-22\",\"2020-10-23\",\"2020-10-26\",\"2020-10-27\",\"2020-10-28\",\"2020-10-29\",\"2020-10-30\",\"2020-11-02\",\"2020-11-03\",\"2020-11-04\",\"2020-11-05\",\"2020-11-06\",\"2020-11-09\",\"2020-11-10\",\"2020-11-11\",\"2020-11-12\",\"2020-11-13\",\"2020-11-16\",\"2020-11-17\",\"2020-11-18\",\"2020-11-19\",\"2020-11-20\",\"2020-11-23\",\"2020-11-24\",\"2020-11-25\",\"2020-11-26\",\"2020-11-27\",\"2020-11-30\",\"2020-12-01\",\"2020-12-02\",\"2020-12-03\",\"2020-12-04\",\"2020-12-07\",\"2020-12-08\",\"2020-12-09\",\"2020-12-10\",\"2020-12-11\",\"2020-12-14\",\"2020-12-15\",\"2020-12-16\",\"2020-12-17\",\"2020-12-18\",\"2020-12-21\",\"2020-12-22\",\"2020-12-23\",\"2020-12-24\",\"2020-12-29\",\"2020-12-30\",\"2020-12-31\",\"2021-01-04\",\"2021-01-05\",\"2021-01-06\",\"2021-01-07\",\"2021-01-08\",\"2021-01-11\",\"2021-01-12\",\"2021-01-13\",\"2021-01-14\",\"2021-01-15\",\"2021-01-18\",\"2021-01-19\",\"2021-01-20\",\"2021-01-21\",\"2021-01-22\",\"2021-01-25\",\"2021-01-26\",\"2021-01-27\",\"2021-01-28\",\"2021-01-29\",\"2021-02-01\",\"2021-02-02\",\"2021-02-03\",\"2021-02-04\",\"2021-02-05\",\"2021-02-08\",\"2021-02-09\",\"2021-02-10\",\"2021-02-11\",\"2021-02-12\",\"2021-02-16\",\"2021-02-17\",\"2021-02-18\",\"2021-02-19\",\"2021-02-22\",\"2021-02-23\",\"2021-02-24\",\"2021-02-25\",\"2021-02-26\",\"2021-03-01\",\"2021-03-02\",\"2021-03-03\",\"2021-03-04\",\"2021-03-05\",\"2021-03-08\",\"2021-03-09\",\"2021-03-10\",\"2021-03-11\",\"2021-03-12\",\"2021-03-15\",\"2021-03-16\",\"2021-03-17\",\"2021-03-18\",\"2021-03-19\",\"2021-03-22\",\"2021-03-23\",\"2021-03-24\",\"2021-03-25\",\"2021-03-26\",\"2021-03-29\",\"2021-03-30\",\"2021-03-31\",\"2021-04-01\",\"2021-04-05\",\"2021-04-06\",\"2021-04-07\",\"2021-04-08\",\"2021-04-09\",\"2021-04-12\",\"2021-04-13\",\"2021-04-14\",\"2021-04-15\",\"2021-04-16\",\"2021-04-19\",\"2021-04-20\",\"2021-04-21\",\"2021-04-22\",\"2021-04-23\",\"2021-04-26\",\"2021-04-27\",\"2021-04-28\",\"2021-04-29\",\"2021-04-30\",\"2021-05-03\",\"2021-05-04\",\"2021-05-05\",\"2021-05-06\",\"2021-05-07\",\"2021-05-10\",\"2021-05-11\",\"2021-05-12\",\"2021-05-13\",\"2021-05-14\",\"2021-05-17\",\"2021-05-18\",\"2021-05-19\",\"2021-05-20\",\"2021-05-21\",\"2021-05-25\",\"2021-05-26\",\"2021-05-27\",\"2021-05-28\",\"2021-05-31\",\"2021-06-01\",\"2021-06-02\",\"2021-06-03\",\"2021-06-04\",\"2021-06-07\",\"2021-06-08\",\"2021-06-09\",\"2021-06-10\",\"2021-06-11\",\"2021-06-14\",\"2021-06-15\",\"2021-06-16\",\"2021-06-17\",\"2021-06-18\",\"2021-06-21\",\"2021-06-22\",\"2021-06-23\",\"2021-06-24\",\"2021-06-25\",\"2021-06-28\",\"2021-06-29\",\"2021-06-30\",\"2021-07-02\",\"2021-07-05\",\"2021-07-06\",\"2021-07-07\",\"2021-07-08\",\"2021-07-09\",\"2021-07-12\",\"2021-07-13\",\"2021-07-14\",\"2021-07-15\",\"2021-07-16\",\"2021-07-19\",\"2021-07-20\",\"2021-07-21\",\"2021-07-22\",\"2021-07-23\",\"2021-07-26\",\"2021-07-27\",\"2021-07-28\",\"2021-07-29\",\"2021-07-30\",\"2021-08-03\",\"2021-08-04\",\"2021-08-05\",\"2021-08-06\",\"2021-08-09\",\"2021-08-10\",\"2021-08-11\",\"2021-08-12\",\"2021-08-13\",\"2021-08-16\",\"2021-08-17\",\"2021-08-18\",\"2021-08-19\",\"2021-08-20\",\"2021-08-23\",\"2021-08-24\",\"2021-08-25\",\"2021-08-26\",\"2021-08-27\",\"2021-08-30\",\"2021-08-31\",\"2021-09-01\",\"2021-09-02\",\"2021-09-03\",\"2021-09-07\",\"2021-09-08\",\"2021-09-09\",\"2021-09-10\",\"2021-09-13\",\"2021-09-14\",\"2021-09-15\",\"2021-09-16\",\"2021-09-17\",\"2021-09-20\",\"2021-09-21\",\"2021-09-22\",\"2021-09-23\",\"2021-09-24\",\"2021-09-27\",\"2021-09-28\",\"2021-09-29\",\"2021-09-30\",\"2021-10-01\",\"2021-10-04\",\"2021-10-05\",\"2021-10-06\",\"2021-10-07\",\"2021-10-08\",\"2021-10-12\",\"2021-10-13\",\"2021-10-14\",\"2021-10-15\",\"2021-10-18\",\"2021-10-19\",\"2021-10-20\",\"2021-10-21\",\"2021-10-22\",\"2021-10-25\",\"2021-10-26\",\"2021-10-27\",\"2021-10-28\",\"2021-10-29\",\"2021-11-01\",\"2021-11-02\",\"2021-11-03\",\"2021-11-04\",\"2021-11-05\",\"2021-11-08\",\"2021-11-09\",\"2021-11-10\",\"2021-11-11\",\"2021-11-12\",\"2021-11-15\",\"2021-11-16\",\"2021-11-17\",\"2021-11-18\",\"2021-11-19\",\"2021-11-22\",\"2021-11-23\",\"2021-11-24\",\"2021-11-25\",\"2021-11-26\",\"2021-11-29\",\"2021-11-30\",\"2021-12-01\",\"2021-12-02\",\"2021-12-03\",\"2021-12-06\",\"2021-12-07\",\"2021-12-08\",\"2021-12-09\",\"2021-12-10\",\"2021-12-13\",\"2021-12-14\",\"2021-12-15\",\"2021-12-16\",\"2021-12-17\",\"2021-12-20\",\"2021-12-21\",\"2021-12-22\",\"2021-12-23\",\"2021-12-24\",\"2021-12-29\",\"2021-12-30\",\"2021-12-31\",\"2022-01-04\",\"2022-01-05\",\"2022-01-06\",\"2022-01-07\",\"2022-01-10\",\"2022-01-11\",\"2022-01-12\",\"2022-01-13\",\"2022-01-14\",\"2022-01-17\",\"2022-01-18\",\"2022-01-19\",\"2022-01-20\",\"2022-01-21\",\"2022-01-24\",\"2022-01-25\",\"2022-01-26\",\"2022-01-27\",\"2022-01-28\",\"2022-01-31\",\"2022-02-01\",\"2022-02-02\",\"2022-02-03\",\"2022-02-04\",\"2022-02-07\",\"2022-02-08\",\"2022-02-09\",\"2022-02-10\",\"2022-02-11\",\"2022-02-14\",\"2022-02-15\",\"2022-02-16\",\"2022-02-17\",\"2022-02-18\",\"2022-02-22\",\"2022-02-23\",\"2022-02-24\",\"2022-02-25\",\"2022-02-28\",\"2022-03-01\",\"2022-03-02\",\"2022-03-03\",\"2022-03-04\",\"2022-03-07\",\"2022-03-08\",\"2022-03-09\",\"2022-03-10\",\"2022-03-11\",\"2022-03-14\",\"2022-03-15\",\"2022-03-16\",\"2022-03-17\",\"2022-03-18\",\"2022-03-21\",\"2022-03-22\",\"2022-03-23\",\"2022-03-24\",\"2022-03-25\",\"2022-03-28\",\"2022-03-29\",\"2022-03-30\",\"2022-03-31\",\"2022-04-01\",\"2022-04-04\",\"2022-04-05\",\"2022-04-06\",\"2022-04-07\",\"2022-04-08\",\"2022-04-11\",\"2022-04-12\",\"2022-04-13\",\"2022-04-14\",\"2022-04-18\",\"2022-04-19\",\"2022-04-20\",\"2022-04-21\",\"2022-04-22\",\"2022-04-25\",\"2022-04-26\",\"2022-04-27\"],\"y\":[2.22,2.45,2.52,2.55,2.53,2.42,2.45,2.48,2.44,2.39,2.38,2.5,2.5,2.5,2.4,2.44,2.5,2.44,2.44,2.35,2.25,2.23,2.25,2.17,2.2,2.04,1.95,2.16,2.14,2.14,2.16,2.09,1.98,1.92,1.72,1.56,1.7,1.75,1.88,1.85,1.77,1.82,1.79,1.81,1.81,1.76,1.75,1.73,1.83,1.88,1.88,1.93,1.95,1.91,1.91,1.92,1.83,1.79,1.75,1.76,1.77,1.76,1.65,1.69,1.64,1.6,1.66,1.89,1.85,1.85,1.9,1.93,1.9,1.91,2.15,2.32,2.41,2.45,2.45,2.34,2.34,2.31,2.19,2.21,2.3,2.2,2.24,2.32,2.25,2.2,2.21,2.2,2.21,2.26,2.25,2.23,2.2,2.19,2.17,2.17,2.24,2.28,2.31,2.26,2.29,2.31,2.32,2.37,2.42,2.5,2.47,2.51,2.5,2.5,2.51,2.57,2.73,2.75,2.84,2.81,2.85,2.93,2.91,2.94,2.88,2.85,2.8,2.87,3.11,3.08,3.19,3.33,3.42,3.33,3.34,3.42,3.39,3.45,3.67,3.77,3.72,3.71,3.67,3.71,3.77,3.78,3.8,3.84,3.88,3.79,3.67,3.43,3.56,3.44,3.39,3.5,3.37,3.4,3.53,3.65,3.65,3.67,3.67,3.71,3.72,3.74,3.74,3.77,3.83,3.8,3.87,3.86,3.83,3.82,3.82,3.76,3.69,3.67,3.7,3.51,3.51,3.61,3.63,3.58,3.54,3.46,3.43,3.45,3.44,3.48,3.54,3.63,3.6,3.7,3.53,3.43,3.39,3.38,3.26,3.13,3.08,3.01,3.08,3.07,3.16,3.3,3.21,3.18,3.1,3.07,3.18,3.24,3.26,3.28,3.42,3.39,3.45,3.39,3.27,3.26,3.27,3.27,3.04,2.92,2.86,2.77,2.84,2.85,2.84,2.86,2.83,2.65,2.62,2.69,2.71,2.8,2.78,2.76,2.72,2.6,2.71,2.7,2.67,2.59,2.49,2.48,2.5,2.45,2.43,2.45,2.44,2.41,2.31,2.3,2.28,2.2,2.28,2.32,2.44,2.41,2.34,2.4,2.45,2.45,2.44,2.4,2.38,2.36,2.33,2.3,2.29,2.25,2.26,2.35,2.4,2.37,2.43,2.38,2.38,2.38,2.4,2.43,2.39,2.34,2.4,2.32,2.29,2.26,2.27,2.28,2.26,2.15,2.13,2.15,2.1,2.02,1.99,2.0,1.94,1.79,1.89,2.01,2.17,2.23,2.12,2.12,2.18,2.27,2.29,2.31,2.26,2.28,2.31,2.38,2.35,2.36,2.37,2.35,2.34,2.31,2.35,2.34,2.37,2.35,2.34,2.39,2.32,2.32,2.24,2.19,2.15,2.14,2.13,2.07,2.11,2.01,2.0,1.91,1.91,1.82,1.86,1.9,1.97,1.94,1.93,1.85,1.8,1.69,1.71,1.69,1.68,1.7,1.7,1.65,1.72,1.67,1.65,1.64,1.66,1.7,1.66,1.65,1.6,1.57,1.57,1.62,1.59,1.7,1.53,1.46,1.38,1.31,1.41,1.32,1.37,1.48,1.32,1.24,1.33,1.41,1.41,1.38,1.39,1.37,1.34,1.35,1.39,1.4,1.37,1.37,1.34,1.34,1.32,1.37,1.39,1.44,1.36,1.37,1.4,1.36,1.38,1.36,1.33,1.33,1.33,1.37,1.31,1.26,1.23,1.21,1.18,1.16,1.09,1.08,1.07,1.03,1.04,1.07,1.07,1.1,1.08,1.04,1.06,1.04,1.08,1.11,1.08,1.05,1.04,1.01,1.0,0.98,1.0,1.0,1.02,1.0,1.0,0.99,1.02,1.03,1.07,1.08,1.11,1.12,1.1,1.08,1.06,1.04,1.02,1.02,0.99,0.97,0.98,0.96,0.98,1.04,1.06,1.07,1.07,1.16,1.27,1.36,1.41,1.34,1.31,1.15,1.09,1.04,1.04,1.03,1.02,1.03,1.02,1.02,1.0,1.01,1.01,1.0,0.98,0.96,0.94,0.97,0.97,0.93,0.94,0.95,0.92,0.93,0.93,0.92,0.92,0.91,0.88,0.85,0.82,0.82,0.9,0.95,0.98,1.0,0.94,0.93,0.91,0.9,0.86,0.87,0.9,0.87,0.86,0.86,0.86,0.85,0.82,0.84,0.85,0.84,0.83,0.84,0.83,0.96,1.0,0.98,0.96,0.92,0.96,0.94,0.9,0.9,0.9,0.9,0.86,0.86,0.87,0.85,0.84,0.85,0.84,0.87,0.87,0.87,0.86,0.87,0.91,0.88,0.87,0.9,0.91,0.93,0.95,0.98,0.98,0.99,0.99,0.99,1.01,1.0,1.0,1.0,1.0,0.98,1.01,0.99,0.98,0.98,1.0,1.01,0.99,1.01,1.03,1.0,1.01,1.01,1.01,1.0,0.98,0.98,1.0,1.03,1.03,1.04,1.07,1.07,1.09,1.08,1.14,1.17,1.15,1.16,1.15,1.06,1.06,1.05,1.06,1.09,1.07,1.06,1.07,1.07,1.08,1.06,1.06,1.07,1.04,1.05,1.04,1.07,1.08,1.07,1.07,1.06,1.07,1.07,1.13,1.12,1.17,1.17,1.15,1.16,1.23,1.23,1.28,1.28,1.26,1.24,1.27,1.27,1.31,1.35,1.42,1.45,1.4,1.35,1.4,1.47,1.41,1.46,1.51,1.52,1.62,1.79,1.91,1.88,1.88,1.81,1.78,1.68,1.8,1.77,1.79,1.76,1.8,1.91,1.89,1.91,1.95,1.91,1.82,1.85,1.81,1.8,1.84,1.9,1.87,1.84,1.84,1.8,1.79,1.77,1.8,1.81,1.78,1.8,1.78,1.79,1.77,1.69,1.62,1.65,1.7,1.75,1.7,1.83,1.78,1.8,1.77,1.77,1.76,1.76,1.75,1.78,1.78,1.77,1.86,1.99,2.14,2.12,2.09,2.15,2.3,2.29,2.36,2.4,2.44,2.4,2.33,2.25,2.44,2.5,2.44,2.39,2.44,2.48,2.43,2.45,2.45,2.44,2.35,2.27,2.34,2.35,2.31,2.4,2.45,2.43,2.32,2.34,2.37,2.36,2.43,2.41,2.43,2.45,2.59,2.64,2.65,2.67,2.63,2.57,2.65,2.69,2.75,2.72,2.82,2.9,2.89,2.93,2.98,3.13,3.07,3.03,3.16,3.3,3.27,3.26,3.13,3.18,3.22,3.18,3.25,3.25,3.19,3.26,3.12,3.01,3.0,2.62,2.89,2.94,2.9,2.9,2.9,3.0,2.89,2.88,2.7,2.51,2.32,2.36,2.25,2.17,2.0,2.22,2.16,2.18,2.21,2.11,2.07,2.05,2.06,2.08,2.02,2.02,2.03,2.05,2.02,2.06,2.23,2.26,2.27,2.28,2.35,2.41,2.44,2.48,2.57,2.62,2.61,2.44,2.43,2.37,2.56,2.53,2.45,2.41,2.4,2.44,2.45,2.44,2.39,2.39,2.38,2.28,2.36,2.34,2.3,2.27,2.28,2.25,2.17,2.15,2.21,2.18,2.22,2.2,2.08,2.18,2.23,2.18,2.12,2.65,2.9,2.82,2.84,2.78,2.72,2.68,2.8,2.76,2.75,2.72,2.75,2.78,2.79,2.67,2.66,2.8,2.81,2.82,2.9,2.94,3.03,3.11,3.28,3.17,3.25,3.28,3.43,3.43,3.28,3.28,3.3,3.33,3.52,3.7,3.7,3.62,3.53,3.75,3.9,3.97,4.49,4.66,4.6,4.69,4.89,4.96,4.79,4.99,4.96,5.19,5.3,5.33,5.26,5.29,5.33,5.33,5.5,5.72,5.73,5.88,5.91,5.83,5.42,5.59,5.99,6.6,6.9,6.96,6.9,6.81,6.55,6.56,6.68,6.98,6.85,6.89,6.87,7.0,7.15,7.56,7.87,7.73,8.0,7.78,7.93,7.71,7.62,7.68,7.6,7.5,7.67,7.59,7.57,7.43,7.59,7.42,7.41,7.49,7.47,7.41,7.26,7.5,7.39,7.36,7.32,7.95,8.36,8.8,8.77,8.98,8.94,9.07,9.01,8.95,9.67,9.54,9.23,8.7,7.63,7.17,7.63,7.81,7.68,7.56,7.49,7.77,7.78,7.77,7.82,6.22,5.94,5.74,5.6,5.86,5.97,5.99,6.0,5.94,6.04,6.02,5.98,5.81,5.91,6.0,6.48,6.39,6.45,6.05,6.1,5.75,5.57,5.64,5.94,6.0,5.8,5.7,5.7,5.62,5.53,5.35,5.16,5.53,5.79,5.9,5.76,7.3,7.13,7.59,7.47,7.3,7.15,7.39,7.27,7.4,7.3,7.43,7.39,7.7,7.6,7.56,7.4,7.76,7.58,7.74,7.85,7.82,8.29,8.25,8.36,8.1,7.97,8.28,8.22,7.91,8.07,8.1,7.89,8.15,8.3,8.37,8.45,8.8,9.09,8.85,9.05,9.18,9.51,9.93,10.47,10.08,10.58,10.31,9.32,9.66,9.72,9.69,9.5,9.49,9.43,8.77,8.99,9.11,9.4,9.5,9.53,9.65,9.83,10.05,9.85,9.55,9.72,9.62,9.67,9.55,9.55,9.45,9.27,9.7,9.71,9.73,9.79,9.67,9.64,9.58,9.79,9.77,9.61,9.3,9.28,9.26,8.5,8.67,8.52,8.5,8.25,8.17,8.01,8.48,8.57,8.85,8.77,8.93,8.95,8.69,8.64,8.71,8.49,8.79,8.69,8.83,9.02,8.96,8.82,8.74,8.72,8.48,9.05,8.96,8.62,9.01,8.85,8.67,8.68,8.66,8.5,8.46,8.38,8.55,8.16,7.79,7.87,8.18,7.82,7.76,7.6,7.22,6.91,6.76,7.05,7.26,7.67,8.18,7.97,8.27,8.59,8.68,8.69,8.95,9.16,9.3,9.48,9.03,8.9,9.38,9.08,8.99,9.26,9.16,9.43,9.61,9.63,9.87,10.14,10.17,10.13,9.96,10.26,10.22,11.16,11.18,11.42,11.51,11.5,12.07,12.0,11.66,11.09,11.25,11.72,11.33,11.32,10.9,10.85,11.06,11.22,11.26,11.2,11.4,11.55,11.77,11.87,11.83,12.1,11.75,11.75,12.19,12.31,12.45,12.3,11.95,11.85,11.91,12.21,12.38,11.77,11.94,12.04,12.03,11.98,11.73,12.09,11.75,11.96,11.82,12.4,13.12,12.92,12.82,13.25,11.96,12.38,12.71,12.58,12.61,12.6,12.54,12.6,12.7,12.57,12.51,12.34,12.28,12.42,12.38,12.43,12.29,12.31,12.22,12.41,12.39,12.21,12.4,12.5,12.51,12.57,12.46,12.45,12.62,12.8,12.47,12.72,12.63,12.39,11.93,12.07,11.88,12.0,12.38,12.32,12.32,12.47,12.37,12.09,12.15,11.99,12.17,12.08,12.02,12.03,12.12,12.03,12.02,11.81,11.52,11.82,11.6,11.16,11.19,11.43,11.45,11.72,12.16,12.64,12.54,12.67,12.89,12.42,12.64,12.58,12.62,12.58,13.59,13.6,13.76,14.19,14.38,14.5,14.27,14.21,14.06,13.93,13.91,13.81,13.83,13.68,13.95,13.79,13.74,13.28,13.83,14.11,14.16,13.9,13.79,13.46,13.21,13.5,13.44,13.34,13.16,12.85,13.08,13.13,13.28,13.35,13.25,13.0,12.56,12.18,12.31,12.01,12.11,11.96,11.82,11.52,11.92,11.99,11.77,11.97,11.73,12.26,12.19,12.9,12.9,12.08,12.0,11.69,12.17,12.08,11.8,11.67,11.13,10.88,11.01,11.02,11.44,11.21,11.23,10.8,11.0,10.95,11.42,11.49,11.7,11.93,11.9,11.78,11.76,11.93,12.28,12.08,12.26,11.98,12.04,11.61,11.66,10.99,10.69,10.73,10.68,10.79,10.95,11.09,10.98,11.06,11.24,11.22,10.95,10.93,10.84,10.67,11.12,11.11,11.33,11.15,11.13,10.69,10.75,10.79,10.76,10.69,10.68,10.86,11.57,12.09,11.91,11.93,11.74,11.43,11.47,11.31,11.2,11.08,11.17,11.12,10.9,10.45,10.49,10.5,10.5,10.43,10.21,10.33,10.2,10.32,10.59,10.53,10.64,10.93,10.52,10.3,10.36,10.45,10.35,10.09,10.41,10.16,10.23,10.27,10.19,10.22,10.21,9.95,9.96,9.7,9.24,9.25,9.18,9.03,8.92,8.16,7.79,7.35,7.3,7.66,7.72,7.91,7.56,7.77,7.82,7.74,7.85,7.6,7.1,7.08,7.67,7.71,7.44,7.33,7.44,7.33,7.5,8.41,7.39,7.07,7.19,7.25,7.23,7.15,7.26,7.29,7.22,7.25,7.63,8.04,8.31,8.65,8.04,8.27,8.26,8.38,8.49,8.55,8.56,9.04,9.04,9.16,8.95,8.67,8.54,8.57,8.79,8.85,8.96,8.85,8.47,8.22,8.26,8.13,8.33,8.24,8.14,8.35,8.62,8.66,8.82,8.78,8.88,8.59,8.4,8.32,8.39,8.37,8.28,9.33,9.75,9.6,9.6,9.52,9.71,9.57,9.56,9.68,9.38,9.39,9.48,9.43,9.32,9.33,9.5,9.58,9.65,9.7,9.71,9.79,9.63,9.68,9.73,9.61,9.81,10.27,10.1,10.17,9.84,9.67,9.36,9.54,9.15,9.24,9.44,9.46,9.45,9.41,8.99,8.3,8.42,8.74,8.89,9.07,8.84,8.66,8.65,8.9,9.13,9.47,9.52,9.61,9.48,9.6,9.53,9.4,9.39,9.51,9.45,9.42,9.27,9.44,8.99,8.84,8.84,8.87,9.06,9.04,9.07,9.1,9.09,8.96,9.01,8.94,8.99,8.94,9.01,9.01,8.98,8.95,8.88,8.9,8.83,8.93,8.96,8.93,9.11,9.16,9.49,9.2,9.07,9.05,8.97,9.07,9.2,9.23,9.41,9.48,9.41,9.82,9.65,9.35,9.81,10.02,10.16,10.6,11.28,11.32,11.88,12.53,12.31,12.39,12.51,12.61,12.99,12.99,13.05,12.8,12.9,12.97,13.01,12.86,12.7,12.47,12.7,12.65,12.67,12.19,11.8,11.94,12.83,12.8,12.88,13.0,12.94,12.66,13.26,13.18,13.74,14.0,13.85,14.27,14.28,14.19,14.19,14.01,13.86,13.5,13.99,14.01,14.22,14.2,14.27,14.72,14.75,14.5,14.35,13.93,14.27,14.22,14.08,14.21,14.22,14.11,13.97,13.99,13.74,13.67,13.83,13.72,13.74,13.56,13.5,13.59,14.23,14.0,13.83,13.81,13.56,13.52,13.64,13.57,13.5,13.72,13.95,13.96,13.82,13.53,13.37,13.52,13.57,13.65,13.5,13.38,13.31,13.43,13.59,13.95,13.99,14.23,14.4,13.18,13.43,13.67,13.64,13.36,13.47,13.38,13.96,13.47,13.71,13.41,13.16,13.1,13.21,13.32,13.33,13.19,13.36,13.72,13.53,13.48,13.03,12.82,13.21,13.25,13.54,13.82,13.74,13.83,13.8,13.63,13.38,13.25,13.2,13.21,13.24,13.24,13.09,13.13,13.31,13.35,13.18,13.17,13.03,13.28,13.49,13.35,13.01,12.99,12.9,12.75,12.6,12.79,13.94,14.09,14.56,14.89,16.459999,16.139999,16.15,16.950001,16.049999,16.48,16.93,16.93,17.35,17.360001,17.66,17.950001,17.9,17.799999,17.77,17.889999,17.77,17.59,17.77,17.969999,17.889999,17.530001,17.48,17.07,17.110001,17.190001,17.26,17.24,17.110001,17.35,17.16,17.120001,17.0,17.299999,17.34,17.379999,17.32,17.34,19.200001,19.75,20.370001,20.76,20.799999,20.84,20.610001,20.08,20.200001,19.91,19.879999,19.059999,19.02,19.280001,18.969999,18.799999,19.040001,19.83,21.74,20.879999,21.5,21.67,21.93,22.139999,21.780001,22.110001,22.91,22.889999,22.76,22.67,22.450001,22.879999,23.040001,23.92,23.25,23.290001,23.01,23.17,23.290001,23.34,23.24,22.65,22.33,22.77,22.08,22.459999,23.540001,23.59,23.809999,24.290001,23.65,23.33,25.84,26.4,27.51,25.5,25.540001,26.48,26.610001,26.24,26.379999,26.459999,26.049999,26.73,26.690001,27.23,27.92,27.76,27.700001,27.440001,27.07,26.549999,26.719999,26.200001,26.34,26.34,26.0,27.200001,26.280001,25.459999,25.559999,24.1,24.41,24.889999,24.0,24.09,23.85,23.42,22.77,22.540001,23.02,23.540001,24.040001,24.450001,24.98,25.040001,25.049999,24.93,24.57,24.49,24.16,23.82,24.59,24.389999,24.9,24.450001,24.67,24.57,25.6,25.32,25.379999,25.34,25.120001,25.389999,25.65,25.639999,25.450001,25.360001,25.559999,25.73,25.91,25.879999,26.190001,25.370001,24.99,24.68,23.879999,23.139999,23.4,23.790001,24.49,23.91,23.07,22.91,22.959999,22.93,23.440001,23.16,22.799999,23.02,23.059999,23.379999,23.91,23.91,23.85,23.700001,23.15,23.360001,23.940001,23.540001,22.59,22.93,22.719999,23.25,24.33,24.639999,25.389999,26.25,25.99,25.99,26.969999,27.17,27.059999,27.299999,26.889999,27.049999,26.809999,26.75,27.030001,27.16,27.32,27.58,28.030001,28.110001,28.01,27.790001,29.0,28.58,27.17,26.860001,26.68,26.280001,25.93,26.77,26.309999,26.280001,26.35,25.879999,25.809999,25.41,25.360001,25.0,24.959999,24.75,25.190001,25.82,26.24,25.709999,25.82,25.719999,25.6,25.110001,24.76,25.01,25.24,25.09,24.809999,24.15,24.049999,23.959999,23.709999,23.1,22.889999,23.76,23.610001,24.65,24.690001,24.59,24.32,23.969999,23.809999,24.219999,24.469999,24.719999,23.9,23.540001,22.969999,22.879999,23.709999,23.5,23.68,23.18,23.190001,23.139999,23.43,23.280001,23.18,23.190001,23.01,23.139999,23.52,23.48,23.299999,22.48,22.049999,21.18,20.790001,21.25,21.32,21.25,21.0,20.92,21.719999,21.129999,20.73,20.91,20.84,20.73,21.459999,22.34,22.18,21.93,22.040001,22.09,22.4,23.48,23.41,24.299999,23.530001,23.41,23.27,23.73,23.780001,24.629999,23.91,23.49,23.51,23.5,23.4,23.870001,24.01,24.719999,26.780001,26.52,26.77,26.82,26.809999,27.1,27.040001,26.889999,26.82,26.540001,26.58,26.76,26.83,26.83,27.33,27.18,26.77,27.4,27.129999,27.370001,27.370001,27.66,28.33,28.18,27.49,27.73,27.530001,27.6,26.209999,25.959999,25.58,25.209999,25.41,24.76,24.129999,24.129999,24.309999,24.51,25.49,25.65,24.41,24.190001,24.17,24.620001,22.66,23.84,24.139999,23.85,23.41,24.98,25.969999,26.49,26.67,26.34,26.98,26.6,26.51,26.700001,26.99,26.629999,25.950001,25.51,25.07,24.75,25.360001,25.280001,26.17,27.41,27.6,28.24,28.65,29.0,28.91,27.68,28.040001,27.799999,26.77,26.83,26.700001,26.26,25.51,25.43,25.280001,26.07,26.049999,25.690001,24.5,23.9,25.120001,25.33,25.959999,25.83,25.110001,26.690001,26.719999,26.66,26.77,26.540001,27.219999,27.530001,27.57,28.040001,28.34,28.280001,28.459999,27.98,27.98,28.440001,28.540001,28.610001,28.93,29.24,29.67,30.219999,30.280001,31.209999,31.32,31.18,31.360001,31.68,31.690001,31.639999,31.98,33.150002,33.02,32.889999,33.299999,33.139999,33.400002,33.919998,34.27,33.110001,34.0,33.599998,33.02,32.779999,33.0,33.16,33.360001,32.040001,32.009998,31.889999,31.66,31.42,31.75,31.440001,31.459999,31.610001,30.959999,31.92,32.200001,32.130001,32.209999,33.560001,33.580002,33.490002,33.029999,32.98,32.880001,32.32,32.369999,32.790001,32.529999,31.950001,31.66,32.240002,32.59,32.139999,31.57,31.450001,32.060001,31.82,31.950001,32.16,32.869999,32.57,33.619999,35.279999,35.5,36.299999,35.869999,36.209999,38.209999,38.799999,38.880001,40.400002,40.860001,40.779999,39.720001,39.490002,40.43,41.220001,40.720001,40.509998,40.349998,39.900002,39.16,39.41,39.34,39.029999,39.080002,38.619999,39.970001,39.799999,39.880001,39.990002,39.540001,39.540001,40.73,39.459999,40.0,40.169998,39.5,39.360001,40.599998,39.689999,40.599998,41.060001,41.889999,41.73,41.490002,40.759998,41.759998,41.880001,42.509998,42.869999,43.349998,43.450001,44.32,44.209999,44.099998,44.220001,44.5,44.07,45.549999,45.09,46.689999,45.41,44.98,44.41,44.16,43.310001,44.470001,44.5,43.759998,43.5,42.32,41.860001,43.580002,43.669998,43.209999,44.209999,43.900002,43.099998,42.450001,42.709999,42.689999,43.549999,44.75,43.619999,43.57,44.09,44.560001,44.0,42.380001,42.700001,42.91,43.130001,41.810001,44.009998,43.400002,43.029999,42.75,43.040001,43.0,43.130001,43.139999,42.950001,43.209999,43.119999,42.540001,43.099998,43.27,43.240002,42.880001,43.66,44.810001,45.549999,45.630001,45.380001,45.540001,45.259998,46.23,45.43,45.73,46.009998,45.990002,45.720001,47.419998,46.560001,46.900002,46.990002,47.279999,47.060001,48.599998,47.330002,48.630001,48.130001,48.560001,48.869999,49.299999,49.360001,49.560001,49.880001,49.75,49.450001,49.169998,49.849998,50.540001,50.200001,50.639999,50.049999,49.470001,49.369999,49.200001,49.189999,49.029999,48.869999,48.560001,49.389999,48.799999,49.5,49.880001,50.330002,50.009998,49.349998,49.700001,49.689999,49.599998,49.68,48.849998,48.509998,50.0,48.310001,47.299999,48.240002,49.040001,49.599998,50.900002,52.09,52.009998,51.540001,51.790001,51.080002,51.150002,48.84,48.68,48.419998,47.18,44.740002,45.099998,45.599998,44.93,44.330002,44.779999,46.509998,46.700001,46.349998,45.459999,45.080002,46.580002,47.07,47.049999,46.220001,45.0,45.310001,44.450001,42.18,40.07,37.389999,34.919998,35.450001,34.25,34.57,34.939999,35.07,32.16,33.16,30.309999,31.219999,27.4,24.9,25.370001,18.23,16.09,12.9,12.15,12.41,12.7,15.11,17.51,17.91,16.75,16.08,15.75,14.46,14.72,14.55,15.16,16.57,18.74,20.08,19.309999,19.43,18.66,17.1,18.15,18.120001,17.75,17.959999,18.190001,18.24,18.799999,20.6,21.65,20.24,19.299999,17.629999,17.01,16.68,16.530001,17.049999,16.299999,15.32,14.1,15.22,14.62,16.73,17.01,16.98,16.709999,16.76,17.67,16.440001,16.0,15.9,16.41,16.690001,18.370001,19.42,20.290001,23.389999,21.01,19.51,17.85,19.4,18.540001,19.23,18.75,18.809999,18.4,18.540001,18.0,17.190001,17.1,16.700001,17.48,16.950001,17.129999,17.209999,16.92,16.209999,16.57,16.200001,16.17,16.360001,15.99,18.200001,17.48,16.93,16.98,16.969999,16.84,16.82,16.469999,16.33,16.73,16.360001,16.09,15.11,15.12,15.72,15.95,15.73,16.23,16.690001,16.950001,17.08,16.85,16.18,15.87,16.389999,16.18,15.99,16.969999,16.68,16.5,17.190001,17.99,17.6,17.6,18.1,17.950001,18.629999,18.209999,17.82,17.809999,17.75,18.07,17.940001,18.969999,19.049999,17.98,16.51,16.5,16.01,16.040001,15.8,15.87,15.28,15.69,15.95,15.64,15.5,15.52,16.1,16.76,16.09,15.78,15.76,15.52,15.52,15.61,15.91,15.67,16.77,16.99,15.96,15.6,15.01,15.08,14.73,14.98,15.0,15.22,16.360001,15.82,20.35,20.120001,19.219999,18.57,19.41,20.280001,20.77,21.6,21.68,21.01,21.690001,23.57,23.73,23.82,24.860001,24.700001,25.110001,25.889999,27.25,27.5,27.040001,27.34,26.190001,26.43,26.16,26.1,26.34,23.690001,23.639999,23.059999,22.5,22.07,23.1,22.870001,22.98,23.17,22.77,22.110001,23.01,22.719999,23.200001,22.84,22.389999,23.129999,22.99,23.889999,22.92,22.969999,23.049999,22.889999,22.030001,22.09,20.860001,20.4,19.940001,21.030001,20.02,20.42,21.27,21.809999,21.780001,21.870001,21.65,21.5,21.08,21.200001,22.33,23.42,23.559999,23.290001,24.02,25.07,25.200001,26.34,25.110001,25.1,26.299999,26.4,27.290001,26.82,26.9,27.92,27.559999,28.690001,29.67,29.719999,29.799999,28.790001,28.57,27.610001,27.68,26.719999,25.790001,26.450001,26.74,26.530001,26.17,26.68,26.15,26.450001,27.1,27.74,27.65,26.98,26.84,27.0,26.879999,26.209999,25.43,24.860001,24.15,23.26,23.639999,24.690001,25.07,25.76,25.74,25.219999,24.83,24.77,25.5,24.950001,24.35,24.16,24.92,25.0,24.91,24.35,24.43,25.799999,25.530001,25.860001,25.950001,25.799999,25.639999,25.92,26.85,27.540001,27.18,27.360001,27.209999,27.08,26.940001,27.0,26.950001,28.65,28.73,28.41,28.549999,28.34,28.25,28.1,28.049999,27.76,27.4,27.299999,26.77,26.379999,25.91,25.360001,25.75,25.5,25.889999,26.950001,26.51,25.57,25.67,25.75,25.540001,25.08,25.200001,24.98,24.25,23.440001,24.959999,25.74,25.059999,25.110001,25.5,25.18,24.99,25.25,24.98,24.32,24.08,24.860001,25.049999,24.879999,25.34,25.16,24.629999,24.129999,24.23,23.790001,23.879999,23.6,23.75,24.629999,25.01,24.809999,24.76,25.030001,24.42,24.51,24.27,24.110001,24.02,24.129999,23.49,24.059999,23.57,23.25,22.870001,22.469999,23.1,23.02,22.799999,22.68,23.059999,23.49,23.540001,24.360001,23.74,23.74,23.129999,24.639999,24.16,23.780001,23.219999,23.09,23.09,23.43,23.049999,22.940001,23.07,23.25,23.15,22.969999,23.15,22.91,23.059999,22.93,22.379999,22.26,22.190001,23.01,24.02,24.950001,24.799999,26.34,26.190001,26.41,25.860001,25.82,25.25,25.209999,24.540001,24.450001,24.139999,23.549999,23.209999,23.110001,23.24,23.32,21.24,21.299999,20.799999,20.139999,21.040001,20.83,21.52,21.73,22.18,22.0,21.92,21.209999,20.940001,20.690001,20.030001,20.120001,19.889999,21.08,21.49,21.370001,21.450001,21.34,21.32,21.129999,22.17,21.84,22.18,23.049999,22.48,22.92,22.74,23.040001,22.85,23.18,22.98,22.370001,22.559999,22.129999,21.790001,21.870001,22.049999,22.09,22.01,22.860001,23.67,23.42,23.059999,23.33,23.68,24.82,24.93,25.290001,24.5,24.24,25.469999,25.110001,24.629999,25.4,25.450001,24.91,24.41,24.67,23.950001,22.870001,23.82,23.040001,21.9,19.59,19.98,20.969999,20.799999,20.49,20.450001,21.200001,22.68,23.15,23.84,23.540001,24.360001,23.75,23.540001,23.799999,23.85,24.719999,24.33,24.25,24.360001,23.84,23.5,22.969999,22.280001,21.940001,22.26,22.219999,23.5,23.42,23.120001,23.940001,24.0,24.66,24.15,24.219999,22.459999,22.809999],\"type\":\"scatter\"}],                        {\"template\":{\"data\":{\"bar\":[{\"error_x\":{\"color\":\"#2a3f5f\"},\"error_y\":{\"color\":\"#2a3f5f\"},\"marker\":{\"line\":{\"color\":\"#E5ECF6\",\"width\":0.5},\"pattern\":{\"fillmode\":\"overlay\",\"size\":10,\"solidity\":0.2}},\"type\":\"bar\"}],\"barpolar\":[{\"marker\":{\"line\":{\"color\":\"#E5ECF6\",\"width\":0.5},\"pattern\":{\"fillmode\":\"overlay\",\"size\":10,\"solidity\":0.2}},\"type\":\"barpolar\"}],\"carpet\":[{\"aaxis\":{\"endlinecolor\":\"#2a3f5f\",\"gridcolor\":\"white\",\"linecolor\":\"white\",\"minorgridcolor\":\"white\",\"startlinecolor\":\"#2a3f5f\"},\"baxis\":{\"endlinecolor\":\"#2a3f5f\",\"gridcolor\":\"white\",\"linecolor\":\"white\",\"minorgridcolor\":\"white\",\"startlinecolor\":\"#2a3f5f\"},\"type\":\"carpet\"}],\"choropleth\":[{\"colorbar\":{\"outlinewidth\":0,\"ticks\":\"\"},\"type\":\"choropleth\"}],\"contour\":[{\"colorbar\":{\"outlinewidth\":0,\"ticks\":\"\"},\"colorscale\":[[0.0,\"#0d0887\"],[0.1111111111111111,\"#46039f\"],[0.2222222222222222,\"#7201a8\"],[0.3333333333333333,\"#9c179e\"],[0.4444444444444444,\"#bd3786\"],[0.5555555555555556,\"#d8576b\"],[0.6666666666666666,\"#ed7953\"],[0.7777777777777778,\"#fb9f3a\"],[0.8888888888888888,\"#fdca26\"],[1.0,\"#f0f921\"]],\"type\":\"contour\"}],\"contourcarpet\":[{\"colorbar\":{\"outlinewidth\":0,\"ticks\":\"\"},\"type\":\"contourcarpet\"}],\"heatmap\":[{\"colorbar\":{\"outlinewidth\":0,\"ticks\":\"\"},\"colorscale\":[[0.0,\"#0d0887\"],[0.1111111111111111,\"#46039f\"],[0.2222222222222222,\"#7201a8\"],[0.3333333333333333,\"#9c179e\"],[0.4444444444444444,\"#bd3786\"],[0.5555555555555556,\"#d8576b\"],[0.6666666666666666,\"#ed7953\"],[0.7777777777777778,\"#fb9f3a\"],[0.8888888888888888,\"#fdca26\"],[1.0,\"#f0f921\"]],\"type\":\"heatmap\"}],\"heatmapgl\":[{\"colorbar\":{\"outlinewidth\":0,\"ticks\":\"\"},\"colorscale\":[[0.0,\"#0d0887\"],[0.1111111111111111,\"#46039f\"],[0.2222222222222222,\"#7201a8\"],[0.3333333333333333,\"#9c179e\"],[0.4444444444444444,\"#bd3786\"],[0.5555555555555556,\"#d8576b\"],[0.6666666666666666,\"#ed7953\"],[0.7777777777777778,\"#fb9f3a\"],[0.8888888888888888,\"#fdca26\"],[1.0,\"#f0f921\"]],\"type\":\"heatmapgl\"}],\"histogram\":[{\"marker\":{\"pattern\":{\"fillmode\":\"overlay\",\"size\":10,\"solidity\":0.2}},\"type\":\"histogram\"}],\"histogram2d\":[{\"colorbar\":{\"outlinewidth\":0,\"ticks\":\"\"},\"colorscale\":[[0.0,\"#0d0887\"],[0.1111111111111111,\"#46039f\"],[0.2222222222222222,\"#7201a8\"],[0.3333333333333333,\"#9c179e\"],[0.4444444444444444,\"#bd3786\"],[0.5555555555555556,\"#d8576b\"],[0.6666666666666666,\"#ed7953\"],[0.7777777777777778,\"#fb9f3a\"],[0.8888888888888888,\"#fdca26\"],[1.0,\"#f0f921\"]],\"type\":\"histogram2d\"}],\"histogram2dcontour\":[{\"colorbar\":{\"outlinewidth\":0,\"ticks\":\"\"},\"colorscale\":[[0.0,\"#0d0887\"],[0.1111111111111111,\"#46039f\"],[0.2222222222222222,\"#7201a8\"],[0.3333333333333333,\"#9c179e\"],[0.4444444444444444,\"#bd3786\"],[0.5555555555555556,\"#d8576b\"],[0.6666666666666666,\"#ed7953\"],[0.7777777777777778,\"#fb9f3a\"],[0.8888888888888888,\"#fdca26\"],[1.0,\"#f0f921\"]],\"type\":\"histogram2dcontour\"}],\"mesh3d\":[{\"colorbar\":{\"outlinewidth\":0,\"ticks\":\"\"},\"type\":\"mesh3d\"}],\"parcoords\":[{\"line\":{\"colorbar\":{\"outlinewidth\":0,\"ticks\":\"\"}},\"type\":\"parcoords\"}],\"pie\":[{\"automargin\":true,\"type\":\"pie\"}],\"scatter\":[{\"marker\":{\"colorbar\":{\"outlinewidth\":0,\"ticks\":\"\"}},\"type\":\"scatter\"}],\"scatter3d\":[{\"line\":{\"colorbar\":{\"outlinewidth\":0,\"ticks\":\"\"}},\"marker\":{\"colorbar\":{\"outlinewidth\":0,\"ticks\":\"\"}},\"type\":\"scatter3d\"}],\"scattercarpet\":[{\"marker\":{\"colorbar\":{\"outlinewidth\":0,\"ticks\":\"\"}},\"type\":\"scattercarpet\"}],\"scattergeo\":[{\"marker\":{\"colorbar\":{\"outlinewidth\":0,\"ticks\":\"\"}},\"type\":\"scattergeo\"}],\"scattergl\":[{\"marker\":{\"colorbar\":{\"outlinewidth\":0,\"ticks\":\"\"}},\"type\":\"scattergl\"}],\"scattermapbox\":[{\"marker\":{\"colorbar\":{\"outlinewidth\":0,\"ticks\":\"\"}},\"type\":\"scattermapbox\"}],\"scatterpolar\":[{\"marker\":{\"colorbar\":{\"outlinewidth\":0,\"ticks\":\"\"}},\"type\":\"scatterpolar\"}],\"scatterpolargl\":[{\"marker\":{\"colorbar\":{\"outlinewidth\":0,\"ticks\":\"\"}},\"type\":\"scatterpolargl\"}],\"scatterternary\":[{\"marker\":{\"colorbar\":{\"outlinewidth\":0,\"ticks\":\"\"}},\"type\":\"scatterternary\"}],\"surface\":[{\"colorbar\":{\"outlinewidth\":0,\"ticks\":\"\"},\"colorscale\":[[0.0,\"#0d0887\"],[0.1111111111111111,\"#46039f\"],[0.2222222222222222,\"#7201a8\"],[0.3333333333333333,\"#9c179e\"],[0.4444444444444444,\"#bd3786\"],[0.5555555555555556,\"#d8576b\"],[0.6666666666666666,\"#ed7953\"],[0.7777777777777778,\"#fb9f3a\"],[0.8888888888888888,\"#fdca26\"],[1.0,\"#f0f921\"]],\"type\":\"surface\"}],\"table\":[{\"cells\":{\"fill\":{\"color\":\"#EBF0F8\"},\"line\":{\"color\":\"white\"}},\"header\":{\"fill\":{\"color\":\"#C8D4E3\"},\"line\":{\"color\":\"white\"}},\"type\":\"table\"}]},\"layout\":{\"annotationdefaults\":{\"arrowcolor\":\"#2a3f5f\",\"arrowhead\":0,\"arrowwidth\":1},\"autotypenumbers\":\"strict\",\"coloraxis\":{\"colorbar\":{\"outlinewidth\":0,\"ticks\":\"\"}},\"colorscale\":{\"diverging\":[[0,\"#8e0152\"],[0.1,\"#c51b7d\"],[0.2,\"#de77ae\"],[0.3,\"#f1b6da\"],[0.4,\"#fde0ef\"],[0.5,\"#f7f7f7\"],[0.6,\"#e6f5d0\"],[0.7,\"#b8e186\"],[0.8,\"#7fbc41\"],[0.9,\"#4d9221\"],[1,\"#276419\"]],\"sequential\":[[0.0,\"#0d0887\"],[0.1111111111111111,\"#46039f\"],[0.2222222222222222,\"#7201a8\"],[0.3333333333333333,\"#9c179e\"],[0.4444444444444444,\"#bd3786\"],[0.5555555555555556,\"#d8576b\"],[0.6666666666666666,\"#ed7953\"],[0.7777777777777778,\"#fb9f3a\"],[0.8888888888888888,\"#fdca26\"],[1.0,\"#f0f921\"]],\"sequentialminus\":[[0.0,\"#0d0887\"],[0.1111111111111111,\"#46039f\"],[0.2222222222222222,\"#7201a8\"],[0.3333333333333333,\"#9c179e\"],[0.4444444444444444,\"#bd3786\"],[0.5555555555555556,\"#d8576b\"],[0.6666666666666666,\"#ed7953\"],[0.7777777777777778,\"#fb9f3a\"],[0.8888888888888888,\"#fdca26\"],[1.0,\"#f0f921\"]]},\"colorway\":[\"#636efa\",\"#EF553B\",\"#00cc96\",\"#ab63fa\",\"#FFA15A\",\"#19d3f3\",\"#FF6692\",\"#B6E880\",\"#FF97FF\",\"#FECB52\"],\"font\":{\"color\":\"#2a3f5f\"},\"geo\":{\"bgcolor\":\"white\",\"lakecolor\":\"white\",\"landcolor\":\"#E5ECF6\",\"showlakes\":true,\"showland\":true,\"subunitcolor\":\"white\"},\"hoverlabel\":{\"align\":\"left\"},\"hovermode\":\"closest\",\"mapbox\":{\"style\":\"light\"},\"paper_bgcolor\":\"white\",\"plot_bgcolor\":\"#E5ECF6\",\"polar\":{\"angularaxis\":{\"gridcolor\":\"white\",\"linecolor\":\"white\",\"ticks\":\"\"},\"bgcolor\":\"#E5ECF6\",\"radialaxis\":{\"gridcolor\":\"white\",\"linecolor\":\"white\",\"ticks\":\"\"}},\"scene\":{\"xaxis\":{\"backgroundcolor\":\"#E5ECF6\",\"gridcolor\":\"white\",\"gridwidth\":2,\"linecolor\":\"white\",\"showbackground\":true,\"ticks\":\"\",\"zerolinecolor\":\"white\"},\"yaxis\":{\"backgroundcolor\":\"#E5ECF6\",\"gridcolor\":\"white\",\"gridwidth\":2,\"linecolor\":\"white\",\"showbackground\":true,\"ticks\":\"\",\"zerolinecolor\":\"white\"},\"zaxis\":{\"backgroundcolor\":\"#E5ECF6\",\"gridcolor\":\"white\",\"gridwidth\":2,\"linecolor\":\"white\",\"showbackground\":true,\"ticks\":\"\",\"zerolinecolor\":\"white\"}},\"shapedefaults\":{\"line\":{\"color\":\"#2a3f5f\"}},\"ternary\":{\"aaxis\":{\"gridcolor\":\"white\",\"linecolor\":\"white\",\"ticks\":\"\"},\"baxis\":{\"gridcolor\":\"white\",\"linecolor\":\"white\",\"ticks\":\"\"},\"bgcolor\":\"#E5ECF6\",\"caxis\":{\"gridcolor\":\"white\",\"linecolor\":\"white\",\"ticks\":\"\"}},\"title\":{\"x\":0.05},\"xaxis\":{\"automargin\":true,\"gridcolor\":\"white\",\"linecolor\":\"white\",\"ticks\":\"\",\"title\":{\"standoff\":15},\"zerolinecolor\":\"white\",\"zerolinewidth\":2},\"yaxis\":{\"automargin\":true,\"gridcolor\":\"white\",\"linecolor\":\"white\",\"ticks\":\"\",\"title\":{\"standoff\":15},\"zerolinecolor\":\"white\",\"zerolinewidth\":2}}}},                        {\"responsive\": true}                    ).then(function(){\n",
              "                            \n",
              "var gd = document.getElementById('c6c5cb6c-34e2-43e9-9a44-691146c4d365');\n",
              "var x = new MutationObserver(function (mutations, observer) {{\n",
              "        var display = window.getComputedStyle(gd).display;\n",
              "        if (!display || display === 'none') {{\n",
              "            console.log([gd, 'removed!']);\n",
              "            Plotly.purge(gd);\n",
              "            observer.disconnect();\n",
              "        }}\n",
              "}});\n",
              "\n",
              "// Listen for the removal of the full notebook cells\n",
              "var notebookContainer = gd.closest('#notebook-container');\n",
              "if (notebookContainer) {{\n",
              "    x.observe(notebookContainer, {childList: true});\n",
              "}}\n",
              "\n",
              "// Listen for the clearing of the current output cell\n",
              "var outputEl = gd.closest('.output');\n",
              "if (outputEl) {{\n",
              "    x.observe(outputEl, {childList: true});\n",
              "}}\n",
              "\n",
              "                        })                };                            </script>        </div>\n",
              "</body>\n",
              "</html>"
            ]
          },
          "metadata": {}
        }
      ]
    },
    {
      "cell_type": "code",
      "source": [
        "#  Plotting date vs the close market stock price\n",
        "df.plot('Date','Adj_Close',color=\"red\")\n",
        " \n",
        "# Extract only top 600 rows to make the plot a little clearer\n",
        "new_data = df.head(10)\n",
        " \n",
        "#  Plotting date vs the close  market stock price\n",
        "new_data.plot('Date','Adj_Close',color=\"green\")\n",
        " \n",
        "plt.show()"
      ],
      "metadata": {
        "id": "rj-rv7XzPOhn",
        "outputId": "c50ac29d-31e0-4fba-c75e-e2edc859232b",
        "colab": {
          "base_uri": "https://localhost:8080/",
          "height": 541
        }
      },
      "execution_count": 75,
      "outputs": [
        {
          "output_type": "display_data",
          "data": {
            "text/plain": [
              "<Figure size 432x288 with 1 Axes>"
            ],
            "image/png": "[encoded data removed]"
          },
          "metadata": {
            "needs_background": "light"
          }
        },
        {
          "output_type": "display_data",
          "data": {
            "text/plain": [
              "<Figure size 432x288 with 1 Axes>"
            ],
            "image/png": "[encoded data removed]"
          },
          "metadata": {
            "needs_background": "light"
          }
        }
      ]
    },
    {
      "cell_type": "code",
      "source": [
        "import datetime as dt\n",
        "import pandas as pd\n",
        "\n",
        "\n",
        "\n",
        "#first: define the format of date column in the dataframe\n",
        "df['Date'] = pd.to_datetime(df.Date, format='%Y-%m-%d')\n",
        "#second: convert to the desired date format\n",
        "df['Date']=df['Date'].dt.strftime('%Y')\n",
        "#print first five rows\n",
        "df"
      ],
      "metadata": {
        "id": "JXbigjboPvns",
        "outputId": "d9a734fd-f55f-4b87-bd86-3d28c689c6e4",
        "colab": {
          "base_uri": "https://localhost:8080/",
          "height": 424
        }
      },
      "execution_count": 16,
      "outputs": [
        {
          "output_type": "execute_result",
          "data": {
            "text/plain": [
              "      Date   Open       High        Low      Close  Adj_Close     Volume\n",
              "0     2010   2.25   2.250000   2.100000   2.220000   2.220000   967000.0\n",
              "1     2010   2.25   2.500000   2.250000   2.450000   2.450000  3302800.0\n",
              "2     2010   2.51   2.670000   2.500000   2.520000   2.520000  2309000.0\n",
              "3     2010   2.58   2.600000   2.540000   2.550000   2.550000   661000.0\n",
              "4     2010   2.60   2.600000   2.520000   2.530000   2.530000  1639300.0\n",
              "...    ...    ...        ...        ...        ...        ...        ...\n",
              "3025  2022  24.65  25.000000  24.430000  24.660000  24.660000  5094000.0\n",
              "3026  2022  24.67  24.850000  24.110001  24.150000  24.150000  3691400.0\n",
              "3027  2022  24.00  24.440001  23.680000  24.219999  24.219999  4138600.0\n",
              "3028  2022  24.25  24.260000  22.360001  22.459999  22.459999  7166700.0\n",
              "3029  2022  22.50  23.090000  22.480000  22.809999  22.809999  3712706.0\n",
              "\n",
              "[3028 rows x 7 columns]"
            ],
            "text/html": [
              "\n",
              "  <div id=\"df-85f9f092-1551-4955-9025-77ab153a8e09\">\n",
              "    <div class=\"colab-df-container\">\n",
              "      <div>\n",
              "<style scoped>\n",
              "    .dataframe tbody tr th:only-of-type {\n",
              "        vertical-align: middle;\n",
              "    }\n",
              "\n",
              "    .dataframe tbody tr th {\n",
              "        vertical-align: top;\n",
              "    }\n",
              "\n",
              "    .dataframe thead th {\n",
              "        text-align: right;\n",
              "    }\n",
              "</style>\n",
              "<table border=\"1\" class=\"dataframe\">\n",
              "  <thead>\n",
              "    <tr style=\"text-align: right;\">\n",
              "      <th></th>\n",
              "      <th>Date</th>\n",
              "      <th>Open</th>\n",
              "      <th>High</th>\n",
              "      <th>Low</th>\n",
              "      <th>Close</th>\n",
              "      <th>Adj_Close</th>\n",
              "      <th>Volume</th>\n",
              "    </tr>\n",
              "  </thead>\n",
              "  <tbody>\n",
              "    <tr>\n",
              "      <th>0</th>\n",
              "      <td>2010</td>\n",
              "      <td>2.25</td>\n",
              "      <td>2.250000</td>\n",
              "      <td>2.100000</td>\n",
              "      <td>2.220000</td>\n",
              "      <td>2.220000</td>\n",
              "      <td>967000.0</td>\n",
              "    </tr>\n",
              "    <tr>\n",
              "      <th>1</th>\n",
              "      <td>2010</td>\n",
              "      <td>2.25</td>\n",
              "      <td>2.500000</td>\n",
              "      <td>2.250000</td>\n",
              "      <td>2.450000</td>\n",
              "      <td>2.450000</td>\n",
              "      <td>3302800.0</td>\n",
              "    </tr>\n",
              "    <tr>\n",
              "      <th>2</th>\n",
              "      <td>2010</td>\n",
              "      <td>2.51</td>\n",
              "      <td>2.670000</td>\n",
              "      <td>2.500000</td>\n",
              "      <td>2.520000</td>\n",
              "      <td>2.520000</td>\n",
              "      <td>2309000.0</td>\n",
              "    </tr>\n",
              "    <tr>\n",
              "      <th>3</th>\n",
              "      <td>2010</td>\n",
              "      <td>2.58</td>\n",
              "      <td>2.600000</td>\n",
              "      <td>2.540000</td>\n",
              "      <td>2.550000</td>\n",
              "      <td>2.550000</td>\n",
              "      <td>661000.0</td>\n",
              "    </tr>\n",
              "    <tr>\n",
              "      <th>4</th>\n",
              "      <td>2010</td>\n",
              "      <td>2.60</td>\n",
              "      <td>2.600000</td>\n",
              "      <td>2.520000</td>\n",
              "      <td>2.530000</td>\n",
              "      <td>2.530000</td>\n",
              "      <td>1639300.0</td>\n",
              "    </tr>\n",
              "    <tr>\n",
              "      <th>...</th>\n",
              "      <td>...</td>\n",
              "      <td>...</td>\n",
              "      <td>...</td>\n",
              "      <td>...</td>\n",
              "      <td>...</td>\n",
              "      <td>...</td>\n",
              "      <td>...</td>\n",
              "    </tr>\n",
              "    <tr>\n",
              "      <th>3025</th>\n",
              "      <td>2022</td>\n",
              "      <td>24.65</td>\n",
              "      <td>25.000000</td>\n",
              "      <td>24.430000</td>\n",
              "      <td>24.660000</td>\n",
              "      <td>24.660000</td>\n",
              "      <td>5094000.0</td>\n",
              "    </tr>\n",
              "    <tr>\n",
              "      <th>3026</th>\n",
              "      <td>2022</td>\n",
              "      <td>24.67</td>\n",
              "      <td>24.850000</td>\n",
              "      <td>24.110001</td>\n",
              "      <td>24.150000</td>\n",
              "      <td>24.150000</td>\n",
              "      <td>3691400.0</td>\n",
              "    </tr>\n",
              "    <tr>\n",
              "      <th>3027</th>\n",
              "      <td>2022</td>\n",
              "      <td>24.00</td>\n",
              "      <td>24.440001</td>\n",
              "      <td>23.680000</td>\n",
              "      <td>24.219999</td>\n",
              "      <td>24.219999</td>\n",
              "      <td>4138600.0</td>\n",
              "    </tr>\n",
              "    <tr>\n",
              "      <th>3028</th>\n",
              "      <td>2022</td>\n",
              "      <td>24.25</td>\n",
              "      <td>24.260000</td>\n",
              "      <td>22.360001</td>\n",
              "      <td>22.459999</td>\n",
              "      <td>22.459999</td>\n",
              "      <td>7166700.0</td>\n",
              "    </tr>\n",
              "    <tr>\n",
              "      <th>3029</th>\n",
              "      <td>2022</td>\n",
              "      <td>22.50</td>\n",
              "      <td>23.090000</td>\n",
              "      <td>22.480000</td>\n",
              "      <td>22.809999</td>\n",
              "      <td>22.809999</td>\n",
              "      <td>3712706.0</td>\n",
              "    </tr>\n",
              "  </tbody>\n",
              "</table>\n",
              "<p>3028 rows × 7 columns</p>\n",
              "</div>\n",
              "      <button class=\"colab-df-convert\" onclick=\"convertToInteractive('df-85f9f092-1551-4955-9025-77ab153a8e09')\"\n",
              "              title=\"Convert this dataframe to an interactive table.\"\n",
              "              style=\"display:none;\">\n",
              "        \n",
              "  <svg xmlns=\"http://www.w3.org/2000/svg\" height=\"24px\"viewBox=\"0 0 24 24\"\n",
              "       width=\"24px\">\n",
              "    <path d=\"M0 0h24v24H0V0z\" fill=\"none\"/>\n",
              "    <path d=\"M18.56 5.44l.94 2.06.94-2.06 2.06-.94-2.06-.94-.94-2.06-.94 2.06-2.06.94zm-11 1L8.5 8.5l.94-2.06 2.06-.94-2.06-.94L8.5 2.5l-.94 2.06-2.06.94zm10 10l.94 2.06.94-2.06 2.06-.94-2.06-.94-.94-2.06-.94 2.06-2.06.94z\"/><path d=\"M17.41 7.96l-1.37-1.37c-.4-.4-.92-.59-1.43-.59-.52 0-1.04.2-1.43.59L10.3 9.45l-7.72 7.72c-.78.78-.78 2.05 0 2.83L4 21.41c.39.39.9.59 1.41.59.51 0 1.02-.2 1.41-.59l7.78-7.78 2.81-2.81c.8-.78.8-2.07 0-2.86zM5.41 20L4 18.59l7.72-7.72 1.47 1.35L5.41 20z\"/>\n",
              "  </svg>\n",
              "      </button>\n",
              "      \n",
              "  <style>\n",
              "    .colab-df-container {\n",
              "      display:flex;\n",
              "      flex-wrap:wrap;\n",
              "      gap: 12px;\n",
              "    }\n",
              "\n",
              "    .colab-df-convert {\n",
              "      background-color: #E8F0FE;\n",
              "      border: none;\n",
              "      border-radius: 50%;\n",
              "      cursor: pointer;\n",
              "      display: none;\n",
              "      fill: #1967D2;\n",
              "      height: 32px;\n",
              "      padding: 0 0 0 0;\n",
              "      width: 32px;\n",
              "    }\n",
              "\n",
              "    .colab-df-convert:hover {\n",
              "      background-color: #E2EBFA;\n",
              "      box-shadow: 0px 1px 2px rgba(60, 64, 67, 0.3), 0px 1px 3px 1px rgba(60, 64, 67, 0.15);\n",
              "      fill: #174EA6;\n",
              "    }\n",
              "\n",
              "    [theme=dark] .colab-df-convert {\n",
              "      background-color: #3B4455;\n",
              "      fill: #D2E3FC;\n",
              "    }\n",
              "\n",
              "    [theme=dark] .colab-df-convert:hover {\n",
              "      background-color: #434B5C;\n",
              "      box-shadow: 0px 1px 3px 1px rgba(0, 0, 0, 0.15);\n",
              "      filter: drop-shadow(0px 1px 2px rgba(0, 0, 0, 0.3));\n",
              "      fill: #FFFFFF;\n",
              "    }\n",
              "  </style>\n",
              "\n",
              "      <script>\n",
              "        const buttonEl =\n",
              "          document.querySelector('#df-85f9f092-1551-4955-9025-77ab153a8e09 button.colab-df-convert');\n",
              "        buttonEl.style.display =\n",
              "          google.colab.kernel.accessAllowed ? 'block' : 'none';\n",
              "\n",
              "        async function convertToInteractive(key) {\n",
              "          const element = document.querySelector('#df-85f9f092-1551-4955-9025-77ab153a8e09');\n",
              "          const dataTable =\n",
              "            await google.colab.kernel.invokeFunction('convertToInteractive',\n",
              "                                                     [key], {});\n",
              "          if (!dataTable) return;\n",
              "\n",
              "          const docLinkHtml = 'Like what you see? Visit the ' +\n",
              "            '<a target=\"_blank\" href=https://colab.research.google.com/notebooks/data_table.ipynb>data table notebook</a>'\n",
              "            + ' to learn more about interactive tables.';\n",
              "          element.innerHTML = '';\n",
              "          dataTable['output_type'] = 'display_data';\n",
              "          await google.colab.output.renderOutput(dataTable, element);\n",
              "          const docLink = document.createElement('div');\n",
              "          docLink.innerHTML = docLinkHtml;\n",
              "          element.appendChild(docLink);\n",
              "        }\n",
              "      </script>\n",
              "    </div>\n",
              "  </div>\n",
              "  "
            ]
          },
          "metadata": {},
          "execution_count": 16
        }
      ]
    },
    {
      "cell_type": "code",
      "source": [
        "# Draw Plot\n",
        "def plot_df(data, x, y, title=\"Time by Price\", xlabel='Date', ylabel='Adj_Close', dpi=100):\n",
        "    plt.figure(figsize=(16,5), dpi=dpi)\n",
        "    plt.plot(x, y, color='tab:red')\n",
        "    plt.gca().set(title=title, xlabel=xlabel, ylabel=ylabel)\n",
        "    plt.show()\n",
        "\n",
        "plot_df(df, x=df.Date, y=df.Adj_Close, title='')"
      ],
      "metadata": {
        "id": "J4RUwOhvP9JL",
        "outputId": "61a5ae83-c5b7-442b-b82d-2f1b6b29d9e0",
        "colab": {
          "base_uri": "https://localhost:8080/",
          "height": 449
        }
      },
      "execution_count": 17,
      "outputs": [
        {
          "output_type": "display_data",
          "data": {
            "text/plain": [
              "<Figure size 1600x500 with 1 Axes>"
            ],
            "image/png": "[encoded data removed]"
          },
          "metadata": {
            "needs_background": "light"
          }
        }
      ]
    },
    {
      "cell_type": "code",
      "source": [
        "sns.lineplot(x=\"Date\",  y = \"Adj_Close\",data=df).set_title(\"Price distributions\")"
      ],
      "metadata": {
        "id": "pfL9jLpaRCh4",
        "outputId": "a43daf02-9f42-4405-8b2b-9ccd9b81a8c6",
        "colab": {
          "base_uri": "https://localhost:8080/",
          "height": 312
        }
      },
      "execution_count": 18,
      "outputs": [
        {
          "output_type": "execute_result",
          "data": {
            "text/plain": [
              "Text(0.5, 1.0, 'Price distributions')"
            ]
          },
          "metadata": {},
          "execution_count": 18
        },
        {
          "output_type": "display_data",
          "data": {
            "text/plain": [
              "<Figure size 432x288 with 1 Axes>"
            ],
            "image/png": "[encoded data removed]"
          },
          "metadata": {
            "needs_background": "light"
          }
        }
      ]
    },
    {
      "cell_type": "code",
      "execution_count": 19,
      "metadata": {
        "id": "jBa5Lyd5Jp4t"
      },
      "outputs": [],
      "source": [
        "df = df.dropna(subset = ['Adj_Close'])\n",
        "test_list = df['Adj_Close']\n",
        "inc, dec = [], []\n",
        "l = []\n",
        "res = []\n",
        "temp = []\n",
        "is_up = True \n",
        "if test_list[0] > test_list[1]:\n",
        "    is_up = False\n",
        "for idx, (curr, nex) in enumerate(zip(test_list, test_list[1:])):\n",
        "    temp.append(curr)\n",
        "    if (nex > curr and not is_up) or (nex < curr and is_up):\n",
        "        res.append(temp)\n",
        "        temp = []\n",
        "        is_up = not is_up\n",
        "        b = 'dump' if is_up else 'pump'\n",
        "        l.append(b)\n",
        "    else:\n",
        "        b = 'pump' if is_up else 'dump'\n",
        "        l.append(b)\n",
        "temp.append(nex)\n",
        "res.append(temp)\n",
        "if df.Adj_Close.iloc[-2] > nex:\n",
        "    l.append('dump')\n",
        "else:\n",
        "    l.append('pump')\n",
        "for i in res:\n",
        "    if len(i)>1:\n",
        "        if i[1]>i[0]:\n",
        "            inc.append(i)\n",
        "        if i[0]>i[1]:\n",
        "            dec.append(i)\n",
        "df['label'] = l"
      ]
    },
    {
      "cell_type": "code",
      "execution_count": 20,
      "metadata": {
        "id": "X3eCrcKiJyP1",
        "colab": {
          "base_uri": "https://localhost:8080/",
          "height": 424
        },
        "outputId": "41933a6d-1a9d-4bb8-cbb3-bb646b0f9baf"
      },
      "outputs": [
        {
          "output_type": "execute_result",
          "data": {
            "text/plain": [
              "      Date   Open       High        Low      Close  Adj_Close     Volume label\n",
              "0     2010   2.25   2.250000   2.100000   2.220000   2.220000   967000.0  pump\n",
              "1     2010   2.25   2.500000   2.250000   2.450000   2.450000  3302800.0  pump\n",
              "2     2010   2.51   2.670000   2.500000   2.520000   2.520000  2309000.0  pump\n",
              "3     2010   2.58   2.600000   2.540000   2.550000   2.550000   661000.0  pump\n",
              "4     2010   2.60   2.600000   2.520000   2.530000   2.530000  1639300.0  dump\n",
              "...    ...    ...        ...        ...        ...        ...        ...   ...\n",
              "3025  2022  24.65  25.000000  24.430000  24.660000  24.660000  5094000.0  pump\n",
              "3026  2022  24.67  24.850000  24.110001  24.150000  24.150000  3691400.0  dump\n",
              "3027  2022  24.00  24.440001  23.680000  24.219999  24.219999  4138600.0  pump\n",
              "3028  2022  24.25  24.260000  22.360001  22.459999  22.459999  7166700.0  dump\n",
              "3029  2022  22.50  23.090000  22.480000  22.809999  22.809999  3712706.0  pump\n",
              "\n",
              "[3028 rows x 8 columns]"
            ],
            "text/html": [
              "\n",
              "  <div id=\"df-620eb819-8e8d-4059-8a8c-f087536e2dcf\">\n",
              "    <div class=\"colab-df-container\">\n",
              "      <div>\n",
              "<style scoped>\n",
              "    .dataframe tbody tr th:only-of-type {\n",
              "        vertical-align: middle;\n",
              "    }\n",
              "\n",
              "    .dataframe tbody tr th {\n",
              "        vertical-align: top;\n",
              "    }\n",
              "\n",
              "    .dataframe thead th {\n",
              "        text-align: right;\n",
              "    }\n",
              "</style>\n",
              "<table border=\"1\" class=\"dataframe\">\n",
              "  <thead>\n",
              "    <tr style=\"text-align: right;\">\n",
              "      <th></th>\n",
              "      <th>Date</th>\n",
              "      <th>Open</th>\n",
              "      <th>High</th>\n",
              "      <th>Low</th>\n",
              "      <th>Close</th>\n",
              "      <th>Adj_Close</th>\n",
              "      <th>Volume</th>\n",
              "      <th>label</th>\n",
              "    </tr>\n",
              "  </thead>\n",
              "  <tbody>\n",
              "    <tr>\n",
              "      <th>0</th>\n",
              "      <td>2010</td>\n",
              "      <td>2.25</td>\n",
              "      <td>2.250000</td>\n",
              "      <td>2.100000</td>\n",
              "      <td>2.220000</td>\n",
              "      <td>2.220000</td>\n",
              "      <td>967000.0</td>\n",
              "      <td>pump</td>\n",
              "    </tr>\n",
              "    <tr>\n",
              "      <th>1</th>\n",
              "      <td>2010</td>\n",
              "      <td>2.25</td>\n",
              "      <td>2.500000</td>\n",
              "      <td>2.250000</td>\n",
              "      <td>2.450000</td>\n",
              "      <td>2.450000</td>\n",
              "      <td>3302800.0</td>\n",
              "      <td>pump</td>\n",
              "    </tr>\n",
              "    <tr>\n",
              "      <th>2</th>\n",
              "      <td>2010</td>\n",
              "      <td>2.51</td>\n",
              "      <td>2.670000</td>\n",
              "      <td>2.500000</td>\n",
              "      <td>2.520000</td>\n",
              "      <td>2.520000</td>\n",
              "      <td>2309000.0</td>\n",
              "      <td>pump</td>\n",
              "    </tr>\n",
              "    <tr>\n",
              "      <th>3</th>\n",
              "      <td>2010</td>\n",
              "      <td>2.58</td>\n",
              "      <td>2.600000</td>\n",
              "      <td>2.540000</td>\n",
              "      <td>2.550000</td>\n",
              "      <td>2.550000</td>\n",
              "      <td>661000.0</td>\n",
              "      <td>pump</td>\n",
              "    </tr>\n",
              "    <tr>\n",
              "      <th>4</th>\n",
              "      <td>2010</td>\n",
              "      <td>2.60</td>\n",
              "      <td>2.600000</td>\n",
              "      <td>2.520000</td>\n",
              "      <td>2.530000</td>\n",
              "      <td>2.530000</td>\n",
              "      <td>1639300.0</td>\n",
              "      <td>dump</td>\n",
              "    </tr>\n",
              "    <tr>\n",
              "      <th>...</th>\n",
              "      <td>...</td>\n",
              "      <td>...</td>\n",
              "      <td>...</td>\n",
              "      <td>...</td>\n",
              "      <td>...</td>\n",
              "      <td>...</td>\n",
              "      <td>...</td>\n",
              "      <td>...</td>\n",
              "    </tr>\n",
              "    <tr>\n",
              "      <th>3025</th>\n",
              "      <td>2022</td>\n",
              "      <td>24.65</td>\n",
              "      <td>25.000000</td>\n",
              "      <td>24.430000</td>\n",
              "      <td>24.660000</td>\n",
              "      <td>24.660000</td>\n",
              "      <td>5094000.0</td>\n",
              "      <td>pump</td>\n",
              "    </tr>\n",
              "    <tr>\n",
              "      <th>3026</th>\n",
              "      <td>2022</td>\n",
              "      <td>24.67</td>\n",
              "      <td>24.850000</td>\n",
              "      <td>24.110001</td>\n",
              "      <td>24.150000</td>\n",
              "      <td>24.150000</td>\n",
              "      <td>3691400.0</td>\n",
              "      <td>dump</td>\n",
              "    </tr>\n",
              "    <tr>\n",
              "      <th>3027</th>\n",
              "      <td>2022</td>\n",
              "      <td>24.00</td>\n",
              "      <td>24.440001</td>\n",
              "      <td>23.680000</td>\n",
              "      <td>24.219999</td>\n",
              "      <td>24.219999</td>\n",
              "      <td>4138600.0</td>\n",
              "      <td>pump</td>\n",
              "    </tr>\n",
              "    <tr>\n",
              "      <th>3028</th>\n",
              "      <td>2022</td>\n",
              "      <td>24.25</td>\n",
              "      <td>24.260000</td>\n",
              "      <td>22.360001</td>\n",
              "      <td>22.459999</td>\n",
              "      <td>22.459999</td>\n",
              "      <td>7166700.0</td>\n",
              "      <td>dump</td>\n",
              "    </tr>\n",
              "    <tr>\n",
              "      <th>3029</th>\n",
              "      <td>2022</td>\n",
              "      <td>22.50</td>\n",
              "      <td>23.090000</td>\n",
              "      <td>22.480000</td>\n",
              "      <td>22.809999</td>\n",
              "      <td>22.809999</td>\n",
              "      <td>3712706.0</td>\n",
              "      <td>pump</td>\n",
              "    </tr>\n",
              "  </tbody>\n",
              "</table>\n",
              "<p>3028 rows × 8 columns</p>\n",
              "</div>\n",
              "      <button class=\"colab-df-convert\" onclick=\"convertToInteractive('df-620eb819-8e8d-4059-8a8c-f087536e2dcf')\"\n",
              "              title=\"Convert this dataframe to an interactive table.\"\n",
              "              style=\"display:none;\">\n",
              "        \n",
              "  <svg xmlns=\"http://www.w3.org/2000/svg\" height=\"24px\"viewBox=\"0 0 24 24\"\n",
              "       width=\"24px\">\n",
              "    <path d=\"M0 0h24v24H0V0z\" fill=\"none\"/>\n",
              "    <path d=\"M18.56 5.44l.94 2.06.94-2.06 2.06-.94-2.06-.94-.94-2.06-.94 2.06-2.06.94zm-11 1L8.5 8.5l.94-2.06 2.06-.94-2.06-.94L8.5 2.5l-.94 2.06-2.06.94zm10 10l.94 2.06.94-2.06 2.06-.94-2.06-.94-.94-2.06-.94 2.06-2.06.94z\"/><path d=\"M17.41 7.96l-1.37-1.37c-.4-.4-.92-.59-1.43-.59-.52 0-1.04.2-1.43.59L10.3 9.45l-7.72 7.72c-.78.78-.78 2.05 0 2.83L4 21.41c.39.39.9.59 1.41.59.51 0 1.02-.2 1.41-.59l7.78-7.78 2.81-2.81c.8-.78.8-2.07 0-2.86zM5.41 20L4 18.59l7.72-7.72 1.47 1.35L5.41 20z\"/>\n",
              "  </svg>\n",
              "      </button>\n",
              "      \n",
              "  <style>\n",
              "    .colab-df-container {\n",
              "      display:flex;\n",
              "      flex-wrap:wrap;\n",
              "      gap: 12px;\n",
              "    }\n",
              "\n",
              "    .colab-df-convert {\n",
              "      background-color: #E8F0FE;\n",
              "      border: none;\n",
              "      border-radius: 50%;\n",
              "      cursor: pointer;\n",
              "      display: none;\n",
              "      fill: #1967D2;\n",
              "      height: 32px;\n",
              "      padding: 0 0 0 0;\n",
              "      width: 32px;\n",
              "    }\n",
              "\n",
              "    .colab-df-convert:hover {\n",
              "      background-color: #E2EBFA;\n",
              "      box-shadow: 0px 1px 2px rgba(60, 64, 67, 0.3), 0px 1px 3px 1px rgba(60, 64, 67, 0.15);\n",
              "      fill: #174EA6;\n",
              "    }\n",
              "\n",
              "    [theme=dark] .colab-df-convert {\n",
              "      background-color: #3B4455;\n",
              "      fill: #D2E3FC;\n",
              "    }\n",
              "\n",
              "    [theme=dark] .colab-df-convert:hover {\n",
              "      background-color: #434B5C;\n",
              "      box-shadow: 0px 1px 3px 1px rgba(0, 0, 0, 0.15);\n",
              "      filter: drop-shadow(0px 1px 2px rgba(0, 0, 0, 0.3));\n",
              "      fill: #FFFFFF;\n",
              "    }\n",
              "  </style>\n",
              "\n",
              "      <script>\n",
              "        const buttonEl =\n",
              "          document.querySelector('#df-620eb819-8e8d-4059-8a8c-f087536e2dcf button.colab-df-convert');\n",
              "        buttonEl.style.display =\n",
              "          google.colab.kernel.accessAllowed ? 'block' : 'none';\n",
              "\n",
              "        async function convertToInteractive(key) {\n",
              "          const element = document.querySelector('#df-620eb819-8e8d-4059-8a8c-f087536e2dcf');\n",
              "          const dataTable =\n",
              "            await google.colab.kernel.invokeFunction('convertToInteractive',\n",
              "                                                     [key], {});\n",
              "          if (!dataTable) return;\n",
              "\n",
              "          const docLinkHtml = 'Like what you see? Visit the ' +\n",
              "            '<a target=\"_blank\" href=https://colab.research.google.com/notebooks/data_table.ipynb>data table notebook</a>'\n",
              "            + ' to learn more about interactive tables.';\n",
              "          element.innerHTML = '';\n",
              "          dataTable['output_type'] = 'display_data';\n",
              "          await google.colab.output.renderOutput(dataTable, element);\n",
              "          const docLink = document.createElement('div');\n",
              "          docLink.innerHTML = docLinkHtml;\n",
              "          element.appendChild(docLink);\n",
              "        }\n",
              "      </script>\n",
              "    </div>\n",
              "  </div>\n",
              "  "
            ]
          },
          "metadata": {},
          "execution_count": 20
        }
      ],
      "source": [
        "df"
      ]
    },
    {
      "cell_type": "code",
      "execution_count": 21,
      "metadata": {
        "id": "kyWa00-mu8F9",
        "colab": {
          "base_uri": "https://localhost:8080/",
          "height": 748
        },
        "outputId": "1fa39bf1-6f5a-4ada-bca6-906c89cf8a09"
      },
      "outputs": [
        {
          "output_type": "display_data",
          "data": {
            "text/plain": [
              "<Figure size 864x864 with 2 Axes>"
            ],
            "image/png": "[encoded data removed]"
          },
          "metadata": {
            "needs_background": "light"
          }
        }
      ],
      "source": [
        "plt.figure(figsize=(12,12))\n",
        "sns.heatmap(df.corr(), cmap='YlGn', annot=True, fmt = \".2f\")\n",
        "plt.xticks(rotation=45)\n",
        "plt.yticks(rotation=0)\n",
        "plt.title('Correlation Map')\n",
        "plt.show()"
      ]
    },
    {
      "cell_type": "code",
      "execution_count": 22,
      "metadata": {
        "id": "9S2vwHjQvBre",
        "colab": {
          "base_uri": "https://localhost:8080/",
          "height": 885
        },
        "outputId": "f5654004-4cca-45cb-f52a-6b820721a3a8"
      },
      "outputs": [
        {
          "output_type": "execute_result",
          "data": {
            "text/plain": [
              "<matplotlib.axes._subplots.AxesSubplot at 0x7ff0089f0cd0>"
            ]
          },
          "metadata": {},
          "execution_count": 22
        },
        {
          "output_type": "display_data",
          "data": {
            "text/plain": [
              "<Figure size 1440x1080 with 2 Axes>"
            ],
            "image/png": "[encoded data removed]"
          },
          "metadata": {
            "needs_background": "light"
          }
        }
      ],
      "source": [
        "fig, ax = plt.subplots(figsize=(20,15))\n",
        "sns.heatmap(df.corr(), cmap='mako', annot=True, fmt=\"0.2f\")"
      ]
    },
    {
      "cell_type": "code",
      "execution_count": 23,
      "metadata": {
        "id": "62MPNHkMJ1ol"
      },
      "outputs": [],
      "source": [
        "df = df['Adj_Close'].values\n",
        "df = df.reshape(-1, 1)"
      ]
    },
    {
      "cell_type": "code",
      "execution_count": 24,
      "metadata": {
        "id": "blqbx36ELr-b"
      },
      "outputs": [],
      "source": [
        "dataset_train = np.array(df[:int(df.shape[0]*0.8)])\n",
        "dataset_test = np.array(df[int(df.shape[0]*0.8):])"
      ]
    },
    {
      "cell_type": "code",
      "execution_count": 25,
      "metadata": {
        "id": "fy2kSi8GDueX"
      },
      "outputs": [],
      "source": [
        "scaler = MinMaxScaler(feature_range=(0,1))\n",
        "dataset_train = scaler.fit_transform(dataset_train)\n",
        "dataset_test = scaler.transform(dataset_test)"
      ]
    },
    {
      "cell_type": "code",
      "execution_count": 26,
      "metadata": {
        "id": "5kYhZgHQE1qU"
      },
      "outputs": [],
      "source": [
        "def create_dataset(df):\n",
        "    x = []\n",
        "    y = []\n",
        "    for i in range(50, df.shape[0]):\n",
        "        x.append(df[i-50:i, 0])\n",
        "        y.append(df[i, 0])\n",
        "    x = np.array(x)\n",
        "    y = np.array(y)\n",
        "    return x,y"
      ]
    },
    {
      "cell_type": "code",
      "execution_count": 27,
      "metadata": {
        "id": "dr8SebPaEmpU"
      },
      "outputs": [],
      "source": [
        "x_train, y_train = create_dataset(dataset_train)\n",
        "x_test, y_test = create_dataset(dataset_test)"
      ]
    },
    {
      "cell_type": "code",
      "execution_count": 28,
      "metadata": {
        "id": "K62YDcuDGkL7"
      },
      "outputs": [],
      "source": [
        "x_train = np.reshape(x_train, (x_train.shape[0], x_train.shape[1], 1))\n",
        "x_test = np.reshape(x_test, (x_test.shape[0], x_test.shape[1], 1))"
      ]
    },
    {
      "cell_type": "code",
      "execution_count": 29,
      "metadata": {
        "id": "3tMvyJfPGoCn"
      },
      "outputs": [],
      "source": [
        "model1 = Sequential()\n",
        "model1.add(LSTM(units=96, return_sequences=True, input_shape=(x_train.shape[1], 1)))\n",
        "model1.add(Dropout(0.2))\n",
        "model1.add(LSTM(units=96,return_sequences=True))\n",
        "model1.add(Dropout(0.2))\n",
        "model1.add(LSTM(units=96,return_sequences=True))\n",
        "model1.add(Dropout(0.2))\n",
        "model1.add(LSTM(units=96))\n",
        "model1.add(Dropout(0.2))\n",
        "model1.add(Dense(units=1))"
      ]
    },
    {
      "cell_type": "code",
      "execution_count": 30,
      "metadata": {
        "id": "qxBlLGSkGs1e"
      },
      "outputs": [],
      "source": [
        "x_train = np.reshape(x_train, (x_train.shape[0], x_train.shape[1], 1))\n",
        "x_test = np.reshape(x_test, (x_test.shape[0], x_test.shape[1], 1))"
      ]
    },
    {
      "cell_type": "code",
      "execution_count": 31,
      "metadata": {
        "id": "uO9BW6Lonb8w"
      },
      "outputs": [],
      "source": [
        "import tensorflow as tf\n",
        "from tensorflow.keras.layers import Dense\n",
        "from keras.models import Model\n",
        "import tensorflow"
      ]
    },
    {
      "cell_type": "code",
      "execution_count": 32,
      "metadata": {
        "id": "MdIiQvLUGwEE"
      },
      "outputs": [],
      "source": [
        "model1.compile(loss='mean_squared_error', optimizer='adam')"
      ]
    },
    {
      "cell_type": "code",
      "execution_count": 33,
      "metadata": {
        "id": "triiolrrGzFQ",
        "colab": {
          "base_uri": "https://localhost:8080/"
        },
        "outputId": "23844e35-fd4e-4e25-9d78-f12bc8dd10e9"
      },
      "outputs": [
        {
          "output_type": "stream",
          "name": "stdout",
          "text": [
            "Epoch 1/10\n",
            "75/75 [==============================] - 38s 395ms/step - loss: 0.0033 - val_loss: 0.1464\n",
            "Epoch 2/10\n",
            "75/75 [==============================] - 15s 193ms/step - loss: 0.0282 - val_loss: 0.1626\n",
            "Epoch 3/10\n",
            "75/75 [==============================] - 14s 181ms/step - loss: 0.0338 - val_loss: 0.4250\n",
            "Epoch 4/10\n",
            "75/75 [==============================] - 14s 181ms/step - loss: 0.0411 - val_loss: 0.2022\n",
            "Epoch 5/10\n",
            "75/75 [==============================] - 14s 181ms/step - loss: 0.0302 - val_loss: 0.0159\n",
            "Epoch 6/10\n",
            "75/75 [==============================] - 14s 180ms/step - loss: 0.0191 - val_loss: 0.1047\n",
            "Epoch 7/10\n",
            "75/75 [==============================] - 14s 181ms/step - loss: 0.0055 - val_loss: 0.3138\n",
            "Epoch 8/10\n",
            "75/75 [==============================] - 15s 199ms/step - loss: 0.0418 - val_loss: 0.3043\n",
            "Epoch 9/10\n",
            "75/75 [==============================] - 13s 180ms/step - loss: 0.0576 - val_loss: 0.0191\n",
            "Epoch 10/10\n",
            "75/75 [==============================] - 14s 183ms/step - loss: 0.0284 - val_loss: 0.3035\n"
          ]
        }
      ],
      "source": [
        "history=model1.fit(x_train, y_train, epochs=10, batch_size=32,validation_data=(x_test, y_test),verbose=1,shuffle=False)"
      ]
    },
    {
      "cell_type": "code",
      "execution_count": 34,
      "metadata": {
        "id": "l0x9BoiYJe33",
        "colab": {
          "base_uri": "https://localhost:8080/",
          "height": 500
        },
        "outputId": "61be8242-43ef-4827-a4dd-a67a62d63272"
      },
      "outputs": [
        {
          "output_type": "execute_result",
          "data": {
            "text/plain": [
              "<matplotlib.legend.Legend at 0x7ff001a01090>"
            ]
          },
          "metadata": {},
          "execution_count": 34
        },
        {
          "output_type": "display_data",
          "data": {
            "text/plain": [
              "<Figure size 1152x576 with 1 Axes>"
            ],
            "image/png": "[encoded data removed]"
          },
          "metadata": {
            "needs_background": "light"
          }
        }
      ],
      "source": [
        "predictions = model1.predict(x_test)\n",
        "predictions = scaler.inverse_transform(predictions)\n",
        "y_test_scaled = scaler.inverse_transform(y_test.reshape(-1, 1))\n",
        "\n",
        "fig, ax = plt.subplots(figsize=(16,8))\n",
        "ax.set_facecolor('#000041')\n",
        "ax.plot(y_test_scaled, color='red', label='Original price')\n",
        "plt.plot(predictions, color='cyan', label='Predicted price')\n",
        "plt.legend()"
      ]
    },
    {
      "cell_type": "code",
      "execution_count": 35,
      "metadata": {
        "id": "45gyIP_4ltxP"
      },
      "outputs": [],
      "source": [
        "### Lets Do the prediction and check performance metrics\n",
        "train_predict=model1.predict(x_train)\n",
        "test_predict=model1.predict(x_test)"
      ]
    },
    {
      "cell_type": "code",
      "execution_count": 36,
      "metadata": {
        "id": "WWNQzl3Al8gO"
      },
      "outputs": [],
      "source": [
        "##Transformback to original form\n",
        "train_predict=scaler.inverse_transform(train_predict)\n",
        "test_predict=scaler.inverse_transform(test_predict)"
      ]
    },
    {
      "cell_type": "code",
      "execution_count": 37,
      "metadata": {
        "id": "erhfd5WbrRy3"
      },
      "outputs": [],
      "source": [
        "#score= model1.evaluate(x_test, y_test)\n",
        "#print('loss = ', score[0])"
      ]
    },
    {
      "cell_type": "code",
      "execution_count": 38,
      "metadata": {
        "id": "GuErNE0wl-k7",
        "colab": {
          "base_uri": "https://localhost:8080/"
        },
        "outputId": "59b0ec3a-1b63-4b04-bdf0-8591202378a0"
      },
      "outputs": [
        {
          "output_type": "execute_result",
          "data": {
            "text/plain": [
              "49.41451508596601"
            ]
          },
          "metadata": {},
          "execution_count": 38
        }
      ],
      "source": [
        "### Calculate RMSE performance metrics\n",
        "import math\n",
        "from sklearn.metrics import mean_squared_error\n",
        "math.sqrt(mean_squared_error(y_train,train_predict))"
      ]
    },
    {
      "cell_type": "code",
      "execution_count": 39,
      "metadata": {
        "id": "AQVz9c1cmB17",
        "colab": {
          "base_uri": "https://localhost:8080/"
        },
        "outputId": "50d9cd6d-f2df-47c4-a55f-fc41690d821a"
      },
      "outputs": [
        {
          "output_type": "execute_result",
          "data": {
            "text/plain": [
              "48.9554555216926"
            ]
          },
          "metadata": {},
          "execution_count": 39
        }
      ],
      "source": [
        "### Test Data RMSE\n",
        "math.sqrt(mean_squared_error(y_test,test_predict))"
      ]
    },
    {
      "cell_type": "code",
      "execution_count": 40,
      "metadata": {
        "id": "Oc7CPEwpL036",
        "colab": {
          "base_uri": "https://localhost:8080/",
          "height": 294
        },
        "outputId": "e03841a7-5533-44d7-ba2f-35462df03d14"
      },
      "outputs": [
        {
          "output_type": "display_data",
          "data": {
            "text/plain": [
              "<Figure size 576x288 with 1 Axes>"
            ],
            "image/png": "[encoded data removed]"
          },
          "metadata": {
            "needs_background": "light"
          }
        }
      ],
      "source": [
        "plt.figure(figsize=(8,4))\n",
        "plt.plot(history.history['loss'], label='Train Loss')\n",
        "plt.plot(history.history['val_loss'], label='Test Loss')\n",
        "plt.title('model loss')\n",
        "plt.ylabel('loss')\n",
        "plt.xlabel('epochs')\n",
        "plt.legend(loc='upper right')\n",
        "plt.show();"
      ]
    },
    {
      "cell_type": "code",
      "execution_count": 41,
      "metadata": {
        "id": "BwVbcZrLL4cX",
        "colab": {
          "base_uri": "https://localhost:8080/",
          "height": 316
        },
        "outputId": "429a8fb3-a69b-46d5-d93b-715cbdf07a98"
      },
      "outputs": [
        {
          "output_type": "display_data",
          "data": {
            "text/plain": [
              "<Figure size 576x288 with 1 Axes>"
            ],
            "image/png": "[encoded data removed]"
          },
          "metadata": {
            "needs_background": "light"
          }
        }
      ],
      "source": [
        "predictions = model1.predict(x_test)\n",
        "predictions = scaler.inverse_transform(predictions)\n",
        "y_test_scaled = scaler.inverse_transform(y_test.reshape(-1, 1))\n",
        "\n",
        "\n",
        "plt.figure(figsize=(8,4))\n",
        "plt.plot(y_test_scaled, marker='.', label=\"actual\")\n",
        "plt.plot(predictions, 'r', label=\"prediction\")\n",
        "# plt.tick_params(left=False, labelleft=True) #remove ticks\n",
        "plt.tight_layout()\n",
        "sns.despine(top=True)\n",
        "plt.subplots_adjust(left=0.07)\n",
        "plt.ylabel('TOTAL Load', size=15)\n",
        "plt.xlabel('Time step', size=15)\n",
        "plt.legend(fontsize=15)\n",
        "plt.show();"
      ]
    },
    {
      "cell_type": "code",
      "execution_count": 42,
      "metadata": {
        "id": "BJamnnaGRCRI"
      },
      "outputs": [],
      "source": [
        "from keras.utils.vis_utils import plot_model"
      ]
    },
    {
      "cell_type": "code",
      "execution_count": 43,
      "metadata": {
        "id": "rNFMfkHVREyZ",
        "colab": {
          "base_uri": "https://localhost:8080/",
          "height": 1000
        },
        "outputId": "404cb940-ce5a-4925-ca56-dc9283a52a72"
      },
      "outputs": [
        {
          "output_type": "execute_result",
          "data": {
            "text/plain": [
              "<IPython.core.display.Image object>"
            ],
            "image/png": "[encoded data removed]"
          },
          "metadata": {},
          "execution_count": 43
        }
      ],
      "source": [
        "plot_model(model1, to_file='model_plot.png', show_shapes=True, show_layer_names=True)"
      ]
    },
    {
      "cell_type": "markdown",
      "metadata": {
        "id": "F0KpHB4nRMX_"
      },
      "source": [
        "# **CNN**"
      ]
    },
    {
      "cell_type": "code",
      "execution_count": 44,
      "metadata": {
        "id": "gRdEkaDtRN-i"
      },
      "outputs": [],
      "source": [
        "from keras.layers.convolutional import Conv1D\n",
        "from keras.layers import Flatten"
      ]
    },
    {
      "cell_type": "code",
      "execution_count": 45,
      "metadata": {
        "id": "fMfQUY2wTpDF",
        "colab": {
          "base_uri": "https://localhost:8080/"
        },
        "outputId": "4e5eb088-a87b-4f09-beff-30ac32e96c0e"
      },
      "outputs": [
        {
          "output_type": "stream",
          "name": "stdout",
          "text": [
            "Epoch 1/200\n",
            "34/34 [==============================] - 1s 12ms/step - loss: 0.0044 - val_loss: 0.0131\n",
            "Epoch 2/200\n",
            "34/34 [==============================] - 0s 8ms/step - loss: 0.0035 - val_loss: 0.0182\n",
            "Epoch 3/200\n",
            "34/34 [==============================] - 0s 8ms/step - loss: 0.0035 - val_loss: 0.0099\n",
            "Epoch 4/200\n",
            "34/34 [==============================] - 0s 8ms/step - loss: 0.0052 - val_loss: 0.0163\n",
            "Epoch 5/200\n",
            "34/34 [==============================] - 0s 8ms/step - loss: 0.0044 - val_loss: 0.0199\n",
            "Epoch 6/200\n",
            "34/34 [==============================] - 0s 8ms/step - loss: 0.0063 - val_loss: 0.0142\n",
            "Epoch 7/200\n",
            "34/34 [==============================] - 0s 8ms/step - loss: 0.0027 - val_loss: 0.0088\n",
            "Epoch 8/200\n",
            "34/34 [==============================] - 0s 8ms/step - loss: 0.0016 - val_loss: 0.0154\n",
            "Epoch 9/200\n",
            "34/34 [==============================] - 0s 9ms/step - loss: 0.0051 - val_loss: 0.0118\n",
            "Epoch 10/200\n",
            "34/34 [==============================] - 0s 8ms/step - loss: 0.0040 - val_loss: 0.0325\n",
            "Epoch 11/200\n",
            "34/34 [==============================] - 0s 9ms/step - loss: 0.0138 - val_loss: 0.0113\n",
            "Epoch 12/200\n",
            "34/34 [==============================] - 0s 8ms/step - loss: 0.0120 - val_loss: 0.0336\n",
            "Epoch 13/200\n",
            "34/34 [==============================] - 0s 8ms/step - loss: 0.0113 - val_loss: 0.0478\n",
            "Epoch 14/200\n",
            "34/34 [==============================] - 0s 8ms/step - loss: 0.0431 - val_loss: 0.0218\n",
            "Epoch 15/200\n",
            "34/34 [==============================] - 0s 9ms/step - loss: 0.0155 - val_loss: 0.0216\n",
            "Epoch 16/200\n",
            "34/34 [==============================] - 0s 8ms/step - loss: 0.0401 - val_loss: 0.0394\n",
            "Epoch 17/200\n",
            "34/34 [==============================] - 0s 7ms/step - loss: 0.0064 - val_loss: 0.0248\n",
            "Epoch 18/200\n",
            "34/34 [==============================] - 0s 7ms/step - loss: 0.0069 - val_loss: 0.0133\n",
            "Epoch 19/200\n",
            "34/34 [==============================] - 0s 7ms/step - loss: 0.0033 - val_loss: 0.0186\n",
            "Epoch 20/200\n",
            "34/34 [==============================] - 0s 8ms/step - loss: 0.0030 - val_loss: 0.0146\n",
            "Epoch 21/200\n",
            "34/34 [==============================] - 0s 7ms/step - loss: 0.0022 - val_loss: 0.0158\n",
            "Epoch 22/200\n",
            "34/34 [==============================] - 0s 7ms/step - loss: 0.0020 - val_loss: 0.0146\n",
            "Epoch 23/200\n",
            "34/34 [==============================] - 0s 7ms/step - loss: 0.0017 - val_loss: 0.0148\n",
            "Epoch 24/200\n",
            "34/34 [==============================] - 0s 8ms/step - loss: 0.0016 - val_loss: 0.0143\n",
            "Epoch 25/200\n",
            "34/34 [==============================] - 0s 7ms/step - loss: 0.0014 - val_loss: 0.0143\n",
            "Epoch 26/200\n",
            "34/34 [==============================] - 0s 8ms/step - loss: 0.0013 - val_loss: 0.0141\n",
            "Epoch 27/200\n",
            "34/34 [==============================] - 0s 8ms/step - loss: 0.0012 - val_loss: 0.0141\n",
            "Epoch 28/200\n",
            "34/34 [==============================] - 0s 8ms/step - loss: 0.0011 - val_loss: 0.0139\n",
            "Epoch 29/200\n",
            "34/34 [==============================] - 0s 8ms/step - loss: 0.0011 - val_loss: 0.0138\n",
            "Epoch 30/200\n",
            "34/34 [==============================] - 0s 7ms/step - loss: 0.0010 - val_loss: 0.0137\n",
            "Epoch 31/200\n",
            "34/34 [==============================] - 0s 9ms/step - loss: 9.7988e-04 - val_loss: 0.0136\n",
            "Epoch 32/200\n",
            "34/34 [==============================] - 0s 7ms/step - loss: 9.3809e-04 - val_loss: 0.0134\n",
            "Epoch 33/200\n",
            "34/34 [==============================] - 0s 9ms/step - loss: 9.0748e-04 - val_loss: 0.0133\n",
            "Epoch 34/200\n",
            "34/34 [==============================] - 0s 7ms/step - loss: 8.7745e-04 - val_loss: 0.0132\n",
            "Epoch 35/200\n",
            "34/34 [==============================] - 0s 9ms/step - loss: 8.5404e-04 - val_loss: 0.0131\n",
            "Epoch 36/200\n",
            "34/34 [==============================] - 0s 7ms/step - loss: 8.3192e-04 - val_loss: 0.0130\n",
            "Epoch 37/200\n",
            "34/34 [==============================] - 0s 8ms/step - loss: 8.1491e-04 - val_loss: 0.0129\n",
            "Epoch 38/200\n",
            "34/34 [==============================] - 0s 9ms/step - loss: 7.9873e-04 - val_loss: 0.0128\n",
            "Epoch 39/200\n",
            "34/34 [==============================] - 0s 8ms/step - loss: 7.8497e-04 - val_loss: 0.0127\n",
            "Epoch 40/200\n",
            "34/34 [==============================] - 0s 7ms/step - loss: 7.7156e-04 - val_loss: 0.0126\n",
            "Epoch 41/200\n",
            "34/34 [==============================] - 0s 8ms/step - loss: 7.5968e-04 - val_loss: 0.0125\n",
            "Epoch 42/200\n",
            "34/34 [==============================] - 0s 8ms/step - loss: 7.4824e-04 - val_loss: 0.0123\n",
            "Epoch 43/200\n",
            "34/34 [==============================] - 0s 7ms/step - loss: 7.3732e-04 - val_loss: 0.0122\n",
            "Epoch 44/200\n",
            "34/34 [==============================] - 0s 7ms/step - loss: 7.2632e-04 - val_loss: 0.0119\n",
            "Epoch 45/200\n",
            "34/34 [==============================] - 0s 7ms/step - loss: 7.1367e-04 - val_loss: 0.0114\n",
            "Epoch 46/200\n",
            "34/34 [==============================] - 0s 8ms/step - loss: 7.0360e-04 - val_loss: 0.0110\n",
            "Epoch 47/200\n",
            "34/34 [==============================] - 0s 7ms/step - loss: 6.9263e-04 - val_loss: 0.0108\n",
            "Epoch 48/200\n",
            "34/34 [==============================] - 0s 8ms/step - loss: 6.7902e-04 - val_loss: 0.0106\n",
            "Epoch 49/200\n",
            "34/34 [==============================] - 0s 8ms/step - loss: 6.6967e-04 - val_loss: 0.0103\n",
            "Epoch 50/200\n",
            "34/34 [==============================] - 0s 10ms/step - loss: 6.5889e-04 - val_loss: 0.0100\n",
            "Epoch 51/200\n",
            "34/34 [==============================] - 0s 8ms/step - loss: 6.3305e-04 - val_loss: 0.0091\n",
            "Epoch 52/200\n",
            "34/34 [==============================] - 0s 8ms/step - loss: 5.8572e-04 - val_loss: 0.0081\n",
            "Epoch 53/200\n",
            "34/34 [==============================] - 0s 7ms/step - loss: 5.5382e-04 - val_loss: 0.0077\n",
            "Epoch 54/200\n",
            "34/34 [==============================] - 0s 7ms/step - loss: 5.2203e-04 - val_loss: 0.0071\n",
            "Epoch 55/200\n",
            "34/34 [==============================] - 0s 7ms/step - loss: 4.7335e-04 - val_loss: 0.0062\n",
            "Epoch 56/200\n",
            "34/34 [==============================] - 0s 7ms/step - loss: 4.2856e-04 - val_loss: 0.0057\n",
            "Epoch 57/200\n",
            "34/34 [==============================] - 0s 8ms/step - loss: 3.9531e-04 - val_loss: 0.0052\n",
            "Epoch 58/200\n",
            "34/34 [==============================] - 0s 9ms/step - loss: 3.7926e-04 - val_loss: 0.0049\n",
            "Epoch 59/200\n",
            "34/34 [==============================] - 0s 8ms/step - loss: 3.6693e-04 - val_loss: 0.0045\n",
            "Epoch 60/200\n",
            "34/34 [==============================] - 0s 8ms/step - loss: 3.3271e-04 - val_loss: 0.0042\n",
            "Epoch 61/200\n",
            "34/34 [==============================] - 0s 8ms/step - loss: 3.3699e-04 - val_loss: 0.0040\n",
            "Epoch 62/200\n",
            "34/34 [==============================] - 0s 8ms/step - loss: 3.2762e-04 - val_loss: 0.0037\n",
            "Epoch 63/200\n",
            "34/34 [==============================] - 0s 8ms/step - loss: 2.9661e-04 - val_loss: 0.0035\n",
            "Epoch 64/200\n",
            "34/34 [==============================] - 0s 7ms/step - loss: 3.0115e-04 - val_loss: 0.0034\n",
            "Epoch 65/200\n",
            "34/34 [==============================] - 0s 8ms/step - loss: 2.9240e-04 - val_loss: 0.0032\n",
            "Epoch 66/200\n",
            "34/34 [==============================] - 0s 7ms/step - loss: 2.7363e-04 - val_loss: 0.0031\n",
            "Epoch 67/200\n",
            "34/34 [==============================] - 0s 7ms/step - loss: 2.8226e-04 - val_loss: 0.0030\n",
            "Epoch 68/200\n",
            "34/34 [==============================] - 0s 7ms/step - loss: 2.7381e-04 - val_loss: 0.0029\n",
            "Epoch 69/200\n",
            "34/34 [==============================] - 0s 7ms/step - loss: 2.5691e-04 - val_loss: 0.0028\n",
            "Epoch 70/200\n",
            "34/34 [==============================] - 0s 7ms/step - loss: 2.6745e-04 - val_loss: 0.0028\n",
            "Epoch 71/200\n",
            "34/34 [==============================] - 0s 7ms/step - loss: 2.6051e-04 - val_loss: 0.0027\n",
            "Epoch 72/200\n",
            "34/34 [==============================] - 0s 7ms/step - loss: 2.4505e-04 - val_loss: 0.0026\n",
            "Epoch 73/200\n",
            "34/34 [==============================] - 0s 8ms/step - loss: 2.5551e-04 - val_loss: 0.0026\n",
            "Epoch 74/200\n",
            "34/34 [==============================] - 0s 8ms/step - loss: 2.4676e-04 - val_loss: 0.0025\n",
            "Epoch 75/200\n",
            "34/34 [==============================] - 0s 7ms/step - loss: 2.3482e-04 - val_loss: 0.0024\n",
            "Epoch 76/200\n",
            "34/34 [==============================] - 0s 7ms/step - loss: 2.4669e-04 - val_loss: 0.0024\n",
            "Epoch 77/200\n",
            "34/34 [==============================] - 0s 8ms/step - loss: 2.3655e-04 - val_loss: 0.0024\n",
            "Epoch 78/200\n",
            "34/34 [==============================] - 0s 7ms/step - loss: 2.2600e-04 - val_loss: 0.0023\n",
            "Epoch 79/200\n",
            "34/34 [==============================] - 0s 7ms/step - loss: 2.3722e-04 - val_loss: 0.0023\n",
            "Epoch 80/200\n",
            "34/34 [==============================] - 0s 7ms/step - loss: 2.2796e-04 - val_loss: 0.0023\n",
            "Epoch 81/200\n",
            "34/34 [==============================] - 0s 8ms/step - loss: 2.1795e-04 - val_loss: 0.0022\n",
            "Epoch 82/200\n",
            "34/34 [==============================] - 0s 7ms/step - loss: 2.2841e-04 - val_loss: 0.0022\n",
            "Epoch 83/200\n",
            "34/34 [==============================] - 0s 8ms/step - loss: 2.2034e-04 - val_loss: 0.0022\n",
            "Epoch 84/200\n",
            "34/34 [==============================] - 0s 7ms/step - loss: 2.1075e-04 - val_loss: 0.0021\n",
            "Epoch 85/200\n",
            "34/34 [==============================] - 0s 8ms/step - loss: 2.1898e-04 - val_loss: 0.0022\n",
            "Epoch 86/200\n",
            "34/34 [==============================] - 0s 8ms/step - loss: 2.1375e-04 - val_loss: 0.0021\n",
            "Epoch 87/200\n",
            "34/34 [==============================] - 0s 8ms/step - loss: 2.0460e-04 - val_loss: 0.0020\n",
            "Epoch 88/200\n",
            "34/34 [==============================] - 0s 8ms/step - loss: 2.0937e-04 - val_loss: 0.0021\n",
            "Epoch 89/200\n",
            "34/34 [==============================] - 0s 7ms/step - loss: 2.0703e-04 - val_loss: 0.0020\n",
            "Epoch 90/200\n",
            "34/34 [==============================] - 0s 8ms/step - loss: 1.9954e-04 - val_loss: 0.0020\n",
            "Epoch 91/200\n",
            "34/34 [==============================] - 0s 9ms/step - loss: 2.0079e-04 - val_loss: 0.0020\n",
            "Epoch 92/200\n",
            "34/34 [==============================] - 0s 8ms/step - loss: 1.9987e-04 - val_loss: 0.0020\n",
            "Epoch 93/200\n",
            "34/34 [==============================] - 0s 8ms/step - loss: 1.9509e-04 - val_loss: 0.0019\n",
            "Epoch 94/200\n",
            "34/34 [==============================] - 0s 9ms/step - loss: 1.9438e-04 - val_loss: 0.0019\n",
            "Epoch 95/200\n",
            "34/34 [==============================] - 0s 8ms/step - loss: 1.9299e-04 - val_loss: 0.0019\n",
            "Epoch 96/200\n",
            "34/34 [==============================] - 0s 7ms/step - loss: 1.9067e-04 - val_loss: 0.0019\n",
            "Epoch 97/200\n",
            "34/34 [==============================] - 0s 8ms/step - loss: 1.8944e-04 - val_loss: 0.0018\n",
            "Epoch 98/200\n",
            "34/34 [==============================] - 0s 9ms/step - loss: 1.8782e-04 - val_loss: 0.0018\n",
            "Epoch 99/200\n",
            "34/34 [==============================] - 0s 7ms/step - loss: 1.8643e-04 - val_loss: 0.0018\n",
            "Epoch 100/200\n",
            "34/34 [==============================] - 0s 7ms/step - loss: 1.8517e-04 - val_loss: 0.0018\n",
            "Epoch 101/200\n",
            "34/34 [==============================] - 0s 7ms/step - loss: 1.8387e-04 - val_loss: 0.0018\n",
            "Epoch 102/200\n",
            "34/34 [==============================] - 0s 8ms/step - loss: 1.8290e-04 - val_loss: 0.0017\n",
            "Epoch 103/200\n",
            "34/34 [==============================] - 0s 8ms/step - loss: 1.8198e-04 - val_loss: 0.0017\n",
            "Epoch 104/200\n",
            "34/34 [==============================] - 0s 8ms/step - loss: 1.8214e-04 - val_loss: 0.0017\n",
            "Epoch 105/200\n",
            "34/34 [==============================] - 0s 7ms/step - loss: 1.8973e-04 - val_loss: 0.0017\n",
            "Epoch 106/200\n",
            "34/34 [==============================] - 0s 8ms/step - loss: 2.1560e-04 - val_loss: 0.0017\n",
            "Epoch 107/200\n",
            "34/34 [==============================] - 0s 7ms/step - loss: 2.1546e-04 - val_loss: 0.0016\n",
            "Epoch 108/200\n",
            "34/34 [==============================] - 0s 9ms/step - loss: 1.8418e-04 - val_loss: 0.0016\n",
            "Epoch 109/200\n",
            "34/34 [==============================] - 0s 7ms/step - loss: 1.7224e-04 - val_loss: 0.0017\n",
            "Epoch 110/200\n",
            "34/34 [==============================] - 0s 9ms/step - loss: 1.7563e-04 - val_loss: 0.0017\n",
            "Epoch 111/200\n",
            "34/34 [==============================] - 0s 8ms/step - loss: 1.9490e-04 - val_loss: 0.0017\n",
            "Epoch 112/200\n",
            "34/34 [==============================] - 0s 7ms/step - loss: 2.2389e-04 - val_loss: 0.0016\n",
            "Epoch 113/200\n",
            "34/34 [==============================] - 0s 8ms/step - loss: 2.1539e-04 - val_loss: 0.0015\n",
            "Epoch 114/200\n",
            "34/34 [==============================] - 0s 8ms/step - loss: 1.6938e-04 - val_loss: 0.0015\n",
            "Epoch 115/200\n",
            "34/34 [==============================] - 0s 7ms/step - loss: 1.6515e-04 - val_loss: 0.0016\n",
            "Epoch 116/200\n",
            "34/34 [==============================] - 0s 8ms/step - loss: 1.7760e-04 - val_loss: 0.0018\n",
            "Epoch 117/200\n",
            "34/34 [==============================] - 0s 8ms/step - loss: 1.6707e-04 - val_loss: 0.0022\n",
            "Epoch 118/200\n",
            "34/34 [==============================] - 0s 8ms/step - loss: 1.9339e-04 - val_loss: 0.0021\n",
            "Epoch 119/200\n",
            "34/34 [==============================] - 0s 8ms/step - loss: 1.7421e-04 - val_loss: 0.0028\n",
            "Epoch 120/200\n",
            "34/34 [==============================] - 0s 8ms/step - loss: 2.6007e-04 - val_loss: 0.0020\n",
            "Epoch 121/200\n",
            "34/34 [==============================] - 0s 8ms/step - loss: 3.0874e-04 - val_loss: 0.0015\n",
            "Epoch 122/200\n",
            "34/34 [==============================] - 0s 8ms/step - loss: 1.9362e-04 - val_loss: 0.0015\n",
            "Epoch 123/200\n",
            "34/34 [==============================] - 0s 8ms/step - loss: 1.8715e-04 - val_loss: 0.0017\n",
            "Epoch 124/200\n",
            "34/34 [==============================] - 0s 8ms/step - loss: 2.4611e-04 - val_loss: 0.0016\n",
            "Epoch 125/200\n",
            "34/34 [==============================] - 0s 9ms/step - loss: 1.6784e-04 - val_loss: 0.0019\n",
            "Epoch 126/200\n",
            "34/34 [==============================] - 0s 8ms/step - loss: 2.1696e-04 - val_loss: 0.0015\n",
            "Epoch 127/200\n",
            "34/34 [==============================] - 0s 8ms/step - loss: 2.0224e-04 - val_loss: 0.0016\n",
            "Epoch 128/200\n",
            "34/34 [==============================] - 0s 9ms/step - loss: 2.3214e-04 - val_loss: 0.0015\n",
            "Epoch 129/200\n",
            "34/34 [==============================] - 0s 8ms/step - loss: 2.1939e-04 - val_loss: 0.0014\n",
            "Epoch 130/200\n",
            "34/34 [==============================] - 0s 9ms/step - loss: 1.7552e-04 - val_loss: 0.0014\n",
            "Epoch 131/200\n",
            "34/34 [==============================] - 0s 8ms/step - loss: 1.5415e-04 - val_loss: 0.0015\n",
            "Epoch 132/200\n",
            "34/34 [==============================] - 0s 8ms/step - loss: 1.6558e-04 - val_loss: 0.0014\n",
            "Epoch 133/200\n",
            "34/34 [==============================] - 0s 8ms/step - loss: 1.5560e-04 - val_loss: 0.0015\n",
            "Epoch 134/200\n",
            "34/34 [==============================] - 0s 8ms/step - loss: 1.8657e-04 - val_loss: 0.0014\n",
            "Epoch 135/200\n",
            "34/34 [==============================] - 0s 9ms/step - loss: 1.8868e-04 - val_loss: 0.0015\n",
            "Epoch 136/200\n",
            "34/34 [==============================] - 0s 9ms/step - loss: 2.1244e-04 - val_loss: 0.0014\n",
            "Epoch 137/200\n",
            "34/34 [==============================] - 0s 8ms/step - loss: 1.9084e-04 - val_loss: 0.0014\n",
            "Epoch 138/200\n",
            "34/34 [==============================] - 0s 9ms/step - loss: 1.8273e-04 - val_loss: 0.0013\n",
            "Epoch 139/200\n",
            "34/34 [==============================] - 0s 8ms/step - loss: 1.5377e-04 - val_loss: 0.0014\n",
            "Epoch 140/200\n",
            "34/34 [==============================] - 0s 9ms/step - loss: 1.6841e-04 - val_loss: 0.0013\n",
            "Epoch 141/200\n",
            "34/34 [==============================] - 0s 8ms/step - loss: 1.4731e-04 - val_loss: 0.0015\n",
            "Epoch 142/200\n",
            "34/34 [==============================] - 0s 9ms/step - loss: 1.8785e-04 - val_loss: 0.0013\n",
            "Epoch 143/200\n",
            "34/34 [==============================] - 0s 8ms/step - loss: 1.5248e-04 - val_loss: 0.0016\n",
            "Epoch 144/200\n",
            "34/34 [==============================] - 0s 8ms/step - loss: 2.2412e-04 - val_loss: 0.0013\n",
            "Epoch 145/200\n",
            "34/34 [==============================] - 0s 10ms/step - loss: 1.6882e-04 - val_loss: 0.0019\n",
            "Epoch 146/200\n",
            "34/34 [==============================] - 0s 9ms/step - loss: 2.8871e-04 - val_loss: 0.0013\n",
            "Epoch 147/200\n",
            "34/34 [==============================] - 0s 8ms/step - loss: 2.0698e-04 - val_loss: 0.0022\n",
            "Epoch 148/200\n",
            "34/34 [==============================] - 0s 9ms/step - loss: 3.6684e-04 - val_loss: 0.0014\n",
            "Epoch 149/200\n",
            "34/34 [==============================] - 0s 9ms/step - loss: 2.1631e-04 - val_loss: 0.0021\n",
            "Epoch 150/200\n",
            "34/34 [==============================] - 0s 10ms/step - loss: 3.1709e-04 - val_loss: 0.0014\n",
            "Epoch 151/200\n",
            "34/34 [==============================] - 0s 8ms/step - loss: 2.4831e-04 - val_loss: 0.0017\n",
            "Epoch 152/200\n",
            "34/34 [==============================] - 0s 9ms/step - loss: 2.9233e-04 - val_loss: 0.0013\n",
            "Epoch 153/200\n",
            "34/34 [==============================] - 0s 8ms/step - loss: 3.3607e-04 - val_loss: 0.0012\n",
            "Epoch 154/200\n",
            "34/34 [==============================] - 0s 8ms/step - loss: 1.9930e-04 - val_loss: 0.0012\n",
            "Epoch 155/200\n",
            "34/34 [==============================] - 0s 8ms/step - loss: 1.9739e-04 - val_loss: 0.0012\n",
            "Epoch 156/200\n",
            "34/34 [==============================] - 0s 8ms/step - loss: 1.4444e-04 - val_loss: 0.0012\n",
            "Epoch 157/200\n",
            "34/34 [==============================] - 0s 8ms/step - loss: 1.3614e-04 - val_loss: 0.0012\n",
            "Epoch 158/200\n",
            "34/34 [==============================] - 0s 8ms/step - loss: 1.3827e-04 - val_loss: 0.0012\n",
            "Epoch 159/200\n",
            "34/34 [==============================] - 0s 8ms/step - loss: 1.3228e-04 - val_loss: 0.0012\n",
            "Epoch 160/200\n",
            "34/34 [==============================] - 0s 8ms/step - loss: 1.3892e-04 - val_loss: 0.0012\n",
            "Epoch 161/200\n",
            "34/34 [==============================] - 0s 8ms/step - loss: 1.3375e-04 - val_loss: 0.0012\n",
            "Epoch 162/200\n",
            "34/34 [==============================] - 0s 9ms/step - loss: 1.4320e-04 - val_loss: 0.0012\n",
            "Epoch 163/200\n",
            "34/34 [==============================] - 0s 8ms/step - loss: 1.3510e-04 - val_loss: 0.0013\n",
            "Epoch 164/200\n",
            "34/34 [==============================] - 0s 8ms/step - loss: 1.4998e-04 - val_loss: 0.0012\n",
            "Epoch 165/200\n",
            "34/34 [==============================] - 0s 8ms/step - loss: 1.3547e-04 - val_loss: 0.0013\n",
            "Epoch 166/200\n",
            "34/34 [==============================] - 0s 8ms/step - loss: 1.6471e-04 - val_loss: 0.0011\n",
            "Epoch 167/200\n",
            "34/34 [==============================] - 0s 8ms/step - loss: 1.3892e-04 - val_loss: 0.0015\n",
            "Epoch 168/200\n",
            "34/34 [==============================] - 0s 8ms/step - loss: 2.0224e-04 - val_loss: 0.0011\n",
            "Epoch 169/200\n",
            "34/34 [==============================] - 0s 8ms/step - loss: 1.5618e-04 - val_loss: 0.0017\n",
            "Epoch 170/200\n",
            "34/34 [==============================] - 0s 8ms/step - loss: 2.8772e-04 - val_loss: 0.0012\n",
            "Epoch 171/200\n",
            "34/34 [==============================] - 0s 8ms/step - loss: 2.1022e-04 - val_loss: 0.0023\n",
            "Epoch 172/200\n",
            "34/34 [==============================] - 0s 7ms/step - loss: 4.2612e-04 - val_loss: 0.0012\n",
            "Epoch 173/200\n",
            "34/34 [==============================] - 0s 8ms/step - loss: 2.7793e-04 - val_loss: 0.0022\n",
            "Epoch 174/200\n",
            "34/34 [==============================] - 0s 7ms/step - loss: 4.2274e-04 - val_loss: 0.0013\n",
            "Epoch 175/200\n",
            "34/34 [==============================] - 0s 8ms/step - loss: 2.3571e-04 - val_loss: 0.0016\n",
            "Epoch 176/200\n",
            "34/34 [==============================] - 0s 8ms/step - loss: 2.2609e-04 - val_loss: 0.0013\n",
            "Epoch 177/200\n",
            "34/34 [==============================] - 0s 8ms/step - loss: 2.4386e-04 - val_loss: 0.0011\n",
            "Epoch 178/200\n",
            "34/34 [==============================] - 0s 8ms/step - loss: 1.7223e-04 - val_loss: 0.0011\n",
            "Epoch 179/200\n",
            "34/34 [==============================] - 0s 8ms/step - loss: 1.5742e-04 - val_loss: 0.0011\n",
            "Epoch 180/200\n",
            "34/34 [==============================] - 0s 8ms/step - loss: 1.3634e-04 - val_loss: 0.0011\n",
            "Epoch 181/200\n",
            "34/34 [==============================] - 0s 8ms/step - loss: 1.3104e-04 - val_loss: 0.0011\n",
            "Epoch 182/200\n",
            "34/34 [==============================] - 0s 8ms/step - loss: 1.3032e-04 - val_loss: 0.0011\n",
            "Epoch 183/200\n",
            "34/34 [==============================] - 0s 7ms/step - loss: 1.2898e-04 - val_loss: 0.0011\n",
            "Epoch 184/200\n",
            "34/34 [==============================] - 0s 8ms/step - loss: 1.3004e-04 - val_loss: 0.0011\n",
            "Epoch 185/200\n",
            "34/34 [==============================] - 0s 7ms/step - loss: 1.2761e-04 - val_loss: 0.0011\n",
            "Epoch 186/200\n",
            "34/34 [==============================] - 0s 7ms/step - loss: 1.2892e-04 - val_loss: 0.0011\n",
            "Epoch 187/200\n",
            "34/34 [==============================] - 0s 8ms/step - loss: 1.2474e-04 - val_loss: 0.0011\n",
            "Epoch 188/200\n",
            "34/34 [==============================] - 0s 8ms/step - loss: 1.2877e-04 - val_loss: 0.0011\n",
            "Epoch 189/200\n",
            "34/34 [==============================] - 0s 8ms/step - loss: 1.2262e-04 - val_loss: 0.0012\n",
            "Epoch 190/200\n",
            "34/34 [==============================] - 0s 8ms/step - loss: 1.3346e-04 - val_loss: 0.0011\n",
            "Epoch 191/200\n",
            "34/34 [==============================] - 0s 7ms/step - loss: 1.2257e-04 - val_loss: 0.0013\n",
            "Epoch 192/200\n",
            "34/34 [==============================] - 0s 8ms/step - loss: 1.4987e-04 - val_loss: 0.0011\n",
            "Epoch 193/200\n",
            "34/34 [==============================] - 0s 8ms/step - loss: 1.2851e-04 - val_loss: 0.0015\n",
            "Epoch 194/200\n",
            "34/34 [==============================] - 0s 7ms/step - loss: 2.0249e-04 - val_loss: 0.0010\n",
            "Epoch 195/200\n",
            "34/34 [==============================] - 0s 8ms/step - loss: 1.6027e-04 - val_loss: 0.0023\n",
            "Epoch 196/200\n",
            "34/34 [==============================] - 0s 8ms/step - loss: 4.5623e-04 - val_loss: 0.0012\n",
            "Epoch 197/200\n",
            "34/34 [==============================] - 0s 8ms/step - loss: 4.5453e-04 - val_loss: 0.0046\n",
            "Epoch 198/200\n",
            "34/34 [==============================] - 0s 8ms/step - loss: 0.0015 - val_loss: 0.0022\n",
            "Epoch 199/200\n",
            "34/34 [==============================] - 0s 8ms/step - loss: 8.9562e-04 - val_loss: 0.0040\n",
            "Epoch 200/200\n",
            "34/34 [==============================] - 0s 9ms/step - loss: 0.0018 - val_loss: 0.0046\n",
            "Model: \"sequential_1\"\n",
            "_________________________________________________________________\n",
            " Layer (type)                Output Shape              Param #   \n",
            "=================================================================\n",
            " conv1d (Conv1D)             (None, 50, 48)            144       \n",
            "                                                                 \n",
            " flatten (Flatten)           (None, 2400)              0         \n",
            "                                                                 \n",
            " dense_1 (Dense)             (None, 48)                115248    \n",
            "                                                                 \n",
            " dense_2 (Dense)             (None, 1)                 49        \n",
            "                                                                 \n",
            "=================================================================\n",
            "Total params: 115,441\n",
            "Trainable params: 115,441\n",
            "Non-trainable params: 0\n",
            "_________________________________________________________________\n"
          ]
        }
      ],
      "source": [
        "model2 = Sequential()\n",
        "model2.add(Conv1D(filters=48, kernel_size=2, strides=1, padding='causal', activation='relu', input_shape=(x_train.shape[1], x_train.shape[2])))\n",
        "model2.add(Flatten())\n",
        "model2.add(Dense(48, activation='relu'))\n",
        "model2.add(Dense(1))\n",
        "model2.compile(loss='mean_squared_error', optimizer='adam')\n",
        "\n",
        "history = model2.fit(x_train, y_train, epochs=200, batch_size=70, validation_data=(x_test, y_test),verbose=1, shuffle=False)\n",
        "\n",
        "model2.summary()"
      ]
    },
    {
      "cell_type": "code",
      "execution_count": 46,
      "metadata": {
        "id": "lh9wFiuKVCNs",
        "colab": {
          "base_uri": "https://localhost:8080/"
        },
        "outputId": "e6528802-9feb-4c66-e6fe-a0295d143af4"
      },
      "outputs": [
        {
          "output_type": "stream",
          "name": "stdout",
          "text": [
            "Train Mean Absolute Error: 2.2417695416924026\n",
            "Train Root Mean Squared Error: 2.3518426792679494\n",
            "Test Mean Absolute Error: 2.772894704050188\n",
            "Test Root Mean Squared Error: 3.38145897691641\n"
          ]
        }
      ],
      "source": [
        "train_predict = model2.predict(x_train)\n",
        "test_predict = model2.predict(x_test)\n",
        "# invert predictions\n",
        "train_predict = scaler.inverse_transform(train_predict)\n",
        "y_train = scaler.inverse_transform([y_train])\n",
        "test_predict = scaler.inverse_transform(test_predict)\n",
        "y_test = scaler.inverse_transform([y_test])\n",
        "print('Train Mean Absolute Error:', mean_absolute_error(y_train[0], train_predict[:,0]))\n",
        "print('Train Root Mean Squared Error:',np.sqrt(mean_squared_error(y_train[0], train_predict[:,0])))\n",
        "print('Test Mean Absolute Error:', mean_absolute_error(y_test[0], test_predict[:,0]))\n",
        "print('Test Root Mean Squared Error:',np.sqrt(mean_squared_error(y_test[0], test_predict[:,0])))"
      ]
    },
    {
      "cell_type": "code",
      "execution_count": 47,
      "metadata": {
        "id": "4zljNLTjVOKu",
        "colab": {
          "base_uri": "https://localhost:8080/"
        },
        "outputId": "bcd40334-7b30-4f96-e3fb-2af6d4f6d180"
      },
      "outputs": [
        {
          "output_type": "stream",
          "name": "stdout",
          "text": [
            "Train MAPE: 63.67503028306086, Test MAPE: 13.128039790567591\n"
          ]
        }
      ],
      "source": [
        "mape_train = np.mean(np.abs((y_train[0] - train_predict[:,0]) / y_train[0])) * 100\n",
        "mape_test = np.mean(np.abs((y_test[0] - test_predict[:,0]) / y_test[0])) * 100\n",
        "\n",
        "print(\"Train MAPE: {}, Test MAPE: {}\".format(mape_train, mape_test))"
      ]
    },
    {
      "cell_type": "code",
      "execution_count": 48,
      "metadata": {
        "id": "dIy14aqjVUPq",
        "colab": {
          "base_uri": "https://localhost:8080/",
          "height": 294
        },
        "outputId": "97c23a76-aa53-4fb7-b05f-910dc837cf04"
      },
      "outputs": [
        {
          "output_type": "display_data",
          "data": {
            "text/plain": [
              "<Figure size 576x288 with 1 Axes>"
            ],
            "image/png": "[encoded data removed]"
          },
          "metadata": {
            "needs_background": "light"
          }
        }
      ],
      "source": [
        "plt.figure(figsize=(8,4))\n",
        "plt.plot(history.history['loss'], label='Train Loss')\n",
        "plt.plot(history.history['val_loss'], label='Test Loss')\n",
        "plt.title('model loss')\n",
        "plt.ylabel('loss')\n",
        "plt.xlabel('epochs')\n",
        "plt.legend(loc='upper right')\n",
        "plt.show();"
      ]
    },
    {
      "cell_type": "code",
      "execution_count": 49,
      "metadata": {
        "id": "qkloriG1VcPU",
        "colab": {
          "base_uri": "https://localhost:8080/",
          "height": 604
        },
        "outputId": "1e3e714e-e929-48b8-e145-bfef1721f529"
      },
      "outputs": [
        {
          "output_type": "display_data",
          "data": {
            "text/plain": [
              "<Figure size 1152x576 with 1 Axes>"
            ],
            "image/png": "[encoded data removed]"
          },
          "metadata": {
            "needs_background": "light"
          }
        }
      ],
      "source": [
        "idx = 200\n",
        "aa=[x for x in range(idx)]\n",
        "plt.figure(figsize=(16,8))\n",
        "ax.set_facecolor('#000041')\n",
        "plt.plot(aa, y_test[0][:idx], marker='.', label=\"actual\")\n",
        "plt.plot(aa, test_predict[:,0][:idx], 'r', label=\"prediction\")\n",
        "# plt.tick_params(left=False, labelleft=True) #remove ticks\n",
        "plt.tight_layout()\n",
        "sns.despine(top=True)\n",
        "plt.subplots_adjust(left=0.07)\n",
        "plt.ylabel('TOTAL Load', size=15)\n",
        "plt.xlabel('Time step', size=15)\n",
        "plt.legend(fontsize=15)\n",
        "plt.show();"
      ]
    },
    {
      "cell_type": "markdown",
      "metadata": {
        "id": "N47ctY4AZGF0"
      },
      "source": [
        "# **ARMA**"
      ]
    },
    {
      "cell_type": "code",
      "execution_count": 50,
      "metadata": {
        "id": "rP3v4voQZWJq"
      },
      "outputs": [],
      "source": [
        "scaler = MinMaxScaler(feature_range=(0, 1)) # Min Max scaler\n",
        "df = scaler.fit_transform(df) # fit and transform the dataset\n",
        "\n",
        "# Train and Test splits\n",
        "train_size = int(len(df) * 0.80) \n",
        "test_size = len(df) - train_size   \n",
        "train, test = df[0:train_size,:], df[train_size:len(df),:]"
      ]
    },
    {
      "cell_type": "code",
      "execution_count": 51,
      "metadata": {
        "id": "cIAhyq8ZZhtc"
      },
      "outputs": [],
      "source": [
        "def test_metrics():\n",
        "    print('Test Mean Absolute Error:', mean_absolute_error(y_test, test_predict))\n",
        "    print('Test Root Mean Squared Error:',np.sqrt(mean_squared_error(y_test, test_predict)))\n",
        "    print(\"Testing MAPE: {}\".format(mape))\n",
        "    "
      ]
    },
    {
      "cell_type": "code",
      "execution_count": 52,
      "metadata": {
        "id": "FORdCneSZvHS"
      },
      "outputs": [],
      "source": [
        "def pred_plot():\n",
        "  idx = 200\n",
        "  aa=[x for x in range(idx)]\n",
        "  plt.figure(figsize=(8,4))\n",
        "  plt.plot(aa, y_test[:idx], marker='.', label=\"actual\")\n",
        "  plt.plot(aa, test_predict[:idx], 'r', label=\"prediction\")\n",
        "  # plt.tick_params(left=False, labelleft=True) #remove ticks\n",
        "  plt.tight_layout()\n",
        "  sns.despine(top=True)\n",
        "  plt.subplots_adjust(left=0.07)\n",
        "  plt.ylabel('TOTAL Load', size=15)\n",
        "  plt.xlabel('Time step', size=15)\n",
        "  plt.legend(fontsize=15)\n",
        "  plt.show();"
      ]
    },
    {
      "cell_type": "markdown",
      "metadata": {
        "id": "isjpFMyuZ41u"
      },
      "source": [
        "# **ARMA building**"
      ]
    },
    {
      "cell_type": "code",
      "execution_count": 53,
      "metadata": {
        "id": "ZdGzIlFcZ7am",
        "colab": {
          "base_uri": "https://localhost:8080/"
        },
        "outputId": "83f8b0df-e37b-4622-c40c-931e970aa3d1"
      },
      "outputs": [
        {
          "output_type": "stream",
          "name": "stderr",
          "text": [
            "/usr/local/lib/python3.7/dist-packages/statsmodels/tools/_testing.py:19: FutureWarning: pandas.util.testing is deprecated. Use the functions in the public API at pandas.testing instead.\n",
            "  import pandas.util.testing as tm\n"
          ]
        }
      ],
      "source": [
        "from statsmodels.tsa.arima_model import ARMA"
      ]
    },
    {
      "cell_type": "code",
      "execution_count": 54,
      "metadata": {
        "id": "jnR60OI3ZKFV",
        "colab": {
          "base_uri": "https://localhost:8080/"
        },
        "outputId": "20199ad0-b961-4203-de3e-64b05b2cff4a"
      },
      "outputs": [
        {
          "output_type": "stream",
          "name": "stderr",
          "text": [
            "/usr/local/lib/python3.7/dist-packages/statsmodels/base/model.py:492: HessianInversionWarning: Inverting hessian failed, no bse or cov_params available\n",
            "  'available', HessianInversionWarning)\n",
            "/usr/local/lib/python3.7/dist-packages/statsmodels/base/model.py:512: ConvergenceWarning: Maximum Likelihood optimization failed to converge. Check mle_retvals\n",
            "  \"Check mle_retvals\", ConvergenceWarning)\n"
          ]
        }
      ],
      "source": [
        "model = ARMA(train, order=(2,0,1))\n",
        "model_fit = model.fit(disp=False)"
      ]
    },
    {
      "cell_type": "code",
      "execution_count": 55,
      "metadata": {
        "id": "L9L2mJ4iZ_km"
      },
      "outputs": [],
      "source": [
        "test_predict = model_fit.predict(start=len(train), end=len(train)+len(test)-1, dynamic=False)\n",
        "# invert predictions\n",
        "test_predict = scaler.inverse_transform(test_predict.reshape(-1, 1))\n",
        "y_test = scaler.inverse_transform(test)\n",
        "mape_ARMA = np.mean(np.abs((y_test - test_predict) / y_test)) * 100"
      ]
    },
    {
      "cell_type": "code",
      "execution_count": 56,
      "metadata": {
        "id": "cJXwiiCgpNId",
        "colab": {
          "base_uri": "https://localhost:8080/"
        },
        "outputId": "4ac7eec5-fbf3-4571-ad11-8659180a5176"
      },
      "outputs": [
        {
          "output_type": "stream",
          "name": "stdout",
          "text": [
            "124.32826975118093\n"
          ]
        }
      ],
      "source": [
        "print(mape_ARMA)"
      ]
    },
    {
      "cell_type": "code",
      "execution_count": 57,
      "metadata": {
        "id": "IzckssE1aId7",
        "colab": {
          "base_uri": "https://localhost:8080/",
          "height": 316
        },
        "outputId": "c218f96d-b09a-4f89-e972-e0b0234e2451"
      },
      "outputs": [
        {
          "output_type": "display_data",
          "data": {
            "text/plain": [
              "<Figure size 576x288 with 1 Axes>"
            ],
            "image/png": "[encoded data removed]"
          },
          "metadata": {
            "needs_background": "light"
          }
        }
      ],
      "source": [
        "pred_plot()"
      ]
    },
    {
      "cell_type": "markdown",
      "metadata": {
        "id": "DC1NaewwbHNl"
      },
      "source": [
        "# **ARIMA**"
      ]
    },
    {
      "cell_type": "code",
      "execution_count": 58,
      "metadata": {
        "id": "hTti8WvebI8D"
      },
      "outputs": [],
      "source": [
        "from statsmodels.tsa.arima_model import ARIMA"
      ]
    },
    {
      "cell_type": "code",
      "execution_count": 59,
      "metadata": {
        "id": "lDcje7OubLgF"
      },
      "outputs": [],
      "source": [
        "model = ARIMA(train, order=(1, 1, 1))\n",
        "model_fit = model.fit(disp=False)"
      ]
    },
    {
      "cell_type": "code",
      "execution_count": 60,
      "metadata": {
        "id": "a50n7frkbS9A"
      },
      "outputs": [],
      "source": [
        "test_predict = model_fit.predict(start=len(train), end=len(train)+len(test)-1, dynamic=False)\n",
        "# invert predictions\n",
        "test_predict = scaler.inverse_transform(test_predict.reshape(-1, 1))\n",
        "Y_test = scaler.inverse_transform(test)\n",
        "mape_ARIMA = np.mean(np.abs((Y_test - test_predict) / Y_test)) * 100"
      ]
    },
    {
      "cell_type": "code",
      "execution_count": 61,
      "metadata": {
        "id": "5tYPZutFpAyl",
        "colab": {
          "base_uri": "https://localhost:8080/"
        },
        "outputId": "c09b7565-3d66-4c35-ce4b-d75facbc39f8"
      },
      "outputs": [
        {
          "output_type": "stream",
          "name": "stdout",
          "text": [
            "96.2718728258453\n"
          ]
        }
      ],
      "source": [
        "print(mape_ARIMA)"
      ]
    },
    {
      "cell_type": "code",
      "execution_count": 62,
      "metadata": {
        "id": "KxWiPXjrbVk_"
      },
      "outputs": [],
      "source": [
        "#test_metrics()"
      ]
    },
    {
      "cell_type": "code",
      "execution_count": 63,
      "metadata": {
        "id": "zuUBBVwCba49",
        "colab": {
          "base_uri": "https://localhost:8080/",
          "height": 316
        },
        "outputId": "9cb6dfc0-2844-48f0-c427-7fcf0ce7dadb"
      },
      "outputs": [
        {
          "output_type": "display_data",
          "data": {
            "text/plain": [
              "<Figure size 576x288 with 1 Axes>"
            ],
            "image/png": "[encoded data removed]"
          },
          "metadata": {
            "needs_background": "light"
          }
        }
      ],
      "source": [
        "pred_plot()"
      ]
    }
  ],
  "metadata": {
    "colab": {
      "name": "All_models.ipynb",
      "provenance": []
    },
    "kernelspec": {
      "display_name": "Python 3",
      "name": "python3"
    },
    "language_info": {
      "name": "python"
    }
  },
  "nbformat": 4,
  "nbformat_minor": 0
}