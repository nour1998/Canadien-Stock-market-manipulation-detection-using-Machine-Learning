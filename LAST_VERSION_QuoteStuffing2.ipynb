{
  "cells": [
    {
      "cell_type": "code",
      "execution_count": 1,
      "metadata": {
        "id": "wFjPnNu-9Ccy"
      },
      "outputs": [],
      "source": [
        "import pandas as pd\n",
        "import numpy as np\n",
        "import keras\n",
        "from matplotlib import pyplot as plt"
      ]
    },
    {
      "cell_type": "code",
      "execution_count": 2,
      "metadata": {
        "id": "IrKrCMHk9vRO"
      },
      "outputs": [],
      "source": [
        "data = pd.read_csv('/content/FinalData.csv')"
      ]
    },
    {
      "cell_type": "code",
      "execution_count": 3,
      "metadata": {
        "id": "OLUfEBqUVDDH"
      },
      "outputs": [],
      "source": [
        "testing_Data=pd.read_csv('/content/FINALFORSURE.csv')"
      ]
    },
    {
      "cell_type": "code",
      "execution_count": 4,
      "metadata": {
        "colab": {
          "base_uri": "https://localhost:8080/",
          "height": 661
        },
        "id": "v5rGWW_V97Ev",
        "outputId": "d56de916-ada0-4f87-aa1d-a89f3bc2466f"
      },
      "outputs": [
        {
          "output_type": "execute_result",
          "data": {
            "text/plain": [
              "      SenderSubId      orderId   Account Symbol ordStatus        side  \\\n",
              "0         JTOWTDA    106561171  3J1AK62E   NVCN       NEW         BUY   \n",
              "1         JTOWTDA    106561173  3J1AK62E   NVCN       NEW  SELL SHORT   \n",
              "2         JTSTMA2  7E53359-1-5  3J1AP14E    BBI       NEW        SELL   \n",
              "3         JTOWTDA    106561174  3J1AK62E   NVCN       NEW         BUY   \n",
              "4         JTOWTDA    106561176  3J1AK62E    SWY       NEW         BUY   \n",
              "...           ...          ...       ...    ...       ...         ...   \n",
              "24366     JTPOINT         8592  3J1AN90T    XAW       NEW        Sell   \n",
              "24367     JTPOINT         8593  3J1AN90T    XAW       NEW        Sell   \n",
              "24368     JTPOINT         8594  3J1AN90T    XAW       NEW        Sell   \n",
              "24369     JTPOINT         8595  3J1AN90T    XAW       NEW        Sell   \n",
              "24370     JTPOINT         8596  3J1AN90T    XAW       NEW        Sell   \n",
              "\n",
              "       OrderQty      Price  LastShares  LastPx lastMkt  \\\n",
              "0      120000.0   0.050000           0     0.0     PTX   \n",
              "1      120000.0   0.060000           0     0.0     PTX   \n",
              "2       10000.0   0.385000           0     0.0     CDX   \n",
              "3      150000.0   0.045000           0     0.0     PTX   \n",
              "4       12000.0   0.500000           0     0.0     PTX   \n",
              "...         ...        ...         ...     ...     ...   \n",
              "24366     500.0  25.802124           0     0.0     PTX   \n",
              "24367     500.0  25.802124           0     0.0     PTX   \n",
              "24368     500.0  25.802124           0     0.0     PTX   \n",
              "24369     500.0  25.802124           0     0.0     PTX   \n",
              "24370     500.0  25.802124           0     0.0     PTX   \n",
              "\n",
              "                 TransactTime                timeStamp  MsgSeqNum  Cancelled  \\\n",
              "0        5/24/2018 7:00:00 AM  2018-05-24 07:25:39.077          0          0   \n",
              "1        5/24/2018 7:00:00 AM  2018-05-24 07:25:39.093          1          0   \n",
              "2        5/24/2018 7:00:24 AM  2018-05-24 07:25:39.093          2          0   \n",
              "3        5/24/2018 7:00:00 AM  2018-05-24 07:25:39.093          3          0   \n",
              "4        5/24/2018 7:00:00 AM  2018-05-24 07:25:39.093          4          0   \n",
              "...                       ...                      ...        ...        ...   \n",
              "24366  2018-05-24 09:28:18 AM  2018-05-24 09:28:18.002      25782          0   \n",
              "24367  2018-05-24 09:28:18 AM  2018-05-24 09:28:18.003      25783          0   \n",
              "24368  2018-05-24 09:28:18 AM  2018-05-24 09:28:18.004      25784          0   \n",
              "24369  2018-05-24 09:28:18 AM  2018-05-24 09:28:18.005      25785          0   \n",
              "24370  2018-05-24 09:28:18 AM  2018-05-24 09:28:18.007      25786          0   \n",
              "\n",
              "       Fraud  \n",
              "0          0  \n",
              "1          0  \n",
              "2          0  \n",
              "3          0  \n",
              "4          0  \n",
              "...      ...  \n",
              "24366      1  \n",
              "24367      1  \n",
              "24368      1  \n",
              "24369      1  \n",
              "24370      1  \n",
              "\n",
              "[24371 rows x 16 columns]"
            ],
            "text/html": [
              "\n",
              "  <div id=\"df-fdd1491b-de23-400b-bd79-371bc9907913\">\n",
              "    <div class=\"colab-df-container\">\n",
              "      <div>\n",
              "<style scoped>\n",
              "    .dataframe tbody tr th:only-of-type {\n",
              "        vertical-align: middle;\n",
              "    }\n",
              "\n",
              "    .dataframe tbody tr th {\n",
              "        vertical-align: top;\n",
              "    }\n",
              "\n",
              "    .dataframe thead th {\n",
              "        text-align: right;\n",
              "    }\n",
              "</style>\n",
              "<table border=\"1\" class=\"dataframe\">\n",
              "  <thead>\n",
              "    <tr style=\"text-align: right;\">\n",
              "      <th></th>\n",
              "      <th>SenderSubId</th>\n",
              "      <th>orderId</th>\n",
              "      <th>Account</th>\n",
              "      <th>Symbol</th>\n",
              "      <th>ordStatus</th>\n",
              "      <th>side</th>\n",
              "      <th>OrderQty</th>\n",
              "      <th>Price</th>\n",
              "      <th>LastShares</th>\n",
              "      <th>LastPx</th>\n",
              "      <th>lastMkt</th>\n",
              "      <th>TransactTime</th>\n",
              "      <th>timeStamp</th>\n",
              "      <th>MsgSeqNum</th>\n",
              "      <th>Cancelled</th>\n",
              "      <th>Fraud</th>\n",
              "    </tr>\n",
              "  </thead>\n",
              "  <tbody>\n",
              "    <tr>\n",
              "      <th>0</th>\n",
              "      <td>JTOWTDA</td>\n",
              "      <td>106561171</td>\n",
              "      <td>3J1AK62E</td>\n",
              "      <td>NVCN</td>\n",
              "      <td>NEW</td>\n",
              "      <td>BUY</td>\n",
              "      <td>120000.0</td>\n",
              "      <td>0.050000</td>\n",
              "      <td>0</td>\n",
              "      <td>0.0</td>\n",
              "      <td>PTX</td>\n",
              "      <td>5/24/2018 7:00:00 AM</td>\n",
              "      <td>2018-05-24 07:25:39.077</td>\n",
              "      <td>0</td>\n",
              "      <td>0</td>\n",
              "      <td>0</td>\n",
              "    </tr>\n",
              "    <tr>\n",
              "      <th>1</th>\n",
              "      <td>JTOWTDA</td>\n",
              "      <td>106561173</td>\n",
              "      <td>3J1AK62E</td>\n",
              "      <td>NVCN</td>\n",
              "      <td>NEW</td>\n",
              "      <td>SELL SHORT</td>\n",
              "      <td>120000.0</td>\n",
              "      <td>0.060000</td>\n",
              "      <td>0</td>\n",
              "      <td>0.0</td>\n",
              "      <td>PTX</td>\n",
              "      <td>5/24/2018 7:00:00 AM</td>\n",
              "      <td>2018-05-24 07:25:39.093</td>\n",
              "      <td>1</td>\n",
              "      <td>0</td>\n",
              "      <td>0</td>\n",
              "    </tr>\n",
              "    <tr>\n",
              "      <th>2</th>\n",
              "      <td>JTSTMA2</td>\n",
              "      <td>7E53359-1-5</td>\n",
              "      <td>3J1AP14E</td>\n",
              "      <td>BBI</td>\n",
              "      <td>NEW</td>\n",
              "      <td>SELL</td>\n",
              "      <td>10000.0</td>\n",
              "      <td>0.385000</td>\n",
              "      <td>0</td>\n",
              "      <td>0.0</td>\n",
              "      <td>CDX</td>\n",
              "      <td>5/24/2018 7:00:24 AM</td>\n",
              "      <td>2018-05-24 07:25:39.093</td>\n",
              "      <td>2</td>\n",
              "      <td>0</td>\n",
              "      <td>0</td>\n",
              "    </tr>\n",
              "    <tr>\n",
              "      <th>3</th>\n",
              "      <td>JTOWTDA</td>\n",
              "      <td>106561174</td>\n",
              "      <td>3J1AK62E</td>\n",
              "      <td>NVCN</td>\n",
              "      <td>NEW</td>\n",
              "      <td>BUY</td>\n",
              "      <td>150000.0</td>\n",
              "      <td>0.045000</td>\n",
              "      <td>0</td>\n",
              "      <td>0.0</td>\n",
              "      <td>PTX</td>\n",
              "      <td>5/24/2018 7:00:00 AM</td>\n",
              "      <td>2018-05-24 07:25:39.093</td>\n",
              "      <td>3</td>\n",
              "      <td>0</td>\n",
              "      <td>0</td>\n",
              "    </tr>\n",
              "    <tr>\n",
              "      <th>4</th>\n",
              "      <td>JTOWTDA</td>\n",
              "      <td>106561176</td>\n",
              "      <td>3J1AK62E</td>\n",
              "      <td>SWY</td>\n",
              "      <td>NEW</td>\n",
              "      <td>BUY</td>\n",
              "      <td>12000.0</td>\n",
              "      <td>0.500000</td>\n",
              "      <td>0</td>\n",
              "      <td>0.0</td>\n",
              "      <td>PTX</td>\n",
              "      <td>5/24/2018 7:00:00 AM</td>\n",
              "      <td>2018-05-24 07:25:39.093</td>\n",
              "      <td>4</td>\n",
              "      <td>0</td>\n",
              "      <td>0</td>\n",
              "    </tr>\n",
              "    <tr>\n",
              "      <th>...</th>\n",
              "      <td>...</td>\n",
              "      <td>...</td>\n",
              "      <td>...</td>\n",
              "      <td>...</td>\n",
              "      <td>...</td>\n",
              "      <td>...</td>\n",
              "      <td>...</td>\n",
              "      <td>...</td>\n",
              "      <td>...</td>\n",
              "      <td>...</td>\n",
              "      <td>...</td>\n",
              "      <td>...</td>\n",
              "      <td>...</td>\n",
              "      <td>...</td>\n",
              "      <td>...</td>\n",
              "      <td>...</td>\n",
              "    </tr>\n",
              "    <tr>\n",
              "      <th>24366</th>\n",
              "      <td>JTPOINT</td>\n",
              "      <td>8592</td>\n",
              "      <td>3J1AN90T</td>\n",
              "      <td>XAW</td>\n",
              "      <td>NEW</td>\n",
              "      <td>Sell</td>\n",
              "      <td>500.0</td>\n",
              "      <td>25.802124</td>\n",
              "      <td>0</td>\n",
              "      <td>0.0</td>\n",
              "      <td>PTX</td>\n",
              "      <td>2018-05-24 09:28:18 AM</td>\n",
              "      <td>2018-05-24 09:28:18.002</td>\n",
              "      <td>25782</td>\n",
              "      <td>0</td>\n",
              "      <td>1</td>\n",
              "    </tr>\n",
              "    <tr>\n",
              "      <th>24367</th>\n",
              "      <td>JTPOINT</td>\n",
              "      <td>8593</td>\n",
              "      <td>3J1AN90T</td>\n",
              "      <td>XAW</td>\n",
              "      <td>NEW</td>\n",
              "      <td>Sell</td>\n",
              "      <td>500.0</td>\n",
              "      <td>25.802124</td>\n",
              "      <td>0</td>\n",
              "      <td>0.0</td>\n",
              "      <td>PTX</td>\n",
              "      <td>2018-05-24 09:28:18 AM</td>\n",
              "      <td>2018-05-24 09:28:18.003</td>\n",
              "      <td>25783</td>\n",
              "      <td>0</td>\n",
              "      <td>1</td>\n",
              "    </tr>\n",
              "    <tr>\n",
              "      <th>24368</th>\n",
              "      <td>JTPOINT</td>\n",
              "      <td>8594</td>\n",
              "      <td>3J1AN90T</td>\n",
              "      <td>XAW</td>\n",
              "      <td>NEW</td>\n",
              "      <td>Sell</td>\n",
              "      <td>500.0</td>\n",
              "      <td>25.802124</td>\n",
              "      <td>0</td>\n",
              "      <td>0.0</td>\n",
              "      <td>PTX</td>\n",
              "      <td>2018-05-24 09:28:18 AM</td>\n",
              "      <td>2018-05-24 09:28:18.004</td>\n",
              "      <td>25784</td>\n",
              "      <td>0</td>\n",
              "      <td>1</td>\n",
              "    </tr>\n",
              "    <tr>\n",
              "      <th>24369</th>\n",
              "      <td>JTPOINT</td>\n",
              "      <td>8595</td>\n",
              "      <td>3J1AN90T</td>\n",
              "      <td>XAW</td>\n",
              "      <td>NEW</td>\n",
              "      <td>Sell</td>\n",
              "      <td>500.0</td>\n",
              "      <td>25.802124</td>\n",
              "      <td>0</td>\n",
              "      <td>0.0</td>\n",
              "      <td>PTX</td>\n",
              "      <td>2018-05-24 09:28:18 AM</td>\n",
              "      <td>2018-05-24 09:28:18.005</td>\n",
              "      <td>25785</td>\n",
              "      <td>0</td>\n",
              "      <td>1</td>\n",
              "    </tr>\n",
              "    <tr>\n",
              "      <th>24370</th>\n",
              "      <td>JTPOINT</td>\n",
              "      <td>8596</td>\n",
              "      <td>3J1AN90T</td>\n",
              "      <td>XAW</td>\n",
              "      <td>NEW</td>\n",
              "      <td>Sell</td>\n",
              "      <td>500.0</td>\n",
              "      <td>25.802124</td>\n",
              "      <td>0</td>\n",
              "      <td>0.0</td>\n",
              "      <td>PTX</td>\n",
              "      <td>2018-05-24 09:28:18 AM</td>\n",
              "      <td>2018-05-24 09:28:18.007</td>\n",
              "      <td>25786</td>\n",
              "      <td>0</td>\n",
              "      <td>1</td>\n",
              "    </tr>\n",
              "  </tbody>\n",
              "</table>\n",
              "<p>24371 rows × 16 columns</p>\n",
              "</div>\n",
              "      <button class=\"colab-df-convert\" onclick=\"convertToInteractive('df-fdd1491b-de23-400b-bd79-371bc9907913')\"\n",
              "              title=\"Convert this dataframe to an interactive table.\"\n",
              "              style=\"display:none;\">\n",
              "        \n",
              "  <svg xmlns=\"http://www.w3.org/2000/svg\" height=\"24px\"viewBox=\"0 0 24 24\"\n",
              "       width=\"24px\">\n",
              "    <path d=\"M0 0h24v24H0V0z\" fill=\"none\"/>\n",
              "    <path d=\"M18.56 5.44l.94 2.06.94-2.06 2.06-.94-2.06-.94-.94-2.06-.94 2.06-2.06.94zm-11 1L8.5 8.5l.94-2.06 2.06-.94-2.06-.94L8.5 2.5l-.94 2.06-2.06.94zm10 10l.94 2.06.94-2.06 2.06-.94-2.06-.94-.94-2.06-.94 2.06-2.06.94z\"/><path d=\"M17.41 7.96l-1.37-1.37c-.4-.4-.92-.59-1.43-.59-.52 0-1.04.2-1.43.59L10.3 9.45l-7.72 7.72c-.78.78-.78 2.05 0 2.83L4 21.41c.39.39.9.59 1.41.59.51 0 1.02-.2 1.41-.59l7.78-7.78 2.81-2.81c.8-.78.8-2.07 0-2.86zM5.41 20L4 18.59l7.72-7.72 1.47 1.35L5.41 20z\"/>\n",
              "  </svg>\n",
              "      </button>\n",
              "      \n",
              "  <style>\n",
              "    .colab-df-container {\n",
              "      display:flex;\n",
              "      flex-wrap:wrap;\n",
              "      gap: 12px;\n",
              "    }\n",
              "\n",
              "    .colab-df-convert {\n",
              "      background-color: #E8F0FE;\n",
              "      border: none;\n",
              "      border-radius: 50%;\n",
              "      cursor: pointer;\n",
              "      display: none;\n",
              "      fill: #1967D2;\n",
              "      height: 32px;\n",
              "      padding: 0 0 0 0;\n",
              "      width: 32px;\n",
              "    }\n",
              "\n",
              "    .colab-df-convert:hover {\n",
              "      background-color: #E2EBFA;\n",
              "      box-shadow: 0px 1px 2px rgba(60, 64, 67, 0.3), 0px 1px 3px 1px rgba(60, 64, 67, 0.15);\n",
              "      fill: #174EA6;\n",
              "    }\n",
              "\n",
              "    [theme=dark] .colab-df-convert {\n",
              "      background-color: #3B4455;\n",
              "      fill: #D2E3FC;\n",
              "    }\n",
              "\n",
              "    [theme=dark] .colab-df-convert:hover {\n",
              "      background-color: #434B5C;\n",
              "      box-shadow: 0px 1px 3px 1px rgba(0, 0, 0, 0.15);\n",
              "      filter: drop-shadow(0px 1px 2px rgba(0, 0, 0, 0.3));\n",
              "      fill: #FFFFFF;\n",
              "    }\n",
              "  </style>\n",
              "\n",
              "      <script>\n",
              "        const buttonEl =\n",
              "          document.querySelector('#df-fdd1491b-de23-400b-bd79-371bc9907913 button.colab-df-convert');\n",
              "        buttonEl.style.display =\n",
              "          google.colab.kernel.accessAllowed ? 'block' : 'none';\n",
              "\n",
              "        async function convertToInteractive(key) {\n",
              "          const element = document.querySelector('#df-fdd1491b-de23-400b-bd79-371bc9907913');\n",
              "          const dataTable =\n",
              "            await google.colab.kernel.invokeFunction('convertToInteractive',\n",
              "                                                     [key], {});\n",
              "          if (!dataTable) return;\n",
              "\n",
              "          const docLinkHtml = 'Like what you see? Visit the ' +\n",
              "            '<a target=\"_blank\" href=https://colab.research.google.com/notebooks/data_table.ipynb>data table notebook</a>'\n",
              "            + ' to learn more about interactive tables.';\n",
              "          element.innerHTML = '';\n",
              "          dataTable['output_type'] = 'display_data';\n",
              "          await google.colab.output.renderOutput(dataTable, element);\n",
              "          const docLink = document.createElement('div');\n",
              "          docLink.innerHTML = docLinkHtml;\n",
              "          element.appendChild(docLink);\n",
              "        }\n",
              "      </script>\n",
              "    </div>\n",
              "  </div>\n",
              "  "
            ]
          },
          "metadata": {},
          "execution_count": 4
        }
      ],
      "source": [
        "data"
      ]
    },
    {
      "cell_type": "code",
      "execution_count": 5,
      "metadata": {
        "colab": {
          "base_uri": "https://localhost:8080/"
        },
        "id": "Aq4aPR6J-FHW",
        "outputId": "a653333c-6b6a-48d1-a98e-c0cb6e36457d"
      },
      "outputs": [
        {
          "output_type": "stream",
          "name": "stdout",
          "text": [
            "<class 'pandas.core.frame.DataFrame'>\n",
            "RangeIndex: 24371 entries, 0 to 24370\n",
            "Data columns (total 16 columns):\n",
            " #   Column        Non-Null Count  Dtype  \n",
            "---  ------        --------------  -----  \n",
            " 0   SenderSubId   24371 non-null  object \n",
            " 1   orderId       24371 non-null  object \n",
            " 2   Account       24371 non-null  object \n",
            " 3   Symbol        24365 non-null  object \n",
            " 4   ordStatus     24371 non-null  object \n",
            " 5   side          24371 non-null  object \n",
            " 6   OrderQty      24317 non-null  float64\n",
            " 7   Price         24317 non-null  float64\n",
            " 8   LastShares    24371 non-null  int64  \n",
            " 9   LastPx        24371 non-null  float64\n",
            " 10  lastMkt       24371 non-null  object \n",
            " 11  TransactTime  24371 non-null  object \n",
            " 12  timeStamp     24371 non-null  object \n",
            " 13  MsgSeqNum     24371 non-null  int64  \n",
            " 14  Cancelled     24371 non-null  int64  \n",
            " 15  Fraud         24371 non-null  int64  \n",
            "dtypes: float64(3), int64(4), object(9)\n",
            "memory usage: 3.0+ MB\n"
          ]
        }
      ],
      "source": [
        "data.info()"
      ]
    },
    {
      "cell_type": "code",
      "execution_count": 6,
      "metadata": {
        "colab": {
          "base_uri": "https://localhost:8080/",
          "height": 269
        },
        "id": "2B4VRhlzR2WU",
        "outputId": "f7867b95-15cc-413a-dc45-8342ad85d49b"
      },
      "outputs": [
        {
          "output_type": "execute_result",
          "data": {
            "text/plain": [
              "              count          mean            std   min      25%       50%  \\\n",
              "OrderQty    24317.0  24898.041452  124969.207340  99.0   500.00   2500.00   \n",
              "Price       24317.0     10.564240      17.926283   0.0     0.07      0.55   \n",
              "LastShares  24371.0     10.910508     509.849998   0.0     0.00      0.00   \n",
              "LastPx      24371.0      0.020669       0.732954   0.0     0.00      0.00   \n",
              "MsgSeqNum   24371.0  12512.926798    7483.024866   0.0  6092.50  12185.00   \n",
              "Cancelled   24371.0      0.000000       0.000000   0.0     0.00      0.00   \n",
              "Fraud       24371.0      0.294818       0.455970   0.0     0.00      0.00   \n",
              "\n",
              "                     75%          max  \n",
              "OrderQty    15500.000000  14759000.00  \n",
              "Price          25.802124       810.90  \n",
              "LastShares      0.000000     51000.00  \n",
              "LastPx          0.000000        40.22  \n",
              "MsgSeqNum   18277.500000     25786.00  \n",
              "Cancelled       0.000000         0.00  \n",
              "Fraud           1.000000         1.00  "
            ],
            "text/html": [
              "\n",
              "  <div id=\"df-93ad30bd-d0ff-479d-9b12-e6142a3d6f29\">\n",
              "    <div class=\"colab-df-container\">\n",
              "      <div>\n",
              "<style scoped>\n",
              "    .dataframe tbody tr th:only-of-type {\n",
              "        vertical-align: middle;\n",
              "    }\n",
              "\n",
              "    .dataframe tbody tr th {\n",
              "        vertical-align: top;\n",
              "    }\n",
              "\n",
              "    .dataframe thead th {\n",
              "        text-align: right;\n",
              "    }\n",
              "</style>\n",
              "<table border=\"1\" class=\"dataframe\">\n",
              "  <thead>\n",
              "    <tr style=\"text-align: right;\">\n",
              "      <th></th>\n",
              "      <th>count</th>\n",
              "      <th>mean</th>\n",
              "      <th>std</th>\n",
              "      <th>min</th>\n",
              "      <th>25%</th>\n",
              "      <th>50%</th>\n",
              "      <th>75%</th>\n",
              "      <th>max</th>\n",
              "    </tr>\n",
              "  </thead>\n",
              "  <tbody>\n",
              "    <tr>\n",
              "      <th>OrderQty</th>\n",
              "      <td>24317.0</td>\n",
              "      <td>24898.041452</td>\n",
              "      <td>124969.207340</td>\n",
              "      <td>99.0</td>\n",
              "      <td>500.00</td>\n",
              "      <td>2500.00</td>\n",
              "      <td>15500.000000</td>\n",
              "      <td>14759000.00</td>\n",
              "    </tr>\n",
              "    <tr>\n",
              "      <th>Price</th>\n",
              "      <td>24317.0</td>\n",
              "      <td>10.564240</td>\n",
              "      <td>17.926283</td>\n",
              "      <td>0.0</td>\n",
              "      <td>0.07</td>\n",
              "      <td>0.55</td>\n",
              "      <td>25.802124</td>\n",
              "      <td>810.90</td>\n",
              "    </tr>\n",
              "    <tr>\n",
              "      <th>LastShares</th>\n",
              "      <td>24371.0</td>\n",
              "      <td>10.910508</td>\n",
              "      <td>509.849998</td>\n",
              "      <td>0.0</td>\n",
              "      <td>0.00</td>\n",
              "      <td>0.00</td>\n",
              "      <td>0.000000</td>\n",
              "      <td>51000.00</td>\n",
              "    </tr>\n",
              "    <tr>\n",
              "      <th>LastPx</th>\n",
              "      <td>24371.0</td>\n",
              "      <td>0.020669</td>\n",
              "      <td>0.732954</td>\n",
              "      <td>0.0</td>\n",
              "      <td>0.00</td>\n",
              "      <td>0.00</td>\n",
              "      <td>0.000000</td>\n",
              "      <td>40.22</td>\n",
              "    </tr>\n",
              "    <tr>\n",
              "      <th>MsgSeqNum</th>\n",
              "      <td>24371.0</td>\n",
              "      <td>12512.926798</td>\n",
              "      <td>7483.024866</td>\n",
              "      <td>0.0</td>\n",
              "      <td>6092.50</td>\n",
              "      <td>12185.00</td>\n",
              "      <td>18277.500000</td>\n",
              "      <td>25786.00</td>\n",
              "    </tr>\n",
              "    <tr>\n",
              "      <th>Cancelled</th>\n",
              "      <td>24371.0</td>\n",
              "      <td>0.000000</td>\n",
              "      <td>0.000000</td>\n",
              "      <td>0.0</td>\n",
              "      <td>0.00</td>\n",
              "      <td>0.00</td>\n",
              "      <td>0.000000</td>\n",
              "      <td>0.00</td>\n",
              "    </tr>\n",
              "    <tr>\n",
              "      <th>Fraud</th>\n",
              "      <td>24371.0</td>\n",
              "      <td>0.294818</td>\n",
              "      <td>0.455970</td>\n",
              "      <td>0.0</td>\n",
              "      <td>0.00</td>\n",
              "      <td>0.00</td>\n",
              "      <td>1.000000</td>\n",
              "      <td>1.00</td>\n",
              "    </tr>\n",
              "  </tbody>\n",
              "</table>\n",
              "</div>\n",
              "      <button class=\"colab-df-convert\" onclick=\"convertToInteractive('df-93ad30bd-d0ff-479d-9b12-e6142a3d6f29')\"\n",
              "              title=\"Convert this dataframe to an interactive table.\"\n",
              "              style=\"display:none;\">\n",
              "        \n",
              "  <svg xmlns=\"http://www.w3.org/2000/svg\" height=\"24px\"viewBox=\"0 0 24 24\"\n",
              "       width=\"24px\">\n",
              "    <path d=\"M0 0h24v24H0V0z\" fill=\"none\"/>\n",
              "    <path d=\"M18.56 5.44l.94 2.06.94-2.06 2.06-.94-2.06-.94-.94-2.06-.94 2.06-2.06.94zm-11 1L8.5 8.5l.94-2.06 2.06-.94-2.06-.94L8.5 2.5l-.94 2.06-2.06.94zm10 10l.94 2.06.94-2.06 2.06-.94-2.06-.94-.94-2.06-.94 2.06-2.06.94z\"/><path d=\"M17.41 7.96l-1.37-1.37c-.4-.4-.92-.59-1.43-.59-.52 0-1.04.2-1.43.59L10.3 9.45l-7.72 7.72c-.78.78-.78 2.05 0 2.83L4 21.41c.39.39.9.59 1.41.59.51 0 1.02-.2 1.41-.59l7.78-7.78 2.81-2.81c.8-.78.8-2.07 0-2.86zM5.41 20L4 18.59l7.72-7.72 1.47 1.35L5.41 20z\"/>\n",
              "  </svg>\n",
              "      </button>\n",
              "      \n",
              "  <style>\n",
              "    .colab-df-container {\n",
              "      display:flex;\n",
              "      flex-wrap:wrap;\n",
              "      gap: 12px;\n",
              "    }\n",
              "\n",
              "    .colab-df-convert {\n",
              "      background-color: #E8F0FE;\n",
              "      border: none;\n",
              "      border-radius: 50%;\n",
              "      cursor: pointer;\n",
              "      display: none;\n",
              "      fill: #1967D2;\n",
              "      height: 32px;\n",
              "      padding: 0 0 0 0;\n",
              "      width: 32px;\n",
              "    }\n",
              "\n",
              "    .colab-df-convert:hover {\n",
              "      background-color: #E2EBFA;\n",
              "      box-shadow: 0px 1px 2px rgba(60, 64, 67, 0.3), 0px 1px 3px 1px rgba(60, 64, 67, 0.15);\n",
              "      fill: #174EA6;\n",
              "    }\n",
              "\n",
              "    [theme=dark] .colab-df-convert {\n",
              "      background-color: #3B4455;\n",
              "      fill: #D2E3FC;\n",
              "    }\n",
              "\n",
              "    [theme=dark] .colab-df-convert:hover {\n",
              "      background-color: #434B5C;\n",
              "      box-shadow: 0px 1px 3px 1px rgba(0, 0, 0, 0.15);\n",
              "      filter: drop-shadow(0px 1px 2px rgba(0, 0, 0, 0.3));\n",
              "      fill: #FFFFFF;\n",
              "    }\n",
              "  </style>\n",
              "\n",
              "      <script>\n",
              "        const buttonEl =\n",
              "          document.querySelector('#df-93ad30bd-d0ff-479d-9b12-e6142a3d6f29 button.colab-df-convert');\n",
              "        buttonEl.style.display =\n",
              "          google.colab.kernel.accessAllowed ? 'block' : 'none';\n",
              "\n",
              "        async function convertToInteractive(key) {\n",
              "          const element = document.querySelector('#df-93ad30bd-d0ff-479d-9b12-e6142a3d6f29');\n",
              "          const dataTable =\n",
              "            await google.colab.kernel.invokeFunction('convertToInteractive',\n",
              "                                                     [key], {});\n",
              "          if (!dataTable) return;\n",
              "\n",
              "          const docLinkHtml = 'Like what you see? Visit the ' +\n",
              "            '<a target=\"_blank\" href=https://colab.research.google.com/notebooks/data_table.ipynb>data table notebook</a>'\n",
              "            + ' to learn more about interactive tables.';\n",
              "          element.innerHTML = '';\n",
              "          dataTable['output_type'] = 'display_data';\n",
              "          await google.colab.output.renderOutput(dataTable, element);\n",
              "          const docLink = document.createElement('div');\n",
              "          docLink.innerHTML = docLinkHtml;\n",
              "          element.appendChild(docLink);\n",
              "        }\n",
              "      </script>\n",
              "    </div>\n",
              "  </div>\n",
              "  "
            ]
          },
          "metadata": {},
          "execution_count": 6
        }
      ],
      "source": [
        "data.describe().T"
      ]
    },
    {
      "cell_type": "code",
      "execution_count": 7,
      "metadata": {
        "colab": {
          "base_uri": "https://localhost:8080/"
        },
        "id": "r6JT95CaBSpe",
        "outputId": "bed90c5a-f48a-4416-fd4e-ab213dcd3f8b"
      },
      "outputs": [
        {
          "output_type": "execute_result",
          "data": {
            "text/plain": [
              "SenderSubId     False\n",
              "orderId         False\n",
              "Account         False\n",
              "Symbol           True\n",
              "ordStatus       False\n",
              "side            False\n",
              "OrderQty         True\n",
              "Price            True\n",
              "LastShares      False\n",
              "LastPx          False\n",
              "lastMkt         False\n",
              "TransactTime    False\n",
              "timeStamp       False\n",
              "MsgSeqNum       False\n",
              "Cancelled       False\n",
              "Fraud           False\n",
              "dtype: bool"
            ]
          },
          "metadata": {},
          "execution_count": 7
        }
      ],
      "source": [
        "#See if we have NAN values \n",
        "#if it displays False means there is no NAN values\n",
        "#If it displays True, means there is a NAN values\n",
        "data. isna(). any()"
      ]
    },
    {
      "cell_type": "code",
      "execution_count": 8,
      "metadata": {
        "id": "bVWxwL15IBBd"
      },
      "outputs": [],
      "source": [
        "data.dropna(inplace=True)"
      ]
    },
    {
      "cell_type": "code",
      "execution_count": 9,
      "metadata": {
        "colab": {
          "base_uri": "https://localhost:8080/"
        },
        "id": "G89h3_QTM_dj",
        "outputId": "29e204fa-90b8-4986-86c5-cb4f2d6a357a"
      },
      "outputs": [
        {
          "output_type": "stream",
          "name": "stdout",
          "text": [
            "<class 'pandas.core.frame.DataFrame'>\n",
            "Int64Index: 24311 entries, 0 to 24370\n",
            "Data columns (total 16 columns):\n",
            " #   Column        Non-Null Count  Dtype  \n",
            "---  ------        --------------  -----  \n",
            " 0   SenderSubId   24311 non-null  object \n",
            " 1   orderId       24311 non-null  object \n",
            " 2   Account       24311 non-null  object \n",
            " 3   Symbol        24311 non-null  object \n",
            " 4   ordStatus     24311 non-null  object \n",
            " 5   side          24311 non-null  object \n",
            " 6   OrderQty      24311 non-null  float64\n",
            " 7   Price         24311 non-null  float64\n",
            " 8   LastShares    24311 non-null  int64  \n",
            " 9   LastPx        24311 non-null  float64\n",
            " 10  lastMkt       24311 non-null  object \n",
            " 11  TransactTime  24311 non-null  object \n",
            " 12  timeStamp     24311 non-null  object \n",
            " 13  MsgSeqNum     24311 non-null  int64  \n",
            " 14  Cancelled     24311 non-null  int64  \n",
            " 15  Fraud         24311 non-null  int64  \n",
            "dtypes: float64(3), int64(4), object(9)\n",
            "memory usage: 3.2+ MB\n"
          ]
        }
      ],
      "source": [
        "data.info()"
      ]
    },
    {
      "cell_type": "code",
      "execution_count": 10,
      "metadata": {
        "colab": {
          "base_uri": "https://localhost:8080/",
          "height": 370
        },
        "id": "cPyvpik2ID99",
        "outputId": "ae3acf2e-5f40-410b-eeee-49f81f458777"
      },
      "outputs": [
        {
          "output_type": "display_data",
          "data": {
            "text/plain": [
              "<Figure size 1008x432 with 1 Axes>"
            ],
            "image/png": "[encoded data removed]"
          },
          "metadata": {
            "needs_background": "light"
          }
        }
      ],
      "source": [
        "ax=data['Fraud'].value_counts().plot(kind='bar',figsize=(14,6))"
      ]
    },
    {
      "cell_type": "code",
      "execution_count": 11,
      "metadata": {
        "colab": {
          "base_uri": "https://localhost:8080/"
        },
        "id": "RG-hht0wNpHG",
        "outputId": "f8e0a06a-0651-4774-e91b-229e6bfe7fba"
      },
      "outputs": [
        {
          "output_type": "execute_result",
          "data": {
            "text/plain": [
              "0    70.445477\n",
              "1    29.554523\n",
              "Name: Fraud, dtype: float64"
            ]
          },
          "metadata": {},
          "execution_count": 11
        }
      ],
      "source": [
        "#our Label\n",
        "data.Fraud.value_counts(normalize=True)*100"
      ]
    },
    {
      "cell_type": "code",
      "execution_count": 12,
      "metadata": {
        "colab": {
          "base_uri": "https://localhost:8080/"
        },
        "id": "ev5z9bM0PvWD",
        "outputId": "64e46d8b-ba19-494e-882a-86e3896ce88f"
      },
      "outputs": [
        {
          "output_type": "execute_result",
          "data": {
            "text/plain": [
              "SenderSubId     False\n",
              "orderId         False\n",
              "Account         False\n",
              "Symbol          False\n",
              "ordStatus       False\n",
              "side            False\n",
              "OrderQty        False\n",
              "Price           False\n",
              "LastShares      False\n",
              "LastPx          False\n",
              "lastMkt         False\n",
              "TransactTime    False\n",
              "timeStamp       False\n",
              "MsgSeqNum       False\n",
              "Cancelled       False\n",
              "Fraud           False\n",
              "dtype: bool"
            ]
          },
          "metadata": {},
          "execution_count": 12
        }
      ],
      "source": [
        "#Re-check \n",
        "data. isna(). any()"
      ]
    },
    {
      "cell_type": "markdown",
      "metadata": {
        "id": "7p8fKQt0QES0"
      },
      "source": [
        "# **Remove the unuseful columns**"
      ]
    },
    {
      "cell_type": "code",
      "execution_count": 13,
      "metadata": {
        "id": "kJuwFSzcP6z5"
      },
      "outputs": [],
      "source": [
        "del data['Account']\n",
        "del data['Symbol']\n",
        "del data ['LastShares']\n",
        "del data ['LastPx']\n",
        "del data ['lastMkt']\n",
        "del data ['timeStamp']\n",
        "del data ['MsgSeqNum']\n",
        "del data['Cancelled']"
      ]
    },
    {
      "cell_type": "code",
      "execution_count": 14,
      "metadata": {
        "colab": {
          "base_uri": "https://localhost:8080/",
          "height": 424
        },
        "id": "g__fLFTfQLXY",
        "outputId": "4baf5507-baad-4d0f-ba51-61d9ec218963"
      },
      "outputs": [
        {
          "output_type": "execute_result",
          "data": {
            "text/plain": [
              "      SenderSubId      orderId ordStatus        side  OrderQty      Price  \\\n",
              "0         JTOWTDA    106561171       NEW         BUY  120000.0   0.050000   \n",
              "1         JTOWTDA    106561173       NEW  SELL SHORT  120000.0   0.060000   \n",
              "2         JTSTMA2  7E53359-1-5       NEW        SELL   10000.0   0.385000   \n",
              "3         JTOWTDA    106561174       NEW         BUY  150000.0   0.045000   \n",
              "4         JTOWTDA    106561176       NEW         BUY   12000.0   0.500000   \n",
              "...           ...          ...       ...         ...       ...        ...   \n",
              "24366     JTPOINT         8592       NEW        Sell     500.0  25.802124   \n",
              "24367     JTPOINT         8593       NEW        Sell     500.0  25.802124   \n",
              "24368     JTPOINT         8594       NEW        Sell     500.0  25.802124   \n",
              "24369     JTPOINT         8595       NEW        Sell     500.0  25.802124   \n",
              "24370     JTPOINT         8596       NEW        Sell     500.0  25.802124   \n",
              "\n",
              "                 TransactTime  Fraud  \n",
              "0        5/24/2018 7:00:00 AM      0  \n",
              "1        5/24/2018 7:00:00 AM      0  \n",
              "2        5/24/2018 7:00:24 AM      0  \n",
              "3        5/24/2018 7:00:00 AM      0  \n",
              "4        5/24/2018 7:00:00 AM      0  \n",
              "...                       ...    ...  \n",
              "24366  2018-05-24 09:28:18 AM      1  \n",
              "24367  2018-05-24 09:28:18 AM      1  \n",
              "24368  2018-05-24 09:28:18 AM      1  \n",
              "24369  2018-05-24 09:28:18 AM      1  \n",
              "24370  2018-05-24 09:28:18 AM      1  \n",
              "\n",
              "[24311 rows x 8 columns]"
            ],
            "text/html": [
              "\n",
              "  <div id=\"df-ba529132-6b23-4861-a23b-57211dd7b7e6\">\n",
              "    <div class=\"colab-df-container\">\n",
              "      <div>\n",
              "<style scoped>\n",
              "    .dataframe tbody tr th:only-of-type {\n",
              "        vertical-align: middle;\n",
              "    }\n",
              "\n",
              "    .dataframe tbody tr th {\n",
              "        vertical-align: top;\n",
              "    }\n",
              "\n",
              "    .dataframe thead th {\n",
              "        text-align: right;\n",
              "    }\n",
              "</style>\n",
              "<table border=\"1\" class=\"dataframe\">\n",
              "  <thead>\n",
              "    <tr style=\"text-align: right;\">\n",
              "      <th></th>\n",
              "      <th>SenderSubId</th>\n",
              "      <th>orderId</th>\n",
              "      <th>ordStatus</th>\n",
              "      <th>side</th>\n",
              "      <th>OrderQty</th>\n",
              "      <th>Price</th>\n",
              "      <th>TransactTime</th>\n",
              "      <th>Fraud</th>\n",
              "    </tr>\n",
              "  </thead>\n",
              "  <tbody>\n",
              "    <tr>\n",
              "      <th>0</th>\n",
              "      <td>JTOWTDA</td>\n",
              "      <td>106561171</td>\n",
              "      <td>NEW</td>\n",
              "      <td>BUY</td>\n",
              "      <td>120000.0</td>\n",
              "      <td>0.050000</td>\n",
              "      <td>5/24/2018 7:00:00 AM</td>\n",
              "      <td>0</td>\n",
              "    </tr>\n",
              "    <tr>\n",
              "      <th>1</th>\n",
              "      <td>JTOWTDA</td>\n",
              "      <td>106561173</td>\n",
              "      <td>NEW</td>\n",
              "      <td>SELL SHORT</td>\n",
              "      <td>120000.0</td>\n",
              "      <td>0.060000</td>\n",
              "      <td>5/24/2018 7:00:00 AM</td>\n",
              "      <td>0</td>\n",
              "    </tr>\n",
              "    <tr>\n",
              "      <th>2</th>\n",
              "      <td>JTSTMA2</td>\n",
              "      <td>7E53359-1-5</td>\n",
              "      <td>NEW</td>\n",
              "      <td>SELL</td>\n",
              "      <td>10000.0</td>\n",
              "      <td>0.385000</td>\n",
              "      <td>5/24/2018 7:00:24 AM</td>\n",
              "      <td>0</td>\n",
              "    </tr>\n",
              "    <tr>\n",
              "      <th>3</th>\n",
              "      <td>JTOWTDA</td>\n",
              "      <td>106561174</td>\n",
              "      <td>NEW</td>\n",
              "      <td>BUY</td>\n",
              "      <td>150000.0</td>\n",
              "      <td>0.045000</td>\n",
              "      <td>5/24/2018 7:00:00 AM</td>\n",
              "      <td>0</td>\n",
              "    </tr>\n",
              "    <tr>\n",
              "      <th>4</th>\n",
              "      <td>JTOWTDA</td>\n",
              "      <td>106561176</td>\n",
              "      <td>NEW</td>\n",
              "      <td>BUY</td>\n",
              "      <td>12000.0</td>\n",
              "      <td>0.500000</td>\n",
              "      <td>5/24/2018 7:00:00 AM</td>\n",
              "      <td>0</td>\n",
              "    </tr>\n",
              "    <tr>\n",
              "      <th>...</th>\n",
              "      <td>...</td>\n",
              "      <td>...</td>\n",
              "      <td>...</td>\n",
              "      <td>...</td>\n",
              "      <td>...</td>\n",
              "      <td>...</td>\n",
              "      <td>...</td>\n",
              "      <td>...</td>\n",
              "    </tr>\n",
              "    <tr>\n",
              "      <th>24366</th>\n",
              "      <td>JTPOINT</td>\n",
              "      <td>8592</td>\n",
              "      <td>NEW</td>\n",
              "      <td>Sell</td>\n",
              "      <td>500.0</td>\n",
              "      <td>25.802124</td>\n",
              "      <td>2018-05-24 09:28:18 AM</td>\n",
              "      <td>1</td>\n",
              "    </tr>\n",
              "    <tr>\n",
              "      <th>24367</th>\n",
              "      <td>JTPOINT</td>\n",
              "      <td>8593</td>\n",
              "      <td>NEW</td>\n",
              "      <td>Sell</td>\n",
              "      <td>500.0</td>\n",
              "      <td>25.802124</td>\n",
              "      <td>2018-05-24 09:28:18 AM</td>\n",
              "      <td>1</td>\n",
              "    </tr>\n",
              "    <tr>\n",
              "      <th>24368</th>\n",
              "      <td>JTPOINT</td>\n",
              "      <td>8594</td>\n",
              "      <td>NEW</td>\n",
              "      <td>Sell</td>\n",
              "      <td>500.0</td>\n",
              "      <td>25.802124</td>\n",
              "      <td>2018-05-24 09:28:18 AM</td>\n",
              "      <td>1</td>\n",
              "    </tr>\n",
              "    <tr>\n",
              "      <th>24369</th>\n",
              "      <td>JTPOINT</td>\n",
              "      <td>8595</td>\n",
              "      <td>NEW</td>\n",
              "      <td>Sell</td>\n",
              "      <td>500.0</td>\n",
              "      <td>25.802124</td>\n",
              "      <td>2018-05-24 09:28:18 AM</td>\n",
              "      <td>1</td>\n",
              "    </tr>\n",
              "    <tr>\n",
              "      <th>24370</th>\n",
              "      <td>JTPOINT</td>\n",
              "      <td>8596</td>\n",
              "      <td>NEW</td>\n",
              "      <td>Sell</td>\n",
              "      <td>500.0</td>\n",
              "      <td>25.802124</td>\n",
              "      <td>2018-05-24 09:28:18 AM</td>\n",
              "      <td>1</td>\n",
              "    </tr>\n",
              "  </tbody>\n",
              "</table>\n",
              "<p>24311 rows × 8 columns</p>\n",
              "</div>\n",
              "      <button class=\"colab-df-convert\" onclick=\"convertToInteractive('df-ba529132-6b23-4861-a23b-57211dd7b7e6')\"\n",
              "              title=\"Convert this dataframe to an interactive table.\"\n",
              "              style=\"display:none;\">\n",
              "        \n",
              "  <svg xmlns=\"http://www.w3.org/2000/svg\" height=\"24px\"viewBox=\"0 0 24 24\"\n",
              "       width=\"24px\">\n",
              "    <path d=\"M0 0h24v24H0V0z\" fill=\"none\"/>\n",
              "    <path d=\"M18.56 5.44l.94 2.06.94-2.06 2.06-.94-2.06-.94-.94-2.06-.94 2.06-2.06.94zm-11 1L8.5 8.5l.94-2.06 2.06-.94-2.06-.94L8.5 2.5l-.94 2.06-2.06.94zm10 10l.94 2.06.94-2.06 2.06-.94-2.06-.94-.94-2.06-.94 2.06-2.06.94z\"/><path d=\"M17.41 7.96l-1.37-1.37c-.4-.4-.92-.59-1.43-.59-.52 0-1.04.2-1.43.59L10.3 9.45l-7.72 7.72c-.78.78-.78 2.05 0 2.83L4 21.41c.39.39.9.59 1.41.59.51 0 1.02-.2 1.41-.59l7.78-7.78 2.81-2.81c.8-.78.8-2.07 0-2.86zM5.41 20L4 18.59l7.72-7.72 1.47 1.35L5.41 20z\"/>\n",
              "  </svg>\n",
              "      </button>\n",
              "      \n",
              "  <style>\n",
              "    .colab-df-container {\n",
              "      display:flex;\n",
              "      flex-wrap:wrap;\n",
              "      gap: 12px;\n",
              "    }\n",
              "\n",
              "    .colab-df-convert {\n",
              "      background-color: #E8F0FE;\n",
              "      border: none;\n",
              "      border-radius: 50%;\n",
              "      cursor: pointer;\n",
              "      display: none;\n",
              "      fill: #1967D2;\n",
              "      height: 32px;\n",
              "      padding: 0 0 0 0;\n",
              "      width: 32px;\n",
              "    }\n",
              "\n",
              "    .colab-df-convert:hover {\n",
              "      background-color: #E2EBFA;\n",
              "      box-shadow: 0px 1px 2px rgba(60, 64, 67, 0.3), 0px 1px 3px 1px rgba(60, 64, 67, 0.15);\n",
              "      fill: #174EA6;\n",
              "    }\n",
              "\n",
              "    [theme=dark] .colab-df-convert {\n",
              "      background-color: #3B4455;\n",
              "      fill: #D2E3FC;\n",
              "    }\n",
              "\n",
              "    [theme=dark] .colab-df-convert:hover {\n",
              "      background-color: #434B5C;\n",
              "      box-shadow: 0px 1px 3px 1px rgba(0, 0, 0, 0.15);\n",
              "      filter: drop-shadow(0px 1px 2px rgba(0, 0, 0, 0.3));\n",
              "      fill: #FFFFFF;\n",
              "    }\n",
              "  </style>\n",
              "\n",
              "      <script>\n",
              "        const buttonEl =\n",
              "          document.querySelector('#df-ba529132-6b23-4861-a23b-57211dd7b7e6 button.colab-df-convert');\n",
              "        buttonEl.style.display =\n",
              "          google.colab.kernel.accessAllowed ? 'block' : 'none';\n",
              "\n",
              "        async function convertToInteractive(key) {\n",
              "          const element = document.querySelector('#df-ba529132-6b23-4861-a23b-57211dd7b7e6');\n",
              "          const dataTable =\n",
              "            await google.colab.kernel.invokeFunction('convertToInteractive',\n",
              "                                                     [key], {});\n",
              "          if (!dataTable) return;\n",
              "\n",
              "          const docLinkHtml = 'Like what you see? Visit the ' +\n",
              "            '<a target=\"_blank\" href=https://colab.research.google.com/notebooks/data_table.ipynb>data table notebook</a>'\n",
              "            + ' to learn more about interactive tables.';\n",
              "          element.innerHTML = '';\n",
              "          dataTable['output_type'] = 'display_data';\n",
              "          await google.colab.output.renderOutput(dataTable, element);\n",
              "          const docLink = document.createElement('div');\n",
              "          docLink.innerHTML = docLinkHtml;\n",
              "          element.appendChild(docLink);\n",
              "        }\n",
              "      </script>\n",
              "    </div>\n",
              "  </div>\n",
              "  "
            ]
          },
          "metadata": {},
          "execution_count": 14
        }
      ],
      "source": [
        "data"
      ]
    },
    {
      "cell_type": "code",
      "execution_count": 15,
      "metadata": {
        "colab": {
          "base_uri": "https://localhost:8080/"
        },
        "id": "DyW4Db1zRuLA",
        "outputId": "1500f193-b77a-4e82-b65e-166632d0d5c6"
      },
      "outputs": [
        {
          "output_type": "execute_result",
          "data": {
            "text/plain": [
              "(24311, 8)"
            ]
          },
          "metadata": {},
          "execution_count": 15
        }
      ],
      "source": [
        "data.shape"
      ]
    },
    {
      "cell_type": "code",
      "execution_count": 16,
      "metadata": {
        "colab": {
          "base_uri": "https://localhost:8080/",
          "height": 144
        },
        "id": "_rBJeDMWRxTR",
        "outputId": "b2432332-6f73-4cf1-c161-409c902571fa"
      },
      "outputs": [
        {
          "output_type": "execute_result",
          "data": {
            "text/plain": [
              "            count          mean            std   min     25%      50%  \\\n",
              "OrderQty  24311.0  24904.030028  124984.046846  99.0  500.00  2500.00   \n",
              "Price     24311.0     10.566847      17.927726   0.0    0.07     0.55   \n",
              "Fraud     24311.0      0.295545       0.456297   0.0    0.00     0.00   \n",
              "\n",
              "                   75%         max  \n",
              "OrderQty  15500.000000  14759000.0  \n",
              "Price        25.802124       810.9  \n",
              "Fraud         1.000000         1.0  "
            ],
            "text/html": [
              "\n",
              "  <div id=\"df-f7e7bb29-0424-42b5-89af-fa30828f8c12\">\n",
              "    <div class=\"colab-df-container\">\n",
              "      <div>\n",
              "<style scoped>\n",
              "    .dataframe tbody tr th:only-of-type {\n",
              "        vertical-align: middle;\n",
              "    }\n",
              "\n",
              "    .dataframe tbody tr th {\n",
              "        vertical-align: top;\n",
              "    }\n",
              "\n",
              "    .dataframe thead th {\n",
              "        text-align: right;\n",
              "    }\n",
              "</style>\n",
              "<table border=\"1\" class=\"dataframe\">\n",
              "  <thead>\n",
              "    <tr style=\"text-align: right;\">\n",
              "      <th></th>\n",
              "      <th>count</th>\n",
              "      <th>mean</th>\n",
              "      <th>std</th>\n",
              "      <th>min</th>\n",
              "      <th>25%</th>\n",
              "      <th>50%</th>\n",
              "      <th>75%</th>\n",
              "      <th>max</th>\n",
              "    </tr>\n",
              "  </thead>\n",
              "  <tbody>\n",
              "    <tr>\n",
              "      <th>OrderQty</th>\n",
              "      <td>24311.0</td>\n",
              "      <td>24904.030028</td>\n",
              "      <td>124984.046846</td>\n",
              "      <td>99.0</td>\n",
              "      <td>500.00</td>\n",
              "      <td>2500.00</td>\n",
              "      <td>15500.000000</td>\n",
              "      <td>14759000.0</td>\n",
              "    </tr>\n",
              "    <tr>\n",
              "      <th>Price</th>\n",
              "      <td>24311.0</td>\n",
              "      <td>10.566847</td>\n",
              "      <td>17.927726</td>\n",
              "      <td>0.0</td>\n",
              "      <td>0.07</td>\n",
              "      <td>0.55</td>\n",
              "      <td>25.802124</td>\n",
              "      <td>810.9</td>\n",
              "    </tr>\n",
              "    <tr>\n",
              "      <th>Fraud</th>\n",
              "      <td>24311.0</td>\n",
              "      <td>0.295545</td>\n",
              "      <td>0.456297</td>\n",
              "      <td>0.0</td>\n",
              "      <td>0.00</td>\n",
              "      <td>0.00</td>\n",
              "      <td>1.000000</td>\n",
              "      <td>1.0</td>\n",
              "    </tr>\n",
              "  </tbody>\n",
              "</table>\n",
              "</div>\n",
              "      <button class=\"colab-df-convert\" onclick=\"convertToInteractive('df-f7e7bb29-0424-42b5-89af-fa30828f8c12')\"\n",
              "              title=\"Convert this dataframe to an interactive table.\"\n",
              "              style=\"display:none;\">\n",
              "        \n",
              "  <svg xmlns=\"http://www.w3.org/2000/svg\" height=\"24px\"viewBox=\"0 0 24 24\"\n",
              "       width=\"24px\">\n",
              "    <path d=\"M0 0h24v24H0V0z\" fill=\"none\"/>\n",
              "    <path d=\"M18.56 5.44l.94 2.06.94-2.06 2.06-.94-2.06-.94-.94-2.06-.94 2.06-2.06.94zm-11 1L8.5 8.5l.94-2.06 2.06-.94-2.06-.94L8.5 2.5l-.94 2.06-2.06.94zm10 10l.94 2.06.94-2.06 2.06-.94-2.06-.94-.94-2.06-.94 2.06-2.06.94z\"/><path d=\"M17.41 7.96l-1.37-1.37c-.4-.4-.92-.59-1.43-.59-.52 0-1.04.2-1.43.59L10.3 9.45l-7.72 7.72c-.78.78-.78 2.05 0 2.83L4 21.41c.39.39.9.59 1.41.59.51 0 1.02-.2 1.41-.59l7.78-7.78 2.81-2.81c.8-.78.8-2.07 0-2.86zM5.41 20L4 18.59l7.72-7.72 1.47 1.35L5.41 20z\"/>\n",
              "  </svg>\n",
              "      </button>\n",
              "      \n",
              "  <style>\n",
              "    .colab-df-container {\n",
              "      display:flex;\n",
              "      flex-wrap:wrap;\n",
              "      gap: 12px;\n",
              "    }\n",
              "\n",
              "    .colab-df-convert {\n",
              "      background-color: #E8F0FE;\n",
              "      border: none;\n",
              "      border-radius: 50%;\n",
              "      cursor: pointer;\n",
              "      display: none;\n",
              "      fill: #1967D2;\n",
              "      height: 32px;\n",
              "      padding: 0 0 0 0;\n",
              "      width: 32px;\n",
              "    }\n",
              "\n",
              "    .colab-df-convert:hover {\n",
              "      background-color: #E2EBFA;\n",
              "      box-shadow: 0px 1px 2px rgba(60, 64, 67, 0.3), 0px 1px 3px 1px rgba(60, 64, 67, 0.15);\n",
              "      fill: #174EA6;\n",
              "    }\n",
              "\n",
              "    [theme=dark] .colab-df-convert {\n",
              "      background-color: #3B4455;\n",
              "      fill: #D2E3FC;\n",
              "    }\n",
              "\n",
              "    [theme=dark] .colab-df-convert:hover {\n",
              "      background-color: #434B5C;\n",
              "      box-shadow: 0px 1px 3px 1px rgba(0, 0, 0, 0.15);\n",
              "      filter: drop-shadow(0px 1px 2px rgba(0, 0, 0, 0.3));\n",
              "      fill: #FFFFFF;\n",
              "    }\n",
              "  </style>\n",
              "\n",
              "      <script>\n",
              "        const buttonEl =\n",
              "          document.querySelector('#df-f7e7bb29-0424-42b5-89af-fa30828f8c12 button.colab-df-convert');\n",
              "        buttonEl.style.display =\n",
              "          google.colab.kernel.accessAllowed ? 'block' : 'none';\n",
              "\n",
              "        async function convertToInteractive(key) {\n",
              "          const element = document.querySelector('#df-f7e7bb29-0424-42b5-89af-fa30828f8c12');\n",
              "          const dataTable =\n",
              "            await google.colab.kernel.invokeFunction('convertToInteractive',\n",
              "                                                     [key], {});\n",
              "          if (!dataTable) return;\n",
              "\n",
              "          const docLinkHtml = 'Like what you see? Visit the ' +\n",
              "            '<a target=\"_blank\" href=https://colab.research.google.com/notebooks/data_table.ipynb>data table notebook</a>'\n",
              "            + ' to learn more about interactive tables.';\n",
              "          element.innerHTML = '';\n",
              "          dataTable['output_type'] = 'display_data';\n",
              "          await google.colab.output.renderOutput(dataTable, element);\n",
              "          const docLink = document.createElement('div');\n",
              "          docLink.innerHTML = docLinkHtml;\n",
              "          element.appendChild(docLink);\n",
              "        }\n",
              "      </script>\n",
              "    </div>\n",
              "  </div>\n",
              "  "
            ]
          },
          "metadata": {},
          "execution_count": 16
        }
      ],
      "source": [
        "data.describe().T"
      ]
    },
    {
      "cell_type": "code",
      "source": [
        "data.info()"
      ],
      "metadata": {
        "colab": {
          "base_uri": "https://localhost:8080/"
        },
        "id": "UDArEjAqOxSG",
        "outputId": "3a0e2118-1dfe-4779-b8b9-9b62be189f19"
      },
      "execution_count": 17,
      "outputs": [
        {
          "output_type": "stream",
          "name": "stdout",
          "text": [
            "<class 'pandas.core.frame.DataFrame'>\n",
            "Int64Index: 24311 entries, 0 to 24370\n",
            "Data columns (total 8 columns):\n",
            " #   Column        Non-Null Count  Dtype  \n",
            "---  ------        --------------  -----  \n",
            " 0   SenderSubId   24311 non-null  object \n",
            " 1   orderId       24311 non-null  object \n",
            " 2   ordStatus     24311 non-null  object \n",
            " 3   side          24311 non-null  object \n",
            " 4   OrderQty      24311 non-null  float64\n",
            " 5   Price         24311 non-null  float64\n",
            " 6   TransactTime  24311 non-null  object \n",
            " 7   Fraud         24311 non-null  int64  \n",
            "dtypes: float64(2), int64(1), object(5)\n",
            "memory usage: 1.7+ MB\n"
          ]
        }
      ]
    },
    {
      "cell_type": "markdown",
      "metadata": {
        "id": "CbvAPnaiSUyS"
      },
      "source": [
        "# **Converting the side column to numerical values**"
      ]
    },
    {
      "cell_type": "code",
      "execution_count": 18,
      "metadata": {
        "colab": {
          "base_uri": "https://localhost:8080/",
          "height": 424
        },
        "id": "j11eBzaVSHPZ",
        "outputId": "0274066c-0e63-434b-d15a-9f701cde6fb0"
      },
      "outputs": [
        {
          "output_type": "display_data",
          "data": {
            "text/plain": [
              "<Figure size 1008x432 with 1 Axes>"
            ],
            "image/png": "[encoded data removed]"
          },
          "metadata": {
            "needs_background": "light"
          }
        }
      ],
      "source": [
        "ax=data['side'].value_counts().plot(kind='bar',figsize=(14,6))"
      ]
    },
    {
      "cell_type": "code",
      "execution_count": 21,
      "metadata": {
        "id": "WPw6qeDTSZqd"
      },
      "outputs": [],
      "source": [
        "#Convert side to a numerical value\n",
        "def side_to_numeric(x):\n",
        "        if x=='SELL SHORT': return -1\n",
        "        if x=='SELL':  return 0\n",
        "        if x=='BUY': return 1\n",
        "        if x=='sell': return 0"
      ]
    },
    {
      "cell_type": "code",
      "execution_count": 22,
      "metadata": {
        "id": "K2mZNDXOScp4"
      },
      "outputs": [],
      "source": [
        "data['side_numerical']=data['side'].apply(side_to_numeric)"
      ]
    },
    {
      "cell_type": "code",
      "execution_count": 23,
      "metadata": {
        "id": "LhPXmHywShx5"
      },
      "outputs": [],
      "source": [
        "df = pd.DataFrame(data, columns=['SenderSubId','orderId','ordStatus','side','OrderQty','Price','TransactTime','side_numerical','Fraud'])"
      ]
    },
    {
      "cell_type": "code",
      "execution_count": 24,
      "metadata": {
        "colab": {
          "base_uri": "https://localhost:8080/",
          "height": 206
        },
        "id": "ogGUtNUzS-Ja",
        "outputId": "98cf2b23-5e68-4ffd-87a1-6df1c1fd577a"
      },
      "outputs": [
        {
          "output_type": "execute_result",
          "data": {
            "text/plain": [
              "  SenderSubId      orderId ordStatus        side  OrderQty  Price  \\\n",
              "0     JTOWTDA    106561171       NEW         BUY  120000.0  0.050   \n",
              "1     JTOWTDA    106561173       NEW  SELL SHORT  120000.0  0.060   \n",
              "2     JTSTMA2  7E53359-1-5       NEW        SELL   10000.0  0.385   \n",
              "3     JTOWTDA    106561174       NEW         BUY  150000.0  0.045   \n",
              "4     JTOWTDA    106561176       NEW         BUY   12000.0  0.500   \n",
              "\n",
              "           TransactTime  side_numerical  Fraud  \n",
              "0  5/24/2018 7:00:00 AM             1.0      0  \n",
              "1  5/24/2018 7:00:00 AM            -1.0      0  \n",
              "2  5/24/2018 7:00:24 AM             0.0      0  \n",
              "3  5/24/2018 7:00:00 AM             1.0      0  \n",
              "4  5/24/2018 7:00:00 AM             1.0      0  "
            ],
            "text/html": [
              "\n",
              "  <div id=\"df-195d55be-35b3-4faf-b452-d407f72b0a77\">\n",
              "    <div class=\"colab-df-container\">\n",
              "      <div>\n",
              "<style scoped>\n",
              "    .dataframe tbody tr th:only-of-type {\n",
              "        vertical-align: middle;\n",
              "    }\n",
              "\n",
              "    .dataframe tbody tr th {\n",
              "        vertical-align: top;\n",
              "    }\n",
              "\n",
              "    .dataframe thead th {\n",
              "        text-align: right;\n",
              "    }\n",
              "</style>\n",
              "<table border=\"1\" class=\"dataframe\">\n",
              "  <thead>\n",
              "    <tr style=\"text-align: right;\">\n",
              "      <th></th>\n",
              "      <th>SenderSubId</th>\n",
              "      <th>orderId</th>\n",
              "      <th>ordStatus</th>\n",
              "      <th>side</th>\n",
              "      <th>OrderQty</th>\n",
              "      <th>Price</th>\n",
              "      <th>TransactTime</th>\n",
              "      <th>side_numerical</th>\n",
              "      <th>Fraud</th>\n",
              "    </tr>\n",
              "  </thead>\n",
              "  <tbody>\n",
              "    <tr>\n",
              "      <th>0</th>\n",
              "      <td>JTOWTDA</td>\n",
              "      <td>106561171</td>\n",
              "      <td>NEW</td>\n",
              "      <td>BUY</td>\n",
              "      <td>120000.0</td>\n",
              "      <td>0.050</td>\n",
              "      <td>5/24/2018 7:00:00 AM</td>\n",
              "      <td>1.0</td>\n",
              "      <td>0</td>\n",
              "    </tr>\n",
              "    <tr>\n",
              "      <th>1</th>\n",
              "      <td>JTOWTDA</td>\n",
              "      <td>106561173</td>\n",
              "      <td>NEW</td>\n",
              "      <td>SELL SHORT</td>\n",
              "      <td>120000.0</td>\n",
              "      <td>0.060</td>\n",
              "      <td>5/24/2018 7:00:00 AM</td>\n",
              "      <td>-1.0</td>\n",
              "      <td>0</td>\n",
              "    </tr>\n",
              "    <tr>\n",
              "      <th>2</th>\n",
              "      <td>JTSTMA2</td>\n",
              "      <td>7E53359-1-5</td>\n",
              "      <td>NEW</td>\n",
              "      <td>SELL</td>\n",
              "      <td>10000.0</td>\n",
              "      <td>0.385</td>\n",
              "      <td>5/24/2018 7:00:24 AM</td>\n",
              "      <td>0.0</td>\n",
              "      <td>0</td>\n",
              "    </tr>\n",
              "    <tr>\n",
              "      <th>3</th>\n",
              "      <td>JTOWTDA</td>\n",
              "      <td>106561174</td>\n",
              "      <td>NEW</td>\n",
              "      <td>BUY</td>\n",
              "      <td>150000.0</td>\n",
              "      <td>0.045</td>\n",
              "      <td>5/24/2018 7:00:00 AM</td>\n",
              "      <td>1.0</td>\n",
              "      <td>0</td>\n",
              "    </tr>\n",
              "    <tr>\n",
              "      <th>4</th>\n",
              "      <td>JTOWTDA</td>\n",
              "      <td>106561176</td>\n",
              "      <td>NEW</td>\n",
              "      <td>BUY</td>\n",
              "      <td>12000.0</td>\n",
              "      <td>0.500</td>\n",
              "      <td>5/24/2018 7:00:00 AM</td>\n",
              "      <td>1.0</td>\n",
              "      <td>0</td>\n",
              "    </tr>\n",
              "  </tbody>\n",
              "</table>\n",
              "</div>\n",
              "      <button class=\"colab-df-convert\" onclick=\"convertToInteractive('df-195d55be-35b3-4faf-b452-d407f72b0a77')\"\n",
              "              title=\"Convert this dataframe to an interactive table.\"\n",
              "              style=\"display:none;\">\n",
              "        \n",
              "  <svg xmlns=\"http://www.w3.org/2000/svg\" height=\"24px\"viewBox=\"0 0 24 24\"\n",
              "       width=\"24px\">\n",
              "    <path d=\"M0 0h24v24H0V0z\" fill=\"none\"/>\n",
              "    <path d=\"M18.56 5.44l.94 2.06.94-2.06 2.06-.94-2.06-.94-.94-2.06-.94 2.06-2.06.94zm-11 1L8.5 8.5l.94-2.06 2.06-.94-2.06-.94L8.5 2.5l-.94 2.06-2.06.94zm10 10l.94 2.06.94-2.06 2.06-.94-2.06-.94-.94-2.06-.94 2.06-2.06.94z\"/><path d=\"M17.41 7.96l-1.37-1.37c-.4-.4-.92-.59-1.43-.59-.52 0-1.04.2-1.43.59L10.3 9.45l-7.72 7.72c-.78.78-.78 2.05 0 2.83L4 21.41c.39.39.9.59 1.41.59.51 0 1.02-.2 1.41-.59l7.78-7.78 2.81-2.81c.8-.78.8-2.07 0-2.86zM5.41 20L4 18.59l7.72-7.72 1.47 1.35L5.41 20z\"/>\n",
              "  </svg>\n",
              "      </button>\n",
              "      \n",
              "  <style>\n",
              "    .colab-df-container {\n",
              "      display:flex;\n",
              "      flex-wrap:wrap;\n",
              "      gap: 12px;\n",
              "    }\n",
              "\n",
              "    .colab-df-convert {\n",
              "      background-color: #E8F0FE;\n",
              "      border: none;\n",
              "      border-radius: 50%;\n",
              "      cursor: pointer;\n",
              "      display: none;\n",
              "      fill: #1967D2;\n",
              "      height: 32px;\n",
              "      padding: 0 0 0 0;\n",
              "      width: 32px;\n",
              "    }\n",
              "\n",
              "    .colab-df-convert:hover {\n",
              "      background-color: #E2EBFA;\n",
              "      box-shadow: 0px 1px 2px rgba(60, 64, 67, 0.3), 0px 1px 3px 1px rgba(60, 64, 67, 0.15);\n",
              "      fill: #174EA6;\n",
              "    }\n",
              "\n",
              "    [theme=dark] .colab-df-convert {\n",
              "      background-color: #3B4455;\n",
              "      fill: #D2E3FC;\n",
              "    }\n",
              "\n",
              "    [theme=dark] .colab-df-convert:hover {\n",
              "      background-color: #434B5C;\n",
              "      box-shadow: 0px 1px 3px 1px rgba(0, 0, 0, 0.15);\n",
              "      filter: drop-shadow(0px 1px 2px rgba(0, 0, 0, 0.3));\n",
              "      fill: #FFFFFF;\n",
              "    }\n",
              "  </style>\n",
              "\n",
              "      <script>\n",
              "        const buttonEl =\n",
              "          document.querySelector('#df-195d55be-35b3-4faf-b452-d407f72b0a77 button.colab-df-convert');\n",
              "        buttonEl.style.display =\n",
              "          google.colab.kernel.accessAllowed ? 'block' : 'none';\n",
              "\n",
              "        async function convertToInteractive(key) {\n",
              "          const element = document.querySelector('#df-195d55be-35b3-4faf-b452-d407f72b0a77');\n",
              "          const dataTable =\n",
              "            await google.colab.kernel.invokeFunction('convertToInteractive',\n",
              "                                                     [key], {});\n",
              "          if (!dataTable) return;\n",
              "\n",
              "          const docLinkHtml = 'Like what you see? Visit the ' +\n",
              "            '<a target=\"_blank\" href=https://colab.research.google.com/notebooks/data_table.ipynb>data table notebook</a>'\n",
              "            + ' to learn more about interactive tables.';\n",
              "          element.innerHTML = '';\n",
              "          dataTable['output_type'] = 'display_data';\n",
              "          await google.colab.output.renderOutput(dataTable, element);\n",
              "          const docLink = document.createElement('div');\n",
              "          docLink.innerHTML = docLinkHtml;\n",
              "          element.appendChild(docLink);\n",
              "        }\n",
              "      </script>\n",
              "    </div>\n",
              "  </div>\n",
              "  "
            ]
          },
          "metadata": {},
          "execution_count": 24
        }
      ],
      "source": [
        "df.head()"
      ]
    },
    {
      "cell_type": "code",
      "source": [
        "ax=data['side_numerical'].value_counts().plot(kind='bar',figsize=(14,6))"
      ],
      "metadata": {
        "colab": {
          "base_uri": "https://localhost:8080/",
          "height": 384
        },
        "id": "9OieJ1GwPJlo",
        "outputId": "684cfc1e-9c49-4061-85d2-69049a62139d"
      },
      "execution_count": 25,
      "outputs": [
        {
          "output_type": "display_data",
          "data": {
            "text/plain": [
              "<Figure size 1008x432 with 1 Axes>"
            ],
            "image/png": "[encoded data removed]"
          },
          "metadata": {
            "needs_background": "light"
          }
        }
      ]
    },
    {
      "cell_type": "markdown",
      "metadata": {
        "id": "QKzk3GELTrG1"
      },
      "source": [
        "# **Converting the OrdStatus to Numerical values**"
      ]
    },
    {
      "cell_type": "code",
      "execution_count": 26,
      "metadata": {
        "colab": {
          "base_uri": "https://localhost:8080/",
          "height": 418
        },
        "id": "Tus55ZY4TwxP",
        "outputId": "045b48b6-a1b5-48e6-a943-3f3072f743d3"
      },
      "outputs": [
        {
          "output_type": "display_data",
          "data": {
            "text/plain": [
              "<Figure size 1008x432 with 1 Axes>"
            ],
            "image/png": "[encoded data removed]"
          },
          "metadata": {
            "needs_background": "light"
          }
        }
      ],
      "source": [
        "ax=df['ordStatus'].value_counts().plot(kind='bar',figsize=(14,6))"
      ]
    },
    {
      "cell_type": "code",
      "execution_count": 27,
      "metadata": {
        "id": "XaYhgPMXT0FG"
      },
      "outputs": [],
      "source": [
        "#Convert side to a numerical value\n",
        "def ordStatus_to_numeric(x):\n",
        "        if x=='NEW': return 1\n",
        "        if x=='CANCELED':  return 0\n",
        "        if x=='REPLACED':  return -1"
      ]
    },
    {
      "cell_type": "code",
      "execution_count": 28,
      "metadata": {
        "id": "gPjuA06sT3Y-"
      },
      "outputs": [],
      "source": [
        "df['ordStatus_numerical']=df['ordStatus'].apply(ordStatus_to_numeric)"
      ]
    },
    {
      "cell_type": "code",
      "execution_count": 29,
      "metadata": {
        "id": "ph4zyv4ZUDFL"
      },
      "outputs": [],
      "source": [
        "df = pd.DataFrame(df, columns=['SenderSubId','orderId','ordStatus','side','OrderQty','Price','TransactTime','side_numerical','ordStatus_numerical','Fraud'])"
      ]
    },
    {
      "cell_type": "code",
      "execution_count": 30,
      "metadata": {
        "colab": {
          "base_uri": "https://localhost:8080/",
          "height": 206
        },
        "id": "EcrzZCCpUGbV",
        "outputId": "011c2990-e5c9-4a44-a5cd-6ddbe72d0ce0"
      },
      "outputs": [
        {
          "output_type": "execute_result",
          "data": {
            "text/plain": [
              "  SenderSubId      orderId ordStatus        side  OrderQty  Price  \\\n",
              "0     JTOWTDA    106561171       NEW         BUY  120000.0  0.050   \n",
              "1     JTOWTDA    106561173       NEW  SELL SHORT  120000.0  0.060   \n",
              "2     JTSTMA2  7E53359-1-5       NEW        SELL   10000.0  0.385   \n",
              "3     JTOWTDA    106561174       NEW         BUY  150000.0  0.045   \n",
              "4     JTOWTDA    106561176       NEW         BUY   12000.0  0.500   \n",
              "\n",
              "           TransactTime  side_numerical  ordStatus_numerical  Fraud  \n",
              "0  5/24/2018 7:00:00 AM             1.0                    1      0  \n",
              "1  5/24/2018 7:00:00 AM            -1.0                    1      0  \n",
              "2  5/24/2018 7:00:24 AM             0.0                    1      0  \n",
              "3  5/24/2018 7:00:00 AM             1.0                    1      0  \n",
              "4  5/24/2018 7:00:00 AM             1.0                    1      0  "
            ],
            "text/html": [
              "\n",
              "  <div id=\"df-e52d6ad5-bb39-4eb4-a715-cd12c8a9440e\">\n",
              "    <div class=\"colab-df-container\">\n",
              "      <div>\n",
              "<style scoped>\n",
              "    .dataframe tbody tr th:only-of-type {\n",
              "        vertical-align: middle;\n",
              "    }\n",
              "\n",
              "    .dataframe tbody tr th {\n",
              "        vertical-align: top;\n",
              "    }\n",
              "\n",
              "    .dataframe thead th {\n",
              "        text-align: right;\n",
              "    }\n",
              "</style>\n",
              "<table border=\"1\" class=\"dataframe\">\n",
              "  <thead>\n",
              "    <tr style=\"text-align: right;\">\n",
              "      <th></th>\n",
              "      <th>SenderSubId</th>\n",
              "      <th>orderId</th>\n",
              "      <th>ordStatus</th>\n",
              "      <th>side</th>\n",
              "      <th>OrderQty</th>\n",
              "      <th>Price</th>\n",
              "      <th>TransactTime</th>\n",
              "      <th>side_numerical</th>\n",
              "      <th>ordStatus_numerical</th>\n",
              "      <th>Fraud</th>\n",
              "    </tr>\n",
              "  </thead>\n",
              "  <tbody>\n",
              "    <tr>\n",
              "      <th>0</th>\n",
              "      <td>JTOWTDA</td>\n",
              "      <td>106561171</td>\n",
              "      <td>NEW</td>\n",
              "      <td>BUY</td>\n",
              "      <td>120000.0</td>\n",
              "      <td>0.050</td>\n",
              "      <td>5/24/2018 7:00:00 AM</td>\n",
              "      <td>1.0</td>\n",
              "      <td>1</td>\n",
              "      <td>0</td>\n",
              "    </tr>\n",
              "    <tr>\n",
              "      <th>1</th>\n",
              "      <td>JTOWTDA</td>\n",
              "      <td>106561173</td>\n",
              "      <td>NEW</td>\n",
              "      <td>SELL SHORT</td>\n",
              "      <td>120000.0</td>\n",
              "      <td>0.060</td>\n",
              "      <td>5/24/2018 7:00:00 AM</td>\n",
              "      <td>-1.0</td>\n",
              "      <td>1</td>\n",
              "      <td>0</td>\n",
              "    </tr>\n",
              "    <tr>\n",
              "      <th>2</th>\n",
              "      <td>JTSTMA2</td>\n",
              "      <td>7E53359-1-5</td>\n",
              "      <td>NEW</td>\n",
              "      <td>SELL</td>\n",
              "      <td>10000.0</td>\n",
              "      <td>0.385</td>\n",
              "      <td>5/24/2018 7:00:24 AM</td>\n",
              "      <td>0.0</td>\n",
              "      <td>1</td>\n",
              "      <td>0</td>\n",
              "    </tr>\n",
              "    <tr>\n",
              "      <th>3</th>\n",
              "      <td>JTOWTDA</td>\n",
              "      <td>106561174</td>\n",
              "      <td>NEW</td>\n",
              "      <td>BUY</td>\n",
              "      <td>150000.0</td>\n",
              "      <td>0.045</td>\n",
              "      <td>5/24/2018 7:00:00 AM</td>\n",
              "      <td>1.0</td>\n",
              "      <td>1</td>\n",
              "      <td>0</td>\n",
              "    </tr>\n",
              "    <tr>\n",
              "      <th>4</th>\n",
              "      <td>JTOWTDA</td>\n",
              "      <td>106561176</td>\n",
              "      <td>NEW</td>\n",
              "      <td>BUY</td>\n",
              "      <td>12000.0</td>\n",
              "      <td>0.500</td>\n",
              "      <td>5/24/2018 7:00:00 AM</td>\n",
              "      <td>1.0</td>\n",
              "      <td>1</td>\n",
              "      <td>0</td>\n",
              "    </tr>\n",
              "  </tbody>\n",
              "</table>\n",
              "</div>\n",
              "      <button class=\"colab-df-convert\" onclick=\"convertToInteractive('df-e52d6ad5-bb39-4eb4-a715-cd12c8a9440e')\"\n",
              "              title=\"Convert this dataframe to an interactive table.\"\n",
              "              style=\"display:none;\">\n",
              "        \n",
              "  <svg xmlns=\"http://www.w3.org/2000/svg\" height=\"24px\"viewBox=\"0 0 24 24\"\n",
              "       width=\"24px\">\n",
              "    <path d=\"M0 0h24v24H0V0z\" fill=\"none\"/>\n",
              "    <path d=\"M18.56 5.44l.94 2.06.94-2.06 2.06-.94-2.06-.94-.94-2.06-.94 2.06-2.06.94zm-11 1L8.5 8.5l.94-2.06 2.06-.94-2.06-.94L8.5 2.5l-.94 2.06-2.06.94zm10 10l.94 2.06.94-2.06 2.06-.94-2.06-.94-.94-2.06-.94 2.06-2.06.94z\"/><path d=\"M17.41 7.96l-1.37-1.37c-.4-.4-.92-.59-1.43-.59-.52 0-1.04.2-1.43.59L10.3 9.45l-7.72 7.72c-.78.78-.78 2.05 0 2.83L4 21.41c.39.39.9.59 1.41.59.51 0 1.02-.2 1.41-.59l7.78-7.78 2.81-2.81c.8-.78.8-2.07 0-2.86zM5.41 20L4 18.59l7.72-7.72 1.47 1.35L5.41 20z\"/>\n",
              "  </svg>\n",
              "      </button>\n",
              "      \n",
              "  <style>\n",
              "    .colab-df-container {\n",
              "      display:flex;\n",
              "      flex-wrap:wrap;\n",
              "      gap: 12px;\n",
              "    }\n",
              "\n",
              "    .colab-df-convert {\n",
              "      background-color: #E8F0FE;\n",
              "      border: none;\n",
              "      border-radius: 50%;\n",
              "      cursor: pointer;\n",
              "      display: none;\n",
              "      fill: #1967D2;\n",
              "      height: 32px;\n",
              "      padding: 0 0 0 0;\n",
              "      width: 32px;\n",
              "    }\n",
              "\n",
              "    .colab-df-convert:hover {\n",
              "      background-color: #E2EBFA;\n",
              "      box-shadow: 0px 1px 2px rgba(60, 64, 67, 0.3), 0px 1px 3px 1px rgba(60, 64, 67, 0.15);\n",
              "      fill: #174EA6;\n",
              "    }\n",
              "\n",
              "    [theme=dark] .colab-df-convert {\n",
              "      background-color: #3B4455;\n",
              "      fill: #D2E3FC;\n",
              "    }\n",
              "\n",
              "    [theme=dark] .colab-df-convert:hover {\n",
              "      background-color: #434B5C;\n",
              "      box-shadow: 0px 1px 3px 1px rgba(0, 0, 0, 0.15);\n",
              "      filter: drop-shadow(0px 1px 2px rgba(0, 0, 0, 0.3));\n",
              "      fill: #FFFFFF;\n",
              "    }\n",
              "  </style>\n",
              "\n",
              "      <script>\n",
              "        const buttonEl =\n",
              "          document.querySelector('#df-e52d6ad5-bb39-4eb4-a715-cd12c8a9440e button.colab-df-convert');\n",
              "        buttonEl.style.display =\n",
              "          google.colab.kernel.accessAllowed ? 'block' : 'none';\n",
              "\n",
              "        async function convertToInteractive(key) {\n",
              "          const element = document.querySelector('#df-e52d6ad5-bb39-4eb4-a715-cd12c8a9440e');\n",
              "          const dataTable =\n",
              "            await google.colab.kernel.invokeFunction('convertToInteractive',\n",
              "                                                     [key], {});\n",
              "          if (!dataTable) return;\n",
              "\n",
              "          const docLinkHtml = 'Like what you see? Visit the ' +\n",
              "            '<a target=\"_blank\" href=https://colab.research.google.com/notebooks/data_table.ipynb>data table notebook</a>'\n",
              "            + ' to learn more about interactive tables.';\n",
              "          element.innerHTML = '';\n",
              "          dataTable['output_type'] = 'display_data';\n",
              "          await google.colab.output.renderOutput(dataTable, element);\n",
              "          const docLink = document.createElement('div');\n",
              "          docLink.innerHTML = docLinkHtml;\n",
              "          element.appendChild(docLink);\n",
              "        }\n",
              "      </script>\n",
              "    </div>\n",
              "  </div>\n",
              "  "
            ]
          },
          "metadata": {},
          "execution_count": 30
        }
      ],
      "source": [
        "df.head()"
      ]
    },
    {
      "cell_type": "code",
      "source": [
        "ax=df['ordStatus_numerical'].value_counts().plot(kind='bar',figsize=(14,6))"
      ],
      "metadata": {
        "colab": {
          "base_uri": "https://localhost:8080/",
          "height": 374
        },
        "id": "kUmwdTsrPTPF",
        "outputId": "4617642a-65f2-4cb5-a122-c42a1d975ddd"
      },
      "execution_count": 31,
      "outputs": [
        {
          "output_type": "display_data",
          "data": {
            "text/plain": [
              "<Figure size 1008x432 with 1 Axes>"
            ],
            "image/png": "[encoded data removed]"
          },
          "metadata": {
            "needs_background": "light"
          }
        }
      ]
    },
    {
      "cell_type": "markdown",
      "metadata": {
        "id": "ouDGh4_uUfCI"
      },
      "source": [
        "# **Plot the different sides**"
      ]
    },
    {
      "cell_type": "code",
      "execution_count": 34,
      "metadata": {
        "colab": {
          "base_uri": "https://localhost:8080/",
          "height": 374
        },
        "id": "5HfiOL1uUib_",
        "outputId": "438ba928-9326-4979-e70a-25d17899acf4"
      },
      "outputs": [
        {
          "output_type": "execute_result",
          "data": {
            "text/plain": [
              "<matplotlib.axes._subplots.AxesSubplot at 0x7f237c866650>"
            ]
          },
          "metadata": {},
          "execution_count": 34
        },
        {
          "output_type": "display_data",
          "data": {
            "text/plain": [
              "<Figure size 720x432 with 1 Axes>"
            ],
            "image/png": "[encoded data removed]"
          },
          "metadata": {}
        }
      ],
      "source": [
        "#show the different side : Buy, Sell short, Sell and SELL\n",
        "df['side_numerical'].value_counts().plot(kind='pie', figsize=(10,6))"
      ]
    },
    {
      "cell_type": "markdown",
      "metadata": {
        "id": "PSqrKXWcUvsn"
      },
      "source": [
        "# **Plot the different senders**"
      ]
    },
    {
      "cell_type": "code",
      "execution_count": 35,
      "metadata": {
        "colab": {
          "base_uri": "https://localhost:8080/",
          "height": 410
        },
        "id": "ryq-77PAUukn",
        "outputId": "fb87f82b-e3b4-4d73-8eff-63b0e79cfe5b"
      },
      "outputs": [
        {
          "output_type": "display_data",
          "data": {
            "text/plain": [
              "<Figure size 1008x432 with 1 Axes>"
            ],
            "image/png": "[encoded data removed]"
          },
          "metadata": {
            "needs_background": "light"
          }
        }
      ],
      "source": [
        "#show the different senders\n",
        "ax = df['SenderSubId'].value_counts().plot(kind='bar', figsize=(14,6))"
      ]
    },
    {
      "cell_type": "markdown",
      "metadata": {
        "id": "wlsInxx1VLdS"
      },
      "source": [
        "# **Group by SenderSubId and OrdStatus**"
      ]
    },
    {
      "cell_type": "code",
      "execution_count": 36,
      "metadata": {
        "colab": {
          "base_uri": "https://localhost:8080/",
          "height": 454
        },
        "id": "Dl54hutxXngc",
        "outputId": "d10e1b4a-6335-4fc8-ca79-2b92bd66fb29"
      },
      "outputs": [
        {
          "output_type": "execute_result",
          "data": {
            "text/plain": [
              "                                 orderId        side  OrderQty   Price  \\\n",
              "SenderSubId ordStatus                                                    \n",
              "JAJ07IR     NEW        IRESS_01MjE0PoQ|C         BUY    5000.0   0.560   \n",
              "JAJ46IR     CANCELED    1099O1F1MjDIBqDO  SELL SHORT   10000.0   9.600   \n",
              "            NEW         1099O1F1MjDIBqCO  SELL SHORT   10000.0   9.500   \n",
              "JITMJMM     NEW         99XFI301lEvbfA|O        SELL   50500.0   0.395   \n",
              "JT17ITS     NEW               1009I8NH.1  SELL SHORT     500.0  10.730   \n",
              "...                                  ...         ...       ...     ...   \n",
              "QJREGRH     NEW              2zDHW10_0Xz  SELL SHORT    2000.0   9.880   \n",
              "QJREGTD     CANCELED         2zDHW10_0RN        SELL    4000.0   0.265   \n",
              "            NEW              2zDHW10_0RN        SELL    4000.0   0.270   \n",
              "QJREGVV     CANCELED         2z9Xt10_3Bj         BUY    3900.0  10.120   \n",
              "            NEW                AOP1-65-1         BUY     500.0  38.500   \n",
              "\n",
              "                               TransactTime  side_numerical  \\\n",
              "SenderSubId ordStatus                                         \n",
              "JAJ07IR     NEW        5/24/2018 8:34:09 AM             1.0   \n",
              "JAJ46IR     CANCELED   5/24/2018 9:11:05 AM            -1.0   \n",
              "            NEW        5/24/2018 9:05:46 AM            -1.0   \n",
              "JITMJMM     NEW        5/24/2018 8:46:45 AM             0.0   \n",
              "JT17ITS     NEW        5/24/2018 8:14:57 AM            -1.0   \n",
              "...                                     ...             ...   \n",
              "QJREGRH     NEW        5/24/2018 9:17:32 AM            -1.0   \n",
              "QJREGTD     CANCELED   5/24/2018 9:10:44 AM             0.0   \n",
              "            NEW        5/24/2018 9:10:44 AM             0.0   \n",
              "QJREGVV     CANCELED   5/24/2018 8:43:44 AM             1.0   \n",
              "            NEW        5/24/2018 8:17:19 AM             1.0   \n",
              "\n",
              "                       ordStatus_numerical  Fraud  \n",
              "SenderSubId ordStatus                              \n",
              "JAJ07IR     NEW                          1      0  \n",
              "JAJ46IR     CANCELED                     0      0  \n",
              "            NEW                          1      0  \n",
              "JITMJMM     NEW                          1      0  \n",
              "JT17ITS     NEW                          1      0  \n",
              "...                                    ...    ...  \n",
              "QJREGRH     NEW                          1      0  \n",
              "QJREGTD     CANCELED                     0      0  \n",
              "            NEW                          1      0  \n",
              "QJREGVV     CANCELED                     0      0  \n",
              "            NEW                          1      0  \n",
              "\n",
              "[89 rows x 8 columns]"
            ],
            "text/html": [
              "\n",
              "  <div id=\"df-7bef6c32-a412-43ba-962b-6c271ea2f46d\">\n",
              "    <div class=\"colab-df-container\">\n",
              "      <div>\n",
              "<style scoped>\n",
              "    .dataframe tbody tr th:only-of-type {\n",
              "        vertical-align: middle;\n",
              "    }\n",
              "\n",
              "    .dataframe tbody tr th {\n",
              "        vertical-align: top;\n",
              "    }\n",
              "\n",
              "    .dataframe thead th {\n",
              "        text-align: right;\n",
              "    }\n",
              "</style>\n",
              "<table border=\"1\" class=\"dataframe\">\n",
              "  <thead>\n",
              "    <tr style=\"text-align: right;\">\n",
              "      <th></th>\n",
              "      <th></th>\n",
              "      <th>orderId</th>\n",
              "      <th>side</th>\n",
              "      <th>OrderQty</th>\n",
              "      <th>Price</th>\n",
              "      <th>TransactTime</th>\n",
              "      <th>side_numerical</th>\n",
              "      <th>ordStatus_numerical</th>\n",
              "      <th>Fraud</th>\n",
              "    </tr>\n",
              "    <tr>\n",
              "      <th>SenderSubId</th>\n",
              "      <th>ordStatus</th>\n",
              "      <th></th>\n",
              "      <th></th>\n",
              "      <th></th>\n",
              "      <th></th>\n",
              "      <th></th>\n",
              "      <th></th>\n",
              "      <th></th>\n",
              "      <th></th>\n",
              "    </tr>\n",
              "  </thead>\n",
              "  <tbody>\n",
              "    <tr>\n",
              "      <th>JAJ07IR</th>\n",
              "      <th>NEW</th>\n",
              "      <td>IRESS_01MjE0PoQ|C</td>\n",
              "      <td>BUY</td>\n",
              "      <td>5000.0</td>\n",
              "      <td>0.560</td>\n",
              "      <td>5/24/2018 8:34:09 AM</td>\n",
              "      <td>1.0</td>\n",
              "      <td>1</td>\n",
              "      <td>0</td>\n",
              "    </tr>\n",
              "    <tr>\n",
              "      <th rowspan=\"2\" valign=\"top\">JAJ46IR</th>\n",
              "      <th>CANCELED</th>\n",
              "      <td>1099O1F1MjDIBqDO</td>\n",
              "      <td>SELL SHORT</td>\n",
              "      <td>10000.0</td>\n",
              "      <td>9.600</td>\n",
              "      <td>5/24/2018 9:11:05 AM</td>\n",
              "      <td>-1.0</td>\n",
              "      <td>0</td>\n",
              "      <td>0</td>\n",
              "    </tr>\n",
              "    <tr>\n",
              "      <th>NEW</th>\n",
              "      <td>1099O1F1MjDIBqCO</td>\n",
              "      <td>SELL SHORT</td>\n",
              "      <td>10000.0</td>\n",
              "      <td>9.500</td>\n",
              "      <td>5/24/2018 9:05:46 AM</td>\n",
              "      <td>-1.0</td>\n",
              "      <td>1</td>\n",
              "      <td>0</td>\n",
              "    </tr>\n",
              "    <tr>\n",
              "      <th>JITMJMM</th>\n",
              "      <th>NEW</th>\n",
              "      <td>99XFI301lEvbfA|O</td>\n",
              "      <td>SELL</td>\n",
              "      <td>50500.0</td>\n",
              "      <td>0.395</td>\n",
              "      <td>5/24/2018 8:46:45 AM</td>\n",
              "      <td>0.0</td>\n",
              "      <td>1</td>\n",
              "      <td>0</td>\n",
              "    </tr>\n",
              "    <tr>\n",
              "      <th>JT17ITS</th>\n",
              "      <th>NEW</th>\n",
              "      <td>1009I8NH.1</td>\n",
              "      <td>SELL SHORT</td>\n",
              "      <td>500.0</td>\n",
              "      <td>10.730</td>\n",
              "      <td>5/24/2018 8:14:57 AM</td>\n",
              "      <td>-1.0</td>\n",
              "      <td>1</td>\n",
              "      <td>0</td>\n",
              "    </tr>\n",
              "    <tr>\n",
              "      <th>...</th>\n",
              "      <th>...</th>\n",
              "      <td>...</td>\n",
              "      <td>...</td>\n",
              "      <td>...</td>\n",
              "      <td>...</td>\n",
              "      <td>...</td>\n",
              "      <td>...</td>\n",
              "      <td>...</td>\n",
              "      <td>...</td>\n",
              "    </tr>\n",
              "    <tr>\n",
              "      <th>QJREGRH</th>\n",
              "      <th>NEW</th>\n",
              "      <td>2zDHW10_0Xz</td>\n",
              "      <td>SELL SHORT</td>\n",
              "      <td>2000.0</td>\n",
              "      <td>9.880</td>\n",
              "      <td>5/24/2018 9:17:32 AM</td>\n",
              "      <td>-1.0</td>\n",
              "      <td>1</td>\n",
              "      <td>0</td>\n",
              "    </tr>\n",
              "    <tr>\n",
              "      <th rowspan=\"2\" valign=\"top\">QJREGTD</th>\n",
              "      <th>CANCELED</th>\n",
              "      <td>2zDHW10_0RN</td>\n",
              "      <td>SELL</td>\n",
              "      <td>4000.0</td>\n",
              "      <td>0.265</td>\n",
              "      <td>5/24/2018 9:10:44 AM</td>\n",
              "      <td>0.0</td>\n",
              "      <td>0</td>\n",
              "      <td>0</td>\n",
              "    </tr>\n",
              "    <tr>\n",
              "      <th>NEW</th>\n",
              "      <td>2zDHW10_0RN</td>\n",
              "      <td>SELL</td>\n",
              "      <td>4000.0</td>\n",
              "      <td>0.270</td>\n",
              "      <td>5/24/2018 9:10:44 AM</td>\n",
              "      <td>0.0</td>\n",
              "      <td>1</td>\n",
              "      <td>0</td>\n",
              "    </tr>\n",
              "    <tr>\n",
              "      <th rowspan=\"2\" valign=\"top\">QJREGVV</th>\n",
              "      <th>CANCELED</th>\n",
              "      <td>2z9Xt10_3Bj</td>\n",
              "      <td>BUY</td>\n",
              "      <td>3900.0</td>\n",
              "      <td>10.120</td>\n",
              "      <td>5/24/2018 8:43:44 AM</td>\n",
              "      <td>1.0</td>\n",
              "      <td>0</td>\n",
              "      <td>0</td>\n",
              "    </tr>\n",
              "    <tr>\n",
              "      <th>NEW</th>\n",
              "      <td>AOP1-65-1</td>\n",
              "      <td>BUY</td>\n",
              "      <td>500.0</td>\n",
              "      <td>38.500</td>\n",
              "      <td>5/24/2018 8:17:19 AM</td>\n",
              "      <td>1.0</td>\n",
              "      <td>1</td>\n",
              "      <td>0</td>\n",
              "    </tr>\n",
              "  </tbody>\n",
              "</table>\n",
              "<p>89 rows × 8 columns</p>\n",
              "</div>\n",
              "      <button class=\"colab-df-convert\" onclick=\"convertToInteractive('df-7bef6c32-a412-43ba-962b-6c271ea2f46d')\"\n",
              "              title=\"Convert this dataframe to an interactive table.\"\n",
              "              style=\"display:none;\">\n",
              "        \n",
              "  <svg xmlns=\"http://www.w3.org/2000/svg\" height=\"24px\"viewBox=\"0 0 24 24\"\n",
              "       width=\"24px\">\n",
              "    <path d=\"M0 0h24v24H0V0z\" fill=\"none\"/>\n",
              "    <path d=\"M18.56 5.44l.94 2.06.94-2.06 2.06-.94-2.06-.94-.94-2.06-.94 2.06-2.06.94zm-11 1L8.5 8.5l.94-2.06 2.06-.94-2.06-.94L8.5 2.5l-.94 2.06-2.06.94zm10 10l.94 2.06.94-2.06 2.06-.94-2.06-.94-.94-2.06-.94 2.06-2.06.94z\"/><path d=\"M17.41 7.96l-1.37-1.37c-.4-.4-.92-.59-1.43-.59-.52 0-1.04.2-1.43.59L10.3 9.45l-7.72 7.72c-.78.78-.78 2.05 0 2.83L4 21.41c.39.39.9.59 1.41.59.51 0 1.02-.2 1.41-.59l7.78-7.78 2.81-2.81c.8-.78.8-2.07 0-2.86zM5.41 20L4 18.59l7.72-7.72 1.47 1.35L5.41 20z\"/>\n",
              "  </svg>\n",
              "      </button>\n",
              "      \n",
              "  <style>\n",
              "    .colab-df-container {\n",
              "      display:flex;\n",
              "      flex-wrap:wrap;\n",
              "      gap: 12px;\n",
              "    }\n",
              "\n",
              "    .colab-df-convert {\n",
              "      background-color: #E8F0FE;\n",
              "      border: none;\n",
              "      border-radius: 50%;\n",
              "      cursor: pointer;\n",
              "      display: none;\n",
              "      fill: #1967D2;\n",
              "      height: 32px;\n",
              "      padding: 0 0 0 0;\n",
              "      width: 32px;\n",
              "    }\n",
              "\n",
              "    .colab-df-convert:hover {\n",
              "      background-color: #E2EBFA;\n",
              "      box-shadow: 0px 1px 2px rgba(60, 64, 67, 0.3), 0px 1px 3px 1px rgba(60, 64, 67, 0.15);\n",
              "      fill: #174EA6;\n",
              "    }\n",
              "\n",
              "    [theme=dark] .colab-df-convert {\n",
              "      background-color: #3B4455;\n",
              "      fill: #D2E3FC;\n",
              "    }\n",
              "\n",
              "    [theme=dark] .colab-df-convert:hover {\n",
              "      background-color: #434B5C;\n",
              "      box-shadow: 0px 1px 3px 1px rgba(0, 0, 0, 0.15);\n",
              "      filter: drop-shadow(0px 1px 2px rgba(0, 0, 0, 0.3));\n",
              "      fill: #FFFFFF;\n",
              "    }\n",
              "  </style>\n",
              "\n",
              "      <script>\n",
              "        const buttonEl =\n",
              "          document.querySelector('#df-7bef6c32-a412-43ba-962b-6c271ea2f46d button.colab-df-convert');\n",
              "        buttonEl.style.display =\n",
              "          google.colab.kernel.accessAllowed ? 'block' : 'none';\n",
              "\n",
              "        async function convertToInteractive(key) {\n",
              "          const element = document.querySelector('#df-7bef6c32-a412-43ba-962b-6c271ea2f46d');\n",
              "          const dataTable =\n",
              "            await google.colab.kernel.invokeFunction('convertToInteractive',\n",
              "                                                     [key], {});\n",
              "          if (!dataTable) return;\n",
              "\n",
              "          const docLinkHtml = 'Like what you see? Visit the ' +\n",
              "            '<a target=\"_blank\" href=https://colab.research.google.com/notebooks/data_table.ipynb>data table notebook</a>'\n",
              "            + ' to learn more about interactive tables.';\n",
              "          element.innerHTML = '';\n",
              "          dataTable['output_type'] = 'display_data';\n",
              "          await google.colab.output.renderOutput(dataTable, element);\n",
              "          const docLink = document.createElement('div');\n",
              "          docLink.innerHTML = docLinkHtml;\n",
              "          element.appendChild(docLink);\n",
              "        }\n",
              "      </script>\n",
              "    </div>\n",
              "  </div>\n",
              "  "
            ]
          },
          "metadata": {},
          "execution_count": 36
        }
      ],
      "source": [
        "#First grouping based on \"Team\"\n",
        "# Within each team we are grouping based on \"Position\"\n",
        "count = df.groupby(['SenderSubId', 'ordStatus'])\n",
        "  \n",
        "# Print the first value in each group\n",
        "count.first()"
      ]
    },
    {
      "cell_type": "code",
      "execution_count": null,
      "metadata": {
        "id": "H4MA8eCWYC1x"
      },
      "outputs": [],
      "source": [
        "import sklearn\n",
        "from scipy import stats\n",
        "import matplotlib.pyplot as plt\n",
        "import os\n",
        "import seaborn as sns"
      ]
    },
    {
      "cell_type": "code",
      "execution_count": null,
      "metadata": {
        "colab": {
          "base_uri": "https://localhost:8080/",
          "height": 362
        },
        "id": "h2uag034YD0t",
        "outputId": "2502a7fc-7872-4928-ef62-5c0387abc460"
      },
      "outputs": [
        {
          "name": "stderr",
          "output_type": "stream",
          "text": [
            "/usr/local/lib/python3.7/dist-packages/seaborn/_decorators.py:43: FutureWarning: Pass the following variables as keyword args: x, y. From version 0.12, the only valid positional argument will be `data`, and passing other arguments without an explicit keyword will result in an error or misinterpretation.\n",
            "  FutureWarning\n"
          ]
        },
        {
          "data": {
            "text/plain": [
              "<matplotlib.axes._subplots.AxesSubplot at 0x7f0740e30a90>"
            ]
          },
          "execution_count": 31,
          "metadata": {},
          "output_type": "execute_result"
        },
        {
          "data": {
            "image/png": "[encoded data removed]",
            "text/plain": [
              "<Figure size 432x288 with 1 Axes>"
            ]
          },
          "metadata": {},
          "output_type": "display_data"
        }
      ],
      "source": [
        "sns.scatterplot(df['Price'], df['OrderQty'])"
      ]
    },
    {
      "cell_type": "code",
      "execution_count": null,
      "metadata": {
        "colab": {
          "base_uri": "https://localhost:8080/",
          "height": 296
        },
        "id": "imSz9IycpO3U",
        "outputId": "73f9dc10-7dd2-4069-da18-483a504bd35c"
      },
      "outputs": [
        {
          "data": {
            "image/png": "[encoded data removed]",
            "text/plain": [
              "<Figure size 432x288 with 1 Axes>"
            ]
          },
          "metadata": {},
          "output_type": "display_data"
        }
      ],
      "source": [
        "ax = sns.scatterplot(data=df,x= df.TransactTime[df.Fraud == 1], y= df.Price[df.Fraud == 1], color='red')\n",
        "ax.set_title('Distribution of Fraud Transactions', fontsize=14)\n",
        "\n",
        "plt.xlabel('Time (in Seconds)')\n",
        "plt.ylabel('Price ($)')\n",
        "plt.show()"
      ]
    },
    {
      "cell_type": "code",
      "execution_count": null,
      "metadata": {
        "colab": {
          "base_uri": "https://localhost:8080/",
          "height": 296
        },
        "id": "cFZNpwxJpzEN",
        "outputId": "36ce7c44-5ea8-4285-d8f6-f61f7af430ec"
      },
      "outputs": [
        {
          "data": {
            "image/png": "[encoded data removed]",
            "text/plain": [
              "<Figure size 432x288 with 1 Axes>"
            ]
          },
          "metadata": {},
          "output_type": "display_data"
        }
      ],
      "source": [
        "ax = sns.scatterplot(data=df,x= df.TransactTime[df.Fraud == 0], y= df.Price[df.Fraud == 0], color='green')\n",
        "ax.set_title('Distribution of Normal Transactions', fontsize=14)\n",
        "\n",
        "plt.xlabel('Time(in Seconds)')\n",
        "plt.ylabel('Price ($)')\n",
        "plt.show()"
      ]
    },
    {
      "cell_type": "code",
      "execution_count": null,
      "metadata": {
        "colab": {
          "base_uri": "https://localhost:8080/",
          "height": 294
        },
        "id": "D-3wAJWIr8Yq",
        "outputId": "ed4ac020-bd90-410c-e9c4-4829dba4d4fe"
      },
      "outputs": [
        {
          "data": {
            "image/png": "[encoded data removed]",
            "text/plain": [
              "<Figure size 432x288 with 2 Axes>"
            ]
          },
          "metadata": {},
          "output_type": "display_data"
        }
      ],
      "source": [
        "# OrderQty distribution comparison (line plot)\n",
        "\n",
        "\n",
        "\n",
        "plt.subplot(1, 2, 1)\n",
        "plt.plot(df[\"OrderQty\"], color=\"red\")\n",
        "plt.title(\"Fraud OrderQty Distribution\")\n",
        "plt.xlabel(\"TransactTime\")\n",
        "plt.ylabel(\"OrderQty\")\n",
        "\n",
        "plt.subplot(1, 2, 2)\n",
        "plt.plot(df[\"OrderQty\"], color=\"blue\")\n",
        "plt.title(\"Non-Fraud OrderQty Distribution\")\n",
        "plt.xlabel(\"TransactTime\")\n",
        "plt.ylabel(\"OrderQty\")\n",
        "\n",
        "plt.show()"
      ]
    },
    {
      "cell_type": "code",
      "execution_count": null,
      "metadata": {
        "id": "cyNDe_0izi4y"
      },
      "outputs": [],
      "source": [
        ""
      ]
    },
    {
      "cell_type": "code",
      "execution_count": null,
      "metadata": {
        "colab": {
          "base_uri": "https://localhost:8080/",
          "height": 336
        },
        "id": "RaYyUAGInAol",
        "outputId": "cb4fad46-124b-483d-84db-fa96bd7d6f98"
      },
      "outputs": [
        {
          "data": {
            "image/png": "[encoded data removed]",
            "text/plain": [
              "<Figure size 720x360 with 1 Axes>"
            ]
          },
          "metadata": {},
          "output_type": "display_data"
        }
      ],
      "source": [
        "# Time vs Amount in Fraud Cases\n",
        "\n",
        "plt.figure(figsize=(10,5))\n",
        "fig = plt.scatter(x=df[df['Fraud'] == 1]['TransactTime'], y=df[df['Fraud'] == 1]['TransactTime'], color=\"#7a9eaf\")\n",
        "plt.title(\"Time vs TransactTime in Fraud Cases\")\n",
        "plt.show()"
      ]
    },
    {
      "cell_type": "code",
      "execution_count": null,
      "metadata": {
        "id": "1xao8xxKhfRm"
      },
      "outputs": [],
      "source": [
        "#plt.figure(figsize=(10,5))\n",
        "#fig = plt.scatter(x=df[df['Fraud'] == 0]['TransactTime'], y=df[df['Fraud'] == 0]['orderId'], color=\"#655989\")\n",
        "#plt.title(\"Time vs orderId in Legit Cases\")\n",
        "#plt.show()"
      ]
    },
    {
      "cell_type": "code",
      "execution_count": null,
      "metadata": {
        "id": "C-ZWrrPw3jkR"
      },
      "outputs": [],
      "source": [
        "#plt.figure(figsize=(12, 6))\n",
        "#plt.title('Total Monthly transaction by ordStatus')\n",
        "#sns.countplot(df['orderId'], hue = df.ordStatus_numerical)"
      ]
    },
    {
      "cell_type": "code",
      "execution_count": null,
      "metadata": {
        "colab": {
          "base_uri": "https://localhost:8080/",
          "height": 606
        },
        "id": "5DpMcrm0YF32",
        "outputId": "a957856d-c6b1-4123-b60f-4d5989040d31"
      },
      "outputs": [
        {
          "data": {
            "image/png": "[encoded data removed]",
            "text/plain": [
              "<Figure size 720x720 with 6 Axes>"
            ]
          },
          "metadata": {},
          "output_type": "display_data"
        }
      ],
      "source": [
        "#histogram of the data set\n",
        "\n",
        "df.hist(figsize=(10,10))\n",
        "plt.show()"
      ]
    },
    {
      "cell_type": "markdown",
      "metadata": {
        "id": "mOVgyaj9VhQG"
      },
      "source": [
        "# **Testing DataSet Cleaning**"
      ]
    },
    {
      "cell_type": "code",
      "execution_count": null,
      "metadata": {
        "id": "RlmbthgKVkie"
      },
      "outputs": [],
      "source": [
        "del testing_Data['Account']\n",
        "del testing_Data['Symbol']\n",
        "del testing_Data['LastShares']\n",
        "del testing_Data['LastPx']\n",
        "del testing_Data ['lastMkt']\n",
        "del testing_Data['timeStamp']\n",
        "del testing_Data ['MsgSeqNum']\n",
        "del testing_Data['Cancelled']"
      ]
    },
    {
      "cell_type": "code",
      "execution_count": null,
      "metadata": {
        "colab": {
          "base_uri": "https://localhost:8080/",
          "height": 424
        },
        "id": "FBFyaUihV1mW",
        "outputId": "04bfe1c4-e780-47f1-c23e-e5682a4a7c13"
      },
      "outputs": [
        {
          "data": {
            "text/html": [
              "\n",
              "  <div id=\"df-2a5a7eab-671e-4e50-bdf0-ef6512a360a1\">\n",
              "    <div class=\"colab-df-container\">\n",
              "      <div>\n",
              "<style scoped>\n",
              "    .dataframe tbody tr th:only-of-type {\n",
              "        vertical-align: middle;\n",
              "    }\n",
              "\n",
              "    .dataframe tbody tr th {\n",
              "        vertical-align: top;\n",
              "    }\n",
              "\n",
              "    .dataframe thead th {\n",
              "        text-align: right;\n",
              "    }\n",
              "</style>\n",
              "<table border=\"1\" class=\"dataframe\">\n",
              "  <thead>\n",
              "    <tr style=\"text-align: right;\">\n",
              "      <th></th>\n",
              "      <th>SenderSubId</th>\n",
              "      <th>orderId</th>\n",
              "      <th>ordStatus</th>\n",
              "      <th>side</th>\n",
              "      <th>OrderQty</th>\n",
              "      <th>Price</th>\n",
              "      <th>TransactTime</th>\n",
              "      <th>Fraud</th>\n",
              "    </tr>\n",
              "  </thead>\n",
              "  <tbody>\n",
              "    <tr>\n",
              "      <th>0</th>\n",
              "      <td>JTPOINT</td>\n",
              "      <td>7508</td>\n",
              "      <td>CANCELED</td>\n",
              "      <td>Sell</td>\n",
              "      <td>500.000000</td>\n",
              "      <td>25.802124</td>\n",
              "      <td>2018-05-24 09:29:16 AM</td>\n",
              "      <td>1</td>\n",
              "    </tr>\n",
              "    <tr>\n",
              "      <th>1</th>\n",
              "      <td>JTPOINT</td>\n",
              "      <td>7509</td>\n",
              "      <td>CANCELED</td>\n",
              "      <td>Sell</td>\n",
              "      <td>500.000000</td>\n",
              "      <td>25.802124</td>\n",
              "      <td>2018-05-24 09:29:16 AM</td>\n",
              "      <td>1</td>\n",
              "    </tr>\n",
              "    <tr>\n",
              "      <th>2</th>\n",
              "      <td>JTPOINT</td>\n",
              "      <td>7510</td>\n",
              "      <td>CANCELED</td>\n",
              "      <td>Sell</td>\n",
              "      <td>500.000000</td>\n",
              "      <td>25.802124</td>\n",
              "      <td>2018-05-24 09:29:16 AM</td>\n",
              "      <td>1</td>\n",
              "    </tr>\n",
              "    <tr>\n",
              "      <th>3</th>\n",
              "      <td>JTPOINT</td>\n",
              "      <td>7511</td>\n",
              "      <td>CANCELED</td>\n",
              "      <td>Sell</td>\n",
              "      <td>500.000000</td>\n",
              "      <td>25.802124</td>\n",
              "      <td>2018-05-24 09:29:16 AM</td>\n",
              "      <td>1</td>\n",
              "    </tr>\n",
              "    <tr>\n",
              "      <th>4</th>\n",
              "      <td>JTPOINT</td>\n",
              "      <td>7512</td>\n",
              "      <td>CANCELED</td>\n",
              "      <td>Sell</td>\n",
              "      <td>500.000000</td>\n",
              "      <td>25.802124</td>\n",
              "      <td>2018-05-24 09:29:16 AM</td>\n",
              "      <td>1</td>\n",
              "    </tr>\n",
              "    <tr>\n",
              "      <th>...</th>\n",
              "      <td>...</td>\n",
              "      <td>...</td>\n",
              "      <td>...</td>\n",
              "      <td>...</td>\n",
              "      <td>...</td>\n",
              "      <td>...</td>\n",
              "      <td>...</td>\n",
              "      <td>...</td>\n",
              "    </tr>\n",
              "    <tr>\n",
              "      <th>6316</th>\n",
              "      <td>JTMBINS</td>\n",
              "      <td>3955</td>\n",
              "      <td>CANCELED</td>\n",
              "      <td>Sell</td>\n",
              "      <td>491.600506</td>\n",
              "      <td>23.497166</td>\n",
              "      <td>2018-05-24 10:04:50 AM</td>\n",
              "      <td>1</td>\n",
              "    </tr>\n",
              "    <tr>\n",
              "      <th>6317</th>\n",
              "      <td>JTMBINS</td>\n",
              "      <td>3956</td>\n",
              "      <td>CANCELED</td>\n",
              "      <td>Sell</td>\n",
              "      <td>491.600506</td>\n",
              "      <td>23.497166</td>\n",
              "      <td>2018-05-24 10:04:50 AM</td>\n",
              "      <td>1</td>\n",
              "    </tr>\n",
              "    <tr>\n",
              "      <th>6318</th>\n",
              "      <td>JTMBINS</td>\n",
              "      <td>3957</td>\n",
              "      <td>CANCELED</td>\n",
              "      <td>Sell</td>\n",
              "      <td>491.600506</td>\n",
              "      <td>23.497166</td>\n",
              "      <td>2018-05-24 10:04:50 AM</td>\n",
              "      <td>1</td>\n",
              "    </tr>\n",
              "    <tr>\n",
              "      <th>6319</th>\n",
              "      <td>JTMBINS</td>\n",
              "      <td>3958</td>\n",
              "      <td>CANCELED</td>\n",
              "      <td>Sell</td>\n",
              "      <td>491.600506</td>\n",
              "      <td>23.497166</td>\n",
              "      <td>2018-05-24 10:04:50 AM</td>\n",
              "      <td>1</td>\n",
              "    </tr>\n",
              "    <tr>\n",
              "      <th>6320</th>\n",
              "      <td>JTMBINS</td>\n",
              "      <td>3959</td>\n",
              "      <td>CANCELED</td>\n",
              "      <td>Sell</td>\n",
              "      <td>491.600506</td>\n",
              "      <td>23.497166</td>\n",
              "      <td>2018-05-24 10:04:50 AM</td>\n",
              "      <td>1</td>\n",
              "    </tr>\n",
              "  </tbody>\n",
              "</table>\n",
              "<p>6321 rows × 8 columns</p>\n",
              "</div>\n",
              "      <button class=\"colab-df-convert\" onclick=\"convertToInteractive('df-2a5a7eab-671e-4e50-bdf0-ef6512a360a1')\"\n",
              "              title=\"Convert this dataframe to an interactive table.\"\n",
              "              style=\"display:none;\">\n",
              "        \n",
              "  <svg xmlns=\"http://www.w3.org/2000/svg\" height=\"24px\"viewBox=\"0 0 24 24\"\n",
              "       width=\"24px\">\n",
              "    <path d=\"M0 0h24v24H0V0z\" fill=\"none\"/>\n",
              "    <path d=\"M18.56 5.44l.94 2.06.94-2.06 2.06-.94-2.06-.94-.94-2.06-.94 2.06-2.06.94zm-11 1L8.5 8.5l.94-2.06 2.06-.94-2.06-.94L8.5 2.5l-.94 2.06-2.06.94zm10 10l.94 2.06.94-2.06 2.06-.94-2.06-.94-.94-2.06-.94 2.06-2.06.94z\"/><path d=\"M17.41 7.96l-1.37-1.37c-.4-.4-.92-.59-1.43-.59-.52 0-1.04.2-1.43.59L10.3 9.45l-7.72 7.72c-.78.78-.78 2.05 0 2.83L4 21.41c.39.39.9.59 1.41.59.51 0 1.02-.2 1.41-.59l7.78-7.78 2.81-2.81c.8-.78.8-2.07 0-2.86zM5.41 20L4 18.59l7.72-7.72 1.47 1.35L5.41 20z\"/>\n",
              "  </svg>\n",
              "      </button>\n",
              "      \n",
              "  <style>\n",
              "    .colab-df-container {\n",
              "      display:flex;\n",
              "      flex-wrap:wrap;\n",
              "      gap: 12px;\n",
              "    }\n",
              "\n",
              "    .colab-df-convert {\n",
              "      background-color: #E8F0FE;\n",
              "      border: none;\n",
              "      border-radius: 50%;\n",
              "      cursor: pointer;\n",
              "      display: none;\n",
              "      fill: #1967D2;\n",
              "      height: 32px;\n",
              "      padding: 0 0 0 0;\n",
              "      width: 32px;\n",
              "    }\n",
              "\n",
              "    .colab-df-convert:hover {\n",
              "      background-color: #E2EBFA;\n",
              "      box-shadow: 0px 1px 2px rgba(60, 64, 67, 0.3), 0px 1px 3px 1px rgba(60, 64, 67, 0.15);\n",
              "      fill: #174EA6;\n",
              "    }\n",
              "\n",
              "    [theme=dark] .colab-df-convert {\n",
              "      background-color: #3B4455;\n",
              "      fill: #D2E3FC;\n",
              "    }\n",
              "\n",
              "    [theme=dark] .colab-df-convert:hover {\n",
              "      background-color: #434B5C;\n",
              "      box-shadow: 0px 1px 3px 1px rgba(0, 0, 0, 0.15);\n",
              "      filter: drop-shadow(0px 1px 2px rgba(0, 0, 0, 0.3));\n",
              "      fill: #FFFFFF;\n",
              "    }\n",
              "  </style>\n",
              "\n",
              "      <script>\n",
              "        const buttonEl =\n",
              "          document.querySelector('#df-2a5a7eab-671e-4e50-bdf0-ef6512a360a1 button.colab-df-convert');\n",
              "        buttonEl.style.display =\n",
              "          google.colab.kernel.accessAllowed ? 'block' : 'none';\n",
              "\n",
              "        async function convertToInteractive(key) {\n",
              "          const element = document.querySelector('#df-2a5a7eab-671e-4e50-bdf0-ef6512a360a1');\n",
              "          const dataTable =\n",
              "            await google.colab.kernel.invokeFunction('convertToInteractive',\n",
              "                                                     [key], {});\n",
              "          if (!dataTable) return;\n",
              "\n",
              "          const docLinkHtml = 'Like what you see? Visit the ' +\n",
              "            '<a target=\"_blank\" href=https://colab.research.google.com/notebooks/data_table.ipynb>data table notebook</a>'\n",
              "            + ' to learn more about interactive tables.';\n",
              "          element.innerHTML = '';\n",
              "          dataTable['output_type'] = 'display_data';\n",
              "          await google.colab.output.renderOutput(dataTable, element);\n",
              "          const docLink = document.createElement('div');\n",
              "          docLink.innerHTML = docLinkHtml;\n",
              "          element.appendChild(docLink);\n",
              "        }\n",
              "      </script>\n",
              "    </div>\n",
              "  </div>\n",
              "  "
            ],
            "text/plain": [
              "     SenderSubId orderId ordStatus  side    OrderQty      Price  \\\n",
              "0        JTPOINT    7508  CANCELED  Sell  500.000000  25.802124   \n",
              "1        JTPOINT    7509  CANCELED  Sell  500.000000  25.802124   \n",
              "2        JTPOINT    7510  CANCELED  Sell  500.000000  25.802124   \n",
              "3        JTPOINT    7511  CANCELED  Sell  500.000000  25.802124   \n",
              "4        JTPOINT    7512  CANCELED  Sell  500.000000  25.802124   \n",
              "...          ...     ...       ...   ...         ...        ...   \n",
              "6316     JTMBINS    3955  CANCELED  Sell  491.600506  23.497166   \n",
              "6317     JTMBINS    3956  CANCELED  Sell  491.600506  23.497166   \n",
              "6318     JTMBINS    3957  CANCELED  Sell  491.600506  23.497166   \n",
              "6319     JTMBINS    3958  CANCELED  Sell  491.600506  23.497166   \n",
              "6320     JTMBINS    3959  CANCELED  Sell  491.600506  23.497166   \n",
              "\n",
              "                TransactTime  Fraud  \n",
              "0     2018-05-24 09:29:16 AM      1  \n",
              "1     2018-05-24 09:29:16 AM      1  \n",
              "2     2018-05-24 09:29:16 AM      1  \n",
              "3     2018-05-24 09:29:16 AM      1  \n",
              "4     2018-05-24 09:29:16 AM      1  \n",
              "...                      ...    ...  \n",
              "6316  2018-05-24 10:04:50 AM      1  \n",
              "6317  2018-05-24 10:04:50 AM      1  \n",
              "6318  2018-05-24 10:04:50 AM      1  \n",
              "6319  2018-05-24 10:04:50 AM      1  \n",
              "6320  2018-05-24 10:04:50 AM      1  \n",
              "\n",
              "[6321 rows x 8 columns]"
            ]
          },
          "execution_count": 40,
          "metadata": {},
          "output_type": "execute_result"
        }
      ],
      "source": [
        "testing_Data"
      ]
    },
    {
      "cell_type": "code",
      "execution_count": null,
      "metadata": {
        "colab": {
          "base_uri": "https://localhost:8080/",
          "height": 370
        },
        "id": "iZLwrjy9wTIG",
        "outputId": "c337d1e4-3845-46fb-e793-7a8006a5b807"
      },
      "outputs": [
        {
          "data": {
            "image/png": "[encoded data removed]",
            "text/plain": [
              "<Figure size 1008x432 with 1 Axes>"
            ]
          },
          "metadata": {},
          "output_type": "display_data"
        }
      ],
      "source": [
        "ax=testing_Data['Fraud'].value_counts().plot(kind='bar',figsize=(14,6))"
      ]
    },
    {
      "cell_type": "code",
      "execution_count": null,
      "metadata": {
        "colab": {
          "base_uri": "https://localhost:8080/"
        },
        "id": "hqpCleI8wlnm",
        "outputId": "de9205f0-f86f-48ed-a525-2f407d253a85"
      },
      "outputs": [
        {
          "data": {
            "text/plain": [
              "1    66.476823\n",
              "0    33.523177\n",
              "Name: Fraud, dtype: float64"
            ]
          },
          "execution_count": 42,
          "metadata": {},
          "output_type": "execute_result"
        }
      ],
      "source": [
        "#our Label\n",
        "testing_Data.Fraud.value_counts(normalize=True)*100"
      ]
    },
    {
      "cell_type": "code",
      "execution_count": null,
      "metadata": {
        "colab": {
          "base_uri": "https://localhost:8080/"
        },
        "id": "QLfFR1AzV7aS",
        "outputId": "2ab0c07d-ef4a-4ee1-c05d-50901237530b"
      },
      "outputs": [
        {
          "name": "stdout",
          "output_type": "stream",
          "text": [
            "<class 'pandas.core.frame.DataFrame'>\n",
            "RangeIndex: 6321 entries, 0 to 6320\n",
            "Data columns (total 8 columns):\n",
            " #   Column        Non-Null Count  Dtype  \n",
            "---  ------        --------------  -----  \n",
            " 0   SenderSubId   6321 non-null   object \n",
            " 1   orderId       6321 non-null   object \n",
            " 2   ordStatus     6321 non-null   object \n",
            " 3   side          6321 non-null   object \n",
            " 4   OrderQty      6299 non-null   float64\n",
            " 5   Price         6299 non-null   float64\n",
            " 6   TransactTime  6321 non-null   object \n",
            " 7   Fraud         6321 non-null   int64  \n",
            "dtypes: float64(2), int64(1), object(5)\n",
            "memory usage: 395.2+ KB\n"
          ]
        }
      ],
      "source": [
        "testing_Data.info()"
      ]
    },
    {
      "cell_type": "code",
      "execution_count": null,
      "metadata": {
        "colab": {
          "base_uri": "https://localhost:8080/"
        },
        "id": "4vlHDalCV99U",
        "outputId": "a470a2d3-6f0b-4976-b5d6-e1adbf4a4bf7"
      },
      "outputs": [
        {
          "data": {
            "text/plain": [
              "SenderSubId     False\n",
              "orderId         False\n",
              "ordStatus       False\n",
              "side            False\n",
              "OrderQty         True\n",
              "Price            True\n",
              "TransactTime    False\n",
              "Fraud           False\n",
              "dtype: bool"
            ]
          },
          "execution_count": 44,
          "metadata": {},
          "output_type": "execute_result"
        }
      ],
      "source": [
        "testing_Data. isna(). any()"
      ]
    },
    {
      "cell_type": "code",
      "execution_count": null,
      "metadata": {
        "id": "n2NLy9MiWN2O"
      },
      "outputs": [],
      "source": [
        "testing_Data.dropna(inplace=True)"
      ]
    },
    {
      "cell_type": "code",
      "execution_count": null,
      "metadata": {
        "colab": {
          "base_uri": "https://localhost:8080/"
        },
        "id": "_smDuHZkWP--",
        "outputId": "4827e385-b649-4dbd-f4d7-dc023b50d306"
      },
      "outputs": [
        {
          "name": "stdout",
          "output_type": "stream",
          "text": [
            "<class 'pandas.core.frame.DataFrame'>\n",
            "Int64Index: 6299 entries, 0 to 6320\n",
            "Data columns (total 8 columns):\n",
            " #   Column        Non-Null Count  Dtype  \n",
            "---  ------        --------------  -----  \n",
            " 0   SenderSubId   6299 non-null   object \n",
            " 1   orderId       6299 non-null   object \n",
            " 2   ordStatus     6299 non-null   object \n",
            " 3   side          6299 non-null   object \n",
            " 4   OrderQty      6299 non-null   float64\n",
            " 5   Price         6299 non-null   float64\n",
            " 6   TransactTime  6299 non-null   object \n",
            " 7   Fraud         6299 non-null   int64  \n",
            "dtypes: float64(2), int64(1), object(5)\n",
            "memory usage: 442.9+ KB\n"
          ]
        }
      ],
      "source": [
        "testing_Data.info()"
      ]
    },
    {
      "cell_type": "markdown",
      "metadata": {
        "id": "T6gaYd7OXV4g"
      },
      "source": [
        "# **Convet the testing dataset into numerical one **"
      ]
    },
    {
      "cell_type": "code",
      "execution_count": null,
      "metadata": {
        "id": "Dxo7JMa5XZox"
      },
      "outputs": [],
      "source": [
        "testing_Data[\"SenderSubId\"] = testing_Data[\"SenderSubId\"].astype('category')\n",
        "testing_Data[\"orderId\"] = testing_Data[\"orderId\"].astype('category')\n",
        "testing_Data[\"ordStatus\"] = testing_Data[\"ordStatus\"].astype('category')\n",
        "testing_Data[\"side\"] = testing_Data[\"side\"].astype('category')\n",
        "testing_Data[\"OrderQty\"] = testing_Data[\"OrderQty\"].astype('category')\n",
        "testing_Data[\"Price\"] = testing_Data[\"Price\"].astype('category')\n",
        "\n",
        "testing_Data['TransactTime']= pd.to_datetime(testing_Data['TransactTime'])\n",
        "\n",
        "testing_Data[\"Fraud\"] = testing_Data[\"Fraud\"].astype('category')"
      ]
    },
    {
      "cell_type": "code",
      "execution_count": null,
      "metadata": {
        "id": "z7T-GJEtYMsB"
      },
      "outputs": [],
      "source": [
        "testing_Data[\"SenderSubId_num\"] = testing_Data[\"SenderSubId\"].cat.codes\n",
        "\n",
        "testing_Data[\"orderId_num\"] = testing_Data[\"orderId\"].cat.codes\n",
        "testing_Data['ordStatus_num']= testing_Data['ordStatus'].cat.codes\n",
        "testing_Data[\"side_num\"] = testing_Data[\"side\"].cat.codes\n",
        "testing_Data[\"OrderQty_num\"] = testing_Data[\"OrderQty\"].cat.codes\n",
        "testing_Data[\"Price_num\"] =testing_Data[\"Price\"].cat.codes\n",
        "\n",
        "testing_Data['TransactTime_num'] = pd.to_numeric(testing_Data['TransactTime'],errors='coerce')\n",
        "#df['TransactTime_num']= df['TransactTime']\n",
        "\n",
        "testing_Data[\"Fraud_num\"] =testing_Data[\"Fraud\"].cat.codes"
      ]
    },
    {
      "cell_type": "code",
      "execution_count": null,
      "metadata": {
        "id": "FMzNmmmWYfH0"
      },
      "outputs": [],
      "source": [
        "from matplotlib import dates as mdates\n",
        "testing_Data['Transacttime_num'] = mdates.date2num(testing_Data['TransactTime'])"
      ]
    },
    {
      "cell_type": "code",
      "execution_count": null,
      "metadata": {
        "id": "5YxWxcePYy3T"
      },
      "outputs": [],
      "source": [
        "cols_to_scale = ['SenderSubId_num','orderId_num','ordStatus_num','side_num','OrderQty_num','Price_num','TransactTime_num','Fraud_num']"
      ]
    },
    {
      "cell_type": "code",
      "execution_count": null,
      "metadata": {
        "id": "89xIgVOhY2kZ"
      },
      "outputs": [],
      "source": [
        "testing_df = pd.DataFrame(testing_Data, columns = ['SenderSubId_num', 'orderId_num', 'ordStatus_num', 'side_num', 'OrderQty_num', 'Price_num', 'TransactTime_num', 'Fraud_num'])"
      ]
    },
    {
      "cell_type": "code",
      "execution_count": null,
      "metadata": {
        "colab": {
          "base_uri": "https://localhost:8080/",
          "height": 424
        },
        "id": "yrsAe2LzY-4_",
        "outputId": "e1754231-4c6f-4474-a141-fb007d9e455f"
      },
      "outputs": [
        {
          "data": {
            "text/html": [
              "\n",
              "  <div id=\"df-ff7fb7ce-a759-44a2-8ce2-86bf3ab4dc88\">\n",
              "    <div class=\"colab-df-container\">\n",
              "      <div>\n",
              "<style scoped>\n",
              "    .dataframe tbody tr th:only-of-type {\n",
              "        vertical-align: middle;\n",
              "    }\n",
              "\n",
              "    .dataframe tbody tr th {\n",
              "        vertical-align: top;\n",
              "    }\n",
              "\n",
              "    .dataframe thead th {\n",
              "        text-align: right;\n",
              "    }\n",
              "</style>\n",
              "<table border=\"1\" class=\"dataframe\">\n",
              "  <thead>\n",
              "    <tr style=\"text-align: right;\">\n",
              "      <th></th>\n",
              "      <th>SenderSubId_num</th>\n",
              "      <th>orderId_num</th>\n",
              "      <th>ordStatus_num</th>\n",
              "      <th>side_num</th>\n",
              "      <th>OrderQty_num</th>\n",
              "      <th>Price_num</th>\n",
              "      <th>TransactTime_num</th>\n",
              "      <th>Fraud_num</th>\n",
              "    </tr>\n",
              "  </thead>\n",
              "  <tbody>\n",
              "    <tr>\n",
              "      <th>0</th>\n",
              "      <td>11</td>\n",
              "      <td>4330</td>\n",
              "      <td>0</td>\n",
              "      <td>3</td>\n",
              "      <td>6</td>\n",
              "      <td>1006</td>\n",
              "      <td>1527154156000000000</td>\n",
              "      <td>1</td>\n",
              "    </tr>\n",
              "    <tr>\n",
              "      <th>1</th>\n",
              "      <td>11</td>\n",
              "      <td>4331</td>\n",
              "      <td>0</td>\n",
              "      <td>3</td>\n",
              "      <td>6</td>\n",
              "      <td>1006</td>\n",
              "      <td>1527154156000000000</td>\n",
              "      <td>1</td>\n",
              "    </tr>\n",
              "    <tr>\n",
              "      <th>2</th>\n",
              "      <td>11</td>\n",
              "      <td>4333</td>\n",
              "      <td>0</td>\n",
              "      <td>3</td>\n",
              "      <td>6</td>\n",
              "      <td>1006</td>\n",
              "      <td>1527154156000000000</td>\n",
              "      <td>1</td>\n",
              "    </tr>\n",
              "    <tr>\n",
              "      <th>3</th>\n",
              "      <td>11</td>\n",
              "      <td>4334</td>\n",
              "      <td>0</td>\n",
              "      <td>3</td>\n",
              "      <td>6</td>\n",
              "      <td>1006</td>\n",
              "      <td>1527154156000000000</td>\n",
              "      <td>1</td>\n",
              "    </tr>\n",
              "    <tr>\n",
              "      <th>4</th>\n",
              "      <td>11</td>\n",
              "      <td>4335</td>\n",
              "      <td>0</td>\n",
              "      <td>3</td>\n",
              "      <td>6</td>\n",
              "      <td>1006</td>\n",
              "      <td>1527154156000000000</td>\n",
              "      <td>1</td>\n",
              "    </tr>\n",
              "    <tr>\n",
              "      <th>...</th>\n",
              "      <td>...</td>\n",
              "      <td>...</td>\n",
              "      <td>...</td>\n",
              "      <td>...</td>\n",
              "      <td>...</td>\n",
              "      <td>...</td>\n",
              "      <td>...</td>\n",
              "      <td>...</td>\n",
              "    </tr>\n",
              "    <tr>\n",
              "      <th>6316</th>\n",
              "      <td>9</td>\n",
              "      <td>3931</td>\n",
              "      <td>0</td>\n",
              "      <td>3</td>\n",
              "      <td>5</td>\n",
              "      <td>847</td>\n",
              "      <td>1527156290000000000</td>\n",
              "      <td>1</td>\n",
              "    </tr>\n",
              "    <tr>\n",
              "      <th>6317</th>\n",
              "      <td>9</td>\n",
              "      <td>3932</td>\n",
              "      <td>0</td>\n",
              "      <td>3</td>\n",
              "      <td>5</td>\n",
              "      <td>847</td>\n",
              "      <td>1527156290000000000</td>\n",
              "      <td>1</td>\n",
              "    </tr>\n",
              "    <tr>\n",
              "      <th>6318</th>\n",
              "      <td>9</td>\n",
              "      <td>3933</td>\n",
              "      <td>0</td>\n",
              "      <td>3</td>\n",
              "      <td>5</td>\n",
              "      <td>847</td>\n",
              "      <td>1527156290000000000</td>\n",
              "      <td>1</td>\n",
              "    </tr>\n",
              "    <tr>\n",
              "      <th>6319</th>\n",
              "      <td>9</td>\n",
              "      <td>3934</td>\n",
              "      <td>0</td>\n",
              "      <td>3</td>\n",
              "      <td>5</td>\n",
              "      <td>847</td>\n",
              "      <td>1527156290000000000</td>\n",
              "      <td>1</td>\n",
              "    </tr>\n",
              "    <tr>\n",
              "      <th>6320</th>\n",
              "      <td>9</td>\n",
              "      <td>3935</td>\n",
              "      <td>0</td>\n",
              "      <td>3</td>\n",
              "      <td>5</td>\n",
              "      <td>847</td>\n",
              "      <td>1527156290000000000</td>\n",
              "      <td>1</td>\n",
              "    </tr>\n",
              "  </tbody>\n",
              "</table>\n",
              "<p>6299 rows × 8 columns</p>\n",
              "</div>\n",
              "      <button class=\"colab-df-convert\" onclick=\"convertToInteractive('df-ff7fb7ce-a759-44a2-8ce2-86bf3ab4dc88')\"\n",
              "              title=\"Convert this dataframe to an interactive table.\"\n",
              "              style=\"display:none;\">\n",
              "        \n",
              "  <svg xmlns=\"http://www.w3.org/2000/svg\" height=\"24px\"viewBox=\"0 0 24 24\"\n",
              "       width=\"24px\">\n",
              "    <path d=\"M0 0h24v24H0V0z\" fill=\"none\"/>\n",
              "    <path d=\"M18.56 5.44l.94 2.06.94-2.06 2.06-.94-2.06-.94-.94-2.06-.94 2.06-2.06.94zm-11 1L8.5 8.5l.94-2.06 2.06-.94-2.06-.94L8.5 2.5l-.94 2.06-2.06.94zm10 10l.94 2.06.94-2.06 2.06-.94-2.06-.94-.94-2.06-.94 2.06-2.06.94z\"/><path d=\"M17.41 7.96l-1.37-1.37c-.4-.4-.92-.59-1.43-.59-.52 0-1.04.2-1.43.59L10.3 9.45l-7.72 7.72c-.78.78-.78 2.05 0 2.83L4 21.41c.39.39.9.59 1.41.59.51 0 1.02-.2 1.41-.59l7.78-7.78 2.81-2.81c.8-.78.8-2.07 0-2.86zM5.41 20L4 18.59l7.72-7.72 1.47 1.35L5.41 20z\"/>\n",
              "  </svg>\n",
              "      </button>\n",
              "      \n",
              "  <style>\n",
              "    .colab-df-container {\n",
              "      display:flex;\n",
              "      flex-wrap:wrap;\n",
              "      gap: 12px;\n",
              "    }\n",
              "\n",
              "    .colab-df-convert {\n",
              "      background-color: #E8F0FE;\n",
              "      border: none;\n",
              "      border-radius: 50%;\n",
              "      cursor: pointer;\n",
              "      display: none;\n",
              "      fill: #1967D2;\n",
              "      height: 32px;\n",
              "      padding: 0 0 0 0;\n",
              "      width: 32px;\n",
              "    }\n",
              "\n",
              "    .colab-df-convert:hover {\n",
              "      background-color: #E2EBFA;\n",
              "      box-shadow: 0px 1px 2px rgba(60, 64, 67, 0.3), 0px 1px 3px 1px rgba(60, 64, 67, 0.15);\n",
              "      fill: #174EA6;\n",
              "    }\n",
              "\n",
              "    [theme=dark] .colab-df-convert {\n",
              "      background-color: #3B4455;\n",
              "      fill: #D2E3FC;\n",
              "    }\n",
              "\n",
              "    [theme=dark] .colab-df-convert:hover {\n",
              "      background-color: #434B5C;\n",
              "      box-shadow: 0px 1px 3px 1px rgba(0, 0, 0, 0.15);\n",
              "      filter: drop-shadow(0px 1px 2px rgba(0, 0, 0, 0.3));\n",
              "      fill: #FFFFFF;\n",
              "    }\n",
              "  </style>\n",
              "\n",
              "      <script>\n",
              "        const buttonEl =\n",
              "          document.querySelector('#df-ff7fb7ce-a759-44a2-8ce2-86bf3ab4dc88 button.colab-df-convert');\n",
              "        buttonEl.style.display =\n",
              "          google.colab.kernel.accessAllowed ? 'block' : 'none';\n",
              "\n",
              "        async function convertToInteractive(key) {\n",
              "          const element = document.querySelector('#df-ff7fb7ce-a759-44a2-8ce2-86bf3ab4dc88');\n",
              "          const dataTable =\n",
              "            await google.colab.kernel.invokeFunction('convertToInteractive',\n",
              "                                                     [key], {});\n",
              "          if (!dataTable) return;\n",
              "\n",
              "          const docLinkHtml = 'Like what you see? Visit the ' +\n",
              "            '<a target=\"_blank\" href=https://colab.research.google.com/notebooks/data_table.ipynb>data table notebook</a>'\n",
              "            + ' to learn more about interactive tables.';\n",
              "          element.innerHTML = '';\n",
              "          dataTable['output_type'] = 'display_data';\n",
              "          await google.colab.output.renderOutput(dataTable, element);\n",
              "          const docLink = document.createElement('div');\n",
              "          docLink.innerHTML = docLinkHtml;\n",
              "          element.appendChild(docLink);\n",
              "        }\n",
              "      </script>\n",
              "    </div>\n",
              "  </div>\n",
              "  "
            ],
            "text/plain": [
              "      SenderSubId_num  orderId_num  ordStatus_num  side_num  OrderQty_num  \\\n",
              "0                  11         4330              0         3             6   \n",
              "1                  11         4331              0         3             6   \n",
              "2                  11         4333              0         3             6   \n",
              "3                  11         4334              0         3             6   \n",
              "4                  11         4335              0         3             6   \n",
              "...               ...          ...            ...       ...           ...   \n",
              "6316                9         3931              0         3             5   \n",
              "6317                9         3932              0         3             5   \n",
              "6318                9         3933              0         3             5   \n",
              "6319                9         3934              0         3             5   \n",
              "6320                9         3935              0         3             5   \n",
              "\n",
              "      Price_num     TransactTime_num  Fraud_num  \n",
              "0          1006  1527154156000000000          1  \n",
              "1          1006  1527154156000000000          1  \n",
              "2          1006  1527154156000000000          1  \n",
              "3          1006  1527154156000000000          1  \n",
              "4          1006  1527154156000000000          1  \n",
              "...         ...                  ...        ...  \n",
              "6316        847  1527156290000000000          1  \n",
              "6317        847  1527156290000000000          1  \n",
              "6318        847  1527156290000000000          1  \n",
              "6319        847  1527156290000000000          1  \n",
              "6320        847  1527156290000000000          1  \n",
              "\n",
              "[6299 rows x 8 columns]"
            ]
          },
          "execution_count": 52,
          "metadata": {},
          "output_type": "execute_result"
        }
      ],
      "source": [
        "testing_df"
      ]
    },
    {
      "cell_type": "markdown",
      "metadata": {
        "id": "S0qal2XiZBvH"
      },
      "source": [
        "# **Converting our dataset into Numerical values**"
      ]
    },
    {
      "cell_type": "code",
      "execution_count": null,
      "metadata": {
        "id": "Cfi_R9s_YNce"
      },
      "outputs": [],
      "source": [
        "df[\"SenderSubId\"] = df[\"SenderSubId\"].astype('category')\n",
        "df[\"orderId\"] = df[\"orderId\"].astype('category')\n",
        "df[\"ordStatus\"] = df[\"ordStatus\"].astype('category')\n",
        "df[\"side\"] = df[\"side\"].astype('category')\n",
        "df[\"OrderQty\"] = df[\"OrderQty\"].astype('category')\n",
        "df[\"Price\"] = df[\"Price\"].astype('category')\n",
        "df['TransactTime']= pd.to_datetime(df['TransactTime'])\n",
        "df[\"Fraud\"] = df[\"Fraud\"].astype('category')"
      ]
    },
    {
      "cell_type": "code",
      "execution_count": null,
      "metadata": {
        "id": "SMqIpPWEYPnn"
      },
      "outputs": [],
      "source": [
        "df[\"SenderSubId_num\"] = df[\"SenderSubId\"].cat.codes\n",
        "df[\"orderId_num\"] = df[\"orderId\"].cat.codes\n",
        "df['ordStatus_num']= df['ordStatus'].cat.codes\n",
        "df[\"side_num\"] = df[\"side\"].cat.codes\n",
        "df[\"OrderQty_num\"] = df[\"OrderQty\"].cat.codes\n",
        "df[\"Price_num\"] =df[\"Price\"].cat.codes\n",
        "\n",
        "df['TransactTime_num'] = pd.to_numeric(df['TransactTime'],errors='coerce')\n",
        "#df['TransactTime_num']= df['TransactTime']\n",
        "\n",
        "df[\"Fraud_num\"] =df[\"Fraud\"].cat.codes"
      ]
    },
    {
      "cell_type": "code",
      "execution_count": null,
      "metadata": {
        "id": "hDZfI2c9YR2A"
      },
      "outputs": [],
      "source": [
        "from matplotlib import dates as mdates\n",
        "df['Transacttime_num'] = mdates.date2num(df['TransactTime'])"
      ]
    },
    {
      "cell_type": "code",
      "execution_count": null,
      "metadata": {
        "id": "hd2d8kQdYTdC"
      },
      "outputs": [],
      "source": [
        "cols_to_scale = ['SenderSubId_num','orderId_num','ordStatus_num','side_num','OrderQty_num','Price_num','TransactTime_num','Fraud_num']"
      ]
    },
    {
      "cell_type": "code",
      "execution_count": null,
      "metadata": {
        "id": "1xSHmucsYVZB"
      },
      "outputs": [],
      "source": [
        "data_frame = pd.DataFrame(df, columns = ['SenderSubId_num', 'orderId_num', 'ordStatus_num', 'side_num', 'OrderQty_num', 'Price_num', 'TransactTime_num', 'Fraud_num'])"
      ]
    },
    {
      "cell_type": "code",
      "execution_count": null,
      "metadata": {
        "colab": {
          "base_uri": "https://localhost:8080/",
          "height": 424
        },
        "id": "Z3i89dQ4YYG3",
        "outputId": "8d77f6ac-e843-468d-a3aa-ebdb41032c00"
      },
      "outputs": [
        {
          "data": {
            "text/html": [
              "\n",
              "  <div id=\"df-701099e7-dd62-4935-b68e-6d53191bdb59\">\n",
              "    <div class=\"colab-df-container\">\n",
              "      <div>\n",
              "<style scoped>\n",
              "    .dataframe tbody tr th:only-of-type {\n",
              "        vertical-align: middle;\n",
              "    }\n",
              "\n",
              "    .dataframe tbody tr th {\n",
              "        vertical-align: top;\n",
              "    }\n",
              "\n",
              "    .dataframe thead th {\n",
              "        text-align: right;\n",
              "    }\n",
              "</style>\n",
              "<table border=\"1\" class=\"dataframe\">\n",
              "  <thead>\n",
              "    <tr style=\"text-align: right;\">\n",
              "      <th></th>\n",
              "      <th>SenderSubId_num</th>\n",
              "      <th>orderId_num</th>\n",
              "      <th>ordStatus_num</th>\n",
              "      <th>side_num</th>\n",
              "      <th>OrderQty_num</th>\n",
              "      <th>Price_num</th>\n",
              "      <th>TransactTime_num</th>\n",
              "      <th>Fraud_num</th>\n",
              "    </tr>\n",
              "  </thead>\n",
              "  <tbody>\n",
              "    <tr>\n",
              "      <th>0</th>\n",
              "      <td>20</td>\n",
              "      <td>686</td>\n",
              "      <td>1</td>\n",
              "      <td>0</td>\n",
              "      <td>219</td>\n",
              "      <td>11</td>\n",
              "      <td>1527145200000000000</td>\n",
              "      <td>0</td>\n",
              "    </tr>\n",
              "    <tr>\n",
              "      <th>1</th>\n",
              "      <td>20</td>\n",
              "      <td>688</td>\n",
              "      <td>1</td>\n",
              "      <td>2</td>\n",
              "      <td>219</td>\n",
              "      <td>13</td>\n",
              "      <td>1527145200000000000</td>\n",
              "      <td>0</td>\n",
              "    </tr>\n",
              "    <tr>\n",
              "      <th>2</th>\n",
              "      <td>27</td>\n",
              "      <td>10525</td>\n",
              "      <td>1</td>\n",
              "      <td>1</td>\n",
              "      <td>70</td>\n",
              "      <td>78</td>\n",
              "      <td>1527145224000000000</td>\n",
              "      <td>0</td>\n",
              "    </tr>\n",
              "    <tr>\n",
              "      <th>3</th>\n",
              "      <td>20</td>\n",
              "      <td>689</td>\n",
              "      <td>1</td>\n",
              "      <td>0</td>\n",
              "      <td>241</td>\n",
              "      <td>10</td>\n",
              "      <td>1527145200000000000</td>\n",
              "      <td>0</td>\n",
              "    </tr>\n",
              "    <tr>\n",
              "      <th>4</th>\n",
              "      <td>20</td>\n",
              "      <td>691</td>\n",
              "      <td>1</td>\n",
              "      <td>0</td>\n",
              "      <td>75</td>\n",
              "      <td>101</td>\n",
              "      <td>1527145200000000000</td>\n",
              "      <td>0</td>\n",
              "    </tr>\n",
              "    <tr>\n",
              "      <th>...</th>\n",
              "      <td>...</td>\n",
              "      <td>...</td>\n",
              "      <td>...</td>\n",
              "      <td>...</td>\n",
              "      <td>...</td>\n",
              "      <td>...</td>\n",
              "      <td>...</td>\n",
              "      <td>...</td>\n",
              "    </tr>\n",
              "    <tr>\n",
              "      <th>24366</th>\n",
              "      <td>21</td>\n",
              "      <td>21075</td>\n",
              "      <td>1</td>\n",
              "      <td>3</td>\n",
              "      <td>5</td>\n",
              "      <td>1448</td>\n",
              "      <td>1527154098000000000</td>\n",
              "      <td>1</td>\n",
              "    </tr>\n",
              "    <tr>\n",
              "      <th>24367</th>\n",
              "      <td>21</td>\n",
              "      <td>21076</td>\n",
              "      <td>1</td>\n",
              "      <td>3</td>\n",
              "      <td>5</td>\n",
              "      <td>1448</td>\n",
              "      <td>1527154098000000000</td>\n",
              "      <td>1</td>\n",
              "    </tr>\n",
              "    <tr>\n",
              "      <th>24368</th>\n",
              "      <td>21</td>\n",
              "      <td>21077</td>\n",
              "      <td>1</td>\n",
              "      <td>3</td>\n",
              "      <td>5</td>\n",
              "      <td>1448</td>\n",
              "      <td>1527154098000000000</td>\n",
              "      <td>1</td>\n",
              "    </tr>\n",
              "    <tr>\n",
              "      <th>24369</th>\n",
              "      <td>21</td>\n",
              "      <td>21078</td>\n",
              "      <td>1</td>\n",
              "      <td>3</td>\n",
              "      <td>5</td>\n",
              "      <td>1448</td>\n",
              "      <td>1527154098000000000</td>\n",
              "      <td>1</td>\n",
              "    </tr>\n",
              "    <tr>\n",
              "      <th>24370</th>\n",
              "      <td>21</td>\n",
              "      <td>21079</td>\n",
              "      <td>1</td>\n",
              "      <td>3</td>\n",
              "      <td>5</td>\n",
              "      <td>1448</td>\n",
              "      <td>1527154098000000000</td>\n",
              "      <td>1</td>\n",
              "    </tr>\n",
              "  </tbody>\n",
              "</table>\n",
              "<p>24311 rows × 8 columns</p>\n",
              "</div>\n",
              "      <button class=\"colab-df-convert\" onclick=\"convertToInteractive('df-701099e7-dd62-4935-b68e-6d53191bdb59')\"\n",
              "              title=\"Convert this dataframe to an interactive table.\"\n",
              "              style=\"display:none;\">\n",
              "        \n",
              "  <svg xmlns=\"http://www.w3.org/2000/svg\" height=\"24px\"viewBox=\"0 0 24 24\"\n",
              "       width=\"24px\">\n",
              "    <path d=\"M0 0h24v24H0V0z\" fill=\"none\"/>\n",
              "    <path d=\"M18.56 5.44l.94 2.06.94-2.06 2.06-.94-2.06-.94-.94-2.06-.94 2.06-2.06.94zm-11 1L8.5 8.5l.94-2.06 2.06-.94-2.06-.94L8.5 2.5l-.94 2.06-2.06.94zm10 10l.94 2.06.94-2.06 2.06-.94-2.06-.94-.94-2.06-.94 2.06-2.06.94z\"/><path d=\"M17.41 7.96l-1.37-1.37c-.4-.4-.92-.59-1.43-.59-.52 0-1.04.2-1.43.59L10.3 9.45l-7.72 7.72c-.78.78-.78 2.05 0 2.83L4 21.41c.39.39.9.59 1.41.59.51 0 1.02-.2 1.41-.59l7.78-7.78 2.81-2.81c.8-.78.8-2.07 0-2.86zM5.41 20L4 18.59l7.72-7.72 1.47 1.35L5.41 20z\"/>\n",
              "  </svg>\n",
              "      </button>\n",
              "      \n",
              "  <style>\n",
              "    .colab-df-container {\n",
              "      display:flex;\n",
              "      flex-wrap:wrap;\n",
              "      gap: 12px;\n",
              "    }\n",
              "\n",
              "    .colab-df-convert {\n",
              "      background-color: #E8F0FE;\n",
              "      border: none;\n",
              "      border-radius: 50%;\n",
              "      cursor: pointer;\n",
              "      display: none;\n",
              "      fill: #1967D2;\n",
              "      height: 32px;\n",
              "      padding: 0 0 0 0;\n",
              "      width: 32px;\n",
              "    }\n",
              "\n",
              "    .colab-df-convert:hover {\n",
              "      background-color: #E2EBFA;\n",
              "      box-shadow: 0px 1px 2px rgba(60, 64, 67, 0.3), 0px 1px 3px 1px rgba(60, 64, 67, 0.15);\n",
              "      fill: #174EA6;\n",
              "    }\n",
              "\n",
              "    [theme=dark] .colab-df-convert {\n",
              "      background-color: #3B4455;\n",
              "      fill: #D2E3FC;\n",
              "    }\n",
              "\n",
              "    [theme=dark] .colab-df-convert:hover {\n",
              "      background-color: #434B5C;\n",
              "      box-shadow: 0px 1px 3px 1px rgba(0, 0, 0, 0.15);\n",
              "      filter: drop-shadow(0px 1px 2px rgba(0, 0, 0, 0.3));\n",
              "      fill: #FFFFFF;\n",
              "    }\n",
              "  </style>\n",
              "\n",
              "      <script>\n",
              "        const buttonEl =\n",
              "          document.querySelector('#df-701099e7-dd62-4935-b68e-6d53191bdb59 button.colab-df-convert');\n",
              "        buttonEl.style.display =\n",
              "          google.colab.kernel.accessAllowed ? 'block' : 'none';\n",
              "\n",
              "        async function convertToInteractive(key) {\n",
              "          const element = document.querySelector('#df-701099e7-dd62-4935-b68e-6d53191bdb59');\n",
              "          const dataTable =\n",
              "            await google.colab.kernel.invokeFunction('convertToInteractive',\n",
              "                                                     [key], {});\n",
              "          if (!dataTable) return;\n",
              "\n",
              "          const docLinkHtml = 'Like what you see? Visit the ' +\n",
              "            '<a target=\"_blank\" href=https://colab.research.google.com/notebooks/data_table.ipynb>data table notebook</a>'\n",
              "            + ' to learn more about interactive tables.';\n",
              "          element.innerHTML = '';\n",
              "          dataTable['output_type'] = 'display_data';\n",
              "          await google.colab.output.renderOutput(dataTable, element);\n",
              "          const docLink = document.createElement('div');\n",
              "          docLink.innerHTML = docLinkHtml;\n",
              "          element.appendChild(docLink);\n",
              "        }\n",
              "      </script>\n",
              "    </div>\n",
              "  </div>\n",
              "  "
            ],
            "text/plain": [
              "       SenderSubId_num  orderId_num  ordStatus_num  side_num  OrderQty_num  \\\n",
              "0                   20          686              1         0           219   \n",
              "1                   20          688              1         2           219   \n",
              "2                   27        10525              1         1            70   \n",
              "3                   20          689              1         0           241   \n",
              "4                   20          691              1         0            75   \n",
              "...                ...          ...            ...       ...           ...   \n",
              "24366               21        21075              1         3             5   \n",
              "24367               21        21076              1         3             5   \n",
              "24368               21        21077              1         3             5   \n",
              "24369               21        21078              1         3             5   \n",
              "24370               21        21079              1         3             5   \n",
              "\n",
              "       Price_num     TransactTime_num  Fraud_num  \n",
              "0             11  1527145200000000000          0  \n",
              "1             13  1527145200000000000          0  \n",
              "2             78  1527145224000000000          0  \n",
              "3             10  1527145200000000000          0  \n",
              "4            101  1527145200000000000          0  \n",
              "...          ...                  ...        ...  \n",
              "24366       1448  1527154098000000000          1  \n",
              "24367       1448  1527154098000000000          1  \n",
              "24368       1448  1527154098000000000          1  \n",
              "24369       1448  1527154098000000000          1  \n",
              "24370       1448  1527154098000000000          1  \n",
              "\n",
              "[24311 rows x 8 columns]"
            ]
          },
          "execution_count": 58,
          "metadata": {},
          "output_type": "execute_result"
        }
      ],
      "source": [
        "data_frame"
      ]
    },
    {
      "cell_type": "code",
      "execution_count": null,
      "metadata": {
        "colab": {
          "base_uri": "https://localhost:8080/",
          "height": 294
        },
        "id": "iW6weh577fFW",
        "outputId": "7a124b39-6419-4712-a0c9-de703f0dd465"
      },
      "outputs": [
        {
          "data": {
            "image/png": "[encoded data removed]",
            "text/plain": [
              "<Figure size 432x288 with 2 Axes>"
            ]
          },
          "metadata": {},
          "output_type": "display_data"
        }
      ],
      "source": [
        "# Genuine transactions\n",
        "# \n",
        "data_frame.hist(column = ['TransactTime_num','orderId_num'], bins = 60)\n",
        "plt.show()"
      ]
    },
    {
      "cell_type": "code",
      "execution_count": null,
      "metadata": {
        "colab": {
          "base_uri": "https://localhost:8080/",
          "height": 349
        },
        "id": "Mz5MhvYI40Dl",
        "outputId": "7234ef8e-ebd3-456a-d5e6-a43f3a97e5df"
      },
      "outputs": [
        {
          "name": "stderr",
          "output_type": "stream",
          "text": [
            "/usr/local/lib/python3.7/dist-packages/seaborn/distributions.py:2619: FutureWarning: `distplot` is a deprecated function and will be removed in a future version. Please adapt your code to use either `displot` (a figure-level function with similar flexibility) or `histplot` (an axes-level function for histograms).\n",
            "  warnings.warn(msg, FutureWarning)\n"
          ]
        },
        {
          "data": {
            "image/png": "[encoded data removed]",
            "text/plain": [
              "<Figure size 432x288 with 1 Axes>"
            ]
          },
          "metadata": {},
          "output_type": "display_data"
        }
      ],
      "source": [
        "# Plot number of datapoints of each time interval\n",
        "sns.distplot(data_frame.TransactTime_num, color='#df65b0');\n",
        "plt.title('Time Series')\n",
        "plt.xlabel('Time Step'); plt.ylabel('Density');"
      ]
    },
    {
      "cell_type": "markdown",
      "metadata": {
        "id": "4MZdmMe9YaC7"
      },
      "source": [
        "# **Exploratory Analysis**"
      ]
    },
    {
      "cell_type": "code",
      "execution_count": null,
      "metadata": {
        "id": "HgAao9DSYcji"
      },
      "outputs": [],
      "source": [
        "import seaborn as sns\n",
        "import matplotlib.pyplot as plt"
      ]
    },
    {
      "cell_type": "code",
      "execution_count": null,
      "metadata": {
        "colab": {
          "base_uri": "https://localhost:8080/",
          "height": 706
        },
        "id": "NEyIQQnbYd8Q",
        "outputId": "61163562-c6de-4056-f295-a62688157893"
      },
      "outputs": [
        {
          "data": {
            "image/png": "[encoded data removed]",
            "text/plain": [
              "<Figure size 1296x864 with 2 Axes>"
            ]
          },
          "metadata": {},
          "output_type": "display_data"
        }
      ],
      "source": [
        "# checking for correlations\n",
        "plt.figure(figsize=(18,12))\n",
        "sns.heatmap(data_frame.corr(), annot=True)\n",
        "plt.show()"
      ]
    },
    {
      "cell_type": "code",
      "execution_count": null,
      "metadata": {
        "colab": {
          "base_uri": "https://localhost:8080/",
          "height": 300
        },
        "id": "he3j2imgYg_P",
        "outputId": "8fdf94b0-24bd-4779-8c8b-ebdbbd49011c"
      },
      "outputs": [
        {
          "data": {
            "text/html": [
              "\n",
              "  <div id=\"df-fad2de35-5e3a-41ea-93d6-4b8f7b81d4a1\">\n",
              "    <div class=\"colab-df-container\">\n",
              "      <div>\n",
              "<style scoped>\n",
              "    .dataframe tbody tr th:only-of-type {\n",
              "        vertical-align: middle;\n",
              "    }\n",
              "\n",
              "    .dataframe tbody tr th {\n",
              "        vertical-align: top;\n",
              "    }\n",
              "\n",
              "    .dataframe thead th {\n",
              "        text-align: right;\n",
              "    }\n",
              "</style>\n",
              "<table border=\"1\" class=\"dataframe\">\n",
              "  <thead>\n",
              "    <tr style=\"text-align: right;\">\n",
              "      <th></th>\n",
              "      <th>SenderSubId_num</th>\n",
              "      <th>orderId_num</th>\n",
              "      <th>ordStatus_num</th>\n",
              "      <th>side_num</th>\n",
              "      <th>OrderQty_num</th>\n",
              "      <th>Price_num</th>\n",
              "      <th>TransactTime_num</th>\n",
              "      <th>Fraud_num</th>\n",
              "    </tr>\n",
              "  </thead>\n",
              "  <tbody>\n",
              "    <tr>\n",
              "      <th>SenderSubId_num</th>\n",
              "      <td>1.000000</td>\n",
              "      <td>0.424868</td>\n",
              "      <td>0.060780</td>\n",
              "      <td>-0.447415</td>\n",
              "      <td>0.203159</td>\n",
              "      <td>-0.336881</td>\n",
              "      <td>-0.284285</td>\n",
              "      <td>-0.489435</td>\n",
              "    </tr>\n",
              "    <tr>\n",
              "      <th>orderId_num</th>\n",
              "      <td>0.424868</td>\n",
              "      <td>1.000000</td>\n",
              "      <td>0.144416</td>\n",
              "      <td>-0.303447</td>\n",
              "      <td>0.322080</td>\n",
              "      <td>-0.226397</td>\n",
              "      <td>-0.206548</td>\n",
              "      <td>-0.290624</td>\n",
              "    </tr>\n",
              "    <tr>\n",
              "      <th>ordStatus_num</th>\n",
              "      <td>0.060780</td>\n",
              "      <td>0.144416</td>\n",
              "      <td>1.000000</td>\n",
              "      <td>0.063032</td>\n",
              "      <td>0.021335</td>\n",
              "      <td>0.170260</td>\n",
              "      <td>-0.005479</td>\n",
              "      <td>0.125793</td>\n",
              "    </tr>\n",
              "    <tr>\n",
              "      <th>side_num</th>\n",
              "      <td>-0.447415</td>\n",
              "      <td>-0.303447</td>\n",
              "      <td>0.063032</td>\n",
              "      <td>1.000000</td>\n",
              "      <td>-0.534747</td>\n",
              "      <td>0.817338</td>\n",
              "      <td>0.660758</td>\n",
              "      <td>0.881720</td>\n",
              "    </tr>\n",
              "    <tr>\n",
              "      <th>OrderQty_num</th>\n",
              "      <td>0.203159</td>\n",
              "      <td>0.322080</td>\n",
              "      <td>0.021335</td>\n",
              "      <td>-0.534747</td>\n",
              "      <td>1.000000</td>\n",
              "      <td>-0.604324</td>\n",
              "      <td>-0.496682</td>\n",
              "      <td>-0.488732</td>\n",
              "    </tr>\n",
              "    <tr>\n",
              "      <th>Price_num</th>\n",
              "      <td>-0.336881</td>\n",
              "      <td>-0.226397</td>\n",
              "      <td>0.170260</td>\n",
              "      <td>0.817338</td>\n",
              "      <td>-0.604324</td>\n",
              "      <td>1.000000</td>\n",
              "      <td>0.713589</td>\n",
              "      <td>0.860881</td>\n",
              "    </tr>\n",
              "    <tr>\n",
              "      <th>TransactTime_num</th>\n",
              "      <td>-0.284285</td>\n",
              "      <td>-0.206548</td>\n",
              "      <td>-0.005479</td>\n",
              "      <td>0.660758</td>\n",
              "      <td>-0.496682</td>\n",
              "      <td>0.713589</td>\n",
              "      <td>1.000000</td>\n",
              "      <td>0.627151</td>\n",
              "    </tr>\n",
              "    <tr>\n",
              "      <th>Fraud_num</th>\n",
              "      <td>-0.489435</td>\n",
              "      <td>-0.290624</td>\n",
              "      <td>0.125793</td>\n",
              "      <td>0.881720</td>\n",
              "      <td>-0.488732</td>\n",
              "      <td>0.860881</td>\n",
              "      <td>0.627151</td>\n",
              "      <td>1.000000</td>\n",
              "    </tr>\n",
              "  </tbody>\n",
              "</table>\n",
              "</div>\n",
              "      <button class=\"colab-df-convert\" onclick=\"convertToInteractive('df-fad2de35-5e3a-41ea-93d6-4b8f7b81d4a1')\"\n",
              "              title=\"Convert this dataframe to an interactive table.\"\n",
              "              style=\"display:none;\">\n",
              "        \n",
              "  <svg xmlns=\"http://www.w3.org/2000/svg\" height=\"24px\"viewBox=\"0 0 24 24\"\n",
              "       width=\"24px\">\n",
              "    <path d=\"M0 0h24v24H0V0z\" fill=\"none\"/>\n",
              "    <path d=\"M18.56 5.44l.94 2.06.94-2.06 2.06-.94-2.06-.94-.94-2.06-.94 2.06-2.06.94zm-11 1L8.5 8.5l.94-2.06 2.06-.94-2.06-.94L8.5 2.5l-.94 2.06-2.06.94zm10 10l.94 2.06.94-2.06 2.06-.94-2.06-.94-.94-2.06-.94 2.06-2.06.94z\"/><path d=\"M17.41 7.96l-1.37-1.37c-.4-.4-.92-.59-1.43-.59-.52 0-1.04.2-1.43.59L10.3 9.45l-7.72 7.72c-.78.78-.78 2.05 0 2.83L4 21.41c.39.39.9.59 1.41.59.51 0 1.02-.2 1.41-.59l7.78-7.78 2.81-2.81c.8-.78.8-2.07 0-2.86zM5.41 20L4 18.59l7.72-7.72 1.47 1.35L5.41 20z\"/>\n",
              "  </svg>\n",
              "      </button>\n",
              "      \n",
              "  <style>\n",
              "    .colab-df-container {\n",
              "      display:flex;\n",
              "      flex-wrap:wrap;\n",
              "      gap: 12px;\n",
              "    }\n",
              "\n",
              "    .colab-df-convert {\n",
              "      background-color: #E8F0FE;\n",
              "      border: none;\n",
              "      border-radius: 50%;\n",
              "      cursor: pointer;\n",
              "      display: none;\n",
              "      fill: #1967D2;\n",
              "      height: 32px;\n",
              "      padding: 0 0 0 0;\n",
              "      width: 32px;\n",
              "    }\n",
              "\n",
              "    .colab-df-convert:hover {\n",
              "      background-color: #E2EBFA;\n",
              "      box-shadow: 0px 1px 2px rgba(60, 64, 67, 0.3), 0px 1px 3px 1px rgba(60, 64, 67, 0.15);\n",
              "      fill: #174EA6;\n",
              "    }\n",
              "\n",
              "    [theme=dark] .colab-df-convert {\n",
              "      background-color: #3B4455;\n",
              "      fill: #D2E3FC;\n",
              "    }\n",
              "\n",
              "    [theme=dark] .colab-df-convert:hover {\n",
              "      background-color: #434B5C;\n",
              "      box-shadow: 0px 1px 3px 1px rgba(0, 0, 0, 0.15);\n",
              "      filter: drop-shadow(0px 1px 2px rgba(0, 0, 0, 0.3));\n",
              "      fill: #FFFFFF;\n",
              "    }\n",
              "  </style>\n",
              "\n",
              "      <script>\n",
              "        const buttonEl =\n",
              "          document.querySelector('#df-fad2de35-5e3a-41ea-93d6-4b8f7b81d4a1 button.colab-df-convert');\n",
              "        buttonEl.style.display =\n",
              "          google.colab.kernel.accessAllowed ? 'block' : 'none';\n",
              "\n",
              "        async function convertToInteractive(key) {\n",
              "          const element = document.querySelector('#df-fad2de35-5e3a-41ea-93d6-4b8f7b81d4a1');\n",
              "          const dataTable =\n",
              "            await google.colab.kernel.invokeFunction('convertToInteractive',\n",
              "                                                     [key], {});\n",
              "          if (!dataTable) return;\n",
              "\n",
              "          const docLinkHtml = 'Like what you see? Visit the ' +\n",
              "            '<a target=\"_blank\" href=https://colab.research.google.com/notebooks/data_table.ipynb>data table notebook</a>'\n",
              "            + ' to learn more about interactive tables.';\n",
              "          element.innerHTML = '';\n",
              "          dataTable['output_type'] = 'display_data';\n",
              "          await google.colab.output.renderOutput(dataTable, element);\n",
              "          const docLink = document.createElement('div');\n",
              "          docLink.innerHTML = docLinkHtml;\n",
              "          element.appendChild(docLink);\n",
              "        }\n",
              "      </script>\n",
              "    </div>\n",
              "  </div>\n",
              "  "
            ],
            "text/plain": [
              "                  SenderSubId_num  orderId_num  ordStatus_num  side_num  \\\n",
              "SenderSubId_num          1.000000     0.424868       0.060780 -0.447415   \n",
              "orderId_num              0.424868     1.000000       0.144416 -0.303447   \n",
              "ordStatus_num            0.060780     0.144416       1.000000  0.063032   \n",
              "side_num                -0.447415    -0.303447       0.063032  1.000000   \n",
              "OrderQty_num             0.203159     0.322080       0.021335 -0.534747   \n",
              "Price_num               -0.336881    -0.226397       0.170260  0.817338   \n",
              "TransactTime_num        -0.284285    -0.206548      -0.005479  0.660758   \n",
              "Fraud_num               -0.489435    -0.290624       0.125793  0.881720   \n",
              "\n",
              "                  OrderQty_num  Price_num  TransactTime_num  Fraud_num  \n",
              "SenderSubId_num       0.203159  -0.336881         -0.284285  -0.489435  \n",
              "orderId_num           0.322080  -0.226397         -0.206548  -0.290624  \n",
              "ordStatus_num         0.021335   0.170260         -0.005479   0.125793  \n",
              "side_num             -0.534747   0.817338          0.660758   0.881720  \n",
              "OrderQty_num          1.000000  -0.604324         -0.496682  -0.488732  \n",
              "Price_num            -0.604324   1.000000          0.713589   0.860881  \n",
              "TransactTime_num     -0.496682   0.713589          1.000000   0.627151  \n",
              "Fraud_num            -0.488732   0.860881          0.627151   1.000000  "
            ]
          },
          "execution_count": 63,
          "metadata": {},
          "output_type": "execute_result"
        }
      ],
      "source": [
        "import matplotlib.pyplot as plt\n",
        "data_frame.corr(method ='pearson')"
      ]
    },
    {
      "cell_type": "markdown",
      "metadata": {
        "id": "Vz-3nQahYll9"
      },
      "source": [
        "# **Models**"
      ]
    },
    {
      "cell_type": "code",
      "execution_count": null,
      "metadata": {
        "id": "u0PcfEgcYo-j"
      },
      "outputs": [],
      "source": [
        "#import Libraries for all the models\n",
        "from sklearn.model_selection import train_test_split\n",
        "from sklearn.linear_model import LogisticRegression\n",
        "from sklearn.metrics import accuracy_score, precision_score, recall_score, confusion_matrix, classification_report, roc_auc_score, roc_curve\n",
        "from sklearn import metrics\n",
        "\n",
        "\n",
        "from sklearn.metrics import roc_auc_score, precision_recall_curve, auc, f1_score"
      ]
    },
    {
      "cell_type": "code",
      "execution_count": null,
      "metadata": {
        "id": "HSVaD3xiguEB"
      },
      "outputs": [],
      "source": [
        "from sklearn.neighbors import KNeighborsClassifier\n",
        "from sklearn.tree import DecisionTreeClassifier\n",
        "from sklearn.svm import SVC\n",
        "from sklearn.linear_model import LogisticRegression\n",
        "from sklearn.metrics import roc_auc_score, precision_recall_curve, auc, f1_score\n",
        "\n"
      ]
    },
    {
      "cell_type": "code",
      "execution_count": null,
      "metadata": {
        "colab": {
          "base_uri": "https://localhost:8080/",
          "height": 424
        },
        "id": "IRmdhkajYrJA",
        "outputId": "0e58c825-900e-4d1f-ea43-bf98c8088236"
      },
      "outputs": [
        {
          "data": {
            "text/html": [
              "\n",
              "  <div id=\"df-c6d4ab72-8d1f-44d7-b1c6-27caf3f11a2b\">\n",
              "    <div class=\"colab-df-container\">\n",
              "      <div>\n",
              "<style scoped>\n",
              "    .dataframe tbody tr th:only-of-type {\n",
              "        vertical-align: middle;\n",
              "    }\n",
              "\n",
              "    .dataframe tbody tr th {\n",
              "        vertical-align: top;\n",
              "    }\n",
              "\n",
              "    .dataframe thead th {\n",
              "        text-align: right;\n",
              "    }\n",
              "</style>\n",
              "<table border=\"1\" class=\"dataframe\">\n",
              "  <thead>\n",
              "    <tr style=\"text-align: right;\">\n",
              "      <th></th>\n",
              "      <th>SenderSubId_num</th>\n",
              "      <th>orderId_num</th>\n",
              "      <th>ordStatus_num</th>\n",
              "      <th>side_num</th>\n",
              "      <th>OrderQty_num</th>\n",
              "      <th>Price_num</th>\n",
              "      <th>TransactTime_num</th>\n",
              "      <th>Fraud_num</th>\n",
              "    </tr>\n",
              "  </thead>\n",
              "  <tbody>\n",
              "    <tr>\n",
              "      <th>0</th>\n",
              "      <td>20</td>\n",
              "      <td>686</td>\n",
              "      <td>1</td>\n",
              "      <td>0</td>\n",
              "      <td>219</td>\n",
              "      <td>11</td>\n",
              "      <td>1527145200000000000</td>\n",
              "      <td>0</td>\n",
              "    </tr>\n",
              "    <tr>\n",
              "      <th>1</th>\n",
              "      <td>20</td>\n",
              "      <td>688</td>\n",
              "      <td>1</td>\n",
              "      <td>2</td>\n",
              "      <td>219</td>\n",
              "      <td>13</td>\n",
              "      <td>1527145200000000000</td>\n",
              "      <td>0</td>\n",
              "    </tr>\n",
              "    <tr>\n",
              "      <th>2</th>\n",
              "      <td>27</td>\n",
              "      <td>10525</td>\n",
              "      <td>1</td>\n",
              "      <td>1</td>\n",
              "      <td>70</td>\n",
              "      <td>78</td>\n",
              "      <td>1527145224000000000</td>\n",
              "      <td>0</td>\n",
              "    </tr>\n",
              "    <tr>\n",
              "      <th>3</th>\n",
              "      <td>20</td>\n",
              "      <td>689</td>\n",
              "      <td>1</td>\n",
              "      <td>0</td>\n",
              "      <td>241</td>\n",
              "      <td>10</td>\n",
              "      <td>1527145200000000000</td>\n",
              "      <td>0</td>\n",
              "    </tr>\n",
              "    <tr>\n",
              "      <th>4</th>\n",
              "      <td>20</td>\n",
              "      <td>691</td>\n",
              "      <td>1</td>\n",
              "      <td>0</td>\n",
              "      <td>75</td>\n",
              "      <td>101</td>\n",
              "      <td>1527145200000000000</td>\n",
              "      <td>0</td>\n",
              "    </tr>\n",
              "    <tr>\n",
              "      <th>...</th>\n",
              "      <td>...</td>\n",
              "      <td>...</td>\n",
              "      <td>...</td>\n",
              "      <td>...</td>\n",
              "      <td>...</td>\n",
              "      <td>...</td>\n",
              "      <td>...</td>\n",
              "      <td>...</td>\n",
              "    </tr>\n",
              "    <tr>\n",
              "      <th>24366</th>\n",
              "      <td>21</td>\n",
              "      <td>21075</td>\n",
              "      <td>1</td>\n",
              "      <td>3</td>\n",
              "      <td>5</td>\n",
              "      <td>1448</td>\n",
              "      <td>1527154098000000000</td>\n",
              "      <td>1</td>\n",
              "    </tr>\n",
              "    <tr>\n",
              "      <th>24367</th>\n",
              "      <td>21</td>\n",
              "      <td>21076</td>\n",
              "      <td>1</td>\n",
              "      <td>3</td>\n",
              "      <td>5</td>\n",
              "      <td>1448</td>\n",
              "      <td>1527154098000000000</td>\n",
              "      <td>1</td>\n",
              "    </tr>\n",
              "    <tr>\n",
              "      <th>24368</th>\n",
              "      <td>21</td>\n",
              "      <td>21077</td>\n",
              "      <td>1</td>\n",
              "      <td>3</td>\n",
              "      <td>5</td>\n",
              "      <td>1448</td>\n",
              "      <td>1527154098000000000</td>\n",
              "      <td>1</td>\n",
              "    </tr>\n",
              "    <tr>\n",
              "      <th>24369</th>\n",
              "      <td>21</td>\n",
              "      <td>21078</td>\n",
              "      <td>1</td>\n",
              "      <td>3</td>\n",
              "      <td>5</td>\n",
              "      <td>1448</td>\n",
              "      <td>1527154098000000000</td>\n",
              "      <td>1</td>\n",
              "    </tr>\n",
              "    <tr>\n",
              "      <th>24370</th>\n",
              "      <td>21</td>\n",
              "      <td>21079</td>\n",
              "      <td>1</td>\n",
              "      <td>3</td>\n",
              "      <td>5</td>\n",
              "      <td>1448</td>\n",
              "      <td>1527154098000000000</td>\n",
              "      <td>1</td>\n",
              "    </tr>\n",
              "  </tbody>\n",
              "</table>\n",
              "<p>24311 rows × 8 columns</p>\n",
              "</div>\n",
              "      <button class=\"colab-df-convert\" onclick=\"convertToInteractive('df-c6d4ab72-8d1f-44d7-b1c6-27caf3f11a2b')\"\n",
              "              title=\"Convert this dataframe to an interactive table.\"\n",
              "              style=\"display:none;\">\n",
              "        \n",
              "  <svg xmlns=\"http://www.w3.org/2000/svg\" height=\"24px\"viewBox=\"0 0 24 24\"\n",
              "       width=\"24px\">\n",
              "    <path d=\"M0 0h24v24H0V0z\" fill=\"none\"/>\n",
              "    <path d=\"M18.56 5.44l.94 2.06.94-2.06 2.06-.94-2.06-.94-.94-2.06-.94 2.06-2.06.94zm-11 1L8.5 8.5l.94-2.06 2.06-.94-2.06-.94L8.5 2.5l-.94 2.06-2.06.94zm10 10l.94 2.06.94-2.06 2.06-.94-2.06-.94-.94-2.06-.94 2.06-2.06.94z\"/><path d=\"M17.41 7.96l-1.37-1.37c-.4-.4-.92-.59-1.43-.59-.52 0-1.04.2-1.43.59L10.3 9.45l-7.72 7.72c-.78.78-.78 2.05 0 2.83L4 21.41c.39.39.9.59 1.41.59.51 0 1.02-.2 1.41-.59l7.78-7.78 2.81-2.81c.8-.78.8-2.07 0-2.86zM5.41 20L4 18.59l7.72-7.72 1.47 1.35L5.41 20z\"/>\n",
              "  </svg>\n",
              "      </button>\n",
              "      \n",
              "  <style>\n",
              "    .colab-df-container {\n",
              "      display:flex;\n",
              "      flex-wrap:wrap;\n",
              "      gap: 12px;\n",
              "    }\n",
              "\n",
              "    .colab-df-convert {\n",
              "      background-color: #E8F0FE;\n",
              "      border: none;\n",
              "      border-radius: 50%;\n",
              "      cursor: pointer;\n",
              "      display: none;\n",
              "      fill: #1967D2;\n",
              "      height: 32px;\n",
              "      padding: 0 0 0 0;\n",
              "      width: 32px;\n",
              "    }\n",
              "\n",
              "    .colab-df-convert:hover {\n",
              "      background-color: #E2EBFA;\n",
              "      box-shadow: 0px 1px 2px rgba(60, 64, 67, 0.3), 0px 1px 3px 1px rgba(60, 64, 67, 0.15);\n",
              "      fill: #174EA6;\n",
              "    }\n",
              "\n",
              "    [theme=dark] .colab-df-convert {\n",
              "      background-color: #3B4455;\n",
              "      fill: #D2E3FC;\n",
              "    }\n",
              "\n",
              "    [theme=dark] .colab-df-convert:hover {\n",
              "      background-color: #434B5C;\n",
              "      box-shadow: 0px 1px 3px 1px rgba(0, 0, 0, 0.15);\n",
              "      filter: drop-shadow(0px 1px 2px rgba(0, 0, 0, 0.3));\n",
              "      fill: #FFFFFF;\n",
              "    }\n",
              "  </style>\n",
              "\n",
              "      <script>\n",
              "        const buttonEl =\n",
              "          document.querySelector('#df-c6d4ab72-8d1f-44d7-b1c6-27caf3f11a2b button.colab-df-convert');\n",
              "        buttonEl.style.display =\n",
              "          google.colab.kernel.accessAllowed ? 'block' : 'none';\n",
              "\n",
              "        async function convertToInteractive(key) {\n",
              "          const element = document.querySelector('#df-c6d4ab72-8d1f-44d7-b1c6-27caf3f11a2b');\n",
              "          const dataTable =\n",
              "            await google.colab.kernel.invokeFunction('convertToInteractive',\n",
              "                                                     [key], {});\n",
              "          if (!dataTable) return;\n",
              "\n",
              "          const docLinkHtml = 'Like what you see? Visit the ' +\n",
              "            '<a target=\"_blank\" href=https://colab.research.google.com/notebooks/data_table.ipynb>data table notebook</a>'\n",
              "            + ' to learn more about interactive tables.';\n",
              "          element.innerHTML = '';\n",
              "          dataTable['output_type'] = 'display_data';\n",
              "          await google.colab.output.renderOutput(dataTable, element);\n",
              "          const docLink = document.createElement('div');\n",
              "          docLink.innerHTML = docLinkHtml;\n",
              "          element.appendChild(docLink);\n",
              "        }\n",
              "      </script>\n",
              "    </div>\n",
              "  </div>\n",
              "  "
            ],
            "text/plain": [
              "       SenderSubId_num  orderId_num  ordStatus_num  side_num  OrderQty_num  \\\n",
              "0                   20          686              1         0           219   \n",
              "1                   20          688              1         2           219   \n",
              "2                   27        10525              1         1            70   \n",
              "3                   20          689              1         0           241   \n",
              "4                   20          691              1         0            75   \n",
              "...                ...          ...            ...       ...           ...   \n",
              "24366               21        21075              1         3             5   \n",
              "24367               21        21076              1         3             5   \n",
              "24368               21        21077              1         3             5   \n",
              "24369               21        21078              1         3             5   \n",
              "24370               21        21079              1         3             5   \n",
              "\n",
              "       Price_num     TransactTime_num  Fraud_num  \n",
              "0             11  1527145200000000000          0  \n",
              "1             13  1527145200000000000          0  \n",
              "2             78  1527145224000000000          0  \n",
              "3             10  1527145200000000000          0  \n",
              "4            101  1527145200000000000          0  \n",
              "...          ...                  ...        ...  \n",
              "24366       1448  1527154098000000000          1  \n",
              "24367       1448  1527154098000000000          1  \n",
              "24368       1448  1527154098000000000          1  \n",
              "24369       1448  1527154098000000000          1  \n",
              "24370       1448  1527154098000000000          1  \n",
              "\n",
              "[24311 rows x 8 columns]"
            ]
          },
          "execution_count": 66,
          "metadata": {},
          "output_type": "execute_result"
        }
      ],
      "source": [
        "data_frame"
      ]
    },
    {
      "cell_type": "code",
      "execution_count": null,
      "metadata": {
        "id": "8tFySi0FEF6B"
      },
      "outputs": [],
      "source": [
        "X_train = data_frame.drop(['Fraud_num'], axis=1)\n",
        "y_train = data_frame[['Fraud_num']]\n"
      ]
    },
    {
      "cell_type": "code",
      "execution_count": null,
      "metadata": {
        "id": "qb1AuDgHEUng"
      },
      "outputs": [],
      "source": [
        "X_test= testing_df.drop(['Fraud_num'], axis=1)\n",
        "y_test = testing_df[['Fraud_num']]"
      ]
    },
    {
      "cell_type": "code",
      "execution_count": null,
      "metadata": {
        "colab": {
          "base_uri": "https://localhost:8080/"
        },
        "id": "gikgaNo04Xrw",
        "outputId": "4bd79c13-d436-42df-f118-7a16e6783bb0"
      },
      "outputs": [
        {
          "name": "stdout",
          "output_type": "stream",
          "text": [
            "(24311, 7)\n",
            "(24311, 1)\n"
          ]
        }
      ],
      "source": [
        "print(X_train.shape)\n",
        "print(y_train.shape)"
      ]
    },
    {
      "cell_type": "code",
      "execution_count": null,
      "metadata": {
        "colab": {
          "base_uri": "https://localhost:8080/"
        },
        "id": "56xidv7EZ0Cs",
        "outputId": "fcd2975c-0848-4d6d-e450-b04805c100b4"
      },
      "outputs": [
        {
          "name": "stdout",
          "output_type": "stream",
          "text": [
            "(6299, 7)\n",
            "(6299, 1)\n"
          ]
        }
      ],
      "source": [
        "print(X_test.shape)\n",
        "print(y_test.shape)"
      ]
    },
    {
      "cell_type": "code",
      "execution_count": null,
      "metadata": {
        "colab": {
          "base_uri": "https://localhost:8080/",
          "height": 424
        },
        "id": "bZKKwWmGEj9x",
        "outputId": "74eb53de-a696-456d-da46-d466b9cef4f8"
      },
      "outputs": [
        {
          "data": {
            "text/html": [
              "\n",
              "  <div id=\"df-71e56021-c564-4244-8696-422dcc5d604d\">\n",
              "    <div class=\"colab-df-container\">\n",
              "      <div>\n",
              "<style scoped>\n",
              "    .dataframe tbody tr th:only-of-type {\n",
              "        vertical-align: middle;\n",
              "    }\n",
              "\n",
              "    .dataframe tbody tr th {\n",
              "        vertical-align: top;\n",
              "    }\n",
              "\n",
              "    .dataframe thead th {\n",
              "        text-align: right;\n",
              "    }\n",
              "</style>\n",
              "<table border=\"1\" class=\"dataframe\">\n",
              "  <thead>\n",
              "    <tr style=\"text-align: right;\">\n",
              "      <th></th>\n",
              "      <th>SenderSubId_num</th>\n",
              "      <th>orderId_num</th>\n",
              "      <th>ordStatus_num</th>\n",
              "      <th>side_num</th>\n",
              "      <th>OrderQty_num</th>\n",
              "      <th>Price_num</th>\n",
              "      <th>TransactTime_num</th>\n",
              "      <th>Fraud_num</th>\n",
              "    </tr>\n",
              "  </thead>\n",
              "  <tbody>\n",
              "    <tr>\n",
              "      <th>0</th>\n",
              "      <td>20</td>\n",
              "      <td>686</td>\n",
              "      <td>1</td>\n",
              "      <td>0</td>\n",
              "      <td>219</td>\n",
              "      <td>11</td>\n",
              "      <td>1527145200000000000</td>\n",
              "      <td>0</td>\n",
              "    </tr>\n",
              "    <tr>\n",
              "      <th>1</th>\n",
              "      <td>20</td>\n",
              "      <td>688</td>\n",
              "      <td>1</td>\n",
              "      <td>2</td>\n",
              "      <td>219</td>\n",
              "      <td>13</td>\n",
              "      <td>1527145200000000000</td>\n",
              "      <td>0</td>\n",
              "    </tr>\n",
              "    <tr>\n",
              "      <th>2</th>\n",
              "      <td>27</td>\n",
              "      <td>10525</td>\n",
              "      <td>1</td>\n",
              "      <td>1</td>\n",
              "      <td>70</td>\n",
              "      <td>78</td>\n",
              "      <td>1527145224000000000</td>\n",
              "      <td>0</td>\n",
              "    </tr>\n",
              "    <tr>\n",
              "      <th>3</th>\n",
              "      <td>20</td>\n",
              "      <td>689</td>\n",
              "      <td>1</td>\n",
              "      <td>0</td>\n",
              "      <td>241</td>\n",
              "      <td>10</td>\n",
              "      <td>1527145200000000000</td>\n",
              "      <td>0</td>\n",
              "    </tr>\n",
              "    <tr>\n",
              "      <th>4</th>\n",
              "      <td>20</td>\n",
              "      <td>691</td>\n",
              "      <td>1</td>\n",
              "      <td>0</td>\n",
              "      <td>75</td>\n",
              "      <td>101</td>\n",
              "      <td>1527145200000000000</td>\n",
              "      <td>0</td>\n",
              "    </tr>\n",
              "    <tr>\n",
              "      <th>...</th>\n",
              "      <td>...</td>\n",
              "      <td>...</td>\n",
              "      <td>...</td>\n",
              "      <td>...</td>\n",
              "      <td>...</td>\n",
              "      <td>...</td>\n",
              "      <td>...</td>\n",
              "      <td>...</td>\n",
              "    </tr>\n",
              "    <tr>\n",
              "      <th>24366</th>\n",
              "      <td>21</td>\n",
              "      <td>21075</td>\n",
              "      <td>1</td>\n",
              "      <td>3</td>\n",
              "      <td>5</td>\n",
              "      <td>1448</td>\n",
              "      <td>1527154098000000000</td>\n",
              "      <td>1</td>\n",
              "    </tr>\n",
              "    <tr>\n",
              "      <th>24367</th>\n",
              "      <td>21</td>\n",
              "      <td>21076</td>\n",
              "      <td>1</td>\n",
              "      <td>3</td>\n",
              "      <td>5</td>\n",
              "      <td>1448</td>\n",
              "      <td>1527154098000000000</td>\n",
              "      <td>1</td>\n",
              "    </tr>\n",
              "    <tr>\n",
              "      <th>24368</th>\n",
              "      <td>21</td>\n",
              "      <td>21077</td>\n",
              "      <td>1</td>\n",
              "      <td>3</td>\n",
              "      <td>5</td>\n",
              "      <td>1448</td>\n",
              "      <td>1527154098000000000</td>\n",
              "      <td>1</td>\n",
              "    </tr>\n",
              "    <tr>\n",
              "      <th>24369</th>\n",
              "      <td>21</td>\n",
              "      <td>21078</td>\n",
              "      <td>1</td>\n",
              "      <td>3</td>\n",
              "      <td>5</td>\n",
              "      <td>1448</td>\n",
              "      <td>1527154098000000000</td>\n",
              "      <td>1</td>\n",
              "    </tr>\n",
              "    <tr>\n",
              "      <th>24370</th>\n",
              "      <td>21</td>\n",
              "      <td>21079</td>\n",
              "      <td>1</td>\n",
              "      <td>3</td>\n",
              "      <td>5</td>\n",
              "      <td>1448</td>\n",
              "      <td>1527154098000000000</td>\n",
              "      <td>1</td>\n",
              "    </tr>\n",
              "  </tbody>\n",
              "</table>\n",
              "<p>24311 rows × 8 columns</p>\n",
              "</div>\n",
              "      <button class=\"colab-df-convert\" onclick=\"convertToInteractive('df-71e56021-c564-4244-8696-422dcc5d604d')\"\n",
              "              title=\"Convert this dataframe to an interactive table.\"\n",
              "              style=\"display:none;\">\n",
              "        \n",
              "  <svg xmlns=\"http://www.w3.org/2000/svg\" height=\"24px\"viewBox=\"0 0 24 24\"\n",
              "       width=\"24px\">\n",
              "    <path d=\"M0 0h24v24H0V0z\" fill=\"none\"/>\n",
              "    <path d=\"M18.56 5.44l.94 2.06.94-2.06 2.06-.94-2.06-.94-.94-2.06-.94 2.06-2.06.94zm-11 1L8.5 8.5l.94-2.06 2.06-.94-2.06-.94L8.5 2.5l-.94 2.06-2.06.94zm10 10l.94 2.06.94-2.06 2.06-.94-2.06-.94-.94-2.06-.94 2.06-2.06.94z\"/><path d=\"M17.41 7.96l-1.37-1.37c-.4-.4-.92-.59-1.43-.59-.52 0-1.04.2-1.43.59L10.3 9.45l-7.72 7.72c-.78.78-.78 2.05 0 2.83L4 21.41c.39.39.9.59 1.41.59.51 0 1.02-.2 1.41-.59l7.78-7.78 2.81-2.81c.8-.78.8-2.07 0-2.86zM5.41 20L4 18.59l7.72-7.72 1.47 1.35L5.41 20z\"/>\n",
              "  </svg>\n",
              "      </button>\n",
              "      \n",
              "  <style>\n",
              "    .colab-df-container {\n",
              "      display:flex;\n",
              "      flex-wrap:wrap;\n",
              "      gap: 12px;\n",
              "    }\n",
              "\n",
              "    .colab-df-convert {\n",
              "      background-color: #E8F0FE;\n",
              "      border: none;\n",
              "      border-radius: 50%;\n",
              "      cursor: pointer;\n",
              "      display: none;\n",
              "      fill: #1967D2;\n",
              "      height: 32px;\n",
              "      padding: 0 0 0 0;\n",
              "      width: 32px;\n",
              "    }\n",
              "\n",
              "    .colab-df-convert:hover {\n",
              "      background-color: #E2EBFA;\n",
              "      box-shadow: 0px 1px 2px rgba(60, 64, 67, 0.3), 0px 1px 3px 1px rgba(60, 64, 67, 0.15);\n",
              "      fill: #174EA6;\n",
              "    }\n",
              "\n",
              "    [theme=dark] .colab-df-convert {\n",
              "      background-color: #3B4455;\n",
              "      fill: #D2E3FC;\n",
              "    }\n",
              "\n",
              "    [theme=dark] .colab-df-convert:hover {\n",
              "      background-color: #434B5C;\n",
              "      box-shadow: 0px 1px 3px 1px rgba(0, 0, 0, 0.15);\n",
              "      filter: drop-shadow(0px 1px 2px rgba(0, 0, 0, 0.3));\n",
              "      fill: #FFFFFF;\n",
              "    }\n",
              "  </style>\n",
              "\n",
              "      <script>\n",
              "        const buttonEl =\n",
              "          document.querySelector('#df-71e56021-c564-4244-8696-422dcc5d604d button.colab-df-convert');\n",
              "        buttonEl.style.display =\n",
              "          google.colab.kernel.accessAllowed ? 'block' : 'none';\n",
              "\n",
              "        async function convertToInteractive(key) {\n",
              "          const element = document.querySelector('#df-71e56021-c564-4244-8696-422dcc5d604d');\n",
              "          const dataTable =\n",
              "            await google.colab.kernel.invokeFunction('convertToInteractive',\n",
              "                                                     [key], {});\n",
              "          if (!dataTable) return;\n",
              "\n",
              "          const docLinkHtml = 'Like what you see? Visit the ' +\n",
              "            '<a target=\"_blank\" href=https://colab.research.google.com/notebooks/data_table.ipynb>data table notebook</a>'\n",
              "            + ' to learn more about interactive tables.';\n",
              "          element.innerHTML = '';\n",
              "          dataTable['output_type'] = 'display_data';\n",
              "          await google.colab.output.renderOutput(dataTable, element);\n",
              "          const docLink = document.createElement('div');\n",
              "          docLink.innerHTML = docLinkHtml;\n",
              "          element.appendChild(docLink);\n",
              "        }\n",
              "      </script>\n",
              "    </div>\n",
              "  </div>\n",
              "  "
            ],
            "text/plain": [
              "       SenderSubId_num  orderId_num  ordStatus_num  side_num  OrderQty_num  \\\n",
              "0                   20          686              1         0           219   \n",
              "1                   20          688              1         2           219   \n",
              "2                   27        10525              1         1            70   \n",
              "3                   20          689              1         0           241   \n",
              "4                   20          691              1         0            75   \n",
              "...                ...          ...            ...       ...           ...   \n",
              "24366               21        21075              1         3             5   \n",
              "24367               21        21076              1         3             5   \n",
              "24368               21        21077              1         3             5   \n",
              "24369               21        21078              1         3             5   \n",
              "24370               21        21079              1         3             5   \n",
              "\n",
              "       Price_num     TransactTime_num  Fraud_num  \n",
              "0             11  1527145200000000000          0  \n",
              "1             13  1527145200000000000          0  \n",
              "2             78  1527145224000000000          0  \n",
              "3             10  1527145200000000000          0  \n",
              "4            101  1527145200000000000          0  \n",
              "...          ...                  ...        ...  \n",
              "24366       1448  1527154098000000000          1  \n",
              "24367       1448  1527154098000000000          1  \n",
              "24368       1448  1527154098000000000          1  \n",
              "24369       1448  1527154098000000000          1  \n",
              "24370       1448  1527154098000000000          1  \n",
              "\n",
              "[24311 rows x 8 columns]"
            ]
          },
          "execution_count": 71,
          "metadata": {},
          "output_type": "execute_result"
        }
      ],
      "source": [
        "data_frame"
      ]
    },
    {
      "cell_type": "code",
      "execution_count": null,
      "metadata": {
        "colab": {
          "base_uri": "https://localhost:8080/",
          "height": 424
        },
        "id": "AsQvEY35Z69l",
        "outputId": "d1521b2f-9afa-4a7c-f005-72177a78d5c1"
      },
      "outputs": [
        {
          "data": {
            "text/html": [
              "\n",
              "  <div id=\"df-2dec7cc2-5703-4ae4-9fed-e8e568c15bb5\">\n",
              "    <div class=\"colab-df-container\">\n",
              "      <div>\n",
              "<style scoped>\n",
              "    .dataframe tbody tr th:only-of-type {\n",
              "        vertical-align: middle;\n",
              "    }\n",
              "\n",
              "    .dataframe tbody tr th {\n",
              "        vertical-align: top;\n",
              "    }\n",
              "\n",
              "    .dataframe thead th {\n",
              "        text-align: right;\n",
              "    }\n",
              "</style>\n",
              "<table border=\"1\" class=\"dataframe\">\n",
              "  <thead>\n",
              "    <tr style=\"text-align: right;\">\n",
              "      <th></th>\n",
              "      <th>SenderSubId_num</th>\n",
              "      <th>orderId_num</th>\n",
              "      <th>ordStatus_num</th>\n",
              "      <th>side_num</th>\n",
              "      <th>OrderQty_num</th>\n",
              "      <th>Price_num</th>\n",
              "      <th>TransactTime_num</th>\n",
              "      <th>Fraud_num</th>\n",
              "    </tr>\n",
              "  </thead>\n",
              "  <tbody>\n",
              "    <tr>\n",
              "      <th>0</th>\n",
              "      <td>11</td>\n",
              "      <td>4330</td>\n",
              "      <td>0</td>\n",
              "      <td>3</td>\n",
              "      <td>6</td>\n",
              "      <td>1006</td>\n",
              "      <td>1527154156000000000</td>\n",
              "      <td>1</td>\n",
              "    </tr>\n",
              "    <tr>\n",
              "      <th>1</th>\n",
              "      <td>11</td>\n",
              "      <td>4331</td>\n",
              "      <td>0</td>\n",
              "      <td>3</td>\n",
              "      <td>6</td>\n",
              "      <td>1006</td>\n",
              "      <td>1527154156000000000</td>\n",
              "      <td>1</td>\n",
              "    </tr>\n",
              "    <tr>\n",
              "      <th>2</th>\n",
              "      <td>11</td>\n",
              "      <td>4333</td>\n",
              "      <td>0</td>\n",
              "      <td>3</td>\n",
              "      <td>6</td>\n",
              "      <td>1006</td>\n",
              "      <td>1527154156000000000</td>\n",
              "      <td>1</td>\n",
              "    </tr>\n",
              "    <tr>\n",
              "      <th>3</th>\n",
              "      <td>11</td>\n",
              "      <td>4334</td>\n",
              "      <td>0</td>\n",
              "      <td>3</td>\n",
              "      <td>6</td>\n",
              "      <td>1006</td>\n",
              "      <td>1527154156000000000</td>\n",
              "      <td>1</td>\n",
              "    </tr>\n",
              "    <tr>\n",
              "      <th>4</th>\n",
              "      <td>11</td>\n",
              "      <td>4335</td>\n",
              "      <td>0</td>\n",
              "      <td>3</td>\n",
              "      <td>6</td>\n",
              "      <td>1006</td>\n",
              "      <td>1527154156000000000</td>\n",
              "      <td>1</td>\n",
              "    </tr>\n",
              "    <tr>\n",
              "      <th>...</th>\n",
              "      <td>...</td>\n",
              "      <td>...</td>\n",
              "      <td>...</td>\n",
              "      <td>...</td>\n",
              "      <td>...</td>\n",
              "      <td>...</td>\n",
              "      <td>...</td>\n",
              "      <td>...</td>\n",
              "    </tr>\n",
              "    <tr>\n",
              "      <th>6316</th>\n",
              "      <td>9</td>\n",
              "      <td>3931</td>\n",
              "      <td>0</td>\n",
              "      <td>3</td>\n",
              "      <td>5</td>\n",
              "      <td>847</td>\n",
              "      <td>1527156290000000000</td>\n",
              "      <td>1</td>\n",
              "    </tr>\n",
              "    <tr>\n",
              "      <th>6317</th>\n",
              "      <td>9</td>\n",
              "      <td>3932</td>\n",
              "      <td>0</td>\n",
              "      <td>3</td>\n",
              "      <td>5</td>\n",
              "      <td>847</td>\n",
              "      <td>1527156290000000000</td>\n",
              "      <td>1</td>\n",
              "    </tr>\n",
              "    <tr>\n",
              "      <th>6318</th>\n",
              "      <td>9</td>\n",
              "      <td>3933</td>\n",
              "      <td>0</td>\n",
              "      <td>3</td>\n",
              "      <td>5</td>\n",
              "      <td>847</td>\n",
              "      <td>1527156290000000000</td>\n",
              "      <td>1</td>\n",
              "    </tr>\n",
              "    <tr>\n",
              "      <th>6319</th>\n",
              "      <td>9</td>\n",
              "      <td>3934</td>\n",
              "      <td>0</td>\n",
              "      <td>3</td>\n",
              "      <td>5</td>\n",
              "      <td>847</td>\n",
              "      <td>1527156290000000000</td>\n",
              "      <td>1</td>\n",
              "    </tr>\n",
              "    <tr>\n",
              "      <th>6320</th>\n",
              "      <td>9</td>\n",
              "      <td>3935</td>\n",
              "      <td>0</td>\n",
              "      <td>3</td>\n",
              "      <td>5</td>\n",
              "      <td>847</td>\n",
              "      <td>1527156290000000000</td>\n",
              "      <td>1</td>\n",
              "    </tr>\n",
              "  </tbody>\n",
              "</table>\n",
              "<p>6299 rows × 8 columns</p>\n",
              "</div>\n",
              "      <button class=\"colab-df-convert\" onclick=\"convertToInteractive('df-2dec7cc2-5703-4ae4-9fed-e8e568c15bb5')\"\n",
              "              title=\"Convert this dataframe to an interactive table.\"\n",
              "              style=\"display:none;\">\n",
              "        \n",
              "  <svg xmlns=\"http://www.w3.org/2000/svg\" height=\"24px\"viewBox=\"0 0 24 24\"\n",
              "       width=\"24px\">\n",
              "    <path d=\"M0 0h24v24H0V0z\" fill=\"none\"/>\n",
              "    <path d=\"M18.56 5.44l.94 2.06.94-2.06 2.06-.94-2.06-.94-.94-2.06-.94 2.06-2.06.94zm-11 1L8.5 8.5l.94-2.06 2.06-.94-2.06-.94L8.5 2.5l-.94 2.06-2.06.94zm10 10l.94 2.06.94-2.06 2.06-.94-2.06-.94-.94-2.06-.94 2.06-2.06.94z\"/><path d=\"M17.41 7.96l-1.37-1.37c-.4-.4-.92-.59-1.43-.59-.52 0-1.04.2-1.43.59L10.3 9.45l-7.72 7.72c-.78.78-.78 2.05 0 2.83L4 21.41c.39.39.9.59 1.41.59.51 0 1.02-.2 1.41-.59l7.78-7.78 2.81-2.81c.8-.78.8-2.07 0-2.86zM5.41 20L4 18.59l7.72-7.72 1.47 1.35L5.41 20z\"/>\n",
              "  </svg>\n",
              "      </button>\n",
              "      \n",
              "  <style>\n",
              "    .colab-df-container {\n",
              "      display:flex;\n",
              "      flex-wrap:wrap;\n",
              "      gap: 12px;\n",
              "    }\n",
              "\n",
              "    .colab-df-convert {\n",
              "      background-color: #E8F0FE;\n",
              "      border: none;\n",
              "      border-radius: 50%;\n",
              "      cursor: pointer;\n",
              "      display: none;\n",
              "      fill: #1967D2;\n",
              "      height: 32px;\n",
              "      padding: 0 0 0 0;\n",
              "      width: 32px;\n",
              "    }\n",
              "\n",
              "    .colab-df-convert:hover {\n",
              "      background-color: #E2EBFA;\n",
              "      box-shadow: 0px 1px 2px rgba(60, 64, 67, 0.3), 0px 1px 3px 1px rgba(60, 64, 67, 0.15);\n",
              "      fill: #174EA6;\n",
              "    }\n",
              "\n",
              "    [theme=dark] .colab-df-convert {\n",
              "      background-color: #3B4455;\n",
              "      fill: #D2E3FC;\n",
              "    }\n",
              "\n",
              "    [theme=dark] .colab-df-convert:hover {\n",
              "      background-color: #434B5C;\n",
              "      box-shadow: 0px 1px 3px 1px rgba(0, 0, 0, 0.15);\n",
              "      filter: drop-shadow(0px 1px 2px rgba(0, 0, 0, 0.3));\n",
              "      fill: #FFFFFF;\n",
              "    }\n",
              "  </style>\n",
              "\n",
              "      <script>\n",
              "        const buttonEl =\n",
              "          document.querySelector('#df-2dec7cc2-5703-4ae4-9fed-e8e568c15bb5 button.colab-df-convert');\n",
              "        buttonEl.style.display =\n",
              "          google.colab.kernel.accessAllowed ? 'block' : 'none';\n",
              "\n",
              "        async function convertToInteractive(key) {\n",
              "          const element = document.querySelector('#df-2dec7cc2-5703-4ae4-9fed-e8e568c15bb5');\n",
              "          const dataTable =\n",
              "            await google.colab.kernel.invokeFunction('convertToInteractive',\n",
              "                                                     [key], {});\n",
              "          if (!dataTable) return;\n",
              "\n",
              "          const docLinkHtml = 'Like what you see? Visit the ' +\n",
              "            '<a target=\"_blank\" href=https://colab.research.google.com/notebooks/data_table.ipynb>data table notebook</a>'\n",
              "            + ' to learn more about interactive tables.';\n",
              "          element.innerHTML = '';\n",
              "          dataTable['output_type'] = 'display_data';\n",
              "          await google.colab.output.renderOutput(dataTable, element);\n",
              "          const docLink = document.createElement('div');\n",
              "          docLink.innerHTML = docLinkHtml;\n",
              "          element.appendChild(docLink);\n",
              "        }\n",
              "      </script>\n",
              "    </div>\n",
              "  </div>\n",
              "  "
            ],
            "text/plain": [
              "      SenderSubId_num  orderId_num  ordStatus_num  side_num  OrderQty_num  \\\n",
              "0                  11         4330              0         3             6   \n",
              "1                  11         4331              0         3             6   \n",
              "2                  11         4333              0         3             6   \n",
              "3                  11         4334              0         3             6   \n",
              "4                  11         4335              0         3             6   \n",
              "...               ...          ...            ...       ...           ...   \n",
              "6316                9         3931              0         3             5   \n",
              "6317                9         3932              0         3             5   \n",
              "6318                9         3933              0         3             5   \n",
              "6319                9         3934              0         3             5   \n",
              "6320                9         3935              0         3             5   \n",
              "\n",
              "      Price_num     TransactTime_num  Fraud_num  \n",
              "0          1006  1527154156000000000          1  \n",
              "1          1006  1527154156000000000          1  \n",
              "2          1006  1527154156000000000          1  \n",
              "3          1006  1527154156000000000          1  \n",
              "4          1006  1527154156000000000          1  \n",
              "...         ...                  ...        ...  \n",
              "6316        847  1527156290000000000          1  \n",
              "6317        847  1527156290000000000          1  \n",
              "6318        847  1527156290000000000          1  \n",
              "6319        847  1527156290000000000          1  \n",
              "6320        847  1527156290000000000          1  \n",
              "\n",
              "[6299 rows x 8 columns]"
            ]
          },
          "execution_count": 72,
          "metadata": {},
          "output_type": "execute_result"
        }
      ],
      "source": [
        "testing_df"
      ]
    },
    {
      "cell_type": "markdown",
      "metadata": {
        "id": "e0tcHMMnbOGN"
      },
      "source": [
        "# **KNN**"
      ]
    },
    {
      "cell_type": "code",
      "execution_count": null,
      "metadata": {
        "id": "Q6S7BcbIbP1Z"
      },
      "outputs": [],
      "source": [
        "#import important libraries\n",
        "import pandas as pd\n",
        "import numpy as np\n",
        "import seaborn as sns\n",
        "from sklearn.metrics import classification_report\n",
        "from sklearn.metrics import roc_auc_score as roc\n",
        "from sklearn.model_selection import train_test_split as tts\n",
        "from sklearn.preprocessing import StandardScaler\n",
        "from sklearn.neighbors import KNeighborsClassifier"
      ]
    },
    {
      "cell_type": "code",
      "execution_count": null,
      "metadata": {
        "colab": {
          "base_uri": "https://localhost:8080/",
          "height": 297
        },
        "id": "hhm8QCypbR4v",
        "outputId": "45502f01-4df4-4fe2-9c1e-9d1929bf2143"
      },
      "outputs": [
        {
          "data": {
            "text/plain": [
              "<matplotlib.axes._subplots.AxesSubplot at 0x7f07371d9a10>"
            ]
          },
          "execution_count": 74,
          "metadata": {},
          "output_type": "execute_result"
        },
        {
          "data": {
            "image/png": "[encoded data removed]",
            "text/plain": [
              "<Figure size 432x288 with 1 Axes>"
            ]
          },
          "metadata": {},
          "output_type": "display_data"
        }
      ],
      "source": [
        "#visualize the target class 'target_num'\n",
        "sns.countplot(x='Fraud_num', data=data_frame)"
      ]
    },
    {
      "cell_type": "code",
      "execution_count": null,
      "metadata": {
        "colab": {
          "base_uri": "https://localhost:8080/"
        },
        "id": "xHAet6lKbgmU",
        "outputId": "a84455a1-59e9-4105-9c87-ff32fd56f3e2"
      },
      "outputs": [
        {
          "name": "stderr",
          "output_type": "stream",
          "text": [
            "/usr/local/lib/python3.7/dist-packages/sklearn/neighbors/_classification.py:198: DataConversionWarning: A column-vector y was passed when a 1d array was expected. Please change the shape of y to (n_samples,), for example using ravel().\n",
            "  return self._fit(X, y)\n"
          ]
        },
        {
          "data": {
            "text/plain": [
              "KNeighborsClassifier()"
            ]
          },
          "execution_count": 75,
          "metadata": {},
          "output_type": "execute_result"
        }
      ],
      "source": [
        "knn_model = KNeighborsClassifier()\n",
        "knn_model.fit(X_train,y_train)"
      ]
    },
    {
      "cell_type": "code",
      "execution_count": null,
      "metadata": {
        "id": "aoTDRyo5kAPe"
      },
      "outputs": [],
      "source": [
        "y_pred_knn=knn_model.predict(X_test)"
      ]
    },
    {
      "cell_type": "code",
      "execution_count": null,
      "metadata": {
        "colab": {
          "base_uri": "https://localhost:8080/"
        },
        "id": "VmwTR7rPkUuj",
        "outputId": "cdd9bd5a-dc25-4a48-903a-596c2481ed52"
      },
      "outputs": [
        {
          "name": "stdout",
          "output_type": "stream",
          "text": [
            "0.6670900142879822\n"
          ]
        }
      ],
      "source": [
        "print(accuracy_score(y_test,y_pred_knn))"
      ]
    },
    {
      "cell_type": "code",
      "execution_count": null,
      "metadata": {
        "colab": {
          "base_uri": "https://localhost:8080/"
        },
        "id": "-8yS3Couw4oi",
        "outputId": "93540e54-e5d8-4475-f94a-f2d46b81d45f"
      },
      "outputs": [
        {
          "name": "stderr",
          "output_type": "stream",
          "text": [
            "/usr/local/lib/python3.7/dist-packages/sklearn/metrics/_classification.py:1318: UndefinedMetricWarning: Precision and F-score are ill-defined and being set to 0.0 in labels with no predicted samples. Use `zero_division` parameter to control this behavior.\n",
            "  _warn_prf(average, modifier, msg_start, len(result))\n"
          ]
        },
        {
          "name": "stdout",
          "output_type": "stream",
          "text": [
            "              precision    recall  f1-score   support\n",
            "\n",
            "           0       0.00      0.00      0.00      2097\n",
            "           1       0.67      1.00      0.80      4202\n",
            "\n",
            "    accuracy                           0.67      6299\n",
            "   macro avg       0.33      0.50      0.40      6299\n",
            "weighted avg       0.45      0.67      0.53      6299\n",
            "\n"
          ]
        },
        {
          "name": "stderr",
          "output_type": "stream",
          "text": [
            "/usr/local/lib/python3.7/dist-packages/sklearn/metrics/_classification.py:1318: UndefinedMetricWarning: Precision and F-score are ill-defined and being set to 0.0 in labels with no predicted samples. Use `zero_division` parameter to control this behavior.\n",
            "  _warn_prf(average, modifier, msg_start, len(result))\n",
            "/usr/local/lib/python3.7/dist-packages/sklearn/metrics/_classification.py:1318: UndefinedMetricWarning: Precision and F-score are ill-defined and being set to 0.0 in labels with no predicted samples. Use `zero_division` parameter to control this behavior.\n",
            "  _warn_prf(average, modifier, msg_start, len(result))\n"
          ]
        }
      ],
      "source": [
        "print(classification_report(y_test, y_pred_knn))"
      ]
    },
    {
      "cell_type": "code",
      "execution_count": null,
      "metadata": {
        "colab": {
          "base_uri": "https://localhost:8080/",
          "height": 312
        },
        "id": "5hvmSQ7lcEFF",
        "outputId": "11533ba9-99e1-4b0c-fae9-0cca23c2b555"
      },
      "outputs": [
        {
          "data": {
            "text/plain": [
              "Text(0.5, 15.0, 'Predicted Label')"
            ]
          },
          "execution_count": 79,
          "metadata": {},
          "output_type": "execute_result"
        },
        {
          "data": {
            "image/png": "[encoded data removed]",
            "text/plain": [
              "<Figure size 432x288 with 2 Axes>"
            ]
          },
          "metadata": {},
          "output_type": "display_data"
        }
      ],
      "source": [
        "# confusion matrix\n",
        "knn_cm = confusion_matrix(y_test,y_pred_knn)\n",
        "\n",
        "ax = sns.heatmap(knn_cm,annot=True,cmap='coolwarm',fmt='.0f')\n",
        "ax.set_title('K Nearest Neighbors Confusion Matrix')\n",
        "ax.set_ylabel('True Label')\n",
        "ax.set_xlabel('Predicted Label')"
      ]
    },
    {
      "cell_type": "markdown",
      "metadata": {
        "id": "nmLP3dd3-t4y"
      },
      "source": [
        "# **Logistic Regression**"
      ]
    },
    {
      "cell_type": "code",
      "execution_count": null,
      "metadata": {
        "id": "4DMHswBC-xGB"
      },
      "outputs": [],
      "source": [
        "from sklearn.linear_model import LogisticRegression"
      ]
    },
    {
      "cell_type": "code",
      "execution_count": null,
      "metadata": {
        "id": "u9BvDrtg-3wY"
      },
      "outputs": [],
      "source": [
        "#print(\"X and y sizes, respectively:\", len(X), len(y))\n",
        "#print(\"Train and test sizes, respectively:\", len(X_train), len(y_train), \"|\", len(X_test), len(y_test))\n",
        "#print(\"Total number of frauds:\", len(y.loc[data_frame['Fraud_num'] == 1]), len(y.loc[data_frame['Fraud_num'] == 1])/len(y))\n",
        "#print(\"Number of frauds on y_test:\", len(y_test.loc[testing_df['Fraud_num'] == 1]), '-- en pourcentage:',len(y_test.loc[testing_df['Fraud_num'] == 1]) / len(y_test))\n",
        "#print(\"Number of frauds on y_train:\", len(y_train.loc[data_frame['Fraud_num'] == 1]), '--en pourcentage:' len(y_train.loc[data_frame['Fraud_num'] == 1])/len(y_train))"
      ]
    },
    {
      "cell_type": "code",
      "execution_count": null,
      "metadata": {
        "id": "ZFX3RSJ_-6vC"
      },
      "outputs": [],
      "source": [
        "classifier = LogisticRegression()"
      ]
    },
    {
      "cell_type": "code",
      "execution_count": null,
      "metadata": {
        "colab": {
          "base_uri": "https://localhost:8080/"
        },
        "id": "jwurhNdw-9sk",
        "outputId": "e3b18358-f85a-4a16-ef86-84e025fe6c5e"
      },
      "outputs": [
        {
          "name": "stderr",
          "output_type": "stream",
          "text": [
            "/usr/local/lib/python3.7/dist-packages/sklearn/utils/validation.py:993: DataConversionWarning: A column-vector y was passed when a 1d array was expected. Please change the shape of y to (n_samples, ), for example using ravel().\n",
            "  y = column_or_1d(y, warn=True)\n"
          ]
        },
        {
          "data": {
            "text/plain": [
              "LogisticRegression()"
            ]
          },
          "execution_count": 167,
          "metadata": {},
          "output_type": "execute_result"
        }
      ],
      "source": [
        "classifier.fit(X_train, y_train)"
      ]
    },
    {
      "cell_type": "code",
      "execution_count": null,
      "metadata": {
        "id": "ZD4Dz40N_AqX"
      },
      "outputs": [],
      "source": [
        "pred_logReg = classifier.predict(X_test)"
      ]
    },
    {
      "cell_type": "code",
      "execution_count": null,
      "metadata": {
        "colab": {
          "base_uri": "https://localhost:8080/"
        },
        "id": "IZE54DdD_GCz",
        "outputId": "c1eb92af-3eb0-40b3-bc15-dd4d647e64a0"
      },
      "outputs": [
        {
          "data": {
            "text/plain": [
              "0.99952373392602"
            ]
          },
          "execution_count": 169,
          "metadata": {},
          "output_type": "execute_result"
        }
      ],
      "source": [
        "from sklearn.metrics import accuracy_score,classification_report,confusion_matrix\n",
        "accuracy_score(y_test,pred_logReg)"
      ]
    },
    {
      "cell_type": "code",
      "execution_count": null,
      "metadata": {
        "id": "4qc21SqQ3UzU"
      },
      "outputs": [],
      "source": [
        "from sklearn.metrics import confusion_matrix\n",
        "import matplotlib.pyplot as plt\n",
        "import seaborn as sns\n",
        "from sklearn import metrics"
      ]
    },
    {
      "cell_type": "code",
      "execution_count": null,
      "metadata": {
        "colab": {
          "base_uri": "https://localhost:8080/",
          "height": 312
        },
        "id": "UYk54f-J_G89",
        "outputId": "6b831631-2b53-428d-f1a9-6bc98fd748d4"
      },
      "outputs": [
        {
          "data": {
            "text/plain": [
              "Text(0.5, 15.0, 'Predicted Label')"
            ]
          },
          "execution_count": 171,
          "metadata": {},
          "output_type": "execute_result"
        },
        {
          "data": {
            "image/png": "[encoded data removed]",
            "text/plain": [
              "<Figure size 432x288 with 2 Axes>"
            ]
          },
          "metadata": {},
          "output_type": "display_data"
        }
      ],
      "source": [
        "# confusion matrix\n",
        "cm = confusion_matrix(y_test,pred_logReg)\n",
        "\n",
        "ax = sns.heatmap(cm,annot=True,cmap='coolwarm',fmt='.0f')\n",
        "ax.set_title('Logistic Regression Confusion Matrix')\n",
        "ax.set_ylabel('True Label')\n",
        "ax.set_xlabel('Predicted Label')"
      ]
    },
    {
      "cell_type": "markdown",
      "metadata": {
        "id": "AwIFnmo0KKSn"
      },
      "source": [
        "# **SVM**"
      ]
    },
    {
      "cell_type": "code",
      "execution_count": null,
      "metadata": {
        "id": "ahepBjb_0ccY"
      },
      "outputs": [],
      "source": [
        "from sklearn import svm\n",
        "from sklearn.svm import SVC\n",
        "from sklearn.metrics import roc_auc_score, roc_curve, auc, average_precision_score"
      ]
    },
    {
      "cell_type": "code",
      "execution_count": null,
      "metadata": {
        "id": "AIjyx2Ar0dXW"
      },
      "outputs": [],
      "source": [
        "classifier= svm.SVC(C=1,kernel='sigmoid',random_state=42)"
      ]
    },
    {
      "cell_type": "code",
      "execution_count": null,
      "metadata": {
        "colab": {
          "base_uri": "https://localhost:8080/"
        },
        "id": "AgzDW0a00gKK",
        "outputId": "adacf682-cc0c-49b4-ac42-0e63561619c9"
      },
      "outputs": [
        {
          "name": "stderr",
          "output_type": "stream",
          "text": [
            "/usr/local/lib/python3.7/dist-packages/sklearn/utils/validation.py:993: DataConversionWarning: A column-vector y was passed when a 1d array was expected. Please change the shape of y to (n_samples, ), for example using ravel().\n",
            "  y = column_or_1d(y, warn=True)\n"
          ]
        },
        {
          "data": {
            "text/plain": [
              "SVC(C=1, kernel='sigmoid', random_state=42)"
            ]
          },
          "execution_count": 160,
          "metadata": {},
          "output_type": "execute_result"
        }
      ],
      "source": [
        "#Fit into Model\n",
        "classifier.fit(X_train, y_train)"
      ]
    },
    {
      "cell_type": "code",
      "execution_count": null,
      "metadata": {
        "id": "zkjU1B9A0hnV"
      },
      "outputs": [],
      "source": [
        "#Predict the class using X_test\n",
        "predictions_SVM = classifier.predict(X_test)"
      ]
    },
    {
      "cell_type": "code",
      "execution_count": null,
      "metadata": {
        "id": "tw-jiKGFZ_Az"
      },
      "outputs": [],
      "source": [
        "con_mat = confusion_matrix(y_test, predictions_SVM)\n",
        "average_precision = average_precision_score(y_test, predictions_SVM)\n",
        "cls_report = classification_report(y_test, predictions_SVM)"
      ]
    },
    {
      "cell_type": "code",
      "execution_count": null,
      "metadata": {
        "colab": {
          "base_uri": "https://localhost:8080/"
        },
        "id": "QunUQLBFZ_py",
        "outputId": "d7e55503-e768-48be-bf69-cddd8cba50c7"
      },
      "outputs": [
        {
          "name": "stdout",
          "output_type": "stream",
          "text": [
            "acuracy: 0.9190347674234005\n",
            "precision: 0.8917657045840407\n",
            "recall 1.0\n",
            "              precision    recall  f1-score   support\n",
            "\n",
            "           0       1.00      0.76      0.86      2097\n",
            "           1       0.89      1.00      0.94      4202\n",
            "\n",
            "    accuracy                           0.92      6299\n",
            "   macro avg       0.95      0.88      0.90      6299\n",
            "weighted avg       0.93      0.92      0.92      6299\n",
            "\n"
          ]
        }
      ],
      "source": [
        "from sklearn import metrics\n",
        "#accuracy\n",
        "print(\"acuracy:\", metrics.accuracy_score(y_test,predictions_SVM))\n",
        "#precision score\n",
        "print(\"precision:\", metrics.precision_score(y_test,predictions_SVM))\n",
        "#recall score\n",
        "print(\"recall\" , metrics.recall_score(y_test,predictions_SVM))\n",
        "print(metrics.classification_report(y_test, predictions_SVM))"
      ]
    },
    {
      "cell_type": "code",
      "execution_count": null,
      "metadata": {
        "colab": {
          "base_uri": "https://localhost:8080/",
          "height": 312
        },
        "id": "EA9AyvBL75Rs",
        "outputId": "b52d536d-2e8d-4ec4-98db-f21cb084b149"
      },
      "outputs": [
        {
          "data": {
            "text/plain": [
              "Text(0.5, 15.0, 'Predicted Label')"
            ]
          },
          "execution_count": 164,
          "metadata": {},
          "output_type": "execute_result"
        },
        {
          "data": {
            "image/png": "[encoded data removed]",
            "text/plain": [
              "<Figure size 432x288 with 2 Axes>"
            ]
          },
          "metadata": {},
          "output_type": "display_data"
        }
      ],
      "source": [
        "# confusion matrix\n",
        "cm = confusion_matrix(y_test,predictions_SVM)\n",
        "\n",
        "ax = sns.heatmap(cm,annot=True,cmap='coolwarm',fmt='.0f')\n",
        "ax.set_title('SVM Confusion Matrix')\n",
        "ax.set_ylabel('True Label')\n",
        "ax.set_xlabel('Predicted Label')"
      ]
    },
    {
      "cell_type": "code",
      "execution_count": null,
      "metadata": {
        "id": "O6B0227Ux9Ns"
      },
      "outputs": [],
      "source": [
        "#import matplotlib.pyplot as plt\n",
        "#from sklearn import model_selection\n",
        "#from sklearn import preprocessing\n",
        "#from sklearn import svm\n",
        "#from sklearn import metrics"
      ]
    },
    {
      "cell_type": "code",
      "execution_count": null,
      "metadata": {
        "id": "jGTdUGf8KU4z"
      },
      "outputs": [],
      "source": [
        "#classifier=svm.SVC(kernel='poly',degree=10)"
      ]
    },
    {
      "cell_type": "code",
      "execution_count": null,
      "metadata": {
        "id": "XqTc4aeaKcCe"
      },
      "outputs": [],
      "source": [
        "#classifier.fit(X_train, y_train)"
      ]
    },
    {
      "cell_type": "code",
      "execution_count": null,
      "metadata": {
        "id": "5lNbc2BeLFQE"
      },
      "outputs": [],
      "source": [
        "#y_test_pred=classifier.decision_function(X_test)"
      ]
    },
    {
      "cell_type": "code",
      "execution_count": null,
      "metadata": {
        "id": "RlipeeXSLMXN"
      },
      "outputs": [],
      "source": [
        "#C_range=np.logspace(-2,3,6) #choix de 6 valeurs de c entre 10**-2 et 10**3\n",
        "\n",
        "#param_grid={'C':C_range} #grille de params\n",
        "#score='roc_auc' #critére de selection du meilleur modéle\n",
        "#initialiser une recherche sur grille\n",
        "#grid=model_selection.GridSearchCV(svm.SVC(kernel='poly'),param_grid,cv=5, #on fait la validation des params 5 fois\n",
        "                                                          # scoring=score)"
      ]
    },
    {
      "cell_type": "code",
      "execution_count": null,
      "metadata": {
        "id": "VnEsuReeLOJS"
      },
      "outputs": [],
      "source": [
        "#grid.fit(X_train,y_train) # faire tourner la recherche sur la grille\n",
        "#print(\"la valeur optimal est %s avec un score de %.2f\" % \\\n",
        " #   (grid.best_params_,grid.best_score_)) #afficher les params optimaux"
      ]
    },
    {
      "cell_type": "code",
      "execution_count": null,
      "metadata": {
        "id": "kCQC-MbgLQee"
      },
      "outputs": [],
      "source": [
        "#rom sklearn.metrics import classification_report,confusion_matrix\n",
        "#print(confusion_matrix(y_test,y_test_pred))"
      ]
    },
    {
      "cell_type": "code",
      "execution_count": null,
      "metadata": {
        "id": "BnfPHGwULTi9"
      },
      "outputs": [],
      "source": [
        "#print(classification_report(y_test,y_test_pred))\n",
        "#from sklearn.metrics import accuracy_score\n",
        "#accuracy_score(y_test, y_test_pred)"
      ]
    },
    {
      "cell_type": "code",
      "execution_count": null,
      "metadata": {
        "id": "hd7anoBwLk8I"
      },
      "outputs": [],
      "source": [
        "# confusion matrix\n",
        "#clf= confusion_matrix(y_test,predictions)\n",
        "\n",
        "#ax = sns.heatmap(clf,annot=True,cmap='coolwarm',fmt='.0f')\n",
        "#ax.set_title('SVM Confusion Matrix')\n",
        "#ax.set_ylabel('True Label')\n",
        "#ax.set_xlabel('Predicted Label')"
      ]
    },
    {
      "cell_type": "markdown",
      "metadata": {
        "id": "B8HeOYTWcLAq"
      },
      "source": [
        "# **random Forest Classifier**"
      ]
    },
    {
      "cell_type": "code",
      "execution_count": null,
      "metadata": {
        "id": "MMLdA9JkcMzF"
      },
      "outputs": [],
      "source": [
        "from sklearn.ensemble import RandomForestClassifier\n",
        "from sklearn.model_selection import RandomizedSearchCV\n",
        "from sklearn.metrics import roc_auc_score, precision_recall_curve, auc, f1_score\n",
        "\n"
      ]
    },
    {
      "cell_type": "code",
      "execution_count": null,
      "metadata": {
        "id": "xEbGCX3BcmDA"
      },
      "outputs": [],
      "source": [
        "from sklearn.metrics import plot_confusion_matrix"
      ]
    },
    {
      "cell_type": "code",
      "execution_count": null,
      "metadata": {
        "id": "foqROPpoBl04"
      },
      "outputs": [],
      "source": [
        "# Feature Scaling\n",
        "from sklearn.preprocessing import StandardScaler\n",
        "\n",
        "sc = StandardScaler()\n",
        "X_train = sc.fit_transform(X_train)\n",
        "X_test = sc.transform(X_test)"
      ]
    },
    {
      "cell_type": "code",
      "execution_count": null,
      "metadata": {
        "id": "dql7XDUVctBd"
      },
      "outputs": [],
      "source": [
        "#Create a Gaussian Classifier\n",
        "clf=RandomForestClassifier(n_estimators=100,random_state=10)"
      ]
    },
    {
      "cell_type": "code",
      "execution_count": null,
      "metadata": {
        "colab": {
          "base_uri": "https://localhost:8080/"
        },
        "id": "hAEXaQU6cwi1",
        "outputId": "8a24fc1d-fc08-4130-b017-602a9fb5b77c"
      },
      "outputs": [
        {
          "name": "stderr",
          "output_type": "stream",
          "text": [
            "/usr/local/lib/python3.7/dist-packages/ipykernel_launcher.py:2: DataConversionWarning: A column-vector y was passed when a 1d array was expected. Please change the shape of y to (n_samples,), for example using ravel().\n",
            "  \n"
          ]
        },
        {
          "data": {
            "text/plain": [
              "RandomForestClassifier(random_state=10)"
            ]
          },
          "execution_count": 108,
          "metadata": {},
          "output_type": "execute_result"
        }
      ],
      "source": [
        "#Train the model using the training sets y_pred=clf.predict(X_test)\n",
        "clf.fit(X_train,y_train)"
      ]
    },
    {
      "cell_type": "code",
      "execution_count": null,
      "metadata": {
        "id": "Krj8oxlpc0Eu"
      },
      "outputs": [],
      "source": [
        "y_pred_random=clf.predict(X_test)"
      ]
    },
    {
      "cell_type": "code",
      "execution_count": null,
      "metadata": {
        "colab": {
          "base_uri": "https://localhost:8080/"
        },
        "id": "5hiPIhQNc1-e",
        "outputId": "7e8f60ad-31c4-47bb-b9fe-be4de603c967"
      },
      "outputs": [
        {
          "name": "stdout",
          "output_type": "stream",
          "text": [
            "Accuracy: 0.9676139069693602\n"
          ]
        }
      ],
      "source": [
        "#Import scikit-learn metrics module for accuracy calculation\n",
        "from sklearn import metrics\n",
        "# Model Accuracy, how often is the classifier correct?\n",
        "print(\"Accuracy:\",metrics.accuracy_score(y_test, y_pred_random))"
      ]
    },
    {
      "cell_type": "code",
      "execution_count": null,
      "metadata": {
        "colab": {
          "base_uri": "https://localhost:8080/"
        },
        "id": "Ilh3AiSZc3p8",
        "outputId": "ad85a1dd-d078-47dd-d02c-0a4c970ab8ae"
      },
      "outputs": [
        {
          "name": "stdout",
          "output_type": "stream",
          "text": [
            "              precision    recall  f1-score   support\n",
            "\n",
            "           0       0.91      1.00      0.95      2097\n",
            "           1       1.00      0.95      0.98      4202\n",
            "\n",
            "    accuracy                           0.97      6299\n",
            "   macro avg       0.96      0.98      0.96      6299\n",
            "weighted avg       0.97      0.97      0.97      6299\n",
            "\n"
          ]
        }
      ],
      "source": [
        "print(classification_report(y_test, y_pred_random))"
      ]
    },
    {
      "cell_type": "code",
      "execution_count": null,
      "metadata": {
        "colab": {
          "base_uri": "https://localhost:8080/",
          "height": 312
        },
        "id": "OiarihsM8Cxi",
        "outputId": "49daf61b-88aa-47d6-bb94-cf107b5a631f"
      },
      "outputs": [
        {
          "data": {
            "text/plain": [
              "Text(0.5, 15.0, 'Predicted Label')"
            ]
          },
          "execution_count": 112,
          "metadata": {},
          "output_type": "execute_result"
        },
        {
          "data": {
            "image/png": "[encoded data removed]",
            "text/plain": [
              "<Figure size 432x288 with 2 Axes>"
            ]
          },
          "metadata": {},
          "output_type": "display_data"
        }
      ],
      "source": [
        "# confusion matrix\n",
        "cm = confusion_matrix(y_test,y_pred_random)\n",
        "\n",
        "ax = sns.heatmap(cm,annot=True,cmap='coolwarm',fmt='.0f')\n",
        "ax.set_title('Logistic Regression Confusion Matrix')\n",
        "ax.set_ylabel('True Label')\n",
        "ax.set_xlabel('Predicted Label')"
      ]
    },
    {
      "cell_type": "markdown",
      "metadata": {
        "id": "8Mdo_tP9l3Oi"
      },
      "source": [
        "# **Gradient Boost Classifier**"
      ]
    },
    {
      "cell_type": "code",
      "execution_count": null,
      "metadata": {
        "id": "ZRQ6Q-v7l5Ev"
      },
      "outputs": [],
      "source": [
        "from sklearn.ensemble import GradientBoostingClassifier"
      ]
    },
    {
      "cell_type": "code",
      "execution_count": null,
      "metadata": {
        "id": "n2puZyuHl7z4"
      },
      "outputs": [],
      "source": [
        "gb_clf = GradientBoostingClassifier(n_estimators=200,max_features=6, max_depth=10, random_state=0)"
      ]
    },
    {
      "cell_type": "code",
      "execution_count": null,
      "metadata": {
        "colab": {
          "base_uri": "https://localhost:8080/"
        },
        "id": "jII1QjZbmO3A",
        "outputId": "a623191f-a4f6-491c-a62a-598131c8b0ec"
      },
      "outputs": [
        {
          "name": "stderr",
          "output_type": "stream",
          "text": [
            "/usr/local/lib/python3.7/dist-packages/sklearn/ensemble/_gb.py:494: DataConversionWarning: A column-vector y was passed when a 1d array was expected. Please change the shape of y to (n_samples, ), for example using ravel().\n",
            "  y = column_or_1d(y, warn=True)\n"
          ]
        },
        {
          "data": {
            "text/plain": [
              "GradientBoostingClassifier(max_depth=10, max_features=6, n_estimators=200,\n",
              "                           random_state=0)"
            ]
          },
          "execution_count": 115,
          "metadata": {},
          "output_type": "execute_result"
        }
      ],
      "source": [
        "gb_clf.fit(X_train, y_train)"
      ]
    },
    {
      "cell_type": "code",
      "execution_count": null,
      "metadata": {
        "id": "OHmp8GGcmTQy"
      },
      "outputs": [],
      "source": [
        "pred_gradient=gb_clf.predict(X_test)"
      ]
    },
    {
      "cell_type": "code",
      "execution_count": null,
      "metadata": {
        "colab": {
          "base_uri": "https://localhost:8080/"
        },
        "id": "ps6oEgGemXx_",
        "outputId": "83909174-bca2-4949-dfb0-a1a5506beb7a"
      },
      "outputs": [
        {
          "name": "stdout",
          "output_type": "stream",
          "text": [
            "              precision    recall  f1-score   support\n",
            "\n",
            "           0       1.00      1.00      1.00      2097\n",
            "           1       1.00      1.00      1.00      4202\n",
            "\n",
            "    accuracy                           1.00      6299\n",
            "   macro avg       1.00      1.00      1.00      6299\n",
            "weighted avg       1.00      1.00      1.00      6299\n",
            "\n"
          ]
        }
      ],
      "source": [
        "print(classification_report(y_test, pred_gradient))"
      ]
    },
    {
      "cell_type": "markdown",
      "metadata": {
        "id": "fpwWyPcx47Ry"
      },
      "source": [
        "# **AdaBoost **"
      ]
    },
    {
      "cell_type": "code",
      "execution_count": null,
      "metadata": {
        "id": "oK7GrwaYnOCD"
      },
      "outputs": [],
      "source": [
        "# Load libraries\n",
        "from sklearn.ensemble import AdaBoostClassifier\n",
        "from sklearn import metrics"
      ]
    },
    {
      "cell_type": "code",
      "execution_count": null,
      "metadata": {
        "id": "RSUXhtF7nPa3"
      },
      "outputs": [],
      "source": [
        "# Create adaboost classifer object\n",
        "abc = AdaBoostClassifier(n_estimators=100,learning_rate=0.1)"
      ]
    },
    {
      "cell_type": "code",
      "execution_count": null,
      "metadata": {
        "colab": {
          "base_uri": "https://localhost:8080/"
        },
        "id": "Auu5hcFPnR3q",
        "outputId": "a548b940-db0f-46a8-a7f4-b33ee9b98446"
      },
      "outputs": [
        {
          "name": "stderr",
          "output_type": "stream",
          "text": [
            "/usr/local/lib/python3.7/dist-packages/sklearn/utils/validation.py:993: DataConversionWarning: A column-vector y was passed when a 1d array was expected. Please change the shape of y to (n_samples, ), for example using ravel().\n",
            "  y = column_or_1d(y, warn=True)\n"
          ]
        }
      ],
      "source": [
        "# Train Adaboost Classifer\n",
        "model_abc = abc.fit(X_train, y_train)"
      ]
    },
    {
      "cell_type": "code",
      "execution_count": null,
      "metadata": {
        "id": "X1U4FmSmnUDY"
      },
      "outputs": [],
      "source": [
        "#Predict the response for test dataset\n",
        "y_pred_boost = model_abc.predict(X_test)"
      ]
    },
    {
      "cell_type": "code",
      "execution_count": null,
      "metadata": {
        "colab": {
          "base_uri": "https://localhost:8080/"
        },
        "id": "pEsvsRvTnWkN",
        "outputId": "2b9b48a8-f8ac-4971-b3ee-9ed26e6b0866"
      },
      "outputs": [
        {
          "name": "stdout",
          "output_type": "stream",
          "text": [
            "Accuracy: 1.0\n"
          ]
        }
      ],
      "source": [
        "# Model Accuracy, how often is the classifier correct?\n",
        "print(\"Accuracy:\",metrics.accuracy_score(y_test, y_pred_boost))"
      ]
    },
    {
      "cell_type": "markdown",
      "metadata": {
        "id": "qrgRni_hrlDP"
      },
      "source": [
        "# **Decision Tree**"
      ]
    },
    {
      "cell_type": "code",
      "execution_count": null,
      "metadata": {
        "id": "sMKfsgmArn8Q"
      },
      "outputs": [],
      "source": [
        "from sklearn.tree import DecisionTreeClassifier\n",
        "from sklearn.metrics import plot_confusion_matrix"
      ]
    },
    {
      "cell_type": "code",
      "execution_count": null,
      "metadata": {
        "id": "BAzP3lOhrtGK"
      },
      "outputs": [],
      "source": [
        "#using decision tree\n",
        "from sklearn.tree import DecisionTreeClassifier\n",
        "DT_model = DecisionTreeClassifier(criterion=\"gini\", random_state=0,max_depth=3) "
      ]
    },
    {
      "cell_type": "code",
      "execution_count": null,
      "metadata": {
        "colab": {
          "base_uri": "https://localhost:8080/"
        },
        "id": "E1EzqQLnr7_f",
        "outputId": "d0038e14-8a0b-4008-888e-7d964e914237"
      },
      "outputs": [
        {
          "data": {
            "text/plain": [
              "DecisionTreeClassifier(max_depth=3, random_state=0)"
            ]
          },
          "execution_count": 174,
          "metadata": {},
          "output_type": "execute_result"
        }
      ],
      "source": [
        "DT_model.fit(X_train,y_train)"
      ]
    },
    {
      "cell_type": "code",
      "execution_count": null,
      "metadata": {
        "id": "0UqJexk3sIOE"
      },
      "outputs": [],
      "source": [
        "DT_pred = DT_model.predict(X_test)"
      ]
    },
    {
      "cell_type": "code",
      "execution_count": null,
      "metadata": {
        "colab": {
          "base_uri": "https://localhost:8080/"
        },
        "id": "j_haRfqP1oTd",
        "outputId": "755f420d-2ca1-4a89-ea1f-69f0958862c4"
      },
      "outputs": [
        {
          "data": {
            "text/plain": [
              "1.0"
            ]
          },
          "execution_count": 176,
          "metadata": {},
          "output_type": "execute_result"
        }
      ],
      "source": [
        "from sklearn.metrics import accuracy_score,classification_report,confusion_matrix\n",
        "accuracy_score(y_test,DT_pred)"
      ]
    },
    {
      "cell_type": "code",
      "execution_count": null,
      "metadata": {
        "colab": {
          "base_uri": "https://localhost:8080/",
          "height": 312
        },
        "id": "5mBIXt0C1skT",
        "outputId": "805dada4-3ef0-4eec-e05b-8fa3d64a755a"
      },
      "outputs": [
        {
          "data": {
            "text/plain": [
              "Text(0.5, 15.0, 'Predicted Label')"
            ]
          },
          "execution_count": 177,
          "metadata": {},
          "output_type": "execute_result"
        },
        {
          "data": {
            "image/png": "[encoded data removed]",
            "text/plain": [
              "<Figure size 432x288 with 2 Axes>"
            ]
          },
          "metadata": {},
          "output_type": "display_data"
        }
      ],
      "source": [
        "# confusion matrix\n",
        "cm = confusion_matrix(y_test,DT_pred)\n",
        "\n",
        "ax = sns.heatmap(cm,annot=True,cmap='coolwarm',fmt='.0f')\n",
        "ax.set_title('SVM Confusion Matrix')\n",
        "ax.set_ylabel('True Label')\n",
        "ax.set_xlabel('Predicted Label')"
      ]
    },
    {
      "cell_type": "markdown",
      "metadata": {
        "id": "02_l3d7VcWQR"
      },
      "source": [
        "# **XGBOOST**"
      ]
    },
    {
      "cell_type": "code",
      "execution_count": null,
      "metadata": {
        "id": "hsE6-1qvcw4O"
      },
      "outputs": [],
      "source": [
        "from xgboost import XGBClassifier"
      ]
    },
    {
      "cell_type": "code",
      "execution_count": null,
      "metadata": {
        "colab": {
          "base_uri": "https://localhost:8080/"
        },
        "id": "aRtq_zgFc12Q",
        "outputId": "7ebe8429-f78a-4cf4-a4da-0a74ab97a33e"
      },
      "outputs": [
        {
          "name": "stderr",
          "output_type": "stream",
          "text": [
            "/usr/local/lib/python3.7/dist-packages/sklearn/preprocessing/_label.py:98: DataConversionWarning: A column-vector y was passed when a 1d array was expected. Please change the shape of y to (n_samples, ), for example using ravel().\n",
            "  y = column_or_1d(y, warn=True)\n",
            "/usr/local/lib/python3.7/dist-packages/sklearn/preprocessing/_label.py:133: DataConversionWarning: A column-vector y was passed when a 1d array was expected. Please change the shape of y to (n_samples, ), for example using ravel().\n",
            "  y = column_or_1d(y, warn=True)\n"
          ]
        },
        {
          "data": {
            "text/plain": [
              "XGBClassifier()"
            ]
          },
          "execution_count": 133,
          "metadata": {},
          "output_type": "execute_result"
        }
      ],
      "source": [
        "# fit model no training data\n",
        "model = XGBClassifier()\n",
        "model.fit(X_train, y_train)"
      ]
    },
    {
      "cell_type": "code",
      "execution_count": null,
      "metadata": {
        "id": "eTjwZi5NdBii"
      },
      "outputs": [],
      "source": [
        "y_pred_XGBOOST = model.predict(X_test)"
      ]
    },
    {
      "cell_type": "code",
      "execution_count": null,
      "metadata": {
        "colab": {
          "base_uri": "https://localhost:8080/"
        },
        "id": "yjw0GIcpdJKw",
        "outputId": "2cee666f-f50a-4f84-c531-ecb5d9172bc9"
      },
      "outputs": [
        {
          "name": "stdout",
          "output_type": "stream",
          "text": [
            "Accuracy: 100.00%\n"
          ]
        }
      ],
      "source": [
        "# evaluate predictions\n",
        "accuracy = accuracy_score(y_test, y_pred_XGBOOST)\n",
        "print(\"Accuracy: %.2f%%\" % (accuracy * 100.0))"
      ]
    },
    {
      "cell_type": "markdown",
      "metadata": {
        "id": "wKMYbeupom6n"
      },
      "source": [
        "# **Neural Network ANN**"
      ]
    },
    {
      "cell_type": "code",
      "execution_count": null,
      "metadata": {
        "id": "As9MWkeP3iK-"
      },
      "outputs": [],
      "source": [
        "from keras.models import Sequential\n",
        "from keras.layers import Dense, Dropout\n"
      ]
    },
    {
      "cell_type": "code",
      "execution_count": null,
      "metadata": {
        "id": "88IEr20cFOEi"
      },
      "outputs": [],
      "source": [
        "from keras.callbacks import EarlyStopping\n",
        "from keras.layers import BatchNormalization"
      ]
    },
    {
      "cell_type": "code",
      "execution_count": null,
      "metadata": {
        "id": "eT0OOUHDEYJg"
      },
      "outputs": [],
      "source": [
        "#Initialising ANN\n",
        "#ann = keras.models.Sequential()"
      ]
    },
    {
      "cell_type": "code",
      "execution_count": null,
      "metadata": {
        "id": "1gjfLNsAEl2T"
      },
      "outputs": [],
      "source": [
        " #Adding First Hidden Layer\n",
        "#ann.add(keras.layers.Dense(units=6,activation=\"relu\"))\n",
        "#Adding Second Hidden Layer\n",
        "#BatchNormalization(),\n",
        "#ann.add(keras.layers.Dense(units=6,activation=\"relu\"))\n",
        "#Adding Output Layer\n",
        "#BatchNormalization(),\n",
        "#ann.add(keras.layers.Dense(units=1,activation=\"sigmoid\"))"
      ]
    },
    {
      "cell_type": "code",
      "execution_count": null,
      "metadata": {
        "id": "4nBoFoVWE1G2"
      },
      "outputs": [],
      "source": [
        "#Compiling ANN\n",
        "#ann.compile(optimizer=\"adam\",loss=\"binary_crossentropy\",metrics=['accuracy'])"
      ]
    },
    {
      "cell_type": "code",
      "execution_count": null,
      "metadata": {
        "id": "69-OoWaXF0Dn"
      },
      "outputs": [],
      "source": [
        ""
      ]
    },
    {
      "cell_type": "code",
      "execution_count": null,
      "metadata": {
        "id": "xvakWxZvKrHt"
      },
      "outputs": [],
      "source": [
        "#from keras.callbacks import EarlyStopping\n",
        "from keras.layers import BatchNormalization"
      ]
    },
    {
      "cell_type": "code",
      "execution_count": null,
      "metadata": {
        "id": "K8mqVE65LC3O"
      },
      "outputs": [],
      "source": [
        "callbacks= [\n",
        "            \n",
        "            EarlyStopping(monitor='accuracy', patience=10, verbose=1)\n",
        "           ]"
      ]
    },
    {
      "cell_type": "code",
      "execution_count": null,
      "metadata": {
        "colab": {
          "base_uri": "https://localhost:8080/"
        },
        "id": "kLIiVqNSkNP4",
        "outputId": "593922ea-996b-43c1-deae-3193014d118b"
      },
      "outputs": [
        {
          "name": "stdout",
          "output_type": "stream",
          "text": [
            "Epoch 1/100\n",
            "3039/3039 [==============================] - 7s 2ms/step - loss: 0.5210 - accuracy: 0.9207 - val_loss: 0.7073 - val_accuracy: 0.9768\n",
            "Epoch 2/100\n",
            "3039/3039 [==============================] - 6s 2ms/step - loss: 0.4864 - accuracy: 0.9861 - val_loss: 0.6906 - val_accuracy: 0.9509\n",
            "Epoch 3/100\n",
            "3039/3039 [==============================] - 6s 2ms/step - loss: 0.4854 - accuracy: 0.9838 - val_loss: 0.6837 - val_accuracy: 0.9379\n",
            "Epoch 4/100\n",
            "3039/3039 [==============================] - 6s 2ms/step - loss: 0.4855 - accuracy: 0.9828 - val_loss: 0.6853 - val_accuracy: 0.9216\n",
            "Epoch 5/100\n",
            "3039/3039 [==============================] - 6s 2ms/step - loss: 0.4853 - accuracy: 0.9829 - val_loss: 0.7152 - val_accuracy: 0.9413\n",
            "Epoch 6/100\n",
            "3039/3039 [==============================] - 6s 2ms/step - loss: 0.4853 - accuracy: 0.9824 - val_loss: 0.7179 - val_accuracy: 0.9573\n",
            "Epoch 7/100\n",
            "3039/3039 [==============================] - 6s 2ms/step - loss: 0.4853 - accuracy: 0.9826 - val_loss: 0.6785 - val_accuracy: 0.9379\n",
            "Epoch 8/100\n",
            "3039/3039 [==============================] - 6s 2ms/step - loss: 0.4853 - accuracy: 0.9824 - val_loss: 0.6924 - val_accuracy: 0.9687\n",
            "Epoch 9/100\n",
            "3039/3039 [==============================] - 7s 2ms/step - loss: 0.4854 - accuracy: 0.9833 - val_loss: 0.6706 - val_accuracy: 0.9290\n",
            "Epoch 10/100\n",
            "3039/3039 [==============================] - 6s 2ms/step - loss: 0.4854 - accuracy: 0.9833 - val_loss: 0.7050 - val_accuracy: 0.9482\n",
            "Epoch 11/100\n",
            "3039/3039 [==============================] - 6s 2ms/step - loss: 0.4854 - accuracy: 0.9829 - val_loss: 0.6964 - val_accuracy: 0.9282\n",
            "Epoch 12/100\n",
            "3039/3039 [==============================] - 6s 2ms/step - loss: 0.4854 - accuracy: 0.9822 - val_loss: 0.6811 - val_accuracy: 0.9413\n",
            "Epoch 12: early stopping\n"
          ]
        }
      ],
      "source": [
        "# Importing the Keras libraries and packages\n",
        "import keras\n",
        "from keras.models import Sequential\n",
        "from keras.layers import Dense\n",
        "from keras import regularizers\n",
        "\n",
        "# Initialising the ANN\n",
        "classifier = Sequential()\n",
        "\n",
        "# Adding the input layer and the first hidden layer\n",
        "keras.layers.BatchNormalization()\n",
        "classifier.add(Dense(units =15 , kernel_initializer = 'uniform', activation = 'relu', input_dim = 7,kernel_regularizer=regularizers.l2(0.1)))\n",
        "\n",
        "# Adding the second hidden layer\n",
        "keras.layers.BatchNormalization()\n",
        "classifier.add(Dense(units = 15, kernel_initializer = 'uniform', activation = 'relu',kernel_regularizer=regularizers.l2(0.1)))\n",
        "\n",
        "# Adding the output layer\n",
        "keras.layers.BatchNormalization()\n",
        "classifier.add(Dense(units = 1, kernel_initializer = 'uniform', activation = 'sigmoid',kernel_regularizer=regularizers.l2(0.1)))\n",
        "\n",
        "# Compiling the ANN\n",
        "classifier.compile(optimizer = 'adam', loss = 'binary_crossentropy', metrics = ['accuracy'])\n",
        "\n",
        "\n",
        "\n",
        "# Fitting the ANN to the Training set\n",
        "result= classifier.fit(X_train, y_train, batch_size = 8, callbacks=callbacks, epochs = 100, validation_data=(X_test, y_test))"
      ]
    },
    {
      "cell_type": "code",
      "execution_count": null,
      "metadata": {
        "id": "UuByn3PykQxJ"
      },
      "outputs": [],
      "source": [
        "# Predicting the Test set results\n",
        "y_pred_ANN = classifier.predict(X_test)\n",
        "y_pred = (y_pred_ANN > 0.5)"
      ]
    },
    {
      "cell_type": "code",
      "execution_count": null,
      "metadata": {
        "colab": {
          "base_uri": "https://localhost:8080/"
        },
        "id": "PBRPnEVNkSO4",
        "outputId": "4f7de0ef-4056-4117-8b43-65e942604ea7"
      },
      "outputs": [
        {
          "name": "stdout",
          "output_type": "stream",
          "text": [
            "197/197 [==============================] - 0s 1ms/step - loss: 0.6811 - accuracy: 0.9413\n"
          ]
        },
        {
          "data": {
            "text/plain": [
              "[0.6811414957046509, 0.9412605166435242]"
            ]
          },
          "execution_count": 145,
          "metadata": {},
          "output_type": "execute_result"
        }
      ],
      "source": [
        "score = classifier.evaluate(X_test, y_test)\n",
        "score"
      ]
    },
    {
      "cell_type": "code",
      "execution_count": null,
      "metadata": {
        "colab": {
          "base_uri": "https://localhost:8080/",
          "height": 312
        },
        "id": "EkRgJULkkYYP",
        "outputId": "77cf8e8d-e306-4e93-dd86-f1c5923df85a"
      },
      "outputs": [
        {
          "data": {
            "text/plain": [
              "Text(0.5, 15.0, 'Predicted Label')"
            ]
          },
          "execution_count": 146,
          "metadata": {},
          "output_type": "execute_result"
        },
        {
          "data": {
            "image/png": "[encoded data removed]",
            "text/plain": [
              "<Figure size 432x288 with 2 Axes>"
            ]
          },
          "metadata": {},
          "output_type": "display_data"
        }
      ],
      "source": [
        "# confusion matrix\n",
        "cm= confusion_matrix(y_test,y_pred)\n",
        "\n",
        "ax = sns.heatmap(cm,annot=True,cmap='coolwarm',fmt='.0f')\n",
        "ax.set_title('ANN Confusion Matrix')\n",
        "ax.set_ylabel('True Label')\n",
        "ax.set_xlabel('Predicted Label')"
      ]
    },
    {
      "cell_type": "code",
      "execution_count": null,
      "metadata": {
        "colab": {
          "base_uri": "https://localhost:8080/",
          "height": 590
        },
        "id": "txlJprP-kaAv",
        "outputId": "53a0b773-1967-45d1-fdde-d68d4e0735a4"
      },
      "outputs": [
        {
          "name": "stdout",
          "output_type": "stream",
          "text": [
            "dict_keys(['loss', 'accuracy', 'val_loss', 'val_accuracy'])\n"
          ]
        },
        {
          "data": {
            "image/png": "[encoded data removed]",
            "text/plain": [
              "<Figure size 432x288 with 1 Axes>"
            ]
          },
          "metadata": {},
          "output_type": "display_data"
        },
        {
          "data": {
            "image/png": "[encoded data removed]",
            "text/plain": [
              "<Figure size 432x288 with 1 Axes>"
            ]
          },
          "metadata": {},
          "output_type": "display_data"
        }
      ],
      "source": [
        "import matplotlib.pyplot as plt\n",
        "%matplotlib inline\n",
        "# list all data in history\n",
        "print(result.history.keys())\n",
        "# summarize history for accuracy\n",
        "plt.plot(result.history['accuracy'])\n",
        "\n",
        "plt.title('model accuracy')\n",
        "plt.ylabel('accuracy')\n",
        "plt.xlabel('epoch')\n",
        "plt.legend(['train', 'test'], loc='upper left')\n",
        "plt.show()\n",
        "# summarize history for loss\n",
        "plt.plot(result.history['loss'])\n",
        "\n",
        "plt.title('model loss')\n",
        "plt.ylabel('loss')\n",
        "plt.xlabel('epoch')\n",
        "plt.legend(['train'], loc='upper left')\n",
        "plt.show()"
      ]
    },
    {
      "cell_type": "markdown",
      "metadata": {
        "id": "LaDPARgeI9EB"
      },
      "source": [
        "# **XGBoost**"
      ]
    },
    {
      "cell_type": "code",
      "execution_count": null,
      "metadata": {
        "id": "cY-qWzJwJHYy"
      },
      "outputs": [],
      "source": [
        "from xgboost import XGBClassifier # XGBoost algorithm"
      ]
    },
    {
      "cell_type": "code",
      "execution_count": null,
      "metadata": {
        "id": "RzKmAaLpI5JY"
      },
      "outputs": [],
      "source": [
        "xgb = XGBClassifier(max_depth = 100)"
      ]
    },
    {
      "cell_type": "code",
      "execution_count": null,
      "metadata": {
        "colab": {
          "base_uri": "https://localhost:8080/"
        },
        "id": "XHWYhAhqJMol",
        "outputId": "035b9c1c-88f4-4809-adf2-1156dc8e28de"
      },
      "outputs": [
        {
          "name": "stderr",
          "output_type": "stream",
          "text": [
            "/usr/local/lib/python3.7/dist-packages/sklearn/preprocessing/_label.py:98: DataConversionWarning: A column-vector y was passed when a 1d array was expected. Please change the shape of y to (n_samples, ), for example using ravel().\n",
            "  y = column_or_1d(y, warn=True)\n",
            "/usr/local/lib/python3.7/dist-packages/sklearn/preprocessing/_label.py:133: DataConversionWarning: A column-vector y was passed when a 1d array was expected. Please change the shape of y to (n_samples, ), for example using ravel().\n",
            "  y = column_or_1d(y, warn=True)\n"
          ]
        },
        {
          "data": {
            "text/plain": [
              "XGBClassifier(max_depth=100)"
            ]
          },
          "execution_count": 150,
          "metadata": {},
          "output_type": "execute_result"
        }
      ],
      "source": [
        "xgb.fit(X_train, y_train)"
      ]
    },
    {
      "cell_type": "code",
      "execution_count": null,
      "metadata": {
        "id": "48h1xpTFJS4U"
      },
      "outputs": [],
      "source": [
        "xgb_yhat = xgb.predict(X_test)"
      ]
    },
    {
      "cell_type": "code",
      "execution_count": null,
      "metadata": {
        "colab": {
          "base_uri": "https://localhost:8080/"
        },
        "id": "mLcjcLEhJUWf",
        "outputId": "5638af75-2487-4dea-fe17-a0e14e02d912"
      },
      "outputs": [
        {
          "name": "stdout",
          "output_type": "stream",
          "text": [
            "Accuracy: 1.0\n"
          ]
        }
      ],
      "source": [
        "#Import scikit-learn metrics module for accuracy calculation\n",
        "from sklearn import metrics\n",
        "# Model Accuracy, how often is the classifier correct?\n",
        "print(\"Accuracy:\",metrics.accuracy_score(y_test, xgb_yhat))"
      ]
    }
  ],
  "metadata": {
    "colab": {
      "collapsed_sections": [],
      "name": "LAST_VERSION_QuoteStuffing2.ipynb",
      "provenance": []
    },
    "kernelspec": {
      "display_name": "Python 3",
      "name": "python3"
    },
    "language_info": {
      "name": "python"
    }
  },
  "nbformat": 4,
  "nbformat_minor": 0
}